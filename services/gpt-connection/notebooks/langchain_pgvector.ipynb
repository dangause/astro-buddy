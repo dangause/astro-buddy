{
 "cells": [
  {
   "cell_type": "code",
   "execution_count": 11,
   "metadata": {},
   "outputs": [],
   "source": [
    "import os\n",
    "# Run export OPENAI_API_KEY=sk-YOUR_OPENAI_API_KEY...\n",
    "# Get openAI api key by reading local .env file\n",
    "from dotenv import load_dotenv, find_dotenv\n",
    "dotenv_path = os.path.abspath('../../../.env')\n",
    "_ = load_dotenv(dotenv_path)\n",
    "OPENAI_API_KEY  = os.environ['OPENAI_API_KEY']\n",
    "PG_DB_PW = os.environ['POSTGRES_DB_PASSWORD']\n",
    "# host= os.environ['POSTGRES_DB_HOST']\n",
    "host= 'localhost'\n",
    "port= os.environ['POSTGRES_DB_PORT']\n",
    "user= os.environ['POSTGRES_DB_USER']\n",
    "password= os.environ['POSTGRES_DB_PASSWORD']\n",
    "dbname= os.environ['POSTGRES_DB_DBNAME']\n"
   ]
  },
  {
   "cell_type": "code",
   "execution_count": 19,
   "metadata": {},
   "outputs": [],
   "source": [
    "import openai\n",
    "import os\n",
    "import pandas as pd\n",
    "import numpy as np\n",
    "import json\n",
    "import tiktoken\n",
    "import psycopg2\n",
    "import ast\n",
    "import pgvector\n",
    "import math\n",
    "from psycopg2.extras import execute_values\n",
    "from pgvector.psycopg2 import register_vector\n",
    "\n",
    "from IPython.display import Markdown, display\n",
    "\n",
    "import pandas as pd\n",
    "\n",
    "from langchain.vectorstores.pgvector import PGVector\n",
    "from langchain.sql_database import SQLDatabase\n",
    "# from langchain_experimental.sql import SQLDatabaseChain\n",
    "from langchain_openai import ChatOpenAI, OpenAI\n",
    "from langchain.chains import RetrievalQA\n",
    "from langchain_openai.embeddings import OpenAIEmbeddings\n"
   ]
  },
  {
   "cell_type": "code",
   "execution_count": 30,
   "metadata": {},
   "outputs": [],
   "source": [
    "# CONNECTION_STRING = f\"postgresql://{user}:{password}@{host}:{port}/{dbname}\"\n",
    "# CONNECTION_STRING = f\"postgresql+psycopg2://{user}:{password}@{host}:{port}/{dbname}?sslmode=require\"\n",
    "CONNECTION_STRING = f\"postgresql://{user}:{password}@{host}:{port}/{dbname}\"\n",
    "collection_name= \"arxiv\"\n"
   ]
  },
  {
   "cell_type": "code",
   "execution_count": 33,
   "metadata": {},
   "outputs": [
    {
     "name": "stdout",
     "output_type": "stream",
     "text": [
      "Connection successful!\n"
     ]
    },
    {
     "data": {
      "text/plain": [
       "''"
      ]
     },
     "execution_count": 33,
     "metadata": {},
     "output_type": "execute_result"
    }
   ],
   "source": [
    "import psycopg2\n",
    "\n",
    "# Replace these with your values\n",
    "host = \"localhost\"  # Use \"localhost\" if connecting from the host machine\n",
    "\n",
    "# Create the connection\n",
    "try:\n",
    "    conn = psycopg2.connect(\n",
    "        host=host,\n",
    "        port=port,\n",
    "        user=user,\n",
    "        password=password,\n",
    "        database=dbname,\n",
    "        connect_timeout=3\n",
    "    )\n",
    "    print(\"Connection successful!\")\n",
    "except Exception as e:\n",
    "    print(f\"Error: {e}\")\n",
    "\"\""
   ]
  },
  {
   "cell_type": "code",
   "execution_count": 14,
   "metadata": {},
   "outputs": [],
   "source": [
    "# Connect to PostgreSQL database in Timescale using connection string\n",
    "conn = psycopg2.connect(CONNECTION_STRING)\n",
    "cur = conn.cursor()\n",
    "\n",
    "#install pgvector\n",
    "cur.execute(\"CREATE EXTENSION IF NOT EXISTS vector\");\n",
    "conn.commit()"
   ]
  },
  {
   "cell_type": "code",
   "execution_count": 15,
   "metadata": {},
   "outputs": [],
   "source": [
    "embedding_df = pd.read_csv('../../data-ingest/data/embeddings/test_embedding.csv', index_col=0)"
   ]
  },
  {
   "cell_type": "code",
   "execution_count": 16,
   "metadata": {},
   "outputs": [
    {
     "data": {
      "text/html": [
       "<div>\n",
       "<style scoped>\n",
       "    .dataframe tbody tr th:only-of-type {\n",
       "        vertical-align: middle;\n",
       "    }\n",
       "\n",
       "    .dataframe tbody tr th {\n",
       "        vertical-align: top;\n",
       "    }\n",
       "\n",
       "    .dataframe thead th {\n",
       "        text-align: right;\n",
       "    }\n",
       "</style>\n",
       "<table border=\"1\" class=\"dataframe\">\n",
       "  <thead>\n",
       "    <tr style=\"text-align: right;\">\n",
       "      <th></th>\n",
       "      <th>title</th>\n",
       "      <th>content</th>\n",
       "      <th>tokens</th>\n",
       "      <th>embeddings</th>\n",
       "    </tr>\n",
       "  </thead>\n",
       "  <tbody>\n",
       "    <tr>\n",
       "      <th>0</th>\n",
       "      <td>pdf3.pdf</td>\n",
       "      <td>Detection of stellar light from quasar host ga...</td>\n",
       "      <td>1037</td>\n",
       "      <td>[-0.0059149968437850475, -0.006691891700029373...</td>\n",
       "    </tr>\n",
       "    <tr>\n",
       "      <th>1</th>\n",
       "      <td>pdf3.pdf</td>\n",
       "      <td>22Department of Astronomy, School of Science, ...</td>\n",
       "      <td>847</td>\n",
       "      <td>[-0.022671174257993698, 0.023965613916516304, ...</td>\n",
       "    </tr>\n",
       "    <tr>\n",
       "      <th>2</th>\n",
       "      <td>pdf3.pdf</td>\n",
       "      <td>3.4× 1010 M⊙, respectively), compact, and disk...</td>\n",
       "      <td>634</td>\n",
       "      <td>[-0.045199356973171234, 0.013202028349041939, ...</td>\n",
       "    </tr>\n",
       "    <tr>\n",
       "      <th>3</th>\n",
       "      <td>pdf3.pdf</td>\n",
       "      <td>a point-like quasar and an extended host. The ...</td>\n",
       "      <td>603</td>\n",
       "      <td>[-0.04193825647234917, 0.0002854476042557508, ...</td>\n",
       "    </tr>\n",
       "    <tr>\n",
       "      <th>4</th>\n",
       "      <td>pdf3.pdf</td>\n",
       "      <td>of young and relatively old stars, and thus to...</td>\n",
       "      <td>613</td>\n",
       "      <td>[-0.01969219371676445, 0.014046339318156242, -...</td>\n",
       "    </tr>\n",
       "    <tr>\n",
       "      <th>...</th>\n",
       "      <td>...</td>\n",
       "      <td>...</td>\n",
       "      <td>...</td>\n",
       "      <td>...</td>\n",
       "    </tr>\n",
       "    <tr>\n",
       "      <th>133</th>\n",
       "      <td>pdf1.pdf</td>\n",
       "      <td>by known stars. In the remaining images above,...</td>\n",
       "      <td>925</td>\n",
       "      <td>[0.002194813219830394, 0.0010228499304503202, ...</td>\n",
       "    </tr>\n",
       "    <tr>\n",
       "      <th>134</th>\n",
       "      <td>pdf1.pdf</td>\n",
       "      <td>0.006 0.104 ± 0.012 0.142 ± 0.030 ... 0.006 ± ...</td>\n",
       "      <td>1023</td>\n",
       "      <td>[-0.024804944172501564, 0.011800343170762062, ...</td>\n",
       "    </tr>\n",
       "    <tr>\n",
       "      <th>135</th>\n",
       "      <td>pdf1.pdf</td>\n",
       "      <td>15.0 0.003 ± 0.002 0.009 ± 0.003 0.019 ± 0.003...</td>\n",
       "      <td>1061</td>\n",
       "      <td>[-0.01906454563140869, -0.009697528555989265, ...</td>\n",
       "    </tr>\n",
       "    <tr>\n",
       "      <th>136</th>\n",
       "      <td>pdf1.pdf</td>\n",
       "      <td>together. 24 Table 9.Applied confusion correct...</td>\n",
       "      <td>1107</td>\n",
       "      <td>[-0.016655320301651955, -0.006832951679825783,...</td>\n",
       "    </tr>\n",
       "    <tr>\n",
       "      <th>137</th>\n",
       "      <td>pdf1.pdf</td>\n",
       "      <td>the structure function slope and PSD slope in ...</td>\n",
       "      <td>89</td>\n",
       "      <td>[-0.008760924451053143, -0.012663247995078564,...</td>\n",
       "    </tr>\n",
       "  </tbody>\n",
       "</table>\n",
       "<p>138 rows × 4 columns</p>\n",
       "</div>"
      ],
      "text/plain": [
       "        title                                            content  tokens  \\\n",
       "0    pdf3.pdf  Detection of stellar light from quasar host ga...    1037   \n",
       "1    pdf3.pdf  22Department of Astronomy, School of Science, ...     847   \n",
       "2    pdf3.pdf  3.4× 1010 M⊙, respectively), compact, and disk...     634   \n",
       "3    pdf3.pdf  a point-like quasar and an extended host. The ...     603   \n",
       "4    pdf3.pdf  of young and relatively old stars, and thus to...     613   \n",
       "..        ...                                                ...     ...   \n",
       "133  pdf1.pdf  by known stars. In the remaining images above,...     925   \n",
       "134  pdf1.pdf  0.006 0.104 ± 0.012 0.142 ± 0.030 ... 0.006 ± ...    1023   \n",
       "135  pdf1.pdf  15.0 0.003 ± 0.002 0.009 ± 0.003 0.019 ± 0.003...    1061   \n",
       "136  pdf1.pdf  together. 24 Table 9.Applied confusion correct...    1107   \n",
       "137  pdf1.pdf  the structure function slope and PSD slope in ...      89   \n",
       "\n",
       "                                            embeddings  \n",
       "0    [-0.0059149968437850475, -0.006691891700029373...  \n",
       "1    [-0.022671174257993698, 0.023965613916516304, ...  \n",
       "2    [-0.045199356973171234, 0.013202028349041939, ...  \n",
       "3    [-0.04193825647234917, 0.0002854476042557508, ...  \n",
       "4    [-0.01969219371676445, 0.014046339318156242, -...  \n",
       "..                                                 ...  \n",
       "133  [0.002194813219830394, 0.0010228499304503202, ...  \n",
       "134  [-0.024804944172501564, 0.011800343170762062, ...  \n",
       "135  [-0.01906454563140869, -0.009697528555989265, ...  \n",
       "136  [-0.016655320301651955, -0.006832951679825783,...  \n",
       "137  [-0.008760924451053143, -0.012663247995078564,...  \n",
       "\n",
       "[138 rows x 4 columns]"
      ]
     },
     "execution_count": 16,
     "metadata": {},
     "output_type": "execute_result"
    }
   ],
   "source": [
    "embedding_df"
   ]
  },
  {
   "cell_type": "code",
   "execution_count": 17,
   "metadata": {},
   "outputs": [],
   "source": [
    "#load documents from Pandas dataframe for insertion into database\n",
    "from langchain.document_loaders import DataFrameLoader\n",
    "\n",
    "# page_content_column is the column name in the dataframe to create embeddings for\n",
    "loader = DataFrameLoader(embedding_df, page_content_column = 'content')\n",
    "docs = loader.load()\n"
   ]
  },
  {
   "cell_type": "code",
   "execution_count": 18,
   "metadata": {},
   "outputs": [
    {
     "data": {
      "text/plain": [
       "langchain_core.documents.base.Document"
      ]
     },
     "execution_count": 18,
     "metadata": {},
     "output_type": "execute_result"
    }
   ],
   "source": [
    "type(docs[0])"
   ]
  },
  {
   "cell_type": "code",
   "execution_count": 20,
   "metadata": {},
   "outputs": [],
   "source": [
    "embeddings = OpenAIEmbeddings()"
   ]
  },
  {
   "cell_type": "code",
   "execution_count": 21,
   "metadata": {},
   "outputs": [
    {
     "data": {
      "text/plain": [
       "0      Detection of stellar light from quasar host ga...\n",
       "1      22Department of Astronomy, School of Science, ...\n",
       "2      3.4× 1010 M⊙, respectively), compact, and disk...\n",
       "3      a point-like quasar and an extended host. The ...\n",
       "4      of young and relatively old stars, and thus to...\n",
       "                             ...                        \n",
       "133    by known stars. In the remaining images above,...\n",
       "134    0.006 0.104 ± 0.012 0.142 ± 0.030 ... 0.006 ± ...\n",
       "135    15.0 0.003 ± 0.002 0.009 ± 0.003 0.019 ± 0.003...\n",
       "136    together. 24 Table 9.Applied confusion correct...\n",
       "137    the structure function slope and PSD slope in ...\n",
       "Name: content, Length: 138, dtype: object"
      ]
     },
     "execution_count": 21,
     "metadata": {},
     "output_type": "execute_result"
    }
   ],
   "source": [
    "embedding_df['content']"
   ]
  },
  {
   "cell_type": "code",
   "execution_count": 22,
   "metadata": {},
   "outputs": [
    {
     "name": "stderr",
     "output_type": "stream",
     "text": [
      "/opt/anaconda3/envs/astro-buddy/lib/python3.12/site-packages/langchain_community/vectorstores/pgvector.py:487: LangChainPendingDeprecationWarning: Please use JSONB instead of JSON for metadata. This change will allow for more efficient querying that involves filtering based on metadata. Please note that filtering operators have been changed when using JSONB metadata to be prefixed with a $ sign to avoid name collisions with columns. If you're using an existing database, you will need to create a db migration for your metadata column to be JSONB and update your queries to use the new operators. \n",
      "  store = cls(\n"
     ]
    }
   ],
   "source": [
    "from langchain.vectorstores.pgvector import DistanceStrategy\n",
    "\n",
    "db = PGVector.from_documents(\n",
    "    documents=docs,\n",
    "    embedding=embeddings,\n",
    "    collection_name=collection_name,\n",
    "    connection_string=CONNECTION_STRING,\n",
    "    distance_strategy=DistanceStrategy.COSINE,\n",
    "    pre_delete_collection=False \n",
    ")"
   ]
  },
  {
   "cell_type": "code",
   "execution_count": 23,
   "metadata": {},
   "outputs": [
    {
     "data": {
      "text/plain": [
       "mappingproxy({'__module__': 'langchain_community.vectorstores.pgvector',\n",
       "              '__doc__': '.. deprecated:: 0.0.31 This class is pending deprecation and may be removed in a future version. You can swap to using the `PGVector` implementation in `langchain_postgres`. Please read the guidelines in the doc-string of this class to follow prior to migrating as there are some differences between the implementations. See <https://github.com/langchain-ai/langchain-postgres> for details about the new implementation. Use :class:`~from langchain_postgres import PGVector;` instead. \\n\\n`Postgres`/`PGVector` vector store.\\n\\n**DEPRECATED**: This class is pending deprecation and will likely receive\\n    no updates. An improved version of this class is available in\\n    `langchain_postgres` as `PGVector`. Please use that class instead.\\n\\n    When migrating please keep in mind that:\\n        * The new implementation works with psycopg3, not with psycopg2\\n          (This implementation does not work with psycopg3).\\n        * Filtering syntax has changed to use $ prefixed operators for JSONB\\n          metadata fields. (New implementation only uses JSONB field for metadata)\\n        * The new implementation made some schema changes to address issues\\n          with the existing implementation. So you will need to re-create\\n          your tables and re-index your data or else carry out a manual\\n          migration.\\n\\nTo use, you should have the ``pgvector`` python package installed.\\n\\nArgs:\\n    connection_string: Postgres connection string.\\n    embedding_function: Any embedding function implementing\\n        `langchain.embeddings.base.Embeddings` interface.\\n    embedding_length: The length of the embedding vector. (default: None)\\n        NOTE: This is not mandatory. Defining it will prevent vectors of\\n        any other size to be added to the embeddings table but, without it,\\n        the embeddings can\\'t be indexed.\\n    collection_name: The name of the collection to use. (default: langchain)\\n        NOTE: This is not the name of the table, but the name of the collection.\\n        The tables will be created when initializing the store (if not exists)\\n        So, make sure the user has the right permissions to create tables.\\n    distance_strategy: The distance strategy to use. (default: COSINE)\\n    pre_delete_collection: If True, will delete the collection if it exists.\\n        (default: False). Useful for testing.\\n    engine_args: SQLAlchemy\\'s create engine arguments.\\n    use_jsonb: Use JSONB instead of JSON for metadata. (default: True)\\n        Strongly discouraged from using JSON as it\\'s not as efficient\\n        for querying.\\n        It\\'s provided here for backwards compatibility with older versions,\\n        and will be removed in the future.\\n    create_extension: If True, will create the vector extension if it doesn\\'t exist.\\n        disabling creation is useful when using ReadOnly Databases.\\n\\nExample:\\n\\n   .. code-block:: python\\n\\n       from langchain_community.vectorstores import PGVector\\n       from langchain_community.embeddings.openai import OpenAIEmbeddings\\n       CONNECTION_STRING = \"postgresql+psycopg2://hwc@localhost:5432/test3\"\\n       COLLECTION_NAME = \"state_of_the_union_test\"\\n       embeddings = OpenAIEmbeddings()\\n       vectorestore = PGVector.from_documents(\\n           embedding=embeddings,\\n           documents=docs,\\n           collection_name=COLLECTION_NAME,\\n           connection_string=CONNECTION_STRING,\\n           use_jsonb=True,',\n",
       "              '__init__': <function langchain_community.vectorstores.pgvector.PGVector.__init__(self, connection_string: 'str', embedding_function: 'Embeddings', embedding_length: 'Optional[int]' = None, collection_name: 'str' = 'langchain', collection_metadata: 'Optional[dict]' = None, distance_strategy: 'DistanceStrategy' = <DistanceStrategy.COSINE: 'cosine'>, pre_delete_collection: 'bool' = False, logger: 'Optional[logging.Logger]' = None, relevance_score_fn: 'Optional[Callable[[float], float]]' = None, *, connection: 'Optional[sqlalchemy.engine.Connection]' = None, engine_args: 'Optional[dict[str, Any]]' = None, use_jsonb: 'bool' = False, create_extension: 'bool' = True) -> 'None'>,\n",
       "              '__post_init__': <function langchain_community.vectorstores.pgvector.PGVector.__post_init__(self) -> 'None'>,\n",
       "              '__del__': <function langchain_community.vectorstores.pgvector.PGVector.__del__(self) -> 'None'>,\n",
       "              'embeddings': <property at 0x121c69490>,\n",
       "              '_create_engine': <function langchain_community.vectorstores.pgvector.PGVector._create_engine(self) -> 'sqlalchemy.engine.Engine'>,\n",
       "              'create_vector_extension': <function langchain_community.vectorstores.pgvector.PGVector.create_vector_extension(self) -> 'None'>,\n",
       "              'create_tables_if_not_exists': <function langchain_community.vectorstores.pgvector.PGVector.create_tables_if_not_exists(self) -> 'None'>,\n",
       "              'drop_tables': <function langchain_community.vectorstores.pgvector.PGVector.drop_tables(self) -> 'None'>,\n",
       "              'create_collection': <function langchain_community.vectorstores.pgvector.PGVector.create_collection(self) -> 'None'>,\n",
       "              'delete_collection': <function langchain_community.vectorstores.pgvector.PGVector.delete_collection(self) -> 'None'>,\n",
       "              '_make_session': <function langchain_community.vectorstores.pgvector.PGVector._make_session(self) -> 'Generator[Session, None, None]'>,\n",
       "              'delete': <function langchain_community.vectorstores.pgvector.PGVector.delete(self, ids: 'Optional[List[str]]' = None, collection_only: 'bool' = False, **kwargs: 'Any') -> 'None'>,\n",
       "              'get_collection': <function langchain_community.vectorstores.pgvector.PGVector.get_collection(self, session: 'Session') -> 'Any'>,\n",
       "              '_from': <classmethod(<function PGVector._from at 0x121c4bd80>)>,\n",
       "              'add_embeddings': <function langchain_community.vectorstores.pgvector.PGVector.add_embeddings(self, texts: 'Iterable[str]', embeddings: 'List[List[float]]', metadatas: 'Optional[List[dict]]' = None, ids: 'Optional[List[str]]' = None, **kwargs: 'Any') -> 'List[str]'>,\n",
       "              'add_texts': <function langchain_community.vectorstores.pgvector.PGVector.add_texts(self, texts: 'Iterable[str]', metadatas: 'Optional[List[dict]]' = None, ids: 'Optional[List[str]]' = None, **kwargs: 'Any') -> 'List[str]'>,\n",
       "              'similarity_search': <function langchain_community.vectorstores.pgvector.PGVector.similarity_search(self, query: 'str', k: 'int' = 4, filter: 'Optional[dict]' = None, **kwargs: 'Any') -> 'List[Document]'>,\n",
       "              'similarity_search_with_score': <function langchain_community.vectorstores.pgvector.PGVector.similarity_search_with_score(self, query: 'str', k: 'int' = 4, filter: 'Optional[dict]' = None) -> 'List[Tuple[Document, float]]'>,\n",
       "              'distance_strategy': <property at 0x121c694e0>,\n",
       "              'similarity_search_with_score_by_vector': <function langchain_community.vectorstores.pgvector.PGVector.similarity_search_with_score_by_vector(self, embedding: 'List[float]', k: 'int' = 4, filter: 'Optional[dict]' = None) -> 'List[Tuple[Document, float]]'>,\n",
       "              '_results_to_docs_and_scores': <function langchain_community.vectorstores.pgvector.PGVector._results_to_docs_and_scores(self, results: 'Any') -> 'List[Tuple[Document, float]]'>,\n",
       "              '_handle_field_filter': <function langchain_community.vectorstores.pgvector.PGVector._handle_field_filter(self, field: 'str', value: 'Any') -> 'SQLColumnExpression'>,\n",
       "              '_create_filter_clause_deprecated': <function langchain_community.vectorstores.pgvector.PGVector._create_filter_clause_deprecated(self, key, value)>,\n",
       "              '_create_filter_clause_json_deprecated': <function langchain_community.vectorstores.pgvector.PGVector._create_filter_clause_json_deprecated(self, filter: 'Any') -> 'List[SQLColumnExpression]'>,\n",
       "              '_create_filter_clause': <function langchain_community.vectorstores.pgvector.PGVector._create_filter_clause(self, filters: 'Any') -> 'Any'>,\n",
       "              '_query_collection': <function langchain_community.vectorstores.pgvector.PGVector._query_collection(self, embedding: 'List[float]', k: 'int' = 4, filter: 'Optional[Dict[str, str]]' = None) -> 'List[Any]'>,\n",
       "              'similarity_search_by_vector': <function langchain_community.vectorstores.pgvector.PGVector.similarity_search_by_vector(self, embedding: 'List[float]', k: 'int' = 4, filter: 'Optional[dict]' = None, **kwargs: 'Any') -> 'List[Document]'>,\n",
       "              'from_texts': <classmethod(<function PGVector.from_texts at 0x121c70680>)>,\n",
       "              'from_embeddings': <classmethod(<function PGVector.from_embeddings at 0x121c70720>)>,\n",
       "              'from_existing_index': <classmethod(<function PGVector.from_existing_index at 0x121c707c0>)>,\n",
       "              'get_connection_string': <classmethod(<function PGVector.get_connection_string at 0x121c70860>)>,\n",
       "              'from_documents': <classmethod(<function PGVector.from_documents at 0x121c70900>)>,\n",
       "              'connection_string_from_db_params': <classmethod(<function PGVector.connection_string_from_db_params at 0x121c709a0>)>,\n",
       "              '_select_relevance_score_fn': <function langchain_community.vectorstores.pgvector.PGVector._select_relevance_score_fn(self) -> 'Callable[[float], float]'>,\n",
       "              'max_marginal_relevance_search_with_score_by_vector': <function langchain_community.vectorstores.pgvector.PGVector.max_marginal_relevance_search_with_score_by_vector(self, embedding: 'List[float]', k: 'int' = 4, fetch_k: 'int' = 20, lambda_mult: 'float' = 0.5, filter: 'Optional[Dict[str, str]]' = None, **kwargs: 'Any') -> 'List[Tuple[Document, float]]'>,\n",
       "              'max_marginal_relevance_search': <function langchain_community.vectorstores.pgvector.PGVector.max_marginal_relevance_search(self, query: 'str', k: 'int' = 4, fetch_k: 'int' = 20, lambda_mult: 'float' = 0.5, filter: 'Optional[Dict[str, str]]' = None, **kwargs: 'Any') -> 'List[Document]'>,\n",
       "              'max_marginal_relevance_search_with_score': <function langchain_community.vectorstores.pgvector.PGVector.max_marginal_relevance_search_with_score(self, query: 'str', k: 'int' = 4, fetch_k: 'int' = 20, lambda_mult: 'float' = 0.5, filter: 'Optional[dict]' = None, **kwargs: 'Any') -> 'List[Tuple[Document, float]]'>,\n",
       "              'max_marginal_relevance_search_by_vector': <function langchain_community.vectorstores.pgvector.PGVector.max_marginal_relevance_search_by_vector(self, embedding: 'List[float]', k: 'int' = 4, fetch_k: 'int' = 20, lambda_mult: 'float' = 0.5, filter: 'Optional[Dict[str, str]]' = None, **kwargs: 'Any') -> 'List[Document]'>,\n",
       "              'amax_marginal_relevance_search_by_vector': <function langchain_community.vectorstores.pgvector.PGVector.amax_marginal_relevance_search_by_vector(self, embedding: 'List[float]', k: 'int' = 4, fetch_k: 'int' = 20, lambda_mult: 'float' = 0.5, filter: 'Optional[Dict[str, str]]' = None, **kwargs: 'Any') -> 'List[Document]'>,\n",
       "              '__abstractmethods__': frozenset(),\n",
       "              '_abc_impl': <_abc._abc_data at 0x121951280>})"
      ]
     },
     "execution_count": 23,
     "metadata": {},
     "output_type": "execute_result"
    }
   ],
   "source": [
    "PGVector.__dict__"
   ]
  },
  {
   "cell_type": "code",
   "execution_count": 24,
   "metadata": {},
   "outputs": [],
   "source": [
    "from langchain.schema import Document\n",
    "\n",
    "# Query for which we want to find semantically similar documents\n",
    "query = \"What is a quasar?\"\n",
    "\n",
    "#Fetch the k=3 most similar documents\n",
    "docs =  db.similarity_search(query, k=3)\n"
   ]
  },
  {
   "cell_type": "code",
   "execution_count": 25,
   "metadata": {},
   "outputs": [
    {
     "data": {
      "text/plain": [
       "[Document(metadata={'title': 'pdf2.pdf', 'tokens': 548, 'embeddings': '[-0.0028234771452844143, 0.03425675630569458, 0.014410953968763351, 0.013279718346893787, 0.012812469154596329, 0.012468180619180202, -0.02525605820119381, 0.0051766312681138515, -0.038511183112859726, 0.003479778068140149, -0.0025360574945807457, 0.009965936653316021, -0.061726100742816925, -0.010691403411328793, 0.04876607656478882, 0.03103519417345524, -0.03725698962807655, 0.005822172854095697, -0.005121299065649509, 0.0330517441034317, 0.015333157032728195, -0.03912598639726639, -0.02299358695745468, 0.020386828109622, -0.09187597781419754, -0.030641721561551094, 0.02117377333343029, 0.036765147000551224, 0.006025057751685381, -0.01548070926219225, 0.018874414265155792, -0.026338109746575356, -0.04170815274119377, 0.006212572101503611, -0.05459439754486084, 0.06920208781957626, -0.026780765503644943, -0.0429377555847168, -0.035068295896053314, 0.0012603437062352896, 0.013169054873287678, -0.014054369181394577, -0.011644345708191395, -0.05956199765205383, -0.017534147948026657, -0.02208368107676506, -0.03715861961245537, -0.014865907840430737, -0.033666547387838364, 0.0010674495715647936, -0.01698082499206066, -0.02046060375869274, -0.0099413450807333, -0.032535310834646225, -0.02813333086669445, -0.028748132288455963, -0.017263634130358696, 0.02177627943456173, -0.03678973764181137, 0.008810109458863735, 0.0010098119964823127, 0.03519125655293465, 0.02389119751751423, 0.00533033162355423, -0.002133362228050828, 0.012505068443715572, 0.019427737221121788, 0.01682097651064396, -0.019685953855514526, 0.0249609537422657, -0.015702037140727043, -0.03445349261164665, 0.006541491020470858, -0.009615500457584858, 0.04347878322005272, 0.015468413010239601, 0.0006785874720662832, 0.03723239526152611, -0.018050581216812134, -0.003916287329047918, 0.0031170451547950506, 6.652347565250238e-06, -0.02983018383383751, -0.03125652298331261, -0.023300988599658012, 0.03856036812067032, 0.00724851293489337, -0.0033352996688336134, -0.04797913134098053, 0.02246485836803913, 0.030617129057645798, 0.012332923710346222, 0.029239973053336143, -0.06182446703314781, -0.007734206505119801, -0.019046559929847717, 0.03192050755023956, -0.022563226521015167, 0.05808647349476814, 0.035265032202005386, 0.009363431483507156, 0.00687348423525691, -0.014165033586323261, -0.07957994192838669, 0.020657340064644814, -0.026043003425002098, -0.010574590414762497, -0.012468180619180202, 0.001511643873527646, -0.05100395530462265, 0.026633214205503464, 0.0028511432465165854, -0.04247050732374191, 0.015111828222870827, -0.07889136672019958, -0.0075866542756557465, -0.08095709979534149, -0.03587983176112175, -0.001473987358622253, 0.028231699019670486, 0.022846033796668053, 0.00014812880544923246, -0.00422676233574748, 0.03187132626771927, 0.008195308037102222, -0.040281813591718674, -0.0016922419890761375, -0.03361736238002777, -0.02332557924091816, 0.02026386745274067, 0.0570044219493866, -0.0014355621533468366, 0.01640291139483452, -0.0018121282337233424, -0.017300521954894066, -0.004248280543833971, 0.01818583719432354, -0.07210395485162735, -0.04999568313360214, -0.014509322121739388, -0.023350171744823456, -0.031108971685171127, 0.01005815714597702, 0.0043251304887235165, 0.04802831634879112, 0.013833040371537209, -0.0337403230369091, 0.030494168400764465, 0.02722342312335968, -0.011035691946744919, -0.004288242664188147, -0.029362933710217476, -0.012013226747512817, -0.03423216566443443, -0.0009360357071273029, 0.009615500457584858, -0.0040699876844882965, -0.011570570059120655, -0.0026328887324780226, -0.0003062481409870088, -0.020054833963513374, 0.01690704934298992, -0.024149414151906967, -0.013046094216406345, -0.019415440037846565, 0.02997773513197899, -0.028846500441432, -0.040699880570173264, -0.09138413518667221, -0.028403842821717262, -0.022206641733646393, -0.010254894383251667, 0.015234788879752159, -0.029092421755194664, 0.005619288422167301, 0.050462931394577026, -0.03565850481390953, 0.010273338295519352, -0.020349940285086632, -0.029289158061146736, 0.034576453268527985, 0.0098491245880723, -0.004955302458256483, -0.06516899168491364, 0.005348775535821915, 0.016095511615276337, -0.06079160049557686, 0.016476688906550407, -0.0009667758131399751, -0.036617595702409744, 0.0008960736449807882, 0.030051512643694878, -0.03860955312848091, 0.03560931980609894, 0.017866140231490135, -0.03482237458229065, -0.0005264240317046642, 0.04746269807219505, -0.00882855337113142, -0.017189858481287956, 0.013292014598846436, 0.008428932167589664, 0.02113688550889492, -0.04797913134098053, -0.005776063073426485, -0.07608786970376968, 0.03602738678455353, 0.012166927568614483, -0.013119869865477085, -0.015702037140727043, 0.0029833256267011166, -0.0005552428774535656, -0.0006440049037337303, 0.0327320471405983, -0.043577149510383606, -0.039986707270145416, -0.05120069533586502, 0.05951281264424324, 0.025133097544312477, -0.010174970142543316, 0.011404572986066341, 0.035830650478601456, 0.04475757107138634, 0.014447841793298721, 0.03762587159872055, -0.010297929868102074, 0.006467714905738831, -0.004592569544911385, 0.035338807851076126, 0.01898507960140705, 0.014976571314036846, 0.03531421348452568, 0.0004234447260387242, -0.0011466053547337651, 0.009271210990846157, 0.012443588115274906, 0.028649764135479927, 0.029805591329932213, -0.010543851181864738, -0.05375826731324196, -0.009252767078578472, 0.005364145617932081, -0.0004111487069167197, 0.021604135632514954, 0.024776512756943703, 0.03354358673095703, -0.008385896682739258, -0.009597055613994598, 0.01825961284339428, -0.01701771281659603, 0.04783158004283905, 0.011484497226774693, -0.00221174955368042, -0.003627330530434847, 0.01636602357029915, -0.01459539495408535, -0.0358552411198616, 0.017558738589286804, -0.006307866424322128, 0.02310425229370594, -0.013833040371537209, -0.05734871327877045, -0.010125785134732723, 0.045765846967697144, -0.0032861155923455954, 0.060545679181814194, 0.01145375706255436, -0.019722841680049896, -0.0309614185243845, 0.03391246870160103, -0.02786281704902649, -0.0219730157405138, 0.06993985176086426, -0.02643647789955139, -0.03853577747941017, 0.01833339035511017, 0.027125054970383644, 0.002337783807888627, 0.0013763875467702746, -0.009554020129144192, 0.004709381610155106, 0.007150144781917334, 0.07584194839000702, 0.04733973741531372, -0.03600279241800308, 0.026215149089694023, -0.001449395203962922, -0.0051458911038935184, -0.004810824058949947, 0.011410721577703953, 0.04276561364531517, -0.04424113780260086, 0.016156991943717003, 0.006350902374833822, -0.024260079488158226, -0.006055797450244427, 0.03233857452869415, -0.0025990745052695274, -0.08671164512634277, 0.018689975142478943, 0.08115383982658386, 0.0046048653312027454, 0.029018644243478775, -0.020436011254787445, -0.006261756177991629, 0.03477318957448006, 0.07780931890010834, 0.006406234577298164, -0.015935663133859634, 0.06167691573500633, 0.038093119859695435, -0.015406932681798935, 0.01041474286466837, -0.012296035885810852, -0.029953142628073692, -0.03841281682252884, -0.05129906162619591, 0.04374929517507553, 0.012701804749667645, -0.05390582233667374, -0.021641023457050323, -0.0017982952995225787, -0.030543353408575058, -0.010101193562150002, -0.011349241249263287, -0.050118643790483475, -0.018702270463109016, -0.007359177339822054, -0.02756771259009838, -0.009418763220310211, 0.05120069533586502, -0.0198826901614666, 0.04074906185269356, -0.020017946138978004, -0.0421999953687191, -0.01958758570253849, 0.007955535314977169, 0.03469941392540932, -0.029313748702406883, -0.020091721788048744, -0.0270758718252182, -0.009191286750137806, -0.0033137816935777664, -0.03504370152950287, 0.0027343309484422207, 0.0815964937210083, 0.05882423743605614, -0.019464625045657158, -0.0009229711722582579, 0.004405054729431868, 0.02419859915971756, -0.0005875199567526579, 0.04003589227795601, -0.025501977652311325, 0.07362866401672363, 0.006400086916983128, 0.029387526214122772, -0.053561531007289886, -0.028034962713718414, 0.026977503672242165, -0.00482004601508379, -0.0003675362095236778, 0.028871092945337296, -0.009443355724215508, -0.020706525072455406, 0.006400086916983128, -0.0015177918830886483, 0.0012142335763201118, -0.0633491799235344, -0.02139510214328766, -0.03632248938083649, -0.019267888739705086, -0.005228889174759388, -0.03157621994614601, -0.05916852504014969, -0.004930710420012474, 0.006227942183613777, 0.019218703731894493, -0.005311887711286545, 0.034650228917598724, 0.017755476757884026, 0.01077747531235218, 0.015271676704287529, -0.05784055218100548, -5.120146306580864e-05, -0.015320860780775547, -0.03848659247159958, -0.025305241346359253, -0.07392376661300659, 0.029633445665240288, 0.0028373103123158216, 0.0099413450807333, 0.03592901676893234, 0.009560167789459229, 0.026141371577978134, -0.04010966792702675, 0.027125054970383644, 0.0393964983522892, -0.0021410472691059113, 0.049134958535432816, -0.026264332234859467, -0.036199528723955154, -0.002714349888265133, -0.0667920634150505, -0.017005417495965958, -0.012548104859888554, -0.022772258147597313, 0.01357482373714447, 0.023571500554680824, -0.025280650705099106, 0.024825695902109146, 0.028379250317811966, 0.021985312923789024, -0.016390616074204445, -0.005302665289491415, 0.03814230486750603, -0.0851377546787262, -0.010470074601471424, -0.019944170489907265, 0.023313283920288086, 0.04092120751738548, -0.0005306507810018957, -0.015591373667120934, -0.0158372949808836, -0.04133927449584007, 0.016796385869383812, 0.020977037027478218, -0.002800422254949808, 0.01803828403353691, -0.010095045901834965, -0.009916752576828003, -0.04598717391490936, 0.00772191071882844, 0.01991957798600197, -0.02503472939133644, 0.018099764361977577, 0.004466535057872534, -0.02631351724267006, -0.012087003327906132, 0.010672959499061108, -0.020669637247920036, 0.006602971348911524, -0.014410953968763351, -0.07013659179210663, 0.035486359149217606, 0.014755243435502052, 0.022169752046465874, 0.034010834991931915, 0.009160546585917473, -0.03501911088824272, -0.0021425841841846704, -0.029166197404265404, 0.03735535591840744, -0.016169287264347076, -0.056315843015909195, -0.015074940398335457, 0.003461334155872464, -0.05734871327877045, -0.009148250333964825, -0.03742913156747818, -0.002666702726855874, -0.0031631551682949066, 0.007432953920215368, 0.038093119859695435, -0.02030075527727604, 0.03280582278966904, 0.005188927054405212, 0.009142102673649788, -0.015345452353358269, -0.04286397993564606, 0.002534520346671343, -0.013205942697823048, 0.01572662964463234, -0.015222492627799511, 0.01762021891772747, -0.00035792990820482373, -0.03224020451307297, 0.01800139620900154, 0.06556246429681778, 0.015234788879752159, 0.03988834097981453, -0.01332890335470438, -0.005053670611232519, 0.02658402919769287, 0.01618158258497715, -0.024530591443181038, -0.02454288676381111, 0.0242723748087883, 0.005167409311980009, -0.0070517766289412975, -0.04768402874469757, 0.013119869865477085, 0.02310425229370594, -0.011847230605781078, -0.008576485328376293, 0.0003875172697007656, -0.01643979921936989, -0.01784154772758484, -0.008570336736738682, 0.044782161712646484, 0.0429377555847168, -0.027248015627264977, 0.03747831657528877, 0.0007189338211901486, 0.011429165489971638, -0.023018179461359978, -0.021985312923789024, 0.025379018858075142, -0.010285633616149426, 0.04279020428657532, -0.019415440037846565, 0.005769914947450161, -0.001433256664313376, 0.004125319886952639, -0.006639859173446894, -0.008644113317131996, 0.02487488090991974, 0.021259846165776253, 0.021370509639382362, 0.021419694647192955, 0.03194510191679001, -0.02805955335497856, 0.030444985255599022, -0.011447609402239323, -0.008219899609684944, 0.00867485348135233, -0.029707223176956177, -0.06143099442124367, -0.03538799285888672, -0.025649530813097954, -0.022440265864133835, -0.049282513558864594, -0.007672726176679134, -0.029289158061146736, -0.026780765503644943, -0.022329600527882576, -0.033789508044719696, -0.015788109973073006, -0.027272608131170273, -0.03656841069459915, 0.01603403128683567, 0.0070763686671853065, -0.004472683183848858, -0.024899473413825035, 0.009670832194387913, 0.05024160444736481, -0.006818152032792568, 0.005142816808074713, 0.014042072929441929, 0.014189625158905983, 0.04640524089336395, 0.02472732774913311, 0.007064072415232658, 0.010838955640792847, 0.0017813881859183311, 0.008103087544441223, 0.005988169461488724, -0.008699445053935051, 0.018517829477787018, -0.014681466855108738, 0.008447377011179924, 0.0062310160137712955, -0.022182049229741096, 0.042175404727458954, 0.004263650625944138, -0.04197866842150688, 0.013119869865477085, -0.0023454688489437103, -0.01947692036628723, 0.018357980996370316, -0.01272639725357294, -0.030494168400764465, 0.016808681190013885, -0.002082641003653407, 0.008551892824470997, 0.0020626599434763193, -0.02200990356504917, 0.019108040258288383, 0.008324416354298592, -0.027813633903861046, -0.03251072019338608, -0.009670832194387913, -0.013304310850799084, 0.017989100888371468, -0.0319942869246006, -0.017780067399144173, -0.024174006655812263, 0.023264100775122643, 0.044142767786979675, 0.020239274948835373, -0.00820760428905487, -0.02877272479236126, -0.021960720419883728, 0.002333172829821706, -0.025501977652311325, -0.004312834702432156, 0.0319942869246006, 0.031133562326431274, -0.010562295094132423, 0.0021794724743813276, -0.0007400676840916276, -0.008681001141667366, -0.05302050709724426, -0.03698647767305374, -0.047733210027217865, 0.020313050597906113, -0.004260576330125332, -0.025022432208061218, -0.0017137599643319845, -0.0053672194480896, 0.034920740872621536, 0.03460104390978813, -0.01818583719432354, 0.001650742837227881, 0.029239973053336143, 0.012861653231084347, 0.04360174387693405, -0.012535808607935905, 0.013427271507680416, 0.0018382574198767543, -0.013562527485191822, 0.006855039857327938, 0.0034736301749944687, 0.027420159429311752, 0.06487388908863068, 0.0035412583965808153, -0.021198365837335587, -0.016575057059526443, 0.017571035772562027, -0.016206175088882446, 0.009074474684894085, -0.044708386063575745, 0.008176864124834538, -0.0077096144668757915, -0.009437207132577896, 0.002382356906309724, 0.004340500570833683, 0.0309614185243845, 0.01056844275444746, -0.0019028115784749389, 0.038019344210624695, 0.02545279450714588, 0.03504370152950287, -0.01980891451239586, 0.014337178319692612, 0.030641721561551094, -0.0390276163816452, -0.006725931540131569, -0.03017447143793106, -0.007236217148602009, -0.05297132208943367, -0.0045280153863132, 0.038929250091314316, -0.017632516101002693, 0.03145325928926468, 0.02082948572933674, -0.017792364582419395, 0.008250639773905277, -0.026706989854574203, 0.005281147547066212, -0.012093150988221169, -0.04141305014491081, 0.003080157097429037, -0.006627563387155533, -0.009105214849114418, -0.008133827708661556, 0.02011631429195404, -0.013808447867631912, -0.000716628332156688, -0.003602738492190838, 0.017607923597097397, -0.005551660433411598, 0.05449603125452995, 0.02525605820119381, 0.000813075399491936, -0.022563226521015167, -0.009965936653316021, -0.02223123237490654, 0.03383868932723999, 0.02510850504040718, 0.012935429811477661, 0.00608653761446476, -0.013464159332215786, -0.01378385629504919, 0.0069288164377212524, 0.0014401732478290796, -0.007955535314977169, -0.0021963794715702534, -0.003458260092884302, 0.009738460183143616, -0.007494433782994747, -0.010427038185298443, 0.022243529558181763, 0.022673889994621277, 0.015812702476978302, -0.02287062630057335, -0.009148250333964825, 0.015456116758286953, -0.03228938952088356, -0.04950384050607681, 0.03927353769540787, -0.012277591973543167, 0.014558506198227406, -0.028231699019670486, -0.0017060749232769012, 0.004946080502122641, -0.02193612791597843, -0.005053670611232519, -0.0034890002571046352, -0.0008307509124279022, 0.051741719245910645, 0.038584962487220764, 0.0009683128446340561, -0.01323053427040577, 0.0076788743026554585, -0.013906816951930523, -0.01690704934298992, -0.01417732983827591, -0.03841281682252884, -0.016624240204691887, -0.01501346006989479, -0.019034262746572495, -0.02756771259009838, 0.008275232277810574, 0.0200425386428833, -0.07092353701591492, 0.026780765503644943, 0.008668704889714718, -0.014607690274715424, 0.005222741048783064, 0.003295337548479438, 0.015874182805418968, 0.010943472385406494, 0.030543353408575058, 0.017484962940216064, 0.0341092050075531, -0.016206175088882446, -0.011976338922977448, -0.015542189590632915, 0.025846267119050026, -0.008379748091101646, -0.022673889994621277, 0.008189159445464611, 0.019575288519263268, 0.009615500457584858, 0.0019427736988291144, 0.01687016151845455, -0.01548070926219225, -0.005788358859717846, -0.01343956682831049, 0.011478349566459656, 0.008871589787304401, -0.00513359485194087, -0.010174970142543316, 0.015677446499466896, -0.016279950737953186, 0.029387526214122772, -0.004903044085949659, 0.023989565670490265, -0.002531446283683181, 0.021198365837335587, 0.0033445218577980995, 0.005960503593087196, 0.008459672331809998, -1.0933144949376583e-05, 0.04874148592352867, -0.013636304065585136, 0.017558738589286804, 0.022071383893489838, -0.005563956219702959, 0.0017414260655641556, 0.007113256957381964, 0.007807982619851828, -0.005849839188158512, 0.02170250378549099, 0.027248015627264977, 0.006307866424322128, -0.022550929337739944, -0.038511183112859726, -0.00670133950188756, -0.01508723571896553, -0.020817188546061516, 0.018616197630763054, -0.040208037942647934, -0.031281113624572754, 0.006682895589619875, -0.003532036207616329, 0.00017396968905813992, 0.00026186712784692645, -0.011398425325751305, 0.00528422137722373, -0.01192715484648943, -0.004927636589854956, 0.008564189076423645, -0.03369113802909851, 0.01060533057898283, -0.016353728249669075, -0.08243262767791748, -0.0109865078702569, 0.008902329951524734, 0.03863414376974106, 0.009990529157221317, 0.03804393485188484, 0.010218005627393723, 0.021751686930656433, 0.001959680812433362, -0.015062644146382809, 0.011429165489971638, -0.042101625353097916, 0.003787179011851549, 0.021149180829524994, -0.01166278962045908, -0.028674356639385223, -0.031010601669549942, 0.013082982040941715, 0.000350052781868726, 0.0036765148397535086, 0.0077526504173874855, -0.01690704934298992, 0.005705360788851976, 0.023202620446681976, 0.02026386745274067, -0.022673889994621277, -0.016206175088882446, 0.012560401111841202, 0.032682862132787704, -0.009277358651161194, 0.012087003327906132, -0.018407166004180908, -0.018542421981692314, 0.05675850063562393, -0.025772491469979286, -0.02574789896607399, 0.0003293032059445977, -0.029780998826026917, 0.002388505032286048, -0.040478549897670746, -0.023300988599658012, -0.04911036789417267, 0.006578379310667515, -0.000811538367997855, 0.03947027400135994, -0.041044168174266815, 0.00044112029718235135, 0.05429929494857788, 0.00437738886103034, 0.002866513328626752, 0.0270758718252182, 0.02545279450714588, -0.017177561298012733, 0.009105214849114418, 0.007328437175601721, 0.030297432094812393, 0.005468661896884441, -0.034846965223550797, 0.01045163068920374, -0.03929813206195831, -0.023005882278084755, 0.0029172345530241728, -0.008152271620929241, -0.05351234972476959, -0.003784104948863387, -0.02102622203528881, -0.028453027829527855, -0.013464159332215786, 0.05916852504014969, -0.04903659224510193, 0.008693297393620014, 0.05513542518019676, -0.015911070629954338, 0.02295669913291931, 0.005364145617932081, 0.027420159429311752, -0.008305972442030907, 0.009111362509429455, -0.018923599272966385, 0.0070517766289412975, -0.021825464442372322, -0.028871092945337296, 0.00482004601508379, -0.021112293004989624, -0.0026836097240448, -0.017792364582419395, 0.01141686923801899, -0.02778904139995575, 0.01200707908719778, -0.0032400053460150957, 0.0029034013859927654, -0.010771327652037144, 0.04598717391490936, 0.011466053314507008, 0.006695191375911236, -0.010912732221186161, 0.005640806630253792, -0.011779602617025375, 0.015702037140727043, -0.019562993198633194, -0.033297665417194366, -0.014730650931596756, 0.00446038693189621, -0.02933834120631218, 0.003741068998351693, -0.04866771027445793, 0.011441461741924286, 0.015062644146382809, 0.05228274315595627, 0.005345701705664396, 0.032756637781858444, 0.004223688505589962, 0.029953142628073692, 0.023645276203751564, 0.03782260790467262, 0.027739856392145157, -0.00752517394721508, -0.0027742930687963963, -0.010728291235864162, -0.02751852758228779, -0.02960885502398014, -0.0018228873377665877, -0.036125753074884415, 0.011767306365072727, -0.0005944364820607007, -0.034010834991931915, 0.005241185426712036, 0.03811771050095558, -0.019046559929847717, 0.016193879768252373, -0.0015500690788030624, -0.0001519713259767741, 0.013255126774311066, 0.00016993505414575338, -0.006713635753840208, -0.035904426127672195, -0.037675052881240845, 0.0520368255674839, -0.016624240204691887, 0.019956465810537338, -0.00558547442778945, -0.014115849509835243, 0.007439101580530405, -0.004060765728354454, -0.04234754666686058, 0.0039531756192445755, -0.026854543015360832, -0.02030075527727604, 0.017398890107870102, -0.007279253099113703, 0.0069288164377212524, -0.027666080743074417, 0.0026359627954661846, 0.036617595702409744, -0.009597055613994598, -0.028182514011859894, 0.014939683489501476, -0.0075928024016320705, 7.704235031269491e-05, 0.03789638355374336, 0.06275896728038788, -0.0012226870749145746, 0.014287993311882019, -0.022059088572859764, -0.013525639660656452, 0.03413379564881325, 0.02275996282696724, 0.009400319308042526, -0.01947692036628723, -0.02589545212686062, 0.010918879881501198, -0.043011534959077835, 0.0316745899617672, 0.03578146547079086, -0.047511883080005646, 0.0027128129731863737, 0.002064197091385722, 0.004531089216470718, 0.017189858481287956, 0.010875843465328217, 0.011343092657625675, -0.009351135231554508, -0.02264929749071598, 0.009123658761382103, 0.022772258147597313, 0.03371572867035866, -0.018173541873693466, 0.015775814652442932, 0.023755941540002823, 0.02911701239645481, 0.008681001141667366, 0.02729719877243042, 0.006243312265723944, 0.021198365837335587, -0.012505068443715572, 0.030199063941836357, -0.011404572986066341, 0.022944403812289238, -0.020313050597906113, -0.010297929868102074, -0.027198830619454384, -0.02106310985982418, -0.02680535800755024, 0.012511216104030609, -0.0015416154637932777, -0.033297665417194366, 0.03327307477593422, -0.012093150988221169, -0.0327320471405983, -0.016845569014549255, 0.004546459298580885, -0.03528962284326553, -0.0033137816935777664, 0.017718587070703506, 0.01731281913816929, -0.0351666621863842, 0.013009206391870975, -0.01487820316106081, -0.039789970964193344, -0.03462563827633858, -0.022882923483848572, -0.06772656738758087, -0.03784719854593277, 0.033248480409383774, -0.010008973069489002, 0.017743179574608803, 0.04706922546029091, -0.018407166004180908, -0.010470074601471424, 0.019612176343798637, 0.05882423743605614, -0.020177794620394707, -0.01928018406033516, -0.015579077415168285, -0.048864446580410004, 0.0004718603740911931, 0.004488053265959024, 0.010107341222465038, 0.008404340595006943, 0.012935429811477661, 0.02687913365662098, 0.0001915491884574294, -0.0002468813327141106, -0.02079259604215622, -0.017337409779429436, 0.009443355724215508, 0.025047024711966515, -0.0031600813381373882, 0.022661594673991203, -0.020952444523572922, 0.009062178432941437, 0.00710710883140564, -0.008896182291209698, -0.02159183844923973, 0.00047647138126194477, 0.0024023379664868116, -0.021493470296263695, 0.014792131260037422, -0.00386095535941422, -0.00967697985470295, -0.018357980996370316, -0.007955535314977169, -0.03024824894964695, -0.007088664919137955, 0.0029326046351343393, 0.0018459423445165157, -0.005124372895807028, 0.023571500554680824, -0.004571051336824894, -0.0397653803229332, 0.009135955013334751, -0.017103785648941994, 0.05921771004796028, 0.0008591855294071138, -0.017571035772562027, -0.011189392767846584, -0.00858263298869133, -0.02287062630057335, -0.009203583002090454, 0.034428901970386505, -0.01629224792122841, -0.004749343730509281, -0.0506596677005291, -0.0011934839421883225, 0.00972001627087593, 0.034428901970386505, -0.028231699019670486, -0.027690673246979713, 0.024333855137228966, 0.00926506333053112, 0.02310425229370594, 0.04239673167467117, 0.012068559415638447, 0.0060158357955515385, 0.012185371480882168, -0.007605098187923431, 0.021333621814846992, 0.020890964195132256, 0.011072580702602863, -0.03423216566443443, 0.004288242664188147, -0.022403378039598465, 0.028453027829527855, 0.002540668472647667, 0.015173308551311493, -0.02582167461514473, -0.01081436313688755, -0.012824765406548977, 0.013808447867631912, 0.020669637247920036, 0.006270978134125471, 0.005917467176914215, -0.017903028056025505, -0.001117402222007513, 0.007580506149679422, 0.011785750277340412, -0.007955535314977169, 0.009707720018923283, 0.021505767479538918, -0.0035935165360569954, -0.04242132231593132, 0.0135379359126091, 0.0131936464458704, -0.0038517331704497337, -0.03966701030731201, 0.003768735099583864, -0.009258914738893509, 0.016156991943717003, 0.024149414151906967, 0.043577149510383606, 0.03125652298331261, -0.0028619023505598307, 0.021259846165776253, 0.041757337749004364, -0.043650928884744644, 0.024075638502836227, 0.021530358120799065, 0.023719053715467453, 0.03504370152950287, 0.04549533128738403, -0.008392044343054295, -0.023300988599658012, 0.009209730662405491, -0.009769200347363949, 0.026043003425002098, -0.014558506198227406, 0.039150577038526535, -0.024026453495025635, -0.023583797737956047, -0.00249609537422657, 0.08041607588529587, -0.02589545212686062, 0.008262936025857925, -0.039421092718839645, -0.026829950511455536, -0.021186070516705513, -0.014583098702132702, 0.03489615023136139, 0.0008645650232210755, -0.01698082499206066, 0.0008107698522508144, -0.006965704262256622, 0.0026544067077338696, 0.031133562326431274, 0.010765179060399532, -0.021960720419883728, -0.010384002700448036, 0.012019375339150429, -0.005576252471655607, 0.011921007186174393, 0.0023838940542191267, -0.010334818623960018, -0.0024192449636757374, 0.027174239978194237, -0.012511216104030609, -0.019944170489907265, -0.0004222919815219939, -0.011619754135608673, 0.01621847227215767, -0.0038179191760718822, 0.0028326993342489004, -0.007174736820161343, -0.0023700608871877193, 0.0023039698135107756, -0.00420524412766099, -0.013599415309727192, 0.01645209640264511, 0.025772491469979286, 0.01417732983827591, 0.018579309806227684, 0.04556911066174507, 0.017103785648941994, 0.022354193031787872, 0.010894287377595901, -0.010076601058244705, 0.01738659478724003, 0.006553787272423506, 0.03617493808269501, 0.002237878507003188, 0.006885780021548271, -0.041609786450862885, -0.03600279241800308, 0.02892027609050274, -0.011306204833090305, 0.00604964978992939, -0.000329687463818118, 0.007500581908971071, 0.038658738136291504, 0.033174704760313034, -0.01336579117923975, -0.027100462466478348, -0.04109335318207741, -0.025477387011051178, 0.024112526327371597, 0.029707223176956177, 0.0013756189728155732, -0.014349473640322685, 0.012240704149007797, 0.005274999421089888, -0.014423250220716, -0.011140208691358566, 0.017251338809728622, -0.03811771050095558, 0.04938087984919548, -0.005951281171292067, 0.021763984113931656, -0.007328437175601721, 0.01891130395233631, 0.0036396265495568514, 0.0086195208132267, -0.002028845949098468, -0.01459539495408535, -0.017423482611775398, 0.042027849704027176, -0.005364145617932081, 0.013070685788989067, 0.03811771050095558, 0.02287062630057335, 0.007211625110358, 0.02582167461514473, 0.009824533015489578, 0.0034182979725301266, 0.00833671260625124, 0.011877970770001411, 0.008890033699572086, -0.007912498898804188, -0.030936826020479202, -0.0002853064506780356, 0.018702270463109016, 0.00977534893900156, -0.017263634130358696, 0.03164999559521675, 0.007949387654662132, -0.023989565670490265, 0.03819148615002632, 0.006922668311744928, 0.010052009485661983, -0.030469577759504318, -0.00933883897960186, -0.008767073974013329, 0.005401033908128738, 0.009972085244953632, -0.011435313150286674, -0.017263634130358696, 0.013488751836121082, 0.04544615000486374, -0.01039629802107811, -0.05493868887424469, 0.008687149733304977, -0.024247782304883003, 0.015615965239703655, 0.0018474793760105968, -0.003104749135673046, -0.00807234738022089, -0.04018344357609749, -0.03974078968167305, 0.0135379359126091, -0.02643647789955139, -0.01066066324710846, -0.006052723620086908, -0.013488751836121082, 0.01685786433517933, 0.006639859173446894, -0.010095045901834965, 0.02737097628414631, 0.01674720086157322, 0.0011619754368439317, 0.006498455069959164, 0.05479113757610321, 0.022882923483848572, -0.012873949483036995, -0.018025988712906837, -0.031969692558050156, -0.03396164998412132, 0.009314247407019138, -0.023055067285895348, 0.01769399642944336, -0.01641520857810974, -0.011656641960144043, -0.03560931980609894, 0.010402446612715721, 0.016427503898739815, 0.060250576585531235, 0.011736566200852394, 0.02075570821762085, 0.004484978970140219, -0.03051876090466976, 0.033937059342861176, -0.03388787433505058, -0.01459539495408535, -0.016513576731085777, 0.014337178319692612, -0.03088764287531376, 0.00471552973613143, 0.019071152433753014, 0.009043734520673752, 0.008324416354298592, -0.02525605820119381, -0.056955236941576004, 0.017939915880560875, 0.01323053427040577, -0.02941211871802807, 0.0024453741498291492, -0.03133029863238335, -0.029067829251289368, -0.013673191890120506, -0.021616430953145027, -0.007451397832483053, -0.006959556136280298, 0.01209929957985878, -0.022095976397395134, -0.03671596199274063, 0.01762021891772747, -0.008385896682739258, 0.00026916791102848947, 0.007426805794239044, -0.01784154772758484, 0.014374066144227982, 0.02855139598250389, -0.004125319886952639, -0.016009438782930374, -0.026141371577978134, 0.048716895282268524, 0.011140208691358566, 0.0031062860507518053, 0.027739856392145157, 0.017177561298012733, -0.02507161721587181, -0.0034213720355182886, 0.010709847323596478, -0.032043468207120895, -0.045692067593336105, 0.014472434297204018, -0.004472683183848858, -0.007543617859482765, 0.029436709359288216, 0.011091024614870548, 0.024715032428503036, -0.014300289563834667, 0.0481758676469326, -0.02835465967655182, -0.03430594131350517, -0.014964275993406773, 0.032117247581481934, 0.012486624531447887, 0.02046060375869274, -0.011576717719435692, 0.032535310834646225, -0.028379250317811966, 0.03996211662888527, 0.02582167461514473, -0.00691037205979228, -0.012548104859888554, -0.00037406847695820034, 0.03509288653731346, 0.02397727034986019, 0.027616895735263824, -0.009861420840024948, -0.02487488090991974, 0.0029064754489809275, -0.024100231006741524, -0.029707223176956177, 0.022550929337739944, -0.03649463504552841, 0.024284670129418373, 0.037306174635887146, -0.013894520699977875, -0.019489217549562454, -0.024296967312693596, -1.831196823331993e-05, 0.0097569040954113, -0.022882923483848572, 0.001678408938460052, 0.0054809581488370895, -0.0017844622489064932, 0.0387079194188118, 0.04377388954162598, 0.0029110864270478487, -0.030371209606528282, 0.0029326046351343393, 0.012332923710346222, 0.053217243403196335, 0.0032369315158575773, -0.009234323166310787, 0.005072114989161491, 0.002718960866332054, 0.008785517886281013, -0.032387759536504745, -0.026977503672242165, 0.024063343182206154, -0.016919344663619995, 0.005188927054405212, 0.018776046112179756, 0.025501977652311325, -0.00350744416937232, -0.020780300721526146, -0.043650928884744644, 0.04094579815864563, -0.012406700290739536, 0.002053437987342477, -0.0055055501870810986, 0.004395832773298025, -0.002257859567180276, -0.0039009174797683954, 0.007008740678429604, 0.019931873306632042, -0.004484978970140219, -0.0058529130183160305, 0.004795453976839781, 0.027198830619454384, 0.008877738378942013, -0.033297665417194366, 0.01784154772758484, -0.01685786433517933, -0.04296234995126724, 0.008330564014613628, -0.006400086916983128, 0.02532983385026455, -0.0017229820368811488, 0.016132399439811707, 0.02651025354862213, 0.06256222724914551, -0.0012764822458848357, -0.0027988851070404053, -0.013734672218561172, -0.02314114011824131, -0.028895683586597443, -0.003067860845476389, 0.018136652186512947, -0.017152970656752586, 0.0334206260740757, 0.0070271845906972885, -0.006203350145369768, 0.02899405173957348, 0.032682862132787704, 0.024247782304883003, -0.03713402897119522, -0.03388787433505058, 0.024887176230549812, -0.004912266507744789, -0.009437207132577896, -0.008146123960614204, 0.010543851181864738, 0.027764448896050453, 0.023276396095752716, -0.0035166663583368063, -5.831010639667511e-05, 0.04052773490548134, -0.021345918998122215, 0.031108971685171127, 0.0016123177483677864, 0.015542189590632915, 0.022354193031787872, -0.0034244460985064507, 0.00988601241260767, 0.024567479267716408, 0.012234555557370186, 0.015640556812286377, -0.011896414682269096, -0.04138845577836037, 0.00042575024417601526, -0.03425675630569458, -0.009486392140388489, 0.022784555330872536, -0.0027128129731863737, 0.01878834329545498, -0.0006055797566659749, -0.004976820666342974, -0.023485427722334862, -0.021800871938467026, 0.026043003425002098, -0.027248015627264977, 0.023153435438871384, -0.006836595945060253, -0.010543851181864738, 0.016193879768252373, -0.014779835008084774, 0.020386828109622, -0.017558738589286804, -0.012787877582013607, 0.03720780462026596, 0.025723306462168694, -0.02518228068947792, 0.04869230091571808, 0.05302050709724426, -0.00010557299538049847, -0.005302665289491415, -0.022329600527882576, 0.015751222148537636, 0.01438636239618063, -0.03890465945005417, -0.007924795150756836, -0.023866605013608932, 0.010918879881501198, -0.02283373847603798, -0.01060533057898283, 0.013636304065585136, -0.03051876090466976, -0.009019142016768456, -0.004106875974684954, 0.009135955013334751, 0.010931176133453846, 0.0028588282875716686, 0.02086637355387211, -0.04146223142743111, -0.06034894287586212, 0.031207339838147163, 0.011238576844334602, -0.004706307779997587, -0.018517829477787018, 0.012339072301983833, 0.021837759763002396, 0.03214183822274208, -0.012351367622613907, 0.01572662964463234, -0.004165282007306814, -0.016464391723275185, 0.03651922568678856, -0.020915556699037552]'}, page_content='2013). Quasars are key to understand the assembly, 2 Fan et al. growth and quenching of massive galaxies. 3. At the scale of galaxy clusters and superclusters ( >Mpc), quasars can be used to probe the growth of early large scale structure. They also provide sightlines to study the properties of the intergalactic medium (IGM), including the history of cosmic reionization, the chemical enrichment of the IGM, the distribution of baryons and the evolution of ionization state of the IGM, and its connection to galaxy formation through the circumgalactic medium (CGM). The history of quasar studies is driven and shaped by innovations in systematic surveys and multiwavelength observations of quasars. These observations aim to reaching higher redshift, covering the full range of quasar luminosities, and spatially resolving quasar hosts and their central AGN structure. Studies of high-redshift quasars within the ﬁrst few billion years of cosmic history started with the advent of large area digital or digitized sky surveys, highlighted by progress made using data from the Sloan Digital Sky Survey (SDSS, York et al. 2000), which resulted in the ﬁrst detections of quasars at z >5 and z >6 (Fan et al. 2001). Observations of z ∼6 quasars in the early 2000s provided fundamental insights in the three key scales of galaxy evolution mentioned above: 1. SMBHs with masses up to a few billion M⊙ already existed in the Universe within one billion years after the Big Bang, requiring a combination of early massive BH seeds and rapid BH accretion. 2. Early luminous quasars are sites of intensive galaxy-scale star formation and the assembly of early massive galaxies. 3. Detection of strong IGM absorption in quasar spectra, especially the emergence of complete Gunn-Peterson absorption troughs (Gunn & Peterson 1965) shows a rapid transition of the ionization state of the IGM at z∼5 −6, marking this epoch as the end of cosmic reionization. In this review, we will focus on the progress since then, including the quests for the earliest quasars, and the detailed studies of quasars during and right after the epoch of reionization (EoR). We will limit our discussions to: (1) the redshift range of z > 5.3; this is the lower redshift limit at which there are still detectable signatures of reionization activity. This redshift corresponds to 1.1 Gyr after the'),\n",
       " Document(metadata={'title': 'pdf2.pdf', 'tokens': 704, 'embeddings': '[-0.02366715669631958, 0.03265257179737091, 0.018221087753772736, 0.03982660546898842, 0.05343581363558769, 0.017398815602064133, -0.034297116100788116, -0.0038789825048297644, -0.035798657685518265, -0.003226527012884617, -0.006602016277611256, 0.021891523152589798, -0.056152891367673874, 0.0010933844605460763, 0.0474296472966671, 0.03505980595946312, -0.031413204967975616, -0.015778103843331337, 0.019162531942129135, 0.028767630457878113, -0.011285396292805672, -0.03191371634602547, -0.00638155173510313, 0.03415411338210106, -0.07650712132453918, -0.028600793331861496, -0.01660037599503994, 0.03608466684818268, 0.010576334781944752, -0.01542059425264597, 0.023893579840660095, -0.024549013003706932, -0.04971771314740181, 0.006459012161940336, -0.06111036241054535, 0.08051123470067978, -0.01302527729421854, -0.027647433802485466, -0.031985219568014145, -0.002915195422247052, 0.0008632374810986221, -0.02562154270708561, -0.016731463372707367, 0.0021316527854651213, -0.013585376553237438, -0.016838716343045235, -0.043306365609169006, -0.03846806660294533, -0.012500929646193981, -0.016934052109718323, -0.008711325004696846, 0.0022791256196796894, -0.011160267516970634, -0.01947237364947796, -0.02182002179324627, -0.0323665626347065, -0.030078500509262085, 0.007245534099638462, -0.04075612872838974, -0.01114239264279604, 0.005657594185322523, 0.03591782972216606, 0.003557223593816161, 0.030602848157286644, 0.00638751033693552, -0.004751902539283037, 0.02557387575507164, 0.023822076618671417, -0.038634903728961945, 0.015801938250660896, 0.003572119865566492, -0.01259626541286707, 0.020246976986527443, 0.003962401300668716, 0.05257778987288475, 0.00722170015797019, 0.007710297126322985, 0.03279557451605797, 0.0030954398680478334, 0.004063696134835482, 0.006899941246956587, 0.014610238373279572, -0.02080707624554634, -0.02976865880191326, -0.006888024043291807, 0.022153697907924652, -0.012906108051538467, -0.019150614738464355, -0.059394314885139465, -0.002002055523917079, 0.02941114827990532, 0.022975970059633255, 0.007609002757817507, -0.03174687922000885, 0.006745020393282175, -0.0013145937118679285, 0.029053637757897377, -0.023095140233635902, 0.043854549527168274, 0.04025561735033989, 0.01851901412010193, 0.015051167458295822, -0.0026366356760263443, -0.09466862678527832, 0.03455929085612297, -0.039588265120983124, -0.01043333113193512, -0.026384230703115463, 0.014169309288263321, -0.04392605274915695, 0.04218617081642151, 0.012643934227526188, -0.019567709416151047, 0.021545929834246635, -0.08246561884880066, -0.011452234350144863, -0.040422454476356506, -0.03315308690071106, 0.008866245858371258, 0.030698183923959732, 0.021903440356254578, -0.0030656475573778152, -0.014240811578929424, 0.03610850125551224, 0.013787965290248394, -0.026145892217755318, 0.0073647042736411095, -0.022058362141251564, -0.05110008269548416, 0.00899733230471611, 0.05686790868639946, -0.005773785058408976, -0.02129567414522171, -0.01234600879251957, -0.013430455699563026, 0.0021748519502580166, -0.008514693938195705, -0.05481818690896034, -0.019102945923805237, 0.017255811020731926, -0.0017264749621972442, 0.005255395546555519, -0.007418330758810043, 0.004397371783852577, 0.028267117217183113, 0.03258106857538223, -0.022487374022603035, 0.007555376272648573, -0.00722765875980258, -0.0038462108932435513, 0.003700227476656437, -0.018697768449783325, -0.04068462923169136, -0.0361323356628418, -0.00832402240484953, 0.02135525830090046, 0.005166018381714821, 0.023941246792674065, -0.035321980714797974, -0.006834397558122873, -0.021641267463564873, 0.011184101924300194, -0.010624002665281296, -0.01515842042863369, -0.03710952773690224, -0.002280615270137787, -0.04027944803237915, -0.0278619397431612, -0.07374237477779388, -0.022141780704259872, -0.027647433802485466, -0.019305534660816193, -0.009926858358085155, -0.017887411639094353, -0.012584349140524864, 0.03679968789219856, -0.007287243846803904, -0.018745435401797295, -0.01234600879251957, -0.01259626541286707, 0.026145892217755318, 0.0027602743357419968, 0.01758948713541031, -0.035012137144804, 0.03351059556007385, 0.033868104219436646, -0.05782127007842064, 0.049956049770116806, 0.00291072647087276, -0.03322458639740944, -0.02459668181836605, 0.04368771240115166, -0.025216365233063698, 0.02650340087711811, -0.0019543874077498913, -0.02981632575392723, 0.018316423520445824, 0.05453217774629593, -0.024060416966676712, -0.0004182121192570776, 0.04070845991373062, 6.34952521068044e-05, 0.04986071586608887, -0.03651367872953415, -0.03119869902729988, -0.040493953973054886, 0.04151881858706474, -0.002965842606499791, -0.0015879397979006171, -0.00900924950838089, 0.007144239731132984, 0.019281700253486633, 0.001960346009582281, 0.02695624716579914, -0.031937550753355026, -0.005797619000077248, -0.0491933636367321, 0.0654958188533783, 0.012977609410881996, -0.00927738193422556, -0.0009563390049152076, 0.036013163626194, 0.042424511164426804, 0.009253548458218575, 0.02702774852514267, 0.009920899756252766, 0.02267804555594921, -0.01234600879251957, 0.050432730466127396, -0.005961477756500244, 0.012465178966522217, 0.050909411162137985, 0.0033576139248907566, -0.034916799515485764, 0.010886176489293575, -0.03417794778943062, 0.03260490298271179, 0.07255067676305771, 0.004492708016186953, -0.0624927319586277, -0.023845911026000977, 0.003214610042050481, 0.014407649636268616, 0.022415870800614357, 0.036013163626194, 0.026288894936442375, -0.00018368933524470776, -0.021009664982557297, 0.02702774852514267, 6.684690742986277e-05, 0.029697157442569733, 0.011958706192672253, -0.0033456969540566206, 0.029601819813251495, -0.0018992713885381818, -0.020115891471505165, -0.030150001868605614, 0.03856340050697327, -0.010850425809621811, -0.01346620637923479, -0.017887411639094353, -0.043806880712509155, -0.001792018418200314, 0.015766186639666557, -0.010528666898608208, 0.06439945101737976, 0.004269264172762632, -0.04847834259271622, -0.04197166487574577, -0.000301648979075253, -0.013323202729225159, -0.0323665626347065, 0.06058601289987564, -0.033319924026727676, -0.051338423043489456, 0.002061640378087759, 0.025478539988398552, 0.00998048484325409, 0.0004941829829476774, -0.032438065856695175, 0.003521472681313753, -0.015492096543312073, 0.05262545868754387, 0.045284587889909744, -0.0006256423657760024, -0.005675469990819693, -0.024549013003706932, 0.03451162204146385, -0.012393676675856113, 0.0004237981920596212, 0.06111036241054535, -0.03687118738889694, 0.0020586613100022078, 0.017327314242720604, -0.011035139672458172, -0.01208383496850729, 0.03665668144822121, 0.01569468528032303, -0.07364704459905624, 0.04013644531369209, 0.048502177000045776, 0.030888855457305908, 0.02034231461584568, -0.013633044436573982, -0.020604487508535385, 0.013907135464251041, 0.10343953222036362, 0.04828767105937004, -0.018090002238750458, 0.03076968714594841, 0.03696652501821518, -0.006196838337928057, 0.005645677447319031, 4.808694575331174e-05, -0.04445039853453636, -0.04723897576332092, -0.06287407875061035, 0.03596549853682518, 0.03696652501821518, -0.0760304406285286, -0.006238548085093498, 0.02557387575507164, -0.0358939953148365, -0.023762492462992668, -0.03451162204146385, -0.058917634189128876, -0.009414427913725376, 0.027242254465818405, -0.025812216103076935, -0.015539764426648617, 0.07045328617095947, -0.01401438843458891, 0.046690795570611954, 0.02030656300485134, -0.034011110663414, -0.025478539988398552, 0.020199310034513474, 0.05863162502646446, -0.04016027972102165, -0.013442372903227806, -0.031079528853297234, 0.011005346663296223, 0.012894190847873688, -0.016767214983701706, -0.0016728484770283103, 0.04738197848200798, 0.07216933369636536, 0.029220476746559143, 0.01068358775228262, 0.0022463540080934763, 0.021474428474903107, -0.010957678779959679, 0.03131786733865738, -0.007251492701470852, 0.06392277032136917, -0.010719338431954384, 0.014216977171599865, -0.05829795077443123, -0.015933025628328323, 0.012989526614546776, -0.014955831691622734, -0.00919992197304964, 0.030960358679294586, -0.016945969313383102, -0.03832506388425827, -0.005005138926208019, 0.008717283606529236, -0.0021361217368394136, -0.028195613995194435, -0.0323665626347065, -0.016945969313383102, 0.006345801055431366, 0.014252728782594204, -0.014145475812256336, -0.062302060425281525, -0.012977609410881996, 0.0019588563591241837, 0.006062772125005722, -0.010016235522925854, 0.021236088126897812, 0.028553124517202377, 0.0016713588265702128, 0.01940087042748928, -0.05038506165146828, -0.009503805078566074, -0.0023789305705577135, -0.01014732290059328, -0.015110752545297146, -0.06606782972812653, 0.026360398158431053, 0.008228686638176441, 0.010528666898608208, 0.029196642339229584, -0.012834605760872364, 0.027695100754499435, -0.01446723472326994, 0.03884940966963768, 0.05581921339035034, -0.000916863966267556, 0.051481425762176514, -0.021057333797216415, -0.03515513986349106, -0.018149586394429207, -0.06244506314396858, -0.007883093319833279, -0.032414231449365616, -0.021021582186222076, 0.006435178220272064, 0.01793508045375347, -0.011916996911168098, 0.06163470819592476, 0.05291146785020828, 0.012453261762857437, 0.001936512067914009, 0.002809432102367282, 0.03446395695209503, -0.060824353247880936, -0.022964052855968475, -0.00830018799751997, 0.01851901412010193, 0.018161503598093987, -0.03398727625608444, 0.009509763680398464, 0.03038834221661091, -0.05648656561970711, 0.0009369738982059062, 0.010183073580265045, 0.003298028837889433, -0.00591976847499609, -0.008610030636191368, -0.005413295701146126, -0.02462051622569561, -0.024036582559347153, 0.012310258112847805, -0.019520040601491928, 0.013370870612561703, -0.005836349446326494, -0.04864518344402313, -0.0260982234030962, -0.022546958178281784, 0.00013555583427660167, 0.009140336886048317, -0.024036582559347153, -0.04871668294072151, 0.0321282222867012, 0.012322175316512585, 0.03498830273747444, 0.03374893590807915, 0.028743796050548553, -0.04302036017179489, -0.01517033763229847, -0.022511206567287445, 0.04306802898645401, -0.028314784169197083, -0.05243478715419769, -0.05052806809544563, 0.008806660771369934, -0.05605755373835564, -0.021069251000881195, -0.04268668219447136, 0.0021286734845489264, -0.005884017329663038, -0.0004353428084868938, 0.015206088311970234, -0.014312312938272953, 0.017196226865053177, 0.007674545980989933, -0.007853301241993904, -0.0067033106461167336, -0.021986858919262886, 0.0019439600873738527, -0.028529290109872818, 0.018221087753772736, -0.005675469990819693, -0.004549313802272081, -0.0012080855667591095, -0.027790436521172523, 0.03329608961939812, 0.029697157442569733, 0.01949620619416237, 0.012810771353542805, -0.025287868455052376, -0.037181030958890915, 0.024370258674025536, -0.0074838739819824696, -0.015754269436001778, 0.005794639699161053, 0.028624625876545906, 0.011744200251996517, -0.0017324334476143122, -0.04406905546784401, 0.0019514082232490182, 0.04397371783852577, -0.010796799324452877, 0.005937643814831972, 0.01488432940095663, -0.030698183923959732, 0.001984179951250553, -0.03084118850529194, 0.025001859292387962, 0.06168237701058388, -0.0074123721569776535, 0.009384634904563427, -0.007823508232831955, 0.030960358679294586, -0.0050438689067959785, 0.011410525068640709, 0.028696129098534584, -0.019186364486813545, 0.03942142426967621, -0.01843559369444847, -0.01086234301328659, -0.019055278971791267, -0.006661601364612579, -0.017327314242720604, -0.012214922346174717, 0.013156364671885967, 0.033844269812107086, 0.01252476405352354, -0.0005243478808552027, 0.024370258674025536, -0.036609016358852386, 0.02645573392510414, 0.007722213864326477, -0.000521741050761193, 0.015110752545297146, -0.04552292823791504, -0.08856712281703949, -0.017684822902083397, -0.04683379828929901, -0.04316336289048195, -0.050432730466127396, 0.013609210960566998, -0.0166242104023695, -0.034320950508117676, -0.028124112635850906, -0.0456659309566021, -0.020103974267840385, -0.019722629338502884, -0.02550237439572811, -0.004605919122695923, 0.011404566466808319, -0.0005720158806070685, -0.02602672204375267, 0.02322622761130333, 0.03637067601084709, -0.005994249600917101, -0.02274954691529274, 0.019245950505137444, 0.013823716901242733, 0.03081735409796238, 0.01559934951364994, 0.004841280169785023, 0.018113834783434868, 0.003256319323554635, 0.009039042517542839, -0.01023074146360159, -0.0006304836133494973, 0.017732491716742516, -0.014073973521590233, 0.010570376180112362, 0.02268996275961399, -0.00970639381557703, 0.029959330335259438, -0.02038998156785965, -0.031413204967975616, 0.004793611820787191, -0.015349091961979866, -0.03598932921886444, 0.017887411639094353, -0.03160387650132179, -0.01699363812804222, 0.021414844319224358, 0.011976581998169422, 0.002930091693997383, 0.004847238305956125, -0.02555004134774208, 0.014777076430618763, 0.01702938787639141, -0.03134170174598694, -0.04132814705371857, -0.022856799885630608, -0.021605515852570534, 0.017196226865053177, -0.035250477492809296, -0.011440317146480083, -0.005279229488223791, 0.018376009538769722, 0.03074585273861885, 0.03451162204146385, 0.0009645319660194218, -0.02230861783027649, -0.016945969313383102, 0.013370870612561703, -0.029172807931900024, 0.001626670127734542, 0.01793508045375347, -0.007966512814164162, -0.012977609410881996, -0.0026381253264844418, -0.0004971622256562114, -0.01563509926199913, -0.04962237551808357, -0.027361424639821053, -0.02137909270823002, -0.009956651367247105, -0.0265987366437912, -0.028553124517202377, 0.012405593879520893, -0.0024325570557266474, 0.0034529499243944883, -0.0061074611730873585, -0.03081735409796238, -0.016791049391031265, 0.024346424266695976, 0.008544486947357655, 0.025240199640393257, -0.030412176623940468, 0.022046444937586784, -0.003601912409067154, 0.0002392709575360641, 0.017732491716742516, 0.020187392830848694, 0.01539675984531641, 0.04507008194923401, 0.034392453730106354, -0.038515735417604446, -0.03725253418087959, 0.00046885936171747744, -0.019520040601491928, 0.017803993076086044, -0.053388144820928574, 0.01853092946112156, -0.022952135652303696, -0.00996856763958931, 0.0033039874397218227, -0.009628933854401112, 0.016910219565033913, 0.03084118850529194, -0.005732075776904821, 0.0474296472966671, 0.04197166487574577, 0.03308158367872238, -0.01798274926841259, 0.012679684907197952, 0.02186768874526024, -0.041447315365076065, -0.021522097289562225, -0.019210198894143105, -0.01563509926199913, -0.021450594067573547, -0.01980604976415634, 0.01891227439045906, -0.026360398158431053, 0.018590515479445457, 0.03515513986349106, -0.018185338005423546, 0.010004319250583649, -0.00874707568436861, 0.019305534660816193, -0.035703323781490326, -0.022856799885630608, -0.005699303932487965, 0.0012848012847825885, 0.002587477909401059, -0.008943705819547176, 0.031031860038638115, -0.008014180697500706, -0.009634892456233501, 0.0038015220779925585, 0.0427820198237896, -0.0010121999075636268, 0.051910437643527985, 0.030650516971945763, -0.0018233004957437515, -0.028124112635850906, 0.009372717700898647, -0.030412176623940468, 0.015229921787977219, 0.021057333797216415, 0.009402510710060596, -0.00032678639399819076, -0.014514902606606483, -0.010135405696928501, 9.114640852203593e-05, 0.0144314831122756, -0.022106029093265533, 0.0005191341624595225, 0.017303479835391045, -0.007591126952320337, -0.01208979357033968, 0.002067598979920149, 0.012143420055508614, 0.012870356440544128, -0.01139860786497593, -0.039993442595005035, -0.0014121641870588064, 0.017768243327736855, -0.04676229506731033, -0.041399646550416946, 0.04459340125322342, -0.003301008138805628, 0.032867077738046646, -0.03265257179737091, -0.0026396147441118956, -0.005493735428899527, -0.013263617642223835, -0.011982540600001812, -0.021236088126897812, -0.028624625876545906, 0.05600988492369652, 0.05505652725696564, 0.0037121446803212166, 0.0034916801378130913, -0.0004472597793210298, -0.03210439160466194, -0.007144239731132984, 0.004474832210689783, -0.03982660546898842, -0.007400454953312874, 0.0058035776019096375, -0.013394705019891262, -0.052387118339538574, -0.012691602110862732, -0.0014754731673747301, -0.04795399680733681, 0.0070846546441316605, 0.0255977101624012, -0.0269800815731287, -0.0002370365255046636, 0.0012088303919881582, 0.008085682056844234, -0.00438843434676528, 0.006667559966444969, -0.006125336512923241, 0.026408065110445023, -0.001295228605158627, -0.008681531995534897, -0.021915357559919357, 0.02469201758503914, -0.007531542330980301, -0.022630376741290092, -0.001371944323182106, 0.0032414232846349478, 0.02328581176698208, -0.0005656849243678153, 0.0213314238935709, -0.03179454803466797, -0.0014479150995612144, -0.027742769569158554, 0.004471852909773588, 0.007656670641154051, 0.022952135652303696, -0.009873231872916222, 0.019102945923805237, -0.01901952736079693, 0.024715851992368698, -0.017172392457723618, 0.047072138637304306, 0.023559903725981712, 0.004659545607864857, 0.004477811511605978, 0.005675469990819693, 0.011446275748312473, -0.016302451491355896, 0.014836661517620087, 0.0038104597479104996, 0.010999388061463833, 0.02652723528444767, -0.010898093692958355, -0.018816938623785973, 0.005040889605879784, -0.0025591750163584948, -0.0025040588807314634, 0.007626878097653389, 0.008669615723192692, 0.020711740478873253, -0.03172304481267929, -0.010898093692958355, -0.00926546473056078, -0.0085027776658535, -0.021105002611875534, 0.031413204967975616, -0.03992193937301636, -0.023309646174311638, 0.020604487508535385, 0.00313417031429708, -0.007120405789464712, -0.014657906256616116, -0.010993429459631443, -0.009384634904563427, -0.035274311900138855, 0.0023014701437205076, -0.008186977356672287, -0.009587223641574383, 0.02177235297858715, 0.0045940023846924305, -0.06244506314396858, -0.010975554585456848, 0.007191907614469528, 0.031889885663986206, 0.021939191967248917, 0.042376842349767685, 0.007573251612484455, -0.01233409158885479, 0.06358909606933594, -0.005541403777897358, 0.01899569295346737, -0.025359369814395905, 0.023607570677995682, 0.03608466684818268, 0.002560664666816592, -0.05129075422883034, -0.01346620637923479, 0.0049217198975384235, 0.005991270300000906, -0.0069833602756261826, 0.009336967021226883, -0.029577987268567085, -0.013108696788549423, 0.025836048647761345, 0.023357314988970757, 0.0004528458812274039, -0.0063279252499341965, 0.032032888382673264, 0.015623182989656925, -0.008163142949342728, 0.017327314242720604, 0.0019409809028729796, -0.009545514360070229, 0.06735486537218094, -0.024835022166371346, -0.03758620843291283, 0.011625031009316444, -0.011416482739150524, -0.006548389792442322, -0.02938731387257576, -0.006643726024776697, -0.06611549854278564, 0.00920588057488203, 0.0004669973277486861, 0.034344784915447235, -0.024882689118385315, -0.014610238373279572, 0.05767826363444328, 0.01347812358289957, -0.017887411639094353, 0.015778103843331337, 0.02274954691529274, -0.002314876765012741, 0.008365731686353683, 0.0030120210722088814, 0.006590099539607763, 0.0004126260173507035, -0.018090002238750458, 0.015754269436001778, -0.04638095200061798, -0.034368619322776794, 0.005663552787154913, 0.008860287256538868, -0.04409288987517357, 0.0013265106827020645, -0.02941114827990532, -0.033439092338085175, -0.004585064481943846, 0.03227122873067856, -0.02657490409910679, 0.006125336512923241, 0.012238755822181702, -0.009247589856386185, 0.01743456721305847, 0.023047471418976784, 0.01401438843458891, 0.014348064549267292, -0.00927738193422556, -0.022415870800614357, -0.005928705912083387, -0.02127183973789215, -0.031055694445967674, 0.0063517591916024685, 0.014312312938272953, -0.005225603003054857, -0.013907135464251041, 0.03474996238946915, -0.023023638874292374, -0.004999180324375629, 0.025788381695747375, 0.008615989238023758, -0.012161295861005783, 0.04399755224585533, -0.0030626682564616203, 0.011589279398322105, -0.0034648668952286243, 0.0033665515948086977, -0.01139264926314354, 0.00159687758423388, -0.027671266347169876, -0.04740581288933754, -0.02695624716579914, 0.008461067453026772, -0.027575930580496788, -0.011255603283643723, -0.0361323356628418, 0.010486957617104053, 0.044283561408519745, 0.027575930580496788, 0.024429844692349434, 0.06101502478122711, 0.014610238373279572, 0.011470109224319458, 0.0396597646176815, 0.04225767031311989, 0.01887652277946472, -0.01259626541286707, 0.00849086046218872, -0.025764547288417816, -0.012161295861005783, -0.020032471045851707, -0.018733520060777664, -0.043282534927129745, -3.135194492642768e-05, 0.007263409439474344, -0.04349704086780548, 0.021545929834246635, 0.025430871173739433, -0.01513458602130413, 0.025359369814395905, -0.01844751089811325, -0.009503805078566074, 0.01801849901676178, -0.007823508232831955, -0.024370258674025536, -0.029911663383245468, -0.027242254465818405, 0.04156648367643356, -0.02187960594892502, 0.0188884399831295, -0.0055205486714839935, 0.006292174570262432, 0.03441628813743591, 0.004275222774595022, -0.035321980714797974, 0.00873515848070383, -0.0006088840891607106, -0.02416766993701458, 0.01609986275434494, -0.024525180459022522, 0.018292590975761414, -0.012977609410881996, 0.005514590535312891, 0.0597279891371727, -0.0020184414461255074, 0.004397371783852577, 0.02552620694041252, -0.026265060529112816, -0.020127808675169945, 0.021152669563889503, 0.049956049770116806, 0.011070890352129936, 0.006721186451613903, -0.03262873739004135, -0.01347812358289957, 0.023023638874292374, -0.008186977356672287, 0.013347036205232143, -0.02173660323023796, -0.02037806436419487, -0.005618864204734564, -0.04180482402443886, 0.03124636597931385, 0.022964052855968475, -0.021009664982557297, -0.01713664084672928, 0.012393676675856113, -0.008210810832679272, -0.009664684534072876, 0.005219644866883755, 0.02707541733980179, -0.018864605575799942, -0.003953463863581419, -0.0005582368467003107, 0.020199310034513474, 0.03465462848544121, 0.016350120306015015, 0.012322175316512585, 0.003169921226799488, 0.0037061860784888268, 0.008401483297348022, 0.028243282809853554, 0.003962401300668716, 0.0018620308255776763, -0.024787353351712227, 0.05367415398359299, -0.009229714050889015, 0.011887204833328724, -0.015337174758315086, -0.007668587379157543, -0.010570376180112362, -0.016779132187366486, -0.022129863500595093, 0.008663657121360302, -0.008532569743692875, -0.015492096543312073, 0.000813335063867271, -0.024715851992368698, -0.04273435100913048, 0.008854328654706478, -0.021164586767554283, -0.037610042840242386, 0.01210171077400446, 0.025287868455052376, 0.006917816586792469, -0.051910437643527985, 0.013215949758887291, -0.018662016838788986, -0.0054222336038947105, -0.04213850200176239, 0.0005280719487927854, -0.05920363962650299, -0.018673934042453766, 0.024811187759041786, -0.001428549992851913, 0.012018291279673576, 0.03944525867700577, -0.02042573317885399, -0.015956858173012733, 0.01136881485581398, 0.049956049770116806, -0.016445456072688103, 0.007549417670816183, -0.022868717089295387, -0.05067107081413269, 0.013370870612561703, 0.005270292051136494, 0.001552188885398209, -0.0013190626632422209, 0.014967747963964939, 0.01805425062775612, 0.015623182989656925, 0.008985416032373905, -0.02931581251323223, -0.029649488627910614, -0.0015953879337757826, 0.033462926745414734, 0.0038193976506590843, 0.026408065110445023, -0.027194587513804436, 0.0003144970105495304, -0.01797083206474781, -0.02550237439572811, -0.02037806436419487, 0.0025264034047722816, -0.011058973148465157, -0.015980692580342293, 0.019782215356826782, 0.0038223767187446356, -0.03117486461997032, -0.013204032555222511, 0.017279645428061485, -0.03517897427082062, -0.026694072410464287, 0.026837076991796494, 0.0009742145193740726, -0.02550237439572811, 0.03284324333071709, 0.010218825191259384, -0.037776879966259, -0.0030954398680478334, -0.02278529852628708, 0.026622571051120758, -0.0019231054466217756, -0.005666532088071108, -0.0034231573808938265, -0.029148975387215614, -0.010105613619089127, 0.013168281875550747, 0.03944525867700577, -0.018340257927775383, 0.031127195805311203, -0.06077668443322182, -0.002824328374117613, 0.011350939981639385, 0.053721822798252106, 0.00032138649839907885, -0.012203005142509937, 0.018280673772096634, -0.023047471418976784, -0.002454901346936822, 0.0529591329395771, 0.01614753156900406, -0.0021003708243370056, 0.011011305265128613, -0.009402510710060596, 0.011154308915138245, 0.04740581288933754, 0.015075000934302807, -0.04323486611247063, 0.002836245344951749, -0.031103361397981644, 0.006113419309258461, -0.00543415080755949, 0.012024249881505966, -0.052863799035549164, -0.009760020300745964, -0.00569036602973938, 0.002350627677515149, 0.008901996538043022, 0.0027990047819912434, 0.0033248420804739, -0.05224411562085152, 0.008878163062036037, 0.014526818878948689, 0.019698796793818474, 0.013180199079215527, 0.0038908994756639004, -0.006905899848788977, -0.004424185026437044, -0.02089049480855465, 0.008425316773355007, 0.0029211537912487984, -0.013799882493913174, -0.027313757687807083, -0.002437025774270296, -0.000263291149167344, -0.020235061645507812, 0.03305774927139282, 0.06268340349197388, 0.03038834221661091, 0.025716880336403847, 0.01795891486108303, 0.019174447283148766, -0.04490324482321739, 0.03315308690071106, 0.0213314238935709, 0.01346620637923479, 0.025335535407066345, 0.033439092338085175, -0.04418822377920151, -0.01445531751960516, 0.0007362469914369285, -0.013811799697577953, 0.028338618576526642, -0.002146549057215452, 0.033915773034095764, -0.016910219565033913, -0.012965693138539791, 0.003274194896221161, 0.0785568431019783, -0.012477096170186996, -0.013823716901242733, -0.026860911399126053, -0.007930761203169823, -0.02270187996327877, 0.0018024457385763526, 0.017660990357398987, -0.0016802966129034758, -0.025716880336403847, -0.015706602483987808, -0.017398815602064133, 0.005133246537297964, 0.018268756568431854, 0.025716880336403847, -0.011851453222334385, -0.004903844092041254, -0.007996304892003536, -0.011315188370645046, -0.0037181030493229628, 0.002641104394569993, 0.0024981005117297173, -0.004734027199447155, 0.032390397042036057, -0.029530318453907967, 0.002818369772285223, 0.01564701646566391, 0.01661229319870472, 0.0090032909065485, -0.0037478955928236246, 0.012679684907197952, -0.0009325050050392747, -0.004683380015194416, 0.0055235279724001884, -0.004310973454266787, -0.01602836139500141, 0.008204852230846882, 0.005389461759477854, 0.012000416405498981, 0.03556031733751297, 0.0511954203248024, 0.03210439160466194, -0.009342925623059273, 0.00401602778583765, -0.005297105293720961, 0.014216977171599865, 0.014205059967935085, 0.02514486387372017, 0.006917816586792469, 0.004936615936458111, -0.0331292524933815, -0.02612205781042576, 0.028100278228521347, -0.033891938626766205, 0.014550653286278248, -0.0023565860465168953, -0.011279437690973282, 0.016385870054364204, 0.013704546727240086, -0.016695713624358177, -0.012155337259173393, -0.006923775188624859, -0.017911246046423912, 0.02555004134774208, 0.0242153387516737, 0.0010524197714403272, -0.017220061272382736, 0.028076445683836937, 0.013811799697577953, 0.0043765171431005, -0.02550237439572811, 0.027170753106474876, -0.00651263864710927, 0.03355826437473297, -0.00805588997900486, 0.002478735288605094, -0.010510791093111038, 0.00348274246789515, -0.004233513027429581, 0.004695296753197908, -0.007424289360642433, -0.0227733813226223, -0.020544903352856636, 0.03587016090750694, 0.012655850499868393, -0.006447095423936844, 0.02893446944653988, 0.013192115351557732, 0.0001502658851677552, 0.028243282809853554, 0.0074362060986459255, 0.0007459295447915792, 0.027790436521172523, 0.023869745433330536, 0.016290534287691116, 0.014788993634283543, -0.014169309288263321, 0.018364092335104942, 0.040994469076395035, 0.015575515106320381, -0.021545929834246635, 0.037610042840242386, 0.00412030192092061, -0.03505980595946312, 0.05167209729552269, 0.008163142949342728, 0.018614349886775017, -0.030030831694602966, 0.021045416593551636, -0.003545306622982025, 0.011011305265128613, 0.012310258112847805, -0.025883717462420464, -0.03656134754419327, 0.014908162876963615, 0.059394314885139465, 0.001593898399733007, -0.03694269061088562, 0.003545306622982025, -0.052339449524879456, 0.009634892456233501, 0.0021361217368394136, -0.014324230141937733, -0.007662629242986441, -0.03229506313800812, -0.015801938250660896, 0.004558251239359379, -0.013204032555222511, -0.00037017170689068735, -0.010731255635619164, 0.0007932251319289207, 0.03229506313800812, 0.03296241536736488, 0.00652455585077405, 0.015384843572974205, 0.006429220084100962, -0.005505652632564306, 0.007972471415996552, 0.06335075944662094, 0.020056305453181267, -0.002034827135503292, -0.02469201758503914, -0.04135197773575783, -0.037610042840242386, 0.016302451491355896, -0.022010693326592445, 0.020127808675169945, 0.005285188090056181, -0.002238905755802989, -0.027647433802485466, 0.007591126952320337, 0.014502985402941704, 0.06287407875061035, 0.0097242696210742, 0.005246458109468222, 0.010504832491278648, -0.003640642622485757, 0.0444265641272068, -0.025836048647761345, -0.00734682846814394, 0.007883093319833279, 0.007495791185647249, -0.032461900264024734, 0.016755297780036926, 0.015825772657990456, -0.002311897464096546, -0.009336967021226883, -0.022630376741290092, -0.04035095125436783, 0.02124800533056259, -0.042805854231119156, -0.019746463745832443, -0.007191907614469528, -0.0481923371553421, -0.03267640620470047, -0.014133558608591557, -0.005377545021474361, -0.01701747253537178, -0.02981632575392723, -0.006125336512923241, -0.008800702169537544, -0.03372510150074959, -0.01752990297973156, -0.03277174010872841, -0.0006513383705168962, -0.002560664666816592, -0.02895830199122429, 0.022189447656273842, 0.03372510150074959, 0.016755297780036926, -0.012322175316512585, -0.03730019927024841, 0.0417809896171093, 0.009432302787899971, -0.0022552916780114174, 0.027242254465818405, 0.006625850219279528, -0.02986399456858635, 0.0031758795958012342, 0.012691602110862732, -0.0208309106528759, -0.05720158666372299, 0.003494659438729286, -0.003932609222829342, -0.01795891486108303, 0.01848326250910759, 0.017184309661388397, 0.02077132649719715, 0.0007120405789464712, 0.03946909308433533, -0.013871384784579277, -0.010278410278260708, -0.015194171108305454, 0.02230861783027649, 0.015325258485972881, 0.01890035718679428, -0.009861314669251442, 0.020449567586183548, -0.02652723528444767, 0.010349911637604237, 0.03374893590807915, 0.009378676302731037, -0.013406621292233467, 0.01946045644581318, 0.024715851992368698, 0.01698172092437744, 0.03703802824020386, -0.008663657121360302, -0.010141364298760891, -0.01843559369444847, -0.016957886517047882, -0.010600169189274311, -0.004236492328345776, -0.027671266347169876, 0.0006070220260880888, 0.027766602113842964, -0.005866141989827156, -0.03022150509059429, -0.02029464580118656, 0.01157140452414751, -0.0016519937198609114, 0.00010129447764484212, -0.003926650620996952, 0.019138697534799576, -0.011899121105670929, 0.03825356066226959, 0.0313655361533165, -0.0028630585875362158, -0.02038998156785965, -0.013692629523575306, 0.017756326124072075, 0.05386482551693916, -0.0029732908587902784, -0.004197762347757816, 0.0028496519662439823, 0.01748223416507244, 0.007370662875473499, -0.04111364111304283, -0.008913913741707802, 0.0255977101624012, -0.025287868455052376, 0.009521680884063244, 0.03472612798213959, 0.03758620843291283, 0.010224783793091774, -0.0027036687824875116, -0.03687118738889694, 0.04151881858706474, -0.020449567586183548, -0.003509555710479617, -0.018602432683110237, -0.00973022822290659, 0.002717075403779745, 0.009539555758237839, -0.007454081438481808, 0.01855476386845112, -0.011845494620501995, 0.006074689328670502, 0.017684822902083397, 0.027123084291815758, 0.001377902808599174, -0.0141812264919281, 0.038110557943582535, -0.013656878843903542, -0.04256751388311386, 0.015480179339647293, 0.010647837072610855, 0.028171781450510025, -0.016957886517047882, 0.012632017023861408, 0.02755209617316723, 0.04111364111304283, -0.0038819618057459593, -0.015110752545297146, -0.017160475254058838, -0.029530318453907967, -0.02363140508532524, 0.012131502851843834, 0.025716880336403847, -0.03751470521092415, 0.004874051548540592, 0.005440108943730593, -0.019305534660816193, 0.024501346051692963, 0.03374893590807915, 0.014681740663945675, -0.025240199640393257, -0.038062889128923416, 0.024525180459022522, 0.001244581420905888, 0.013883301056921482, -0.020556820556521416, 0.014109724201261997, 0.023107057437300682, 0.021093085408210754, -0.010915969498455524, -0.004978325683623552, 0.03122253157198429, -0.019591543823480606, 0.030936524271965027, 0.00709657184779644, -0.0033903855364769697, 0.03274790942668915, 0.005288167390972376, 0.00806780718266964, 0.010194990783929825, 0.0008319553453475237, 0.010629961267113686, -0.0009920899756252766, -0.026622571051120758, -0.0066556427627801895, -0.025836048647761345, 0.011303272098302841, 0.009062875993549824, -0.01985371671617031, 0.018292590975761414, 0.012149378657341003, 0.009479970671236515, -0.026837076991796494, -0.014264645054936409, 0.023976998403668404, -0.020592570304870605, 0.026288894936442375, -0.015825772657990456, -0.00499322172254324, 0.00040145384264178574, 0.004129239358007908, 0.03222355991601944, -0.006092564668506384, -0.017363063991069794, 0.0003550892579369247, 0.01136285625398159, -0.025478539988398552, 0.04690530151128769, 0.06068135052919388, -0.005833370145410299, 0.003301008138805628, -0.02229670062661171, 0.028624625876545906, 0.010183073580265045, -0.03403494507074356, -0.010826591402292252, -0.050432730466127396, 0.01277502067387104, 0.010326078161597252, -0.0017666948260739446, 0.019603459164500237, -0.032914746552705765, -0.0002128301130142063, -0.02881529927253723, 0.016945969313383102, 0.023035556077957153, 0.012322175316512585, 0.018101917579770088, -0.05434150621294975, -0.06382743269205093, 0.04025561735033989, 0.008216769434511662, 0.00389685807749629, -0.042472176253795624, 0.01253668125718832, -0.0011470109457150102, 0.037776879966259, -0.0026098224334418774, 0.007454081438481808, -0.006101502571254969, -0.028576958924531937, 0.022022610530257225, -0.012393676675856113]'}, page_content='Quasar Surveys .................................................................................. 11 3. AN EVOLVING QUASAR POPULATION ................................................................... 11 3.1. Evolution of Quasar Luminosity Function .............................................................. 12 3.2. (A Lack of) Evolution of the Quasar Spectral Energy Distributions ................................... 14 4. GROWTH OF SUPERMASSIVE BLACK HOLES IN THE FIRST BILLION YEARS...................... 17 4.1. Black Hole Mass Measurements in High-redshift quasars .............................................. 17 4.2. Current Demographics .................................................................................. 19 4.3. Constraints on Early BH Seeds and Growth ............................................................ 19 4.4. The (Near) Future for Black Hole Mass Measurements at High Redshift ............................. 21 5. A MULTI WAVELENGTH VIEW OF QUASAR/GALAXY CO-EVOLUTION AT THE HIGH- EST REDSHIFTS ............................................................................................ 22 5.1. Quasar fueling - Ly α nebuale ........................................................................... 22 5.2. Quasar Host Galaxy Observations - Sites of Massive Galaxy Evolution ............................... 23 5.3. Constraints on Galaxy Mass and Black Hole/Galaxy Co-Evolution .................................... 27 5.4. Evidence of Quasar Feedback .......................................................................... 28 5.5. Protoclusters and Large Scale Structure ............................................................... 30 6. QUASARS AS PROBES OF COSMIC REIONIZATION .................................................... 30 6.1. AGN and the Ionizing Photon Budget .................................................................. 31 6.2. Neutral Hydrogen Absorption in the Diﬀuse IGM ...................................................... 32 6.3. Neutral Hydrogen Absorption in the Quasar Environment ............................................. 39 6.4. Heavy Element Enrichment of Intervening Quasar Absorbers.......................................... 44 6.5. Metal Absorption in the Vicinity of QSO Hosts ........................................................ 47 7. Summary ..................................................................................................... 48 1. Introduction Quasars, and active galactic nuclei (AGN) in general, are powered by accretion onto the supermassive black holes (SMBHs) at the center of their host galaxies. Quasars are the most luminous non-transient sources in the Universe, and have been observed up to a redshift of z ∼7.6 (Wang et al. 2021b). SMBH activities are a key ingredient of galaxy formation. Quasars provide crucial probes of galaxy evolution and cosmology across cosmic history at three critical spatial scales: 1. At the scale of the AGN central engine ( <1pc), quasar emission originates from well within the SMBH sphere of inﬂuence, at which the gravitational inﬂuence of the BH dominates. Quasars are fundamental in understanding the physics of BH accretion and growth and the physics of AGN activity. 2. At the scale of quasar host galaxies ( ∼1 −10 kpc), the evolution of quasars and galaxies are strongly coupled, as shown by the tight correlation between SMBH mass and the mass/velocity dispersion of their host galaxies seen at low redshift (e.g, the M-σ relation, Kormendy & Ho'),\n",
       " Document(metadata={'title': 'pdf2.pdf', 'tokens': 687, 'embeddings': '[-0.005902301985770464, 0.03713919594883919, -0.00014895398635417223, 0.015640169382095337, 0.022516878321766853, 0.025061508640646935, -0.01633528806269169, 0.01757657155394554, -0.03919972479343414, -0.0218962375074625, -0.015938077121973038, 0.004912378266453743, -0.053126923739910126, -0.008229708299040794, 0.06707894802093506, 0.03003905527293682, -0.030237659811973572, -0.004400349222123623, 0.012679708190262318, 0.048757605254650116, -0.024403627961874008, -0.044611718505620956, -0.008794492110610008, 0.03502901270985603, -0.0871380865573883, -0.035550352185964584, 0.026414508000016212, 0.01878061518073082, 0.010730893351137638, -0.022442400455474854, 0.030510742217302322, -0.027233755216002464, -0.05114087089896202, -0.02566973865032196, -0.044164858758449554, 0.07775398343801498, -0.02053082548081875, -0.03276987746357918, -0.040589962154626846, -0.010519875213503838, 0.011661856435239315, -0.022256208583712578, 0.0017641738522797823, -0.032198887318372726, -0.05056988075375557, -0.0007482610526494682, -0.017365552484989166, -0.02599247172474861, -0.014945050701498985, 0.007292539346963167, -0.032074760645627975, -0.0422532819211483, -0.024366389960050583, -0.016248397529125214, -0.044115208089351654, -0.031404465436935425, -0.027655791491270065, 0.026389682665467262, -0.03880251571536064, 0.00595505628734827, -0.0019845017232000828, 0.028524689376354218, 0.008521409705281258, 0.01658354513347149, -0.006054359022527933, 8.648980838188436e-06, 0.02579386532306671, -0.004245188552886248, -0.02566973865032196, 0.02472636289894581, -0.02472636289894581, -0.014001674950122833, 0.011965970508754253, -0.014138216152787209, 0.027357883751392365, 0.004375523421913385, -0.017067644745111465, 0.03430907055735588, -0.02996457740664482, 0.001658664783462882, -0.010259206406772137, 0.017067644745111465, -0.004431381355971098, -0.04687085747718811, -0.00366488890722394, 0.019339192658662796, 0.006367783062160015, -0.000957339711021632, -0.05987950414419174, 0.013343795202672482, 0.02996457740664482, -0.0014670416712760925, 0.03761088103055954, -0.060872532427310944, -0.01045160461217165, -0.023360950872302055, 0.031255513429641724, -0.022218970581889153, 0.060971833765506744, 0.040018972009420395, 0.018172387033700943, -0.0033887033350765705, 0.013294143602252007, -0.06231242045760155, 0.020568063482642174, -0.031826503574848175, -0.014014087617397308, -0.021163878962397575, -0.008254533633589745, -0.048484522849321365, -0.0025865240022540092, -0.002760303672403097, -0.021039750427007675, 0.0073483968153595924, -0.0848541259765625, -0.01249972265213728, -0.05645356327295303, -0.027705442160367966, -0.005315795540809631, 0.023733336478471756, -0.0005325881065800786, -0.0076152728870511055, -0.007149791345000267, 0.05531158298254013, 0.02596764639019966, -0.04555509611964226, 0.008099373430013657, -0.036245472729206085, -0.06246137246489525, 0.02112664096057415, 0.04538131505250931, -0.003488006070256233, 0.010457811877131462, -0.02589316852390766, -0.019612275063991547, 0.0016183230327442288, 0.016571130603551865, -0.05784380063414574, -0.032596100121736526, -0.013902372680604458, -0.0021210426930338144, -0.0038883197121322155, -0.007547002285718918, 0.027531662955880165, 0.043469738215208054, 0.02907085418701172, -0.03713919594883919, 0.012630057521164417, 0.026662765070796013, -0.005399581976234913, -0.001501952763646841, -0.04133473336696625, 0.003202510764822364, -0.036170993000268936, 0.009346863254904747, 0.010979150421917439, 0.006740168202668428, 0.009837170131504536, -0.011990795843303204, -0.01024058647453785, -0.00835383590310812, 0.0013080022763460875, -0.02379539981484413, -0.015689820051193237, -0.026215901598334312, 0.004605161026120186, -0.008974477648735046, -0.03758605569601059, -0.09587671607732773, -0.021139053627848625, -0.025334591045975685, -0.043668344616889954, 0.007280126214027405, -0.0211018156260252, -0.016571130603551865, 0.05903543159365654, -0.044288985431194305, 0.003922455012798309, -0.021933475509285927, -0.031801678240299225, 0.044164858758449554, 0.018172387033700943, 0.0218962375074625, -0.044090382754802704, 0.014634729363024235, 0.004366213921457529, -0.05943264067173004, 0.015441563911736012, -0.0004162177792750299, -0.04143403470516205, -0.0015803087735548615, 0.02354714274406433, -0.03443319723010063, 0.0211514662951231, 0.018842680379748344, -0.035500701516866684, 0.01282245572656393, 0.040515486150979996, -0.004136576317250729, -0.002564801601693034, 0.035600002855062485, 0.024180198088288307, 0.032149236649274826, -0.04637434333562851, 0.0030659695621579885, -0.06256067752838135, 0.044214509427547455, 0.005815411917865276, -0.026166250929236412, 0.009818550199270248, 0.04935342073440552, -0.009998536668717861, 0.0021396619267761707, 0.017886891961097717, -0.04143403470516205, -0.03252162039279938, -0.04342008754611015, 0.05071883276104927, 0.016546305269002914, 0.02040669694542885, -0.012270084582269192, 0.02364644594490528, 0.015118829905986786, 0.013827895745635033, 0.05004854127764702, -0.007795258890837431, 0.02339818887412548, -0.004729289095848799, 0.01883026771247387, 0.014734032563865185, 0.012468690052628517, 0.05327587574720383, -0.016322875395417213, -0.019190238788723946, 0.001229646266438067, -0.009166876785457134, 0.015441563911736012, 0.03411046415567398, 0.0012280945666134357, -0.04629986733198166, -0.026240728795528412, -0.0037548819091171026, 0.009421340189874172, 0.020692192018032074, 0.014299582690000534, 0.03423459082841873, 0.015615343116223812, -0.03351464867591858, 0.013529987074434757, -0.016794562339782715, 0.05570879206061363, 0.010166109539568424, -0.00037180312210693955, 0.015751885250210762, 0.031826503574848175, -0.022330686450004578, -0.02374574914574623, 0.01930195465683937, -0.015329848043620586, 0.013827895745635033, -0.023807812482118607, -0.05446751043200493, 0.00042397581273689866, 0.027109626680612564, 0.004729289095848799, 0.082917720079422, 0.003816945943981409, -0.02334853820502758, -0.02117629162967205, 0.018197212368249893, -0.011537727899849415, -0.018271690234541893, 0.07388117909431458, -0.00290305120870471, -0.030734173953533173, 0.013356207869946957, 0.0214493740350008, 0.006951186340302229, -0.022218970581889153, -0.0031063114292919636, -0.008297978900372982, 0.000780068919993937, 0.07869736105203629, 0.02542148157954216, -0.026315204799175262, 0.013244492001831532, -0.0012893829261884093, 0.009564087726175785, -0.0018293411703780293, -0.004422071389853954, 0.048310745507478714, -0.06881674379110336, 0.00463929632678628, -0.011407393030822277, -0.02993975207209587, -0.013145189732313156, 0.052878666669130325, 0.004521374125033617, -0.07780363410711288, 0.03296848386526108, 0.08733668923377991, -0.006373989395797253, 0.0415581651031971, -0.019438495859503746, -0.003993828780949116, 0.051885638386011124, 0.09115984290838242, 0.007627685554325581, -0.011084659956395626, 0.04694533348083496, 0.03649372607469559, 0.010873640887439251, -0.008471758104860783, -0.021089402958750725, -0.03716402128338814, -0.03522761911153793, -0.03830600157380104, 0.04242706298828125, 0.026414508000016212, -0.07889596372842789, -0.028152303770184517, 0.0025260113179683685, -0.03344017267227173, -0.011394980363547802, -0.013182428665459156, -0.05397099629044533, 0.014076151885092258, 0.015354674309492111, 0.0014383370289579034, -0.03915007412433624, 0.03862873464822769, -0.0417071171104908, 0.040093448013067245, -0.027928873896598816, -0.023087868466973305, -0.01850753277540207, 0.017849653959274292, 0.03713919594883919, -0.01742761768400669, -0.019239891320466995, -0.01264867652207613, 0.028326084837317467, -0.009191702120006084, -0.028698468580842018, -0.009942678734660149, 0.060673926025629044, 0.04148368537425995, -0.01127705816179514, 0.023385776206851006, 0.010135077871382236, 0.0003000414289999753, -0.017440030351281166, 0.04242706298828125, 0.0003975985455326736, 0.05531158298254013, -0.01623598486185074, 0.02322440966963768, -0.05372273921966553, -0.004853417631238699, 0.03622064366936684, -0.02277754805982113, -0.01133912242949009, 0.030535567551851273, -0.004270014353096485, -0.035600002855062485, -0.01708005741238594, -0.013219666667282581, 0.014088564552366734, -0.044115208089351654, -0.05362343788146973, -0.023634033277630806, 0.004304149653762579, -0.027134452015161514, -0.015789123252034187, -0.04662260040640831, -0.02310028113424778, 0.005290969740599394, 0.003515934804454446, 0.007844910025596619, 0.031752027571201324, 0.02907085418701172, 0.004527580458670855, 0.004173814784735441, -0.039845190942287445, -0.006429847329854965, -0.0019426082726567984, -0.02979079820215702, -0.0032490589655935764, -0.048211440443992615, 0.012543166987597942, 0.01955021172761917, 0.012226640246808529, 0.030485916882753372, 0.01678214967250824, 0.028127478435635567, -0.0204811729490757, 0.018644073978066444, 0.048559002578258514, 0.006783613003790379, 0.05431855469942093, -0.0413595587015152, -0.015267783775925636, 0.0014895398635417223, -0.048583827912807465, -0.03001422993838787, -0.01510641723871231, -0.0006377092795446515, 0.02902120165526867, 0.010972944088280201, -0.02909567952156067, 0.035823434591293335, 0.01498228870332241, 0.01690627820789814, -0.01900404691696167, -0.012567993253469467, 0.04605161026120186, -0.0858471468091011, -0.0021039750427007675, -0.023460254073143005, 0.035351745784282684, 0.03875286504626274, -0.01675732433795929, -0.01705523207783699, 0.0026004884857684374, -0.06832022964954376, 0.018817855045199394, 0.028475038707256317, 0.0025089439004659653, 0.02571938931941986, -0.014299582690000534, -0.011289470829069614, -0.03696541488170624, 0.019512973725795746, 0.01485816016793251, -0.013654115609824657, 0.015739472582936287, -0.030907953158020973, -0.04905551299452782, -0.011239820159971714, 0.006085391156375408, 0.0027928873896598816, 0.0209280364215374, -0.00754079595208168, -0.03686611354351044, 0.0415581651031971, -0.001321190851740539, 0.03480558097362518, 0.030808649957180023, 0.0029232220258563757, -0.035748958587646484, 0.014287170022726059, -0.04711911082267761, 0.032397493720054626, -0.010234380140900612, -0.05585774779319763, -0.022218970581889153, 0.0035097284708172083, -0.052680060267448425, -0.02986527606844902, -0.028226781636476517, -0.014138216152787209, -0.020220505073666573, 0.011208787560462952, 0.040018972009420395, -0.0030194215942174196, 0.026861369609832764, 0.01883026771247387, 0.020816320553421974, -0.02107699029147625, -0.03445802256464958, 0.0024003314319998026, -0.040043797343969345, -0.004943410400301218, -0.031354814767837524, 0.006733961869031191, 0.0069573926739394665, -0.02944323979318142, 0.03329121693968773, 0.02912050485610962, 0.024031244218349457, 0.026513811200857162, -0.02399400621652603, 0.0016695259837433696, 0.03455732762813568, 0.009384101256728172, -0.02319958433508873, -0.01480850949883461, 0.03666750714182854, 0.00478825019672513, 0.016298050060868263, -0.04535648971796036, 0.019773641601204872, 0.02596764639019966, -0.012307323515415192, -0.014734032563865185, -0.01640976406633854, -0.02462705969810486, 0.004114854149520397, -0.01188528724014759, 0.01480850949883461, 0.040788568556308746, -0.031950630247592926, 0.043494563549757004, -0.009309624321758747, 0.031007256358861923, -0.018966808915138245, -0.01140118669718504, 0.03296848386526108, -0.010749513283371925, 0.02609177492558956, -0.032000280916690826, 0.004760321229696274, -0.0012374042998999357, 0.015813948586583138, -0.009396513924002647, 0.008012483827769756, 0.012512135319411755, 0.031131384894251823, 0.026538636535406113, 0.0041241636499762535, 0.02312510646879673, -0.0438421256840229, 0.011283264495432377, -0.0017564158188179135, 0.010544701479375362, 0.004462413489818573, -0.03348982334136963, -0.10436709970235825, -0.01680697500705719, -0.052282851189374924, -0.026364857330918312, -0.035798609256744385, 0.011829429306089878, -0.004173814784735441, -0.03463180363178253, -0.01665802113711834, -0.03435872122645378, -0.01449818816035986, -0.02902120165526867, -0.02539665624499321, -0.0016726291505619884, 0.0029046027921140194, 0.0008968271431513131, -0.024962205439805984, 0.0019876048900187016, 0.05367308855056763, -0.012102511711418629, -0.018159974366426468, 0.020344631746411324, 0.032124411314725876, 0.04965132847428322, 0.015776710584759712, 0.0032397492323070765, 0.01233835518360138, -0.012679708190262318, 0.008757253177464008, 0.008285565301775932, -0.01300864852964878, 0.023435428738594055, -0.007726988289505243, -0.007000837475061417, 0.010811577551066875, -0.020158439874649048, 0.043469738215208054, -0.013505161739885807, -0.047888707369565964, 0.0024654988665133715, -0.02267824485898018, -0.013381033204495907, 0.0014352337457239628, -0.026191076263785362, -0.020642541348934174, 0.00410864781588316, 0.031950630247592926, 0.02319958433508873, -0.00821729563176632, -0.021660393103957176, 0.013343795202672482, 0.007453905884176493, -0.03408563882112503, -0.019438495859503746, -0.005477162543684244, -0.007702162489295006, 0.04510823264718056, -0.057148680090904236, 0.0065663885325193405, 0.0006408125045709312, 0.011661856435239315, 0.017390377819538116, 0.031379640102386475, 0.005508194677531719, -0.006796025671064854, -0.008124198764562607, -0.011301884427666664, -0.023509904742240906, -0.011258439160883427, 0.04634951800107956, 0.009464784525334835, 0.00428242702037096, -0.015056765638291836, 0.012431452050805092, -0.02984044887125492, -0.04587782919406891, -0.04525718837976456, -0.01685662753880024, 0.021809346973896027, -0.0104640182107687, -0.03368842601776123, 0.017725525423884392, -0.010041981935501099, 0.010619178414344788, 0.024788426235318184, -0.013778244145214558, 0.005092364735901356, 0.009439959190785885, 0.024118132889270782, 0.019984660670161247, -0.018246863037347794, 0.010048188269138336, -0.014907811768352985, 0.009632358327507973, 0.007124966010451317, 0.007919386960566044, 0.021362485364079475, 0.04977545887231827, 0.015863599255681038, -0.008614505641162395, -0.03865355998277664, 0.021660393103957176, -0.02534700371325016, 0.016099443659186363, -0.04605161026120186, -0.003953487146645784, 0.006467085797339678, -0.007335984148085117, -0.002328957663848996, -0.016471829265356064, 0.02576903998851776, 0.018370991572737694, -0.007218061946332455, 0.04632469266653061, 0.031702373176813126, 0.0416574664413929, -0.012208021245896816, 0.018594423308968544, 0.018259277567267418, -0.02142454870045185, -0.005269247572869062, -0.030734173953533173, -0.008819317445158958, -0.026836544275283813, -0.009675802662968636, 0.024937380105257034, -0.009874408133327961, 0.03497936204075813, 0.024738775566220284, -0.010687449015676975, 0.010668830014765263, -0.013182428665459156, 0.0063615767285227776, -0.008620711974799633, -0.044413115829229355, -0.012176988646388054, 0.0008347629918716848, 0.011630823835730553, 0.005958159454166889, 0.028425386175513268, 0.005185460671782494, -0.0211514662951231, 0.01695592887699604, 0.03301813453435898, -0.010271619074046612, 0.053325530141592026, 0.023956766352057457, 0.007950419560074806, -0.032000280916690826, 0.005433717276901007, -0.0032056139316409826, 0.015391912311315536, 0.043742820620536804, -0.006913947872817516, 0.003276987699791789, 0.0014398886123672128, 0.0006823178846389055, 0.001121033914387226, 0.0025073920842260122, -0.006057462189346552, 0.010358508676290512, 0.0013762727612629533, -0.011661856435239315, 0.0018619248876348138, -0.0012436106335371733, 0.01940125785768032, 0.015007114969193935, 0.017191773280501366, -0.03463180363178253, 0.003491109237074852, 0.006342957261949778, -0.03353947401046753, -0.07313641160726547, 0.04163264110684395, -0.015491215512156487, 0.024428455159068108, -0.008024896495044231, -0.0006318907835520804, 0.027904048562049866, -0.005582671612501144, -0.005917817819863558, -0.006808438804000616, -0.013256905600428581, 0.06841953098773956, 0.03339051827788353, 0.007453905884176493, 0.0009115674183703959, -0.00457723205909133, -0.003481799503788352, -0.013021061196923256, 0.00016388818039558828, -0.048981036990880966, -0.008291772566735744, -0.00650432426482439, -0.012574199587106705, -0.05032162368297577, 0.006901534739881754, -0.010296444408595562, -0.07363292574882507, 0.03031213767826557, 0.0029449444264173508, -0.02584351785480976, 0.023410601541399956, 0.00023332246928475797, 0.00423898221924901, 0.0037269529420882463, 0.035500701516866684, 0.01294658426195383, 0.03299330919981003, -0.024378802627325058, 0.0024561891332268715, 0.011997003108263016, 0.04317183047533035, -0.004304149653762579, -0.02319958433508873, 0.004121060483157635, 0.015466389246284962, -0.01271074078977108, -0.0071622044779360294, 0.002271548379212618, -0.019823294132947922, -0.012487309984862804, -0.013194841332733631, 0.02934393659234047, 0.008757253177464008, -0.004462413489818573, -0.009148257784545422, 0.03753640502691269, -0.009874408133327961, 0.012245259247720242, -0.0011714610736817122, 0.03281952813267708, 0.0005294848815537989, 2.0134486476308666e-05, -0.0033142264001071453, 0.002934083342552185, 0.013815483078360558, -0.0106377974152565, 0.04704463481903076, -0.008093167096376419, -0.006733961869031191, 0.0205060001462698, -0.006479498464614153, -0.008093167096376419, 0.0004829367680940777, -0.010346096009016037, -0.02322440966963768, 0.014361646957695484, 0.024515343829989433, 0.005039609968662262, -0.012307323515415192, -0.036319948732852936, -0.01747726835310459, -0.014882986433804035, -0.016062205657362938, 0.010147490538656712, -0.01925230398774147, -0.015739472582936287, -0.004198640584945679, -0.004428278189152479, -0.0016664228169247508, -0.009582706727087498, 0.000988371786661446, -0.012301117181777954, 0.003962796647101641, -0.016819387674331665, 0.021238356828689575, -0.02609177492558956, 0.010718480683863163, -0.022492052987217903, -0.0855492427945137, -0.006839470937848091, -0.004496548790484667, 0.040589962154626846, 0.025086333975195885, 0.031032081693410873, -0.002093113958835602, 0.019140588119626045, 0.022492052987217903, -0.027109626680612564, 0.011854255571961403, -0.024167785421013832, 0.027630966156721115, 0.019823294132947922, -0.004847211297601461, -0.05183598771691322, -0.0030566600617021322, 0.01282245572656393, -0.005747141316533089, -0.005666458047926426, -0.004158298950642347, -0.013207254000008106, -0.005623013246804476, 0.01735313981771469, 0.006228138692677021, -0.015553278848528862, -0.009669596329331398, 0.013641702942550182, 0.019972248002886772, -0.0011536176316440105, 0.021685218438506126, -0.017824826762080193, -0.0210521649569273, 0.06688034534454346, -0.02492496743798256, -0.032049935311079025, -0.003264575032517314, -0.010842609219253063, -0.006333647761493921, -0.03780948743224144, -0.022963739931583405, -0.05620530620217323, 0.018259277567267418, 0.019786054268479347, 0.028574340045452118, -0.03872803598642349, 0.00595505628734827, 0.03924937546253204, 0.03438354656100273, 0.027432359755039215, 0.027308231219649315, 0.0411113016307354, -0.017514506354928017, 0.0001671853387961164, -0.011469457298517227, 0.028574340045452118, 0.007180823478847742, -0.020394284278154373, 0.009222734719514847, -0.04612608626484871, -0.02576903998851776, 0.02172245644032955, -0.0035811022389680147, -0.036394424736499786, -0.0032925037667155266, -0.01492022443562746, -0.0408630445599556, -0.007944213226437569, 0.011804603971540928, -0.039522457867860794, -0.004685844294726849, 0.05963124707341194, -0.0033918065018951893, 0.014125803485512733, -0.0061133201234042645, 0.003016318427398801, 0.0015966006321832538, 0.008980683982372284, -0.019761228933930397, -0.004024860914796591, -0.019860532134771347, -0.02966666966676712, 0.015156068839132786, -0.026985498145222664, 0.004636193159967661, -0.0103026507422328, 0.022914089262485504, -0.027308231219649315, -0.0028766740579158068, -0.0033545680344104767, 0.009446165524423122, -0.035500701516866684, 0.05511297658085823, -0.011481869965791702, -0.005483368877321482, -0.015925664454698563, 0.009657183662056923, -0.010346096009016037, -0.001142756431363523, -0.012350768782198429, -0.05153807997703552, -0.007441493216902018, -0.004055893048644066, -0.036170993000268936, 0.011121897958219051, -0.02902120165526867, -0.0003091570979449898, 0.039497632533311844, 0.05441785976290703, 0.030510742217302322, 0.03468145430088043, 0.021486613899469376, 0.01730348914861679, 0.027134452015161514, 0.05377238988876343, 0.022541703656315804, -0.016720086336135864, -0.003934868145734072, -0.0018433056538924575, -0.017340727150440216, -0.028623992577195168, -0.0017502093687653542, -0.030510742217302322, -0.013505161739885807, -0.0009526849025860429, -0.03823152557015419, 0.030982431024312973, 0.040341705083847046, -0.028301257640123367, 0.00737322261556983, -0.0003231215523555875, -0.005942643620073795, 0.019165413454174995, 0.0075656212866306305, 0.005998501554131508, -0.03835565224289894, -0.04778940603137016, 0.04297322779893875, -0.052680060267448425, 0.014361646957695484, 0.001697454834356904, 0.006228138692677021, 0.01443612389266491, -0.007789052557200193, -0.036295123398303986, 0.006671897601336241, -0.008161437697708607, -0.020791495218873024, 0.003742469009011984, -0.018668899312615395, 0.010358508676290512, -0.031379640102386475, -0.0021474200766533613, 0.04739219322800636, 0.012139750644564629, -0.014026501215994358, -0.00407140888273716, -0.01863166131079197, -0.0016183230327442288, 0.030734173953533173, 0.06494393944740295, -0.007118759676814079, 0.00924135372042656, -0.026439333334565163, 0.00570059334859252, 0.012704534456133842, 0.009191702120006084, -0.01040195394307375, -0.026141425594687462, -0.03753640502691269, -0.010780544951558113, -0.015528453513979912, 0.028251606971025467, 0.028177129104733467, -0.039497632533311844, -0.0027013428043574095, 0.0065477690659463406, 0.008161437697708607, 0.012536960653960705, 0.012468690052628517, 0.008031102828681469, -0.01304588746279478, -0.005933334119617939, 0.015453976579010487, 0.021846584975719452, 0.01698075421154499, -0.013232079334557056, 0.006851883605122566, 0.026141425594687462, 0.015453976579010487, 0.022243795916438103, 0.020195677876472473, -0.0011784433154389262, 0.019637100398540497, -0.017675872892141342, 0.040093448013067245, 0.016670433804392815, 0.020294981077313423, -0.017874479293823242, -0.020717017352581024, 0.0011683579068630934, -0.020940449088811874, -0.026191076263785362, 0.009526848793029785, -0.007857322692871094, -0.027755092829465866, 0.023609207943081856, -0.028574340045452118, -0.015578105114400387, -0.0069884248077869415, -0.017067644745111465, -0.03463180363178253, -0.003565586172044277, 0.01636011339724064, 0.00512650003656745, -0.03348982334136963, 0.008589680306613445, 0.0035593798384070396, -0.04644881933927536, -0.03403598815202713, -0.015118829905986786, -0.05958159640431404, -0.02537182904779911, 0.052928317338228226, -0.005591981112957001, -0.004012448247522116, 0.03736262768507004, -0.012996235862374306, -0.008701395243406296, -0.0022653420455753803, 0.04930377006530762, -0.01447336282581091, -0.003981416113674641, -0.02919498272240162, -0.0214742012321949, -0.00544302724301815, 0.012034241110086441, -0.0009682009695097804, 0.001072934246622026, 0.021536264568567276, 0.035624828189611435, 0.02584351785480976, -0.011835635639727116, -0.031975455582141876, -0.024254674091935158, 0.007292539346963167, 0.028152303770184517, 0.008167644031345844, 0.03490488603711128, -0.018073083832859993, 0.000957339711021632, 0.010035775601863861, 0.003208717331290245, -0.0003923618933185935, 0.010259206406772137, -0.0039969319477677345, -0.015131242573261261, 0.013505161739885807, -0.0015880668070167303, 0.002564801601693034, -0.006926360540091991, 8.388359674427193e-06, -0.04595230519771576, 0.0035097284708172083, -0.0011675821151584387, -0.001061297138221562, -0.011140516959130764, 0.031056907027959824, -0.011388774029910564, -0.02319958433508873, -0.008149025030434132, -0.014138216152787209, 0.0424022376537323, -0.002237413078546524, -0.008999303914606571, -0.030535567551851273, -0.0067215487360954285, -0.024378802627325058, 0.005498884711414576, 0.02934393659234047, -0.018470294773578644, -0.00878828577697277, -0.0416574664413929, -0.007013250607997179, 0.010966737754642963, 0.04652329534292221, -0.040565136820077896, -0.024788426235318184, 0.024353977292776108, -0.004018654581159353, 0.008775872178375721, 0.03810739517211914, 0.01186046190559864, 0.007187030278146267, 0.010972944088280201, -0.014150628820061684, 0.004409658722579479, 0.02601729705929756, 0.009961297735571861, -0.023857465013861656, 0.005660251714289188, 0.0003815006639342755, 0.013269318267703056, 0.0023444737307727337, 0.0009852686198428273, -0.035053838044404984, 0.010420572943985462, -0.03252162039279938, 0.013952024281024933, 0.00939030759036541, 0.003925558179616928, -0.009520642459392548, -0.019823294132947922, 0.0012048205826431513, 0.011146723292768002, -0.0022048293612897396, -0.005725419148802757, 0.01890474371612072, 0.0007913180743344128, -0.010997769422829151, -0.01757657155394554, 0.01456025242805481, 0.018135149031877518, 0.004446897190064192, -0.032099585980176926, 0.01655871793627739, -0.012493516318500042, 0.01890474371612072, 0.024639472365379333, 0.04088786989450455, 0.01073710061609745, 0.007677337154746056, 0.022132080048322678, 0.01860683597624302, -0.02599247172474861, 0.024664297699928284, 0.02334853820502758, 0.039820365607738495, 0.027953699231147766, 0.027804745361208916, -0.004037273582071066, -0.008974477648735046, -0.012195607647299767, 0.0053592403419315815, 0.017762763425707817, 0.002242067828774452, 0.02998940274119377, -0.022839611396193504, -0.013219666667282581, -0.0005240542814135551, 0.09115984290838242, -0.03748675435781479, -0.005433717276901007, -0.028127478435635567, -0.009924059733748436, -0.03403598815202713, -0.021858997642993927, 0.03870321065187454, 0.0027013428043574095, -0.02917015738785267, 0.015640169382095337, -0.015466389246284962, -0.006116423290222883, 0.03522761911153793, 0.009526848793029785, -0.0212259441614151, 0.0039658998139202595, -0.005120293237268925, -0.0019612275063991547, 0.0210273377597332, -0.0005430614110082388, 0.010104045271873474, -0.006405021529644728, 0.016422176733613014, -0.013219666667282581, -0.02386987768113613, 0.009222734719514847, -0.011841841973364353, 0.031081732362508774, 0.005176151171326637, 0.008900000713765621, -0.022454814985394478, -0.01712970808148384, 0.0054368204437196255, -0.007044282276183367, -0.015168481506407261, 0.010408160276710987, 0.011668062768876553, 0.011190168559551239, 0.009142051450908184, 0.04327113553881645, 0.022665832191705704, 0.0017300385516136885, 0.00231964816339314, -0.012325942516326904, 0.03470627963542938, -0.013778244145214558, 0.019264716655015945, 0.00242515723221004, -0.0031187240965664387, -0.031627897173166275, -0.027829570695757866, 0.02956736646592617, -0.01277280505746603, -0.01495746336877346, -0.003984519280493259, 0.011084659956395626, 0.056552864611148834, 0.027382709085941315, -0.017824826762080193, -0.028623992577195168, -0.044537242501974106, -0.02574421465396881, 0.019835706800222397, 0.036295123398303986, -0.017291076481342316, -0.01279763039201498, 0.014485775493085384, -0.0060636685229837894, -0.0029325317591428757, -0.010755719617009163, 0.02527252770960331, -0.0029837347101420164, 0.03356429934501648, -0.011332916095852852, 0.005784379784017801, -0.013381033204495907, 0.026836544275283813, -0.0078014652244746685, 0.014361646957695484, -0.010153696872293949, -0.020965274423360825, -0.019289541989564896, 0.039472807198762894, 0.017936542630195618, -0.008974477648735046, 0.031876154243946075, 0.006827057804912329, -0.008211088366806507, 0.013517574407160282, -0.008254533633589745, -0.004772733896970749, 0.007180823478847742, 0.02926945872604847, 0.01186046190559864, -0.007199442945420742, -0.026762066408991814, -0.0019053698051720858, 0.014907811768352985, 0.01915300078690052, -0.014945050701498985, 0.04332078620791435, 0.015317435376346111, -0.023236822336912155, 0.036543380469083786, 0.0016803871840238571, 0.017588984221220016, -0.05610600486397743, -0.013182428665459156, -0.019984660670161247, 0.006429847329854965, 0.02996457740664482, -0.010730893351137638, -0.010060600936412811, 0.019637100398540497, 0.053176574409008026, -0.007168410811573267, -0.044586893171072006, 0.018184799700975418, -0.03855425864458084, 0.01186046190559864, 0.000460438517620787, -0.009632358327507973, -0.020865971222519875, -0.03368842601776123, -0.031900979578495026, 0.015714645385742188, -0.011959764175117016, -0.005920920986682177, -0.0022436194121837616, -0.009893027134239674, 0.018321340903639793, 0.02949289046227932, -0.003804533276706934, 0.04317183047533035, 0.02557043544948101, -0.011432218365371227, 0.013529987074434757, 0.057794149965047836, 0.003515934804454446, -0.015876013785600662, -0.027432359755039215, -0.0414092093706131, -0.03840530291199684, 0.0044686198234558105, -0.01957503706216812, 0.00231964816339314, -0.014510600827634335, 0.0009371688356623054, -0.022516878321766853, -0.0003632692969404161, 0.01285969465970993, 0.04781423136591911, 0.02377057448029518, 0.025135986506938934, 0.0027618552558124065, -0.018743377178907394, 0.026687590405344963, -0.03003905527293682, -0.005542329978197813, 0.0008913965430110693, 0.011016389355063438, -0.031429290771484375, -0.004561715759336948, 0.0068022324703633785, -0.010197142139077187, -0.00957650039345026, -0.028276432305574417, -0.040242403745651245, 0.02611660026013851, 0.00972545426338911, -0.031081732362508774, 0.0038231525104492903, -0.02554561011493206, -0.028524689376354218, -0.0027789229061454535, -0.01127705816179514, -0.03674198314547539, -0.021871410310268402, 0.007385635282844305, -0.03438354656100273, -0.052977968007326126, 0.026737241074442863, 0.006684310268610716, -0.009973711334168911, 0.0008626918424852192, 0.007509763818234205, 0.003398012835532427, 0.028797771781682968, 0.0030783824622631073, -0.007795258890837431, -0.011568759568035603, 0.04654812067747116, 0.00407140888273716, 0.011382567696273327, 0.03450767323374748, 0.012487309984862804, -0.03353947401046753, -0.00018939266738016158, 0.031007256358861923, -0.04123542830348015, -0.03438354656100273, 0.024490518495440483, -0.011165343225002289, 0.0014895398635417223, 0.022318273782730103, 0.02497461996972561, 0.03289400786161423, -0.00866415724158287, 0.04252636432647705, -0.030237659811973572, -0.014200280420482159, -0.008769665844738483, 0.01722901128232479, 0.0003504685591906309, 0.02902120165526867, -0.000741278869099915, 0.02559526078402996, -0.020841145887970924, 0.028772946447134018, 0.03386220708489418, -0.0012017172994092107, -0.017899304628372192, 0.028574340045452118, 0.02931911125779152, 0.04543096572160721, 0.03435872122645378, 0.008279358968138695, -0.006647071801126003, 0.01464714203029871, -0.028152303770184517, -0.0209776870906353, 0.020009486004710197, -0.01643459126353264, 0.023460254073143005, 0.00847796443849802, -0.011047421023249626, -0.015925664454698563, -0.028425386175513268, -0.0026641041040420532, 0.006082287989556789, -0.008614505641162395, 0.006640865467488766, 0.014696793630719185, -0.0211514662951231, 0.05769484490156174, 0.03902594745159149, -0.0012901588343083858, -0.02391952835023403, 0.009024129249155521, 0.011134310625493526, 0.05883682519197464, -0.0038014298770576715, -0.02557043544948101, -0.005616806913167238, -0.004809972830116749, 0.004819282330572605, -0.03641925007104874, -0.030336963012814522, 0.024105720221996307, -0.013616877608001232, 0.008223501965403557, 0.025061508640646935, 0.014163042418658733, -0.011618411168456078, -0.015367086976766586, -0.036270298063755035, 0.03336569294333458, -0.002729271538555622, -0.0059395404532551765, -0.002314993180334568, 0.0014018742367625237, 0.02100251242518425, -0.0036152375396341085, 0.014113390818238258, 0.0212259441614151, 0.0031761336140334606, -0.008527616038918495, 0.007199442945420742, 0.024130547419190407, 0.016037380322813988, -0.01863166131079197, 0.030485916882753372, -0.008360043168067932, -0.0418064184486866, -0.000741278869099915, -0.005219595972448587, 0.013331382535398006, -0.0036741984076797962, 0.00847796443849802, 0.017390377819538116, 0.05471576750278473, -0.0008417452336288989, -0.005027197301387787, 0.0011093969224020839, -0.022281033918261528, -0.024304326623678207, -0.017737938091158867, 0.015255371108651161, -0.026662765070796013, 0.018420644104480743, 0.000827004958409816, -0.019748816266655922, 0.02912050485610962, 0.024502931162714958, 0.020865971222519875, -0.026364857330918312, -0.026935847476124763, 0.027233755216002464, -0.00878828577697277, -0.0044065555557608604, 0.004161402117460966, 0.010358508676290512, 0.03334086760878563, 0.02601729705929756, -0.0010333682876080275, -0.00478825019672513, 0.026960672810673714, -0.026811718940734863, 0.02884742245078087, -0.009657183662056923, 0.009936472401022911, 0.03316709026694298, -0.0013305004686117172, -0.008260739967226982, -0.001584187732078135, -0.012574199587106705, 0.018395818769931793, 0.020257743075489998, -0.023187171667814255, -0.004508961457759142, -0.022268621250987053, -0.009924059733748436, 0.006597420666366816, -0.017526919022202492, 0.011574966832995415, 0.002314993180334568, -0.013616877608001232, -0.012481102719902992, -0.02324923500418663, 0.022206557914614677, -0.014001674950122833, 0.04133473336696625, -0.015615343116223812, -0.008999303914606571, 0.016322875395417213, -0.003317329566925764, 0.011233613826334476, -0.022765135392546654, -0.023509904742240906, 0.017464855685830116, 0.018011020496487617, -0.013480336405336857, 0.030758999288082123, 0.04622538760304451, -0.002533769467845559, -0.006845677271485329, -0.028648817911744118, 0.009359275922179222, 0.024478105828166008, -0.02961701899766922, -0.012332148849964142, -0.03833082690834999, 0.004571025725454092, 1.575847818457987e-05, 0.01163703016936779, 0.02549595758318901, -0.03882734104990959, 0.009470990858972073, -0.016198746860027313, 0.02991492673754692, 0.007050489075481892, -0.002446879632771015, 0.008484170772135258, -0.04699498414993286, -0.06429847329854965, 0.030734173953533173, 0.011934938840568066, -0.005936437286436558, -0.032372668385505676, 0.024192610755562782, 0.007609066553413868, 0.01631046272814274, 0.006541562732309103, 0.024838078767061234, -0.011171549558639526, -0.03011353127658367, 0.0215735025703907, -0.022045191377401352]'}, page_content='Quasars and the Intergalactic Medium at Cosmic Dawn Xiaohui Fan,1 Eduardo Ba˜ nados,2 and Robert A. Simcoe3 1Steward Observatory, University of Arizona, 933 North Cherry Avenue, Tucson, AZ 85721, USA; email: xfan@arizona.edu 2Max-Planck-Institut f¨ ur Astronomie, K¨ onigstuhl 17, D-69117 Heidelberg, Germany; email: banados@mpia.de 3MIT Kavli Institute for Astrophysics and Space Research, 77 Massachusetts Ave., Cambridge, MA 02139, USA; email: simcoe@space.mit.edu Annual Review of Astronomy and Astrophysics 2023. AA:1–58 https://doi.org/10.1146/((please add article doi)) Copyright © 2023 by the author(s). All rights reserved Keywords quasar, supermassive black hole, galaxy evolution, cosmic reionization Abstract Quasars at cosmic dawn provide powerful probes of the formation and growth of the earliest supermassive black holes (SMBHs) in the uni- verse, their connections to galaxy and structure formation, and the evolution of the intergalactic medium (IGM) at the epoch of reioniza- tion (EoR). Hundreds of quasars have been discovered in the ﬁrst billion years of cosmic history, with the quasar redshift frontier extended to z∼7.6. Observations of quasars at cosmic dawn show that: • The number density of luminous quasars declines exponentially at z >5, suggesting that the earliest quasars emerge at z ∼10; the lack of strong evolution in their average spectral energy distribution indicates a rapid buildup of the AGN environment. • Billion-solar-mass BHs already exist at z >7.5; they must form and grow in less than 700 Myr, by a combination of massive early BH seeds with highly eﬃcient and sustained accretion. • The rapid quasar growth is accompanied by strong star formation and feedback activity in their host galaxies, which show diverse mor- phological and kinetic properties, with typical dynamical mass of lower than that implied by the local BH/galaxy scaling relations. • HI absorption in quasar spectra probes the tail end of cosmic reionization at z ∼ 5.3 −6, and indicates the EoR midpoint at 6.9 < z <7.6, with large spatial ﬂuctuations in IGM ionization. Observations of heavy element absorption lines suggest that the circumgalactic medium also experiences evolution in its ionization structure and metal enrichment during the EoR. 1 arXiv:2212.06907v1 [astro-ph.GA] 13 Dec 2022 Contents 1. Introduction .................................................................................................. 2 2. THE QUASAR REDSHIFT FRONTIER ..................................................................... 4 2.1. Progress in High-Redshift Quasar Surveys.............................................................. 4 2.2. Optimization of Photometric Selection of High-Redshift Quasars ..................................... 7 2.3. A Database of z >5.3 Quasars......................................................................... 9 2.4. Future')]"
      ]
     },
     "execution_count": 25,
     "metadata": {},
     "output_type": "execute_result"
    }
   ],
   "source": [
    "docs"
   ]
  },
  {
   "cell_type": "code",
   "execution_count": 26,
   "metadata": {},
   "outputs": [],
   "source": [
    "# Create retriever from database\n",
    "# We specify the number of results we want to retrieve (k=3)\n",
    "retriever = db.as_retriever(\n",
    "    search_kwargs={\"k\": 3}\n",
    "    )\n"
   ]
  },
  {
   "cell_type": "code",
   "execution_count": 27,
   "metadata": {},
   "outputs": [],
   "source": [
    "llm = ChatOpenAI(temperature = 0.0, model = 'gpt-3.5-turbo-16k')\n"
   ]
  },
  {
   "cell_type": "code",
   "execution_count": 28,
   "metadata": {},
   "outputs": [],
   "source": [
    "from langchain.chains import RetrievalQA\n",
    "qa_stuff = RetrievalQA.from_chain_type(\n",
    "    llm=llm, \n",
    "    chain_type=\"stuff\", \n",
    "    retriever=retriever,\n",
    "    verbose=True,\n",
    ")\n"
   ]
  },
  {
   "cell_type": "code",
   "execution_count": 29,
   "metadata": {},
   "outputs": [
    {
     "name": "stderr",
     "output_type": "stream",
     "text": [
      "/var/folders/qx/bpj16cl90cq20swjd4j79cdh0000gn/T/ipykernel_40666/27716869.py:3: LangChainDeprecationWarning: The method `Chain.run` was deprecated in langchain 0.1.0 and will be removed in 1.0. Use :meth:`~invoke` instead.\n",
      "  response = qa_stuff.run(query)\n"
     ]
    },
    {
     "name": "stdout",
     "output_type": "stream",
     "text": [
      "\n",
      "\n",
      "\u001b[1m> Entering new RetrievalQA chain...\u001b[0m\n",
      "\n",
      "\u001b[1m> Finished chain.\u001b[0m\n"
     ]
    },
    {
     "data": {
      "text/markdown": [
       "A quasar, short for \"quasi-stellar radio source,\" is a highly energetic and luminous object that is powered by the accretion of matter onto a supermassive black hole at the center of a galaxy. Quasars are the most luminous objects in the universe and emit vast amounts of energy across the electromagnetic spectrum, from radio waves to X-rays. They are typically found in the early universe and provide valuable insights into the formation and evolution of galaxies, as well as the intergalactic medium."
      ],
      "text/plain": [
       "<IPython.core.display.Markdown object>"
      ]
     },
     "metadata": {},
     "output_type": "display_data"
    }
   ],
   "source": [
    "query =  \"What is a quasar?\"\n",
    "\n",
    "response = qa_stuff.run(query)\n",
    "\n",
    "from IPython.display import Markdown, display\n",
    "display(Markdown(response))\n"
   ]
  },
  {
   "cell_type": "code",
   "execution_count": null,
   "metadata": {},
   "outputs": [],
   "source": [
    "# New chain to return context and sources\n",
    "qa_stuff_with_sources = RetrievalQA.from_chain_type(\n",
    "    llm=llm, \n",
    "    chain_type=\"stuff\", \n",
    "    retriever=retriever,\n",
    "    return_source_documents=True,\n",
    "    verbose=True,\n",
    ")\n",
    "\n",
    "query =  \"What is the evidence for an enhanced accretion episode from Sgr A* in 2019?\"\n",
    "\n",
    "# To run the query, we use a different syntax since we're returning more than just the response text\n",
    "responses = qa_stuff_with_sources({\"query\": query})\n"
   ]
  },
  {
   "cell_type": "code",
   "execution_count": null,
   "metadata": {},
   "outputs": [],
   "source": [
    "source_documents = responses[\"source_documents\"]\n",
    "source_content = [doc.page_content for doc in source_documents]\n",
    "source_metadata = [doc.metadata for doc in source_documents]\n",
    "\n",
    "# Construct a single string with the LLM output and the source titles and urls\n",
    "def construct_result_with_sources():\n",
    "    result = responses['result']\n",
    "    result += \"\\n\\n\"\n",
    "    result += \"Sources used:\"\n",
    "    for i in range(len(source_content)):    \n",
    "        result += \"\\n\\n\"\n",
    "        result += source_metadata[i]['title']\n",
    "        result += \"\\n\\n\"\n",
    "        return result\n",
    "\n",
    "display(Markdown(construct_result_with_sources()))\n"
   ]
  },
  {
   "cell_type": "code",
   "execution_count": null,
   "metadata": {},
   "outputs": [],
   "source": []
  },
  {
   "cell_type": "code",
   "execution_count": null,
   "metadata": {},
   "outputs": [],
   "source": []
  },
  {
   "cell_type": "code",
   "execution_count": null,
   "metadata": {},
   "outputs": [],
   "source": [
    "query =  \"What distinguishes a quasar from a normal black hole?\"\n",
    "\n",
    "# To run the query, we use a different syntax since we're returning more than just the response text\n",
    "responses = qa_stuff_with_sources({\"query\": query})\n",
    "\n",
    "source_documents = responses[\"source_documents\"]\n",
    "source_content = [doc.page_content for doc in source_documents]\n",
    "source_metadata = [doc.metadata for doc in source_documents]\n",
    "\n",
    "# Construct a single string with the LLM output and the source titles and urls\n",
    "def construct_result_with_sources():\n",
    "    result = responses['result']\n",
    "    result += \"\\n\\n\"\n",
    "    result += \"Sources used:\"\n",
    "    for i in range(len(source_content)):    \n",
    "        result += \"\\n\\n\"\n",
    "        result += source_metadata[i]['title']\n",
    "        result += \"\\n\\n\"\n",
    "        return result\n",
    "\n",
    "display(Markdown(construct_result_with_sources()))\n"
   ]
  },
  {
   "cell_type": "code",
   "execution_count": null,
   "metadata": {},
   "outputs": [],
   "source": []
  },
  {
   "cell_type": "code",
   "execution_count": null,
   "metadata": {},
   "outputs": [],
   "source": []
  },
  {
   "cell_type": "code",
   "execution_count": null,
   "metadata": {},
   "outputs": [],
   "source": [
    "# db = PGVector.from_documents(\n",
    "#     embedding=embeddings,\n",
    "#     documents=docs,\n",
    "#     collection_name=collection_name,\n",
    "#     connection_string=CONNECTION_STRING,\n",
    "#     pre_delete_collection=False,\n",
    "# )\n"
   ]
  },
  {
   "cell_type": "code",
   "execution_count": 6,
   "metadata": {},
   "outputs": [],
   "source": [
    "from langchain_openai.embeddings import OpenAIEmbeddings\n",
    "embeddings = OpenAIEmbeddings()\n",
    "\n",
    "store = PGVector(\n",
    "    collection_name=collection_name,\n",
    "    connection_string=CONNECTION_STRING,\n",
    "    embedding_function=embeddings,\n",
    ")"
   ]
  },
  {
   "cell_type": "code",
   "execution_count": 14,
   "metadata": {},
   "outputs": [],
   "source": [
    "pdf_texts_df = pd.read_csv('../../data-ingest/data/text/pdf_texts.csv', index_col=0)"
   ]
  },
  {
   "cell_type": "code",
   "execution_count": 16,
   "metadata": {},
   "outputs": [
    {
     "data": {
      "text/plain": [
       "0    Detection of stellar light from quasar host ga...\n",
       "1    Quasars and the\\nIntergalactic Medium at\\nCosm...\n",
       "2    Draft version August 22, 2023\\nTypeset using L...\n",
       "Name: content, dtype: object"
      ]
     },
     "execution_count": 16,
     "metadata": {},
     "output_type": "execute_result"
    }
   ],
   "source": [
    "pdf_texts_df['content']"
   ]
  },
  {
   "cell_type": "code",
   "execution_count": 19,
   "metadata": {},
   "outputs": [
    {
     "data": {
      "text/plain": [
       "['06f9f18a-bfa6-11ee-8a3d-9801a78f9833',\n",
       " '06f9fdf6-bfa6-11ee-8a3d-9801a78f9833',\n",
       " '06f9fee6-bfa6-11ee-8a3d-9801a78f9833']"
      ]
     },
     "execution_count": 19,
     "metadata": {},
     "output_type": "execute_result"
    }
   ],
   "source": [
    "store.add_texts(pdf_texts_df['content'])"
   ]
  },
  {
   "cell_type": "code",
   "execution_count": 20,
   "metadata": {},
   "outputs": [],
   "source": [
    "schema = {\n",
    "    \"properties\": {\n",
    "        \"article_title\": {\"type\": \"string\"},\n",
    "        \"authors\": {\"type\": \"string\"},\n",
    "        \"publish_date\": {\"type\": \"string\"},\n",
    "    },\n",
    "    \"required\": [\"article_title\", \"authors\", \"publish_date\"],\n",
    "}"
   ]
  },
  {
   "cell_type": "code",
   "execution_count": 29,
   "metadata": {},
   "outputs": [
    {
     "data": {
      "text/plain": [
       "['113d7142-bfa8-11ee-8a3d-9801a78f9833',\n",
       " '113d72c8-bfa8-11ee-8a3d-9801a78f9833',\n",
       " '113d7340-bfa8-11ee-8a3d-9801a78f9833']"
      ]
     },
     "execution_count": 29,
     "metadata": {},
     "output_type": "execute_result"
    }
   ],
   "source": [
    "store.add_texts(pdf_texts_df['content'], metadatas=schema)"
   ]
  },
  {
   "cell_type": "code",
   "execution_count": 26,
   "metadata": {},
   "outputs": [],
   "source": [
    "store.delete_collection()"
   ]
  },
  {
   "cell_type": "code",
   "execution_count": null,
   "metadata": {},
   "outputs": [],
   "source": [
    "store"
   ]
  },
  {
   "cell_type": "code",
   "execution_count": null,
   "metadata": {},
   "outputs": [],
   "source": [
    "store.add_documents(docs)"
   ]
  },
  {
   "cell_type": "code",
   "execution_count": 7,
   "metadata": {},
   "outputs": [],
   "source": [
    "retriever = store.as_retriever()\n",
    "llm = ChatOpenAI(temperature = 0.0, model = 'gpt-3.5-turbo-16k')\n"
   ]
  },
  {
   "cell_type": "code",
   "execution_count": 8,
   "metadata": {},
   "outputs": [
    {
     "name": "stderr",
     "output_type": "stream",
     "text": [
      "/Users/dangause/anaconda3/envs/langchain/lib/python3.12/site-packages/langchain_core/_api/deprecation.py:117: LangChainDeprecationWarning: The function `__call__` was deprecated in LangChain 0.1.0 and will be removed in 0.2.0. Use invoke instead.\n",
      "  warn_deprecated(\n"
     ]
    },
    {
     "name": "stdout",
     "output_type": "stream",
     "text": [
      "\n",
      "\n",
      "\u001b[1m> Entering new RetrievalQA chain...\u001b[0m\n",
      "\n",
      "\u001b[1m> Finished chain.\u001b[0m\n"
     ]
    }
   ],
   "source": [
    "# New chain to return context and sources\n",
    "qa_stuff_with_sources = RetrievalQA.from_chain_type(\n",
    "    llm=llm, \n",
    "    chain_type=\"stuff\", \n",
    "    retriever=retriever,\n",
    "    return_source_documents=True,\n",
    "    verbose=True,\n",
    ")\n",
    "\n",
    "query =  \"How does a quasar die?\"\n",
    "\n",
    "# To run the query, we use a different syntax since we're returning more than just the response text\n",
    "responses = qa_stuff_with_sources({\"query\": query})\n"
   ]
  },
  {
   "cell_type": "code",
   "execution_count": 9,
   "metadata": {},
   "outputs": [
    {
     "data": {
      "text/markdown": [
       "The exact process of how a quasar dies is not yet fully understood. Quasars are powered by the accretion of matter onto supermassive black holes at the centers of galaxies. This accretion process releases a tremendous amount of energy, causing the quasar to shine brightly. However, quasars are not expected to accrete matter at a constant rate throughout their entire lifetime. Instead, they are believed to exhibit a flickering light curve, with episodes of high and low/no accretion.\n",
       "\n",
       "As a quasar transitions from an active phase to a quiescent phase, its accretion rate decreases, and it gradually fades away. The exact mechanisms that regulate the accretion process and determine the lifetime of a quasar are still the subject of ongoing research. It is possible that factors such as the availability of gas and the dynamics of the surrounding environment play a role in the quasar's demise.\n",
       "\n",
       "Additionally, it is important to note that the term \"quasar\" is often used to refer to the active phase of a supermassive black hole, while the term \"inactive\" or \"dormant\" black hole is used to describe the quiescent phase. During the quiescent phase, the black hole may still exist, but it is not actively accreting matter and therefore does not emit significant amounts of radiation.\n",
       "\n",
       "Sources used:\n",
       "\n",
       "chronicling the reionization history at  6 lesssim z  lesssim 7  with   emergent quasar damping wings\n",
       "\n"
      ],
      "text/plain": [
       "<IPython.core.display.Markdown object>"
      ]
     },
     "metadata": {},
     "output_type": "display_data"
    }
   ],
   "source": [
    "source_documents = responses[\"source_documents\"]\n",
    "source_content = [doc.page_content for doc in source_documents]\n",
    "source_metadata = [doc.metadata for doc in source_documents]\n",
    "\n",
    "# Construct a single string with the LLM output and the source titles and urls\n",
    "def construct_result_with_sources():\n",
    "    result = responses['result']\n",
    "    result += \"\\n\\n\"\n",
    "    result += \"Sources used:\"\n",
    "    for i in range(len(source_content)):    \n",
    "        result += \"\\n\\n\"\n",
    "        result += source_metadata[i]['title']\n",
    "        result += \"\\n\\n\"\n",
    "        return result\n",
    "\n",
    "display(Markdown(construct_result_with_sources()))"
   ]
  },
  {
   "cell_type": "code",
   "execution_count": 10,
   "metadata": {},
   "outputs": [
    {
     "data": {
      "text/plain": [
       "'The exact process of how a quasar dies is not yet fully understood. Quasars are powered by the accretion of matter onto supermassive black holes at the centers of galaxies. This accretion process releases a tremendous amount of energy, causing the quasar to shine brightly. However, quasars are not expected to accrete matter at a constant rate throughout their entire lifetime. Instead, they are believed to exhibit a flickering light curve, with episodes of high and low/no accretion.\\n\\nAs a quasar transitions from an active phase to a quiescent phase, its accretion rate decreases, and it gradually fades away. The exact mechanisms that regulate the accretion process and determine the lifetime of a quasar are still the subject of ongoing research. It is possible that factors such as the availability of gas and the dynamics of the surrounding environment play a role in the quasar\\'s demise.\\n\\nAdditionally, it is important to note that the term \"quasar\" is often used to refer to the active phase of a supermassive black hole, while the term \"inactive\" or \"dormant\" black hole is used to describe the quiescent phase. During the quiescent phase, the black hole may still exist, but it is not actively accreting matter and therefore does not emit significant amounts of radiation.\\n\\nSources used:\\n\\nchronicling the reionization history at  6 lesssim z  lesssim 7  with   emergent quasar damping wings\\n\\n'"
      ]
     },
     "execution_count": 10,
     "metadata": {},
     "output_type": "execute_result"
    }
   ],
   "source": [
    "construct_result_with_sources()"
   ]
  },
  {
   "cell_type": "code",
   "execution_count": null,
   "metadata": {},
   "outputs": [],
   "source": []
  },
  {
   "cell_type": "code",
   "execution_count": 11,
   "metadata": {},
   "outputs": [
    {
     "ename": "ModuleNotFoundError",
     "evalue": "No module named 'src'",
     "output_type": "error",
     "traceback": [
      "\u001b[0;31m---------------------------------------------------------------------------\u001b[0m",
      "\u001b[0;31mModuleNotFoundError\u001b[0m                       Traceback (most recent call last)",
      "Cell \u001b[0;32mIn[11], line 1\u001b[0m\n\u001b[0;32m----> 1\u001b[0m \u001b[38;5;28;01mfrom\u001b[39;00m \u001b[38;5;21;01msrc\u001b[39;00m\u001b[38;5;21;01m.\u001b[39;00m\u001b[38;5;21;01mcore\u001b[39;00m\u001b[38;5;21;01m.\u001b[39;00m\u001b[38;5;21;01mutils\u001b[39;00m \u001b[38;5;28;01mimport\u001b[39;00m ask\n",
      "\u001b[0;31mModuleNotFoundError\u001b[0m: No module named 'src'"
     ]
    }
   ],
   "source": []
  },
  {
   "cell_type": "code",
   "execution_count": 18,
   "metadata": {},
   "outputs": [
    {
     "name": "stdout",
     "output_type": "stream",
     "text": [
      "The autoreload extension is already loaded. To reload it, use:\n",
      "  %reload_ext autoreload\n"
     ]
    },
    {
     "ename": "ModuleNotFoundError",
     "evalue": "No module named 'src'",
     "output_type": "error",
     "traceback": [
      "\u001b[0;31m---------------------------------------------------------------------------\u001b[0m",
      "\u001b[0;31mModuleNotFoundError\u001b[0m                       Traceback (most recent call last)",
      "Cell \u001b[0;32mIn[18], line 7\u001b[0m\n\u001b[1;32m      5\u001b[0m module_path \u001b[38;5;241m=\u001b[39m os\u001b[38;5;241m.\u001b[39mpath\u001b[38;5;241m.\u001b[39mabspath(os\u001b[38;5;241m.\u001b[39mpath\u001b[38;5;241m.\u001b[39mjoin(\u001b[38;5;124m'\u001b[39m\u001b[38;5;124m../../src\u001b[39m\u001b[38;5;124m'\u001b[39m)) \u001b[38;5;66;03m# or the path to your source code\u001b[39;00m\n\u001b[1;32m      6\u001b[0m sys\u001b[38;5;241m.\u001b[39mpath\u001b[38;5;241m.\u001b[39minsert(\u001b[38;5;241m0\u001b[39m, module_path)\n\u001b[0;32m----> 7\u001b[0m \u001b[38;5;28;01mimport\u001b[39;00m \u001b[38;5;21;01msrc\u001b[39;00m\n",
      "\u001b[0;31mModuleNotFoundError\u001b[0m: No module named 'src'"
     ]
    }
   ],
   "source": [
    "%load_ext autoreload\n",
    "%autoreload 2\n",
    "import os\n",
    "import sys\n",
    "module_path = os.path.abspath(os.path.join('../../src')) # or the path to your source code\n",
    "sys.path.insert(0, module_path)\n",
    "import src"
   ]
  },
  {
   "cell_type": "code",
   "execution_count": 19,
   "metadata": {},
   "outputs": [],
   "source": [
    "nb_dir = os.path.split(os.getcwd())[0]\n"
   ]
  },
  {
   "cell_type": "code",
   "execution_count": 20,
   "metadata": {},
   "outputs": [
    {
     "data": {
      "text/plain": [
       "'/Users/dangause/Desktop/personal_projects/astro_gpt/astro-buddy/services/gpt-connection'"
      ]
     },
     "execution_count": 20,
     "metadata": {},
     "output_type": "execute_result"
    }
   ],
   "source": [
    "nb_dir"
   ]
  },
  {
   "cell_type": "code",
   "execution_count": 21,
   "metadata": {},
   "outputs": [],
   "source": [
    "if nb_dir not in sys.path:\n",
    "    sys.path.append(nb_dir)"
   ]
  },
  {
   "cell_type": "code",
   "execution_count": 28,
   "metadata": {},
   "outputs": [
    {
     "ename": "ValidationError",
     "evalue": "2 validation errors for Settings\nCORS_ORIGINS\n  Field required [type=missing, input_value={'OPENAI_API_KEY': 'sk-7k..._DB_DBNAME': 'postgres'}, input_type=dict]\n    For further information visit https://errors.pydantic.dev/2.6/v/missing\nCORS_HEADERS\n  Field required [type=missing, input_value={'OPENAI_API_KEY': 'sk-7k..._DB_DBNAME': 'postgres'}, input_type=dict]\n    For further information visit https://errors.pydantic.dev/2.6/v/missing",
     "output_type": "error",
     "traceback": [
      "\u001b[0;31m---------------------------------------------------------------------------\u001b[0m",
      "\u001b[0;31mValidationError\u001b[0m                           Traceback (most recent call last)",
      "Cell \u001b[0;32mIn[28], line 1\u001b[0m\n\u001b[0;32m----> 1\u001b[0m \u001b[38;5;28;01mfrom\u001b[39;00m \u001b[38;5;21;01msrc\u001b[39;00m\u001b[38;5;21;01m.\u001b[39;00m\u001b[38;5;21;01mconfig\u001b[39;00m \u001b[38;5;28;01mimport\u001b[39;00m settings\n",
      "File \u001b[0;32m~/Desktop/personal_projects/astro_gpt/astro-buddy/services/gpt-connection/src/config.py:29\u001b[0m\n\u001b[1;32m     25\u001b[0m         env_file \u001b[38;5;241m=\u001b[39m \u001b[38;5;124mf\u001b[39m\u001b[38;5;124m\"\u001b[39m\u001b[38;5;132;01m{\u001b[39;00mos\u001b[38;5;241m.\u001b[39mpath\u001b[38;5;241m.\u001b[39mdirname(os\u001b[38;5;241m.\u001b[39mpath\u001b[38;5;241m.\u001b[39mabspath(\u001b[38;5;18m__file__\u001b[39m))\u001b[38;5;132;01m}\u001b[39;00m\u001b[38;5;124m\"\u001b[39m \u001b[38;5;241m+\u001b[39m \u001b[38;5;124m\"\u001b[39m\u001b[38;5;124m../../../.env\u001b[39m\u001b[38;5;124m\"\u001b[39m\n\u001b[1;32m     26\u001b[0m         env_file_encoding \u001b[38;5;241m=\u001b[39m \u001b[38;5;124m\"\u001b[39m\u001b[38;5;124mutf-8\u001b[39m\u001b[38;5;124m\"\u001b[39m\n\u001b[0;32m---> 29\u001b[0m settings \u001b[38;5;241m=\u001b[39m \u001b[43mSettings\u001b[49m\u001b[43m(\u001b[49m\u001b[43m)\u001b[49m\n",
      "File \u001b[0;32m~/anaconda3/envs/langchain/lib/python3.12/site-packages/pydantic_settings/main.py:71\u001b[0m, in \u001b[0;36mBaseSettings.__init__\u001b[0;34m(__pydantic_self__, _case_sensitive, _env_prefix, _env_file, _env_file_encoding, _env_nested_delimiter, _secrets_dir, **values)\u001b[0m\n\u001b[1;32m     60\u001b[0m \u001b[38;5;28;01mdef\u001b[39;00m \u001b[38;5;21m__init__\u001b[39m(\n\u001b[1;32m     61\u001b[0m     __pydantic_self__,\n\u001b[1;32m     62\u001b[0m     _case_sensitive: \u001b[38;5;28mbool\u001b[39m \u001b[38;5;241m|\u001b[39m \u001b[38;5;28;01mNone\u001b[39;00m \u001b[38;5;241m=\u001b[39m \u001b[38;5;28;01mNone\u001b[39;00m,\n\u001b[0;32m   (...)\u001b[0m\n\u001b[1;32m     69\u001b[0m ) \u001b[38;5;241m-\u001b[39m\u001b[38;5;241m>\u001b[39m \u001b[38;5;28;01mNone\u001b[39;00m:\n\u001b[1;32m     70\u001b[0m     \u001b[38;5;66;03m# Uses something other than `self` the first arg to allow \"self\" as a settable attribute\u001b[39;00m\n\u001b[0;32m---> 71\u001b[0m     \u001b[38;5;28;43msuper\u001b[39;49m\u001b[43m(\u001b[49m\u001b[43m)\u001b[49m\u001b[38;5;241;43m.\u001b[39;49m\u001b[38;5;21;43m__init__\u001b[39;49m\u001b[43m(\u001b[49m\n\u001b[1;32m     72\u001b[0m \u001b[43m        \u001b[49m\u001b[38;5;241;43m*\u001b[39;49m\u001b[38;5;241;43m*\u001b[39;49m\u001b[43m__pydantic_self__\u001b[49m\u001b[38;5;241;43m.\u001b[39;49m\u001b[43m_settings_build_values\u001b[49m\u001b[43m(\u001b[49m\n\u001b[1;32m     73\u001b[0m \u001b[43m            \u001b[49m\u001b[43mvalues\u001b[49m\u001b[43m,\u001b[49m\n\u001b[1;32m     74\u001b[0m \u001b[43m            \u001b[49m\u001b[43m_case_sensitive\u001b[49m\u001b[38;5;241;43m=\u001b[39;49m\u001b[43m_case_sensitive\u001b[49m\u001b[43m,\u001b[49m\n\u001b[1;32m     75\u001b[0m \u001b[43m            \u001b[49m\u001b[43m_env_prefix\u001b[49m\u001b[38;5;241;43m=\u001b[39;49m\u001b[43m_env_prefix\u001b[49m\u001b[43m,\u001b[49m\n\u001b[1;32m     76\u001b[0m \u001b[43m            \u001b[49m\u001b[43m_env_file\u001b[49m\u001b[38;5;241;43m=\u001b[39;49m\u001b[43m_env_file\u001b[49m\u001b[43m,\u001b[49m\n\u001b[1;32m     77\u001b[0m \u001b[43m            \u001b[49m\u001b[43m_env_file_encoding\u001b[49m\u001b[38;5;241;43m=\u001b[39;49m\u001b[43m_env_file_encoding\u001b[49m\u001b[43m,\u001b[49m\n\u001b[1;32m     78\u001b[0m \u001b[43m            \u001b[49m\u001b[43m_env_nested_delimiter\u001b[49m\u001b[38;5;241;43m=\u001b[39;49m\u001b[43m_env_nested_delimiter\u001b[49m\u001b[43m,\u001b[49m\n\u001b[1;32m     79\u001b[0m \u001b[43m            \u001b[49m\u001b[43m_secrets_dir\u001b[49m\u001b[38;5;241;43m=\u001b[39;49m\u001b[43m_secrets_dir\u001b[49m\u001b[43m,\u001b[49m\n\u001b[1;32m     80\u001b[0m \u001b[43m        \u001b[49m\u001b[43m)\u001b[49m\n\u001b[1;32m     81\u001b[0m \u001b[43m    \u001b[49m\u001b[43m)\u001b[49m\n",
      "File \u001b[0;32m~/anaconda3/envs/langchain/lib/python3.12/site-packages/pydantic/main.py:171\u001b[0m, in \u001b[0;36mBaseModel.__init__\u001b[0;34m(self, **data)\u001b[0m\n\u001b[1;32m    169\u001b[0m \u001b[38;5;66;03m# `__tracebackhide__` tells pytest and some other tools to omit this function from tracebacks\u001b[39;00m\n\u001b[1;32m    170\u001b[0m __tracebackhide__ \u001b[38;5;241m=\u001b[39m \u001b[38;5;28;01mTrue\u001b[39;00m\n\u001b[0;32m--> 171\u001b[0m \u001b[38;5;28;43mself\u001b[39;49m\u001b[38;5;241;43m.\u001b[39;49m\u001b[43m__pydantic_validator__\u001b[49m\u001b[38;5;241;43m.\u001b[39;49m\u001b[43mvalidate_python\u001b[49m\u001b[43m(\u001b[49m\u001b[43mdata\u001b[49m\u001b[43m,\u001b[49m\u001b[43m \u001b[49m\u001b[43mself_instance\u001b[49m\u001b[38;5;241;43m=\u001b[39;49m\u001b[38;5;28;43mself\u001b[39;49m\u001b[43m)\u001b[49m\n",
      "\u001b[0;31mValidationError\u001b[0m: 2 validation errors for Settings\nCORS_ORIGINS\n  Field required [type=missing, input_value={'OPENAI_API_KEY': 'sk-7k..._DB_DBNAME': 'postgres'}, input_type=dict]\n    For further information visit https://errors.pydantic.dev/2.6/v/missing\nCORS_HEADERS\n  Field required [type=missing, input_value={'OPENAI_API_KEY': 'sk-7k..._DB_DBNAME': 'postgres'}, input_type=dict]\n    For further information visit https://errors.pydantic.dev/2.6/v/missing"
     ]
    }
   ],
   "source": [
    "from src.config import settings"
   ]
  },
  {
   "cell_type": "code",
   "execution_count": 24,
   "metadata": {},
   "outputs": [
    {
     "ename": "ValidationError",
     "evalue": "2 validation errors for Settings\nCORS_ORIGINS\n  Field required [type=missing, input_value={'OPENAI_API_KEY': 'sk-7k..._DB_DBNAME': 'postgres'}, input_type=dict]\n    For further information visit https://errors.pydantic.dev/2.6/v/missing\nCORS_HEADERS\n  Field required [type=missing, input_value={'OPENAI_API_KEY': 'sk-7k..._DB_DBNAME': 'postgres'}, input_type=dict]\n    For further information visit https://errors.pydantic.dev/2.6/v/missing",
     "output_type": "error",
     "traceback": [
      "\u001b[0;31m---------------------------------------------------------------------------\u001b[0m",
      "\u001b[0;31mValidationError\u001b[0m                           Traceback (most recent call last)",
      "Cell \u001b[0;32mIn[24], line 1\u001b[0m\n\u001b[0;32m----> 1\u001b[0m \u001b[38;5;28;01mimport\u001b[39;00m \u001b[38;5;21;01msrc\u001b[39;00m\u001b[38;5;21;01m.\u001b[39;00m\u001b[38;5;21;01mconfig\u001b[39;00m\n",
      "File \u001b[0;32m~/Desktop/personal_projects/astro_gpt/astro-buddy/services/gpt-connection/src/config.py:29\u001b[0m\n\u001b[1;32m     25\u001b[0m         env_file \u001b[38;5;241m=\u001b[39m \u001b[38;5;124mf\u001b[39m\u001b[38;5;124m\"\u001b[39m\u001b[38;5;132;01m{\u001b[39;00mos\u001b[38;5;241m.\u001b[39mpath\u001b[38;5;241m.\u001b[39mdirname(os\u001b[38;5;241m.\u001b[39mpath\u001b[38;5;241m.\u001b[39mabspath(\u001b[38;5;18m__file__\u001b[39m))\u001b[38;5;132;01m}\u001b[39;00m\u001b[38;5;124m\"\u001b[39m \u001b[38;5;241m+\u001b[39m \u001b[38;5;124m\"\u001b[39m\u001b[38;5;124m/../../.env\u001b[39m\u001b[38;5;124m\"\u001b[39m\n\u001b[1;32m     26\u001b[0m         env_file_encoding \u001b[38;5;241m=\u001b[39m \u001b[38;5;124m\"\u001b[39m\u001b[38;5;124mutf-8\u001b[39m\u001b[38;5;124m\"\u001b[39m\n\u001b[0;32m---> 29\u001b[0m settings \u001b[38;5;241m=\u001b[39m \u001b[43mSettings\u001b[49m\u001b[43m(\u001b[49m\u001b[43m)\u001b[49m\n",
      "File \u001b[0;32m~/anaconda3/envs/langchain/lib/python3.12/site-packages/pydantic_settings/main.py:71\u001b[0m, in \u001b[0;36mBaseSettings.__init__\u001b[0;34m(__pydantic_self__, _case_sensitive, _env_prefix, _env_file, _env_file_encoding, _env_nested_delimiter, _secrets_dir, **values)\u001b[0m\n\u001b[1;32m     60\u001b[0m \u001b[38;5;28;01mdef\u001b[39;00m \u001b[38;5;21m__init__\u001b[39m(\n\u001b[1;32m     61\u001b[0m     __pydantic_self__,\n\u001b[1;32m     62\u001b[0m     _case_sensitive: \u001b[38;5;28mbool\u001b[39m \u001b[38;5;241m|\u001b[39m \u001b[38;5;28;01mNone\u001b[39;00m \u001b[38;5;241m=\u001b[39m \u001b[38;5;28;01mNone\u001b[39;00m,\n\u001b[0;32m   (...)\u001b[0m\n\u001b[1;32m     69\u001b[0m ) \u001b[38;5;241m-\u001b[39m\u001b[38;5;241m>\u001b[39m \u001b[38;5;28;01mNone\u001b[39;00m:\n\u001b[1;32m     70\u001b[0m     \u001b[38;5;66;03m# Uses something other than `self` the first arg to allow \"self\" as a settable attribute\u001b[39;00m\n\u001b[0;32m---> 71\u001b[0m     \u001b[38;5;28;43msuper\u001b[39;49m\u001b[43m(\u001b[49m\u001b[43m)\u001b[49m\u001b[38;5;241;43m.\u001b[39;49m\u001b[38;5;21;43m__init__\u001b[39;49m\u001b[43m(\u001b[49m\n\u001b[1;32m     72\u001b[0m \u001b[43m        \u001b[49m\u001b[38;5;241;43m*\u001b[39;49m\u001b[38;5;241;43m*\u001b[39;49m\u001b[43m__pydantic_self__\u001b[49m\u001b[38;5;241;43m.\u001b[39;49m\u001b[43m_settings_build_values\u001b[49m\u001b[43m(\u001b[49m\n\u001b[1;32m     73\u001b[0m \u001b[43m            \u001b[49m\u001b[43mvalues\u001b[49m\u001b[43m,\u001b[49m\n\u001b[1;32m     74\u001b[0m \u001b[43m            \u001b[49m\u001b[43m_case_sensitive\u001b[49m\u001b[38;5;241;43m=\u001b[39;49m\u001b[43m_case_sensitive\u001b[49m\u001b[43m,\u001b[49m\n\u001b[1;32m     75\u001b[0m \u001b[43m            \u001b[49m\u001b[43m_env_prefix\u001b[49m\u001b[38;5;241;43m=\u001b[39;49m\u001b[43m_env_prefix\u001b[49m\u001b[43m,\u001b[49m\n\u001b[1;32m     76\u001b[0m \u001b[43m            \u001b[49m\u001b[43m_env_file\u001b[49m\u001b[38;5;241;43m=\u001b[39;49m\u001b[43m_env_file\u001b[49m\u001b[43m,\u001b[49m\n\u001b[1;32m     77\u001b[0m \u001b[43m            \u001b[49m\u001b[43m_env_file_encoding\u001b[49m\u001b[38;5;241;43m=\u001b[39;49m\u001b[43m_env_file_encoding\u001b[49m\u001b[43m,\u001b[49m\n\u001b[1;32m     78\u001b[0m \u001b[43m            \u001b[49m\u001b[43m_env_nested_delimiter\u001b[49m\u001b[38;5;241;43m=\u001b[39;49m\u001b[43m_env_nested_delimiter\u001b[49m\u001b[43m,\u001b[49m\n\u001b[1;32m     79\u001b[0m \u001b[43m            \u001b[49m\u001b[43m_secrets_dir\u001b[49m\u001b[38;5;241;43m=\u001b[39;49m\u001b[43m_secrets_dir\u001b[49m\u001b[43m,\u001b[49m\n\u001b[1;32m     80\u001b[0m \u001b[43m        \u001b[49m\u001b[43m)\u001b[49m\n\u001b[1;32m     81\u001b[0m \u001b[43m    \u001b[49m\u001b[43m)\u001b[49m\n",
      "File \u001b[0;32m~/anaconda3/envs/langchain/lib/python3.12/site-packages/pydantic/main.py:171\u001b[0m, in \u001b[0;36mBaseModel.__init__\u001b[0;34m(self, **data)\u001b[0m\n\u001b[1;32m    169\u001b[0m \u001b[38;5;66;03m# `__tracebackhide__` tells pytest and some other tools to omit this function from tracebacks\u001b[39;00m\n\u001b[1;32m    170\u001b[0m __tracebackhide__ \u001b[38;5;241m=\u001b[39m \u001b[38;5;28;01mTrue\u001b[39;00m\n\u001b[0;32m--> 171\u001b[0m \u001b[38;5;28;43mself\u001b[39;49m\u001b[38;5;241;43m.\u001b[39;49m\u001b[43m__pydantic_validator__\u001b[49m\u001b[38;5;241;43m.\u001b[39;49m\u001b[43mvalidate_python\u001b[49m\u001b[43m(\u001b[49m\u001b[43mdata\u001b[49m\u001b[43m,\u001b[49m\u001b[43m \u001b[49m\u001b[43mself_instance\u001b[49m\u001b[38;5;241;43m=\u001b[39;49m\u001b[38;5;28;43mself\u001b[39;49m\u001b[43m)\u001b[49m\n",
      "\u001b[0;31mValidationError\u001b[0m: 2 validation errors for Settings\nCORS_ORIGINS\n  Field required [type=missing, input_value={'OPENAI_API_KEY': 'sk-7k..._DB_DBNAME': 'postgres'}, input_type=dict]\n    For further information visit https://errors.pydantic.dev/2.6/v/missing\nCORS_HEADERS\n  Field required [type=missing, input_value={'OPENAI_API_KEY': 'sk-7k..._DB_DBNAME': 'postgres'}, input_type=dict]\n    For further information visit https://errors.pydantic.dev/2.6/v/missing"
     ]
    }
   ],
   "source": [
    "import src.config"
   ]
  },
  {
   "cell_type": "code",
   "execution_count": null,
   "metadata": {},
   "outputs": [],
   "source": []
  }
 ],
 "metadata": {
  "kernelspec": {
   "display_name": "langchain",
   "language": "python",
   "name": "python3"
  },
  "language_info": {
   "codemirror_mode": {
    "name": "ipython",
    "version": 3
   },
   "file_extension": ".py",
   "mimetype": "text/x-python",
   "name": "python",
   "nbconvert_exporter": "python",
   "pygments_lexer": "ipython3",
   "version": "3.12.4"
  }
 },
 "nbformat": 4,
 "nbformat_minor": 2
}
