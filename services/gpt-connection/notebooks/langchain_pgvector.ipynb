{
 "cells": [
  {
   "cell_type": "code",
   "execution_count": 23,
   "metadata": {},
   "outputs": [],
   "source": [
    "import os\n",
    "# Run export OPENAI_API_KEY=sk-YOUR_OPENAI_API_KEY...\n",
    "# Get openAI api key by reading local .env file\n",
    "from dotenv import load_dotenv, find_dotenv\n",
    "dotenv_path = os.path.abspath('../../../.env')\n",
    "_ = load_dotenv(dotenv_path)\n",
    "OPENAI_API_KEY  = os.environ['OPENAI_API_KEY']\n",
    "PG_DB_PW = os.environ['POSTGRES_DB_PASSWORD']\n",
    "host= os.environ['POSTGRES_DB_HOST']\n",
    "port= os.environ['POSTGRES_DB_PORT']\n",
    "user= os.environ['POSTGRES_DB_USER']\n",
    "password= os.environ['POSTGRES_DB_PASSWORD']\n",
    "dbname= os.environ['POSTGRES_DB_DBNAME']\n"
   ]
  },
  {
   "cell_type": "code",
   "execution_count": 75,
   "metadata": {},
   "outputs": [],
   "source": [
    "import openai\n",
    "import os\n",
    "import pandas as pd\n",
    "import numpy as np\n",
    "import json\n",
    "import tiktoken\n",
    "import psycopg2\n",
    "import ast\n",
    "import pgvector\n",
    "import math\n",
    "from psycopg2.extras import execute_values\n",
    "from pgvector.psycopg2 import register_vector\n",
    "\n",
    "from IPython.display import Markdown, display\n",
    "\n",
    "import pandas as pd\n",
    "\n",
    "from langchain.vectorstores.pgvector import PGVector\n",
    "from langchain.sql_database import SQLDatabase\n",
    "from langchain_experimental.sql import SQLDatabaseChain\n",
    "from langchain_openai import ChatOpenAI, OpenAI\n",
    "from langchain.chains import RetrievalQA\n",
    "\n"
   ]
  },
  {
   "cell_type": "code",
   "execution_count": 38,
   "metadata": {},
   "outputs": [],
   "source": [
    "# CONNECTION_STRING = f\"postgresql://{user}:{password}@{host}:{port}/{dbname}\"\n",
    "# CONNECTION_STRING = f\"postgresql+psycopg2://{user}:{password}@{host}:{port}/{dbname}?sslmode=require\"\n",
    "CONNECTION_STRING = f\"postgresql://{user}:{password}@{host}:{port}/{dbname}\"\n",
    "collection_name= \"arxiv\"\n"
   ]
  },
  {
   "cell_type": "code",
   "execution_count": 31,
   "metadata": {},
   "outputs": [],
   "source": [
    "import psycopg2\n",
    "conn = psycopg2.connect(\n",
    "    host=host,\n",
    "    port=port,\n",
    "    user=user,\n",
    "    password=PG_DB_PW,\n",
    "    database=dbname\n",
    ")"
   ]
  },
  {
   "cell_type": "code",
   "execution_count": 78,
   "metadata": {},
   "outputs": [],
   "source": [
    "# Connect to PostgreSQL database in Timescale using connection string\n",
    "conn = psycopg2.connect(CONNECTION_STRING)\n",
    "cur = conn.cursor()\n",
    "\n",
    "#install pgvector\n",
    "cur.execute(\"CREATE EXTENSION IF NOT EXISTS vector\");\n",
    "conn.commit()"
   ]
  },
  {
   "cell_type": "code",
   "execution_count": 45,
   "metadata": {},
   "outputs": [],
   "source": [
    "embedding_df = pd.read_csv('../../data-ingest/data/embeddings/test_embedding.csv', index_col=0)"
   ]
  },
  {
   "cell_type": "code",
   "execution_count": 46,
   "metadata": {},
   "outputs": [
    {
     "data": {
      "text/html": [
       "<div>\n",
       "<style scoped>\n",
       "    .dataframe tbody tr th:only-of-type {\n",
       "        vertical-align: middle;\n",
       "    }\n",
       "\n",
       "    .dataframe tbody tr th {\n",
       "        vertical-align: top;\n",
       "    }\n",
       "\n",
       "    .dataframe thead th {\n",
       "        text-align: right;\n",
       "    }\n",
       "</style>\n",
       "<table border=\"1\" class=\"dataframe\">\n",
       "  <thead>\n",
       "    <tr style=\"text-align: right;\">\n",
       "      <th></th>\n",
       "      <th>title</th>\n",
       "      <th>content</th>\n",
       "      <th>tokens</th>\n",
       "      <th>embeddings</th>\n",
       "    </tr>\n",
       "  </thead>\n",
       "  <tbody>\n",
       "    <tr>\n",
       "      <th>0</th>\n",
       "      <td>pdf3.pdf</td>\n",
       "      <td>Detection of stellar light from quasar host ga...</td>\n",
       "      <td>1017</td>\n",
       "      <td>[-0.008913620375096798, -0.003685270668938756,...</td>\n",
       "    </tr>\n",
       "    <tr>\n",
       "      <th>1</th>\n",
       "      <td>pdf3.pdf</td>\n",
       "      <td>der Universit ¨at Heidelberg (ITA), Albert-Ueb...</td>\n",
       "      <td>867</td>\n",
       "      <td>[-0.027547599747776985, 0.016496682539582253, ...</td>\n",
       "    </tr>\n",
       "    <tr>\n",
       "      <th>2</th>\n",
       "      <td>pdf3.pdf</td>\n",
       "      <td>that the host galaxies are massive (stellar ma...</td>\n",
       "      <td>662</td>\n",
       "      <td>[-0.050405103713274, 0.011267776601016521, 0.0...</td>\n",
       "    </tr>\n",
       "    <tr>\n",
       "      <th>3</th>\n",
       "      <td>pdf3.pdf</td>\n",
       "      <td>profile13whose parameters include the position...</td>\n",
       "      <td>625</td>\n",
       "      <td>[-0.022945208474993706, 0.004072774201631546, ...</td>\n",
       "    </tr>\n",
       "    <tr>\n",
       "      <th>4</th>\n",
       "      <td>pdf3.pdf</td>\n",
       "      <td>range [−1,−0.3], the stellar age is within the...</td>\n",
       "      <td>635</td>\n",
       "      <td>[-0.019858600571751595, 0.015721391886472702, ...</td>\n",
       "    </tr>\n",
       "    <tr>\n",
       "      <th>...</th>\n",
       "      <td>...</td>\n",
       "      <td>...</td>\n",
       "      <td>...</td>\n",
       "      <td>...</td>\n",
       "    </tr>\n",
       "    <tr>\n",
       "      <th>128</th>\n",
       "      <td>pdf1.pdf</td>\n",
       "      <td>in Do et al. (2019), with a peak flux density ...</td>\n",
       "      <td>544</td>\n",
       "      <td>[-0.014840332791209221, 0.00358420517295599, 0...</td>\n",
       "    </tr>\n",
       "    <tr>\n",
       "      <th>129</th>\n",
       "      <td>pdf1.pdf</td>\n",
       "      <td>light curves. varying values of α. See Figure ...</td>\n",
       "      <td>683</td>\n",
       "      <td>[-0.008777388371527195, 0.013306329026818275, ...</td>\n",
       "    </tr>\n",
       "    <tr>\n",
       "      <th>130</th>\n",
       "      <td>pdf1.pdf</td>\n",
       "      <td>1.028±0.044 1.044±0.029 1.013±0.037 0.995±0.03...</td>\n",
       "      <td>2237</td>\n",
       "      <td>[-0.015937522053718567, 0.023344896733760834, ...</td>\n",
       "    </tr>\n",
       "    <tr>\n",
       "      <th>131</th>\n",
       "      <td>pdf1.pdf</td>\n",
       "      <td>... 0.005±0.003 0.003±0.002 18.0 0.001±0.001 0...</td>\n",
       "      <td>1186</td>\n",
       "      <td>[-0.012408621609210968, -0.006417050026357174,...</td>\n",
       "    </tr>\n",
       "    <tr>\n",
       "      <th>132</th>\n",
       "      <td>pdf1.pdf</td>\n",
       "      <td>of the pre-2019 (blue), 2019 (black), and post...</td>\n",
       "      <td>123</td>\n",
       "      <td>[-0.018339229747653008, -0.0001886128593469038...</td>\n",
       "    </tr>\n",
       "  </tbody>\n",
       "</table>\n",
       "<p>133 rows × 4 columns</p>\n",
       "</div>"
      ],
      "text/plain": [
       "        title                                            content  tokens  \\\n",
       "0    pdf3.pdf  Detection of stellar light from quasar host ga...    1017   \n",
       "1    pdf3.pdf  der Universit ¨at Heidelberg (ITA), Albert-Ueb...     867   \n",
       "2    pdf3.pdf  that the host galaxies are massive (stellar ma...     662   \n",
       "3    pdf3.pdf  profile13whose parameters include the position...     625   \n",
       "4    pdf3.pdf  range [−1,−0.3], the stellar age is within the...     635   \n",
       "..        ...                                                ...     ...   \n",
       "128  pdf1.pdf  in Do et al. (2019), with a peak flux density ...     544   \n",
       "129  pdf1.pdf  light curves. varying values of α. See Figure ...     683   \n",
       "130  pdf1.pdf  1.028±0.044 1.044±0.029 1.013±0.037 0.995±0.03...    2237   \n",
       "131  pdf1.pdf  ... 0.005±0.003 0.003±0.002 18.0 0.001±0.001 0...    1186   \n",
       "132  pdf1.pdf  of the pre-2019 (blue), 2019 (black), and post...     123   \n",
       "\n",
       "                                            embeddings  \n",
       "0    [-0.008913620375096798, -0.003685270668938756,...  \n",
       "1    [-0.027547599747776985, 0.016496682539582253, ...  \n",
       "2    [-0.050405103713274, 0.011267776601016521, 0.0...  \n",
       "3    [-0.022945208474993706, 0.004072774201631546, ...  \n",
       "4    [-0.019858600571751595, 0.015721391886472702, ...  \n",
       "..                                                 ...  \n",
       "128  [-0.014840332791209221, 0.00358420517295599, 0...  \n",
       "129  [-0.008777388371527195, 0.013306329026818275, ...  \n",
       "130  [-0.015937522053718567, 0.023344896733760834, ...  \n",
       "131  [-0.012408621609210968, -0.006417050026357174,...  \n",
       "132  [-0.018339229747653008, -0.0001886128593469038...  \n",
       "\n",
       "[133 rows x 4 columns]"
      ]
     },
     "execution_count": 46,
     "metadata": {},
     "output_type": "execute_result"
    }
   ],
   "source": [
    "embedding_df"
   ]
  },
  {
   "cell_type": "code",
   "execution_count": 47,
   "metadata": {},
   "outputs": [],
   "source": [
    "#load documents from Pandas dataframe for insertion into database\n",
    "from langchain.document_loaders import DataFrameLoader\n",
    "\n",
    "# page_content_column is the column name in the dataframe to create embeddings for\n",
    "loader = DataFrameLoader(embedding_df, page_content_column = 'content')\n",
    "docs = loader.load()\n"
   ]
  },
  {
   "cell_type": "code",
   "execution_count": 48,
   "metadata": {},
   "outputs": [],
   "source": [
    "from langchain_openai import OpenAIEmbeddings\n",
    "embeddings = OpenAIEmbeddings()\n"
   ]
  },
  {
   "cell_type": "code",
   "execution_count": 49,
   "metadata": {},
   "outputs": [
    {
     "data": {
      "text/plain": [
       "0      Detection of stellar light from quasar host ga...\n",
       "1      der Universit ¨at Heidelberg (ITA), Albert-Ueb...\n",
       "2      that the host galaxies are massive (stellar ma...\n",
       "3      profile13whose parameters include the position...\n",
       "4      range [−1,−0.3], the stellar age is within the...\n",
       "                             ...                        \n",
       "128    in Do et al. (2019), with a peak flux density ...\n",
       "129    light curves. varying values of α. See Figure ...\n",
       "130    1.028±0.044 1.044±0.029 1.013±0.037 0.995±0.03...\n",
       "131    ... 0.005±0.003 0.003±0.002 18.0 0.001±0.001 0...\n",
       "132    of the pre-2019 (blue), 2019 (black), and post...\n",
       "Name: content, Length: 133, dtype: object"
      ]
     },
     "execution_count": 49,
     "metadata": {},
     "output_type": "execute_result"
    }
   ],
   "source": [
    "embedding_df['content']"
   ]
  },
  {
   "cell_type": "code",
   "execution_count": 53,
   "metadata": {},
   "outputs": [],
   "source": [
    "from langchain.vectorstores.pgvector import DistanceStrategy\n",
    "\n",
    "db = PGVector.from_documents(\n",
    "    documents=docs,\n",
    "    embedding=embeddings,\n",
    "    collection_name=collection_name,\n",
    "    connection_string=CONNECTION_STRING,\n",
    "    distance_strategy=DistanceStrategy.COSINE,\n",
    "    pre_delete_collection=False \n",
    ")"
   ]
  },
  {
   "cell_type": "code",
   "execution_count": 59,
   "metadata": {},
   "outputs": [
    {
     "data": {
      "text/plain": [
       "mappingproxy({'__module__': 'langchain_community.vectorstores.pgvector',\n",
       "              '__doc__': '`Postgres`/`PGVector` vector store.\\n\\n    To use, you should have the ``pgvector`` python package installed.\\n\\n    Args:\\n        connection_string: Postgres connection string.\\n        embedding_function: Any embedding function implementing\\n            `langchain.embeddings.base.Embeddings` interface.\\n        embedding_length: The length of the embedding vector. (default: None)\\n            NOTE: This is not mandatory. Defining it will prevent vectors of\\n            any other size to be added to the embeddings table but, without it,\\n            the embeddings can\\'t be indexed.\\n        collection_name: The name of the collection to use. (default: langchain)\\n            NOTE: This is not the name of the table, but the name of the collection.\\n            The tables will be created when initializing the store (if not exists)\\n            So, make sure the user has the right permissions to create tables.\\n        distance_strategy: The distance strategy to use. (default: COSINE)\\n        pre_delete_collection: If True, will delete the collection if it exists.\\n            (default: False). Useful for testing.\\n        engine_args: SQLAlchemy\\'s create engine arguments.\\n\\n    Example:\\n        .. code-block:: python\\n\\n            from langchain_community.vectorstores import PGVector\\n            from langchain_community.embeddings.openai import OpenAIEmbeddings\\n\\n            CONNECTION_STRING = \"postgresql+psycopg2://hwc@localhost:5432/test3\"\\n            COLLECTION_NAME = \"state_of_the_union_test\"\\n            embeddings = OpenAIEmbeddings()\\n            vectorestore = PGVector.from_documents(\\n                embedding=embeddings,\\n                documents=docs,\\n                collection_name=COLLECTION_NAME,\\n                connection_string=CONNECTION_STRING,\\n            )\\n\\n\\n    ',\n",
       "              '__init__': <function langchain_community.vectorstores.pgvector.PGVector.__init__(self, connection_string: 'str', embedding_function: 'Embeddings', embedding_length: 'Optional[int]' = None, collection_name: 'str' = 'langchain', collection_metadata: 'Optional[dict]' = None, distance_strategy: 'DistanceStrategy' = <DistanceStrategy.COSINE: 'cosine'>, pre_delete_collection: 'bool' = False, logger: 'Optional[logging.Logger]' = None, relevance_score_fn: 'Optional[Callable[[float], float]]' = None, *, connection: 'Optional[sqlalchemy.engine.Connection]' = None, engine_args: 'Optional[dict[str, Any]]' = None) -> 'None'>,\n",
       "              '__post_init__': <function langchain_community.vectorstores.pgvector.PGVector.__post_init__(self) -> 'None'>,\n",
       "              '__del__': <function langchain_community.vectorstores.pgvector.PGVector.__del__(self) -> 'None'>,\n",
       "              'embeddings': <property at 0x11c7767a0>,\n",
       "              '_create_engine': <function langchain_community.vectorstores.pgvector.PGVector._create_engine(self) -> 'sqlalchemy.engine.Engine'>,\n",
       "              'create_vector_extension': <function langchain_community.vectorstores.pgvector.PGVector.create_vector_extension(self) -> 'None'>,\n",
       "              'create_tables_if_not_exists': <function langchain_community.vectorstores.pgvector.PGVector.create_tables_if_not_exists(self) -> 'None'>,\n",
       "              'drop_tables': <function langchain_community.vectorstores.pgvector.PGVector.drop_tables(self) -> 'None'>,\n",
       "              'create_collection': <function langchain_community.vectorstores.pgvector.PGVector.create_collection(self) -> 'None'>,\n",
       "              'delete_collection': <function langchain_community.vectorstores.pgvector.PGVector.delete_collection(self) -> 'None'>,\n",
       "              '_make_session': <function langchain_community.vectorstores.pgvector.PGVector._make_session(self) -> 'Generator[Session, None, None]'>,\n",
       "              'delete': <function langchain_community.vectorstores.pgvector.PGVector.delete(self, ids: 'Optional[List[str]]' = None, collection_only: 'bool' = False, **kwargs: 'Any') -> 'None'>,\n",
       "              'get_collection': <function langchain_community.vectorstores.pgvector.PGVector.get_collection(self, session: 'Session') -> 'Any'>,\n",
       "              '_PGVector__from': <classmethod(<function PGVector.__from at 0x11c77f6a0>)>,\n",
       "              'add_embeddings': <function langchain_community.vectorstores.pgvector.PGVector.add_embeddings(self, texts: 'Iterable[str]', embeddings: 'List[List[float]]', metadatas: 'Optional[List[dict]]' = None, ids: 'Optional[List[str]]' = None, **kwargs: 'Any') -> 'List[str]'>,\n",
       "              'add_texts': <function langchain_community.vectorstores.pgvector.PGVector.add_texts(self, texts: 'Iterable[str]', metadatas: 'Optional[List[dict]]' = None, ids: 'Optional[List[str]]' = None, **kwargs: 'Any') -> 'List[str]'>,\n",
       "              'similarity_search': <function langchain_community.vectorstores.pgvector.PGVector.similarity_search(self, query: 'str', k: 'int' = 4, filter: 'Optional[dict]' = None, **kwargs: 'Any') -> 'List[Document]'>,\n",
       "              'similarity_search_with_score': <function langchain_community.vectorstores.pgvector.PGVector.similarity_search_with_score(self, query: 'str', k: 'int' = 4, filter: 'Optional[dict]' = None) -> 'List[Tuple[Document, float]]'>,\n",
       "              'distance_strategy': <property at 0x11c7767f0>,\n",
       "              'similarity_search_with_score_by_vector': <function langchain_community.vectorstores.pgvector.PGVector.similarity_search_with_score_by_vector(self, embedding: 'List[float]', k: 'int' = 4, filter: 'Optional[dict]' = None) -> 'List[Tuple[Document, float]]'>,\n",
       "              '_results_to_docs_and_scores': <function langchain_community.vectorstores.pgvector.PGVector._results_to_docs_and_scores(self, results: 'Any') -> 'List[Tuple[Document, float]]'>,\n",
       "              '_create_filter_clause': <function langchain_community.vectorstores.pgvector.PGVector._create_filter_clause(self, key, value)>,\n",
       "              '_PGVector__query_collection': <function langchain_community.vectorstores.pgvector.PGVector.__query_collection(self, embedding: 'List[float]', k: 'int' = 4, filter: 'Optional[Dict[str, str]]' = None) -> 'List[Any]'>,\n",
       "              'similarity_search_by_vector': <function langchain_community.vectorstores.pgvector.PGVector.similarity_search_by_vector(self, embedding: 'List[float]', k: 'int' = 4, filter: 'Optional[dict]' = None, **kwargs: 'Any') -> 'List[Document]'>,\n",
       "              'from_texts': <classmethod(<function PGVector.from_texts at 0x11c77fd80>)>,\n",
       "              'from_embeddings': <classmethod(<function PGVector.from_embeddings at 0x11c77fe20>)>,\n",
       "              'from_existing_index': <classmethod(<function PGVector.from_existing_index at 0x11c77fec0>)>,\n",
       "              'get_connection_string': <classmethod(<function PGVector.get_connection_string at 0x11c77ff60>)>,\n",
       "              'from_documents': <classmethod(<function PGVector.from_documents at 0x11c78c040>)>,\n",
       "              'connection_string_from_db_params': <classmethod(<function PGVector.connection_string_from_db_params at 0x11c78c0e0>)>,\n",
       "              '_select_relevance_score_fn': <function langchain_community.vectorstores.pgvector.PGVector._select_relevance_score_fn(self) -> 'Callable[[float], float]'>,\n",
       "              'max_marginal_relevance_search_with_score_by_vector': <function langchain_community.vectorstores.pgvector.PGVector.max_marginal_relevance_search_with_score_by_vector(self, embedding: 'List[float]', k: 'int' = 4, fetch_k: 'int' = 20, lambda_mult: 'float' = 0.5, filter: 'Optional[Dict[str, str]]' = None, **kwargs: 'Any') -> 'List[Tuple[Document, float]]'>,\n",
       "              'max_marginal_relevance_search': <function langchain_community.vectorstores.pgvector.PGVector.max_marginal_relevance_search(self, query: 'str', k: 'int' = 4, fetch_k: 'int' = 20, lambda_mult: 'float' = 0.5, filter: 'Optional[Dict[str, str]]' = None, **kwargs: 'Any') -> 'List[Document]'>,\n",
       "              'max_marginal_relevance_search_with_score': <function langchain_community.vectorstores.pgvector.PGVector.max_marginal_relevance_search_with_score(self, query: 'str', k: 'int' = 4, fetch_k: 'int' = 20, lambda_mult: 'float' = 0.5, filter: 'Optional[dict]' = None, **kwargs: 'Any') -> 'List[Tuple[Document, float]]'>,\n",
       "              'max_marginal_relevance_search_by_vector': <function langchain_community.vectorstores.pgvector.PGVector.max_marginal_relevance_search_by_vector(self, embedding: 'List[float]', k: 'int' = 4, fetch_k: 'int' = 20, lambda_mult: 'float' = 0.5, filter: 'Optional[Dict[str, str]]' = None, **kwargs: 'Any') -> 'List[Document]'>,\n",
       "              'amax_marginal_relevance_search_by_vector': <function langchain_community.vectorstores.pgvector.PGVector.amax_marginal_relevance_search_by_vector(self, embedding: 'List[float]', k: 'int' = 4, fetch_k: 'int' = 20, lambda_mult: 'float' = 0.5, filter: 'Optional[Dict[str, str]]' = None, **kwargs: 'Any') -> 'List[Document]'>,\n",
       "              '__abstractmethods__': frozenset(),\n",
       "              '_abc_impl': <_abc._abc_data at 0x11c790400>})"
      ]
     },
     "execution_count": 59,
     "metadata": {},
     "output_type": "execute_result"
    }
   ],
   "source": [
    "PGVector.__dict__"
   ]
  },
  {
   "cell_type": "code",
   "execution_count": 17,
   "metadata": {},
   "outputs": [],
   "source": [
    "from langchain.schema import Document\n",
    "\n",
    "# Query for which we want to find semantically similar documents\n",
    "query = \"What is a quasar?\"\n",
    "\n",
    "#Fetch the k=3 most similar documents\n",
    "docs =  db.similarity_search(query, k=3)\n"
   ]
  },
  {
   "cell_type": "code",
   "execution_count": 18,
   "metadata": {},
   "outputs": [
    {
     "data": {
      "text/plain": [
       "[Document(page_content='Quasars and the Intergalactic Medium at Cosmic Dawn Xiaohui Fan,1Eduardo Ba˜ nados,2and Robert A. Simcoe3 1Steward Observatory, University of Arizona, 933 North Cherry Avenue, Tucson, AZ 85721, USA; email: xfan@arizona.edu 2Max-Planck-Institut f¨ ur Astronomie, K¨ onigstuhl 17, D-69117 Heidelberg, Germany; email: banados@mpia.de 3MIT Kavli Institute for Astrophysics and Space Research, 77 Massachusetts Ave., Cambridge, MA 02139, USA; email: simcoe@space.mit.edu Annual Review of Astronomy and Astrophysics 2023. AA:1–58 https://doi.org/10.1146/((please add article doi)) Copyright ©2023 by the author(s). All rights reservedKeywords quasar, supermassive black hole, galaxy evolution, cosmic reionization Abstract Quasars at cosmic dawn provide powerful probes of the formation and growth of the earliest supermassive black holes (SMBHs) in the uni- verse, their connections to galaxy and structure formation, and the evolution of the intergalactic medium (IGM) at the epoch of reioniza- tion (EoR). Hundreds of quasars have been discovered in the ﬁrst billion years of cosmic history, with the quasar redshift frontier extended to z∼7.6. Observations of quasars at cosmic dawn show that: •The number density of luminous quasars declines exponentially at z > 5, suggesting that the earliest quasars emerge at z∼10; the lack of strong evolution in their average spectral energy distribution indicates a rapid buildup of the AGN environment. •Billion-solar-mass BHs already exist at z>7.5; they must form and grow in less than 700 Myr, by a combination of massive early BH seeds with highly eﬃcient and sustained accretion. •The rapid quasar growth is accompanied by strong star formation and feedback activity in their host galaxies, which show diverse mor- phological and kinetic properties, with typical dynamical mass of lower than that implied by the local BH/galaxy scaling relations. •HI absorption in quasar spectra probes the tail end of cosmic reionization at z∼5.3−6, and indicates the EoR midpoint at 6.9< z < 7.6, with large spatial ﬂuctuations in IGM ionization. Observations of heavy element absorption lines suggest that the circumgalactic medium also experiences evolution in its ionization structure and metal enrichment during the EoR. 1arXiv:2212.06907v1 [astro-ph.GA] 13 Dec 2022 Contents 1. Introduction .................................................................................................. 2 2. THE QUASAR REDSHIFT FRONTIER ..................................................................... 4 2.1. Progress in High-Redshift Quasar Surveys.............................................................. 4 2.2. Optimization of Photometric Selection of High-Redshift Quasars ..................................... 7 2.3. A Database of z>5.3Quasars......................................................................... 9 2.4. Future Quasar Surveys .................................................................................. 11 3. AN EVOLVING QUASAR POPULATION ................................................................... 11 3.1. Evolution of Quasar', metadata={'title': 'pdf2.pdf', 'tokens': 725, 'embeddings': '[-0.007421205285936594, 0.03706860914826393, 0.001796056400053203, 0.01719973422586918, 0.02155267633497715, 0.023897528648376465, -0.01801045425236225, 0.012846792116761208, -0.0395381860435009, -0.01833474263548851, -0.01451812218874693, 0.006841228809207678, -0.04717142507433891, -0.004530677106231451, 0.06934773176908493, 0.02871195785701275, -0.03260341286659241, -0.0025865084026008844, 0.0134828956797719, 0.04742087796330452, -0.024146979674696922, -0.04248172417283058, -0.006928537040948868, 0.03262835741043091, -0.08341684192419052, -0.035746511071920395, 0.024184398353099823, 0.016625994816422462, 0.011499750427901745, -0.018584195524454117, 0.02913602627813816, -0.02876184694468975, -0.052983663976192474, -0.025082426145672798, -0.04195787385106087, 0.07483568042516708, -0.01833474263548851, -0.02736491523683071, -0.04352942109107971, -0.00916113518178463, 0.013008936308324337, -0.02191438339650631, 0.0033364242408424616, -0.026491831988096237, -0.047944728285074234, -0.0030511131044477224, -0.02052992209792137, -0.02551896870136261, -0.01801045425236225, 0.004034890793263912, -0.03629530593752861, -0.04268128424882889, -0.02544413134455681, -0.01827237941324711, -0.04288084805011749, -0.02908613532781601, -0.030034054070711136, 0.024658357724547386, -0.03781696408987045, 0.00026036580675281584, 0.0011178579879924655, 0.02980954758822918, 0.009398114867508411, 0.015441096387803555, -0.0036950118374079466, 0.0032678248826414347, 0.025992928072810173, -0.0035110407043248415, -0.025643693283200264, 0.02474566549062729, -0.02231350541114807, -0.014231252484023571, 0.01473015733063221, -0.006822519935667515, 0.028262943029403687, 0.003255352145060897, -0.011231589131057262, 0.03696882724761963, -0.03410012647509575, 0.0012753247283399105, -0.0036326488479971886, 0.016239343211054802, -0.0024352779146283865, -0.04891759157180786, 0.000938564189709723, 0.018459469079971313, 0.0011451418977230787, -0.001322876662015915, -0.05867117643356323, 0.013345696963369846, 0.027215244248509407, -0.0005534722586162388, 0.03913906216621399, -0.05777314677834511, -0.00843772292137146, -0.025082426145672798, 0.032553523778915405, -0.021714821457862854, 0.059120189398527145, 0.04066072031855583, 0.021477840840816498, -0.0036887754686176777, 0.012959045358002186, -0.060916244983673096, 0.01980651170015335, -0.03499815613031387, -0.015328842215240002, -0.02198921889066696, -0.011817801743745804, -0.05001518130302429, -0.007421205285936594, -0.003113476326689124, -0.019170407205820084, 0.011499750427901745, -0.08072275668382645, -0.01381965633481741, -0.05717446282505989, -0.027489641681313515, -0.00060842972015962, 0.019332552328705788, -0.00015337417426053435, -0.007795383688062429, -0.004820665344595909, 0.05642610415816307, 0.028213052079081535, -0.041084788739681244, 0.006220716051757336, -0.03382572904229164, -0.06740200519561768, 0.02263779379427433, 0.04896748065948486, -0.009341987781226635, 0.010676557198166847, -0.030358342453837395, -0.022550486028194427, 0.0034050235990434885, 0.017149843275547028, -0.05632632225751877, -0.033576276153326035, -0.013732347637414932, -0.001177882426418364, -0.0029076780192553997, -0.007252824958413839, 0.033651113510131836, 0.04208260029554367, 0.027190297842025757, -0.037841908633708954, 0.017037590965628624, 0.02581831067800522, -0.006685321219265461, 0.002842196961864829, -0.03801652789115906, 0.0005039715324528515, -0.03487342968583107, 0.009865837171673775, 0.008737065829336643, 0.009179843589663506, 0.008312997408211231, -0.010950954630970955, -0.010427105240523815, -0.011580822058022022, 0.0004907193942926824, -0.027190297842025757, -0.01754896715283394, -0.026416996493935585, 0.0034798593260347843, -0.015890110284090042, -0.034698810428380966, -0.10008025169372559, -0.02374785766005516, -0.022064054384827614, -0.0395880751311779, 0.008238160982728004, -0.028287887573242188, -0.01728704199194908, 0.05847161263227463, -0.04455217719078064, 0.005986854434013367, -0.02766425721347332, -0.029185917228460312, 0.04572460055351257, 0.017087480053305626, 0.02302444539964199, -0.0430305190384388, 0.017860783264040947, 0.0006341544794850051, -0.053033553063869476, 0.019170407205820084, -0.0016042899806052446, -0.04056093841791153, -0.003027726896107197, 0.02903624437749386, -0.03886466473340988, 0.018821174278855324, 0.018920954316854477, -0.036519814282655716, 0.013046354055404663, 0.041508857160806656, -0.005653212312608957, 0.002968482207506895, 0.03292769938707352, 0.021403005346655846, 0.03415001556277275, -0.04452723264694214, 0.0028297242242842913, -0.06081646680831909, 0.04158369451761246, 0.004462077748030424, -0.028462504968047142, 0.01309624407440424, 0.05061386525630951, -0.005562785547226667, 0.001272986177355051, 0.01722468063235283, -0.037517622113227844, -0.030383286997675896, -0.04824407026171684, 0.049815621227025986, 0.016089672222733498, 0.021066244691610336, -0.015890110284090042, 0.026117652654647827, 0.016975227743387222, 0.014630376361310482, 0.05313333496451378, -0.005712457001209259, 0.023972364142537117, -0.004608630668371916, 0.017486603930592537, 0.009504131972789764, 0.012771956622600555, 0.05323311686515808, -0.016788138076663017, -0.018846118822693825, -5.154697282705456e-05, -0.01187392883002758, 0.018434522673487663, 0.03347649425268173, 0.004515086300671101, -0.046897027641534805, -0.030308451503515244, -0.008562449365854263, 0.0099094919860363, 0.024296652525663376, 0.014193834736943245, 0.02908613532781601, 0.013744820840656757, -0.037941690534353256, 0.010464522987604141, -0.014031690545380116, 0.05492939054965973, 0.009678748436272144, 0.00034124290687032044, 0.019295133650302887, 0.03200472891330719, -0.020043490454554558, -0.01899579167366028, 0.020891627296805382, -0.02048003114759922, 0.010969663970172405, -0.018833646550774574, -0.05128738656640053, 0.0029326232615858316, 0.02661655843257904, 0.004106608219444752, 0.08601114153862, 0.003988118376582861, -0.027489641681313515, -0.019332552328705788, 0.012447668239474297, -0.011206643655896187, -0.019507167860865593, 0.07388776540756226, -0.0020205634646117687, -0.030757466331124306, 0.014692738652229309, 0.020617229864001274, 0.0042531611397862434, -0.02015574462711811, -0.005606439895927906, -0.006866173818707466, -8.355676982318982e-05, 0.08012407273054123, 0.027589421719312668, -0.020579813048243523, 0.011125571094453335, -0.004327997099608183, 0.013046354055404663, -0.001197370933368802, -0.0028562285006046295, 0.048044510185718536, -0.07398754358291626, 0.004368532914668322, -0.009978091344237328, -0.03292769938707352, -0.008693411946296692, 0.05612676218152046, 0.003969409503042698, -0.08167067915201187, 0.03200472891330719, 0.08446454256772995, -0.003916400950402021, 0.03986247256398201, -0.019644366577267647, -0.0006898914580233395, 0.04841868579387665, 0.09399361908435822, 0.009217261336743832, -0.008069781586527824, 0.04772021993994713, 0.031830109655857086, 0.011774147860705853, -0.010763865895569324, -0.021502785384655, -0.0394882969558239, -0.03444936126470566, -0.032204288989305496, 0.041533805429935455, 0.029709765687584877, -0.0827183723449707, -0.030657684430480003, 0.0015458245761692524, -0.032877810299396515, -0.008269342593848705, -0.014530595391988754, -0.05238497629761696, 0.01475510187447071, 0.017736056819558144, 0.0019036326557397842, -0.03856532275676727, 0.03482353687286377, -0.0466974675655365, 0.040760502219200134, -0.02729007974267006, -0.021103663370013237, -0.018110236153006554, 0.019270189106464386, 0.038989391177892685, -0.016052253544330597, -0.016301706433296204, -0.013632566668093204, 0.02656666748225689, -0.009429296478629112, -0.029260752722620964, -0.013794710859656334, 0.05577752739191055, 0.04180820286273956, -0.002991868183016777, 0.024683302268385887, 0.009928200393915176, -0.0015473836101591587, -0.0161769799888134, 0.04140907898545265, 0.005244734231382608, 0.050838373601436615, -0.01722468063235283, 0.023835165426135063, -0.05707468092441559, -0.008606103248894215, 0.03133120760321617, -0.020741956308484077, -0.01308377180248499, 0.02988438308238983, -0.003230406902730465, -0.034723758697509766, -0.017486603930592537, -0.01656363159418106, 0.013108717277646065, -0.03926378861069679, -0.0575735867023468, -0.022350924089550972, 0.004873673897236586, -0.025045009329915047, -0.012709593400359154, -0.0466226302087307, -0.028088325634598732, 0.005749875213950872, -0.0018428287003189325, 0.003938227891921997, 0.031830109655857086, 0.024982646107673645, 0.0031992255244404078, 0.003841564990580082, -0.04245677590370178, -0.004493259359151125, -0.0031025626230984926, -0.03125637024641037, -0.002542854053899646, -0.05076353996992111, 0.013969327323138714, 0.02196427248418331, 0.006728975102305412, 0.0323789045214653, 0.017025118693709373, 0.030607793480157852, -0.018247434869408607, 0.020193161442875862, 0.05183618143200874, 0.007190461736172438, 0.05482960864901543, -0.04203270748257637, -0.01731198839843273, -0.0016479440964758396, -0.046123724430799484, -0.027739092707633972, -0.015703020617365837, 0.0009970295941457152, 0.0269907359033823, 0.010776338167488575, -0.025219624862074852, 0.03691893815994263, 0.012771956622600555, 0.01873386651277542, -0.01869644783437252, -0.013570203445851803, 0.04357931390404701, -0.0827183723449707, -0.0032647065818309784, -0.0215776227414608, 0.03656970337033272, 0.03372594714164734, -0.014380923472344875, -0.018596667796373367, 0.001669771154411137, -0.07483568042516708, 0.021128607913851738, 0.024633413180708885, 0.0019628775771707296, 0.02484544739127159, -0.01490477379411459, -0.014443286694586277, -0.03509793430566788, 0.022862300276756287, 0.017336932942271233, -0.01576538383960724, 0.017349405214190483, -0.026716338470578194, -0.05058892071247101, -0.007683129981160164, 0.004720884375274181, 0.0019628775771707296, 0.021465368568897247, -0.006541885901242495, -0.03297759220004082, 0.04096006229519844, -0.0013065063394606113, 0.03387561812996864, 0.030483068898320198, 0.0012106230715289712, -0.03549705818295479, 0.015029499307274818, -0.04357931390404701, 0.032154399901628494, -0.009211025200784206, -0.06046723201870918, -0.023111753165721893, 0.003928873222321272, -0.055128954350948334, -0.031780220568180084, -0.030483068898320198, -0.011281479150056839, -0.01688791997730732, 0.009965618140995502, 0.041483912616968155, -0.003966290969401598, 0.028961408883333206, 0.015727965161204338, 0.020991409197449684, -0.01870892010629177, -0.03769223764538765, 0.005247852299362421, -0.042930737137794495, -0.004028654191643, -0.026466887444257736, 0.008094726130366325, 0.011106862686574459, -0.030258560553193092, 0.031056808307766914, 0.024870391935110092, 0.02661655843257904, 0.020292943343520164, -0.022937137633562088, 0.0016401486936956644, 0.03424979746341705, 0.008568685501813889, -0.02953515015542507, -0.008219452574849129, 0.03764234855771065, 0.006778865586966276, 0.017336932942271233, -0.04634823277592659, 0.019606949761509895, 0.029909327626228333, -0.012291761115193367, -0.013570203445851803, -0.01754896715283394, -0.02691590040922165, 0.007863982580602169, -0.009223497472703457, 0.0162143986672163, 0.04352942109107971, -0.03188000246882439, 0.04068566486239433, -0.011106862686574459, 0.03492331877350807, -0.016438905149698257, -0.00877448357641697, 0.033551331609487534, -0.006089753936976194, 0.023847637698054314, -0.03197978064417839, 0.004066071938723326, -0.0016105262329801917, 0.018846118822693825, -0.010813755914568901, 0.007795383688062429, 0.01222316175699234, 0.031081752851605415, 0.02368549443781376, 0.0041658529080450535, 0.024558575823903084, -0.04622350633144379, 0.007701838854700327, -0.0009424618910998106, 0.01006539911031723, 0.002028358867391944, -0.03836575895547867, -0.10467017441987991, -0.015129280276596546, -0.04814428836107254, -0.027464695274829865, -0.03908917307853699, 0.01330827921628952, -0.0034673865884542465, -0.03160560503602028, -0.018210016191005707, -0.0358462929725647, -0.01758638583123684, -0.026816120371222496, -0.026042817160487175, -0.00474894791841507, 0.003520395141094923, -0.0002933013020083308, -0.026791173964738846, 0.003130626166239381, 0.05248475819826126, -0.011356314644217491, -0.01868397556245327, 0.022001691162586212, 0.030458122491836548, 0.04806945472955704, 0.01652621291577816, 0.00495474599301815, 0.012154562398791313, -0.0143933966755867, 0.009098771959543228, 0.004580567590892315, -0.010869883000850677, 0.02763931266963482, -0.010021745227277279, -0.005035817623138428, 0.009641330689191818, -0.01863408461213112, 0.04552504047751427, -0.01560323964804411, -0.04465195909142494, 0.005275915842503309, -0.01863408461213112, -0.01129395142197609, 0.0007082106312736869, -0.024870391935110092, -0.0215152595192194, 0.0002636788412928581, 0.02833777852356434, 0.02482050098478794, -0.007670657709240913, -0.019631894305348396, 0.012310469523072243, 0.008655994199216366, -0.03559684008359909, -0.018920954316854477, -0.006049217656254768, -0.009023936465382576, 0.04016181826591492, -0.06046723201870918, 0.005871483124792576, 0.0023791510611772537, 0.013333223760128021, 0.019295133650302887, 0.031455930322408676, 0.002474254695698619, -0.007209170609712601, -0.006136525887995958, -0.007227879948914051, -0.01905815303325653, -0.006279961206018925, 0.0465976856648922, 0.008369123563170433, 0.003299006260931492, -0.013981800526380539, 0.014468232169747353, -0.0305329579859972, -0.04360425844788551, -0.041858091950416565, -0.019270189106464386, 0.023086808621883392, -0.0152664789929986, -0.0324038490653038, 0.020218107849359512, -0.00970369391143322, 0.009030172601342201, 0.02304938994348049, -0.011387496255338192, 0.004259397741407156, 0.013345696963369846, 0.02405967190861702, 0.018846118822693825, -0.015703020617365837, 0.010339796543121338, -0.014605430886149406, 0.009448004886507988, 0.008069781586527824, 0.009310806170105934, 0.019145462661981583, 0.04752065986394882, 0.014156416989862919, -0.006295552011579275, -0.03562178462743759, 0.019332552328705788, -0.02475813776254654, 0.018908482044935226, -0.04347953200340271, -0.003981881774961948, 0.004854965023696423, -0.008019890636205673, -0.004960982128977776, -0.018434522673487663, 0.027439750730991364, 0.01525400672107935, -0.00914242584258318, 0.04694691672921181, 0.035072989761829376, 0.041184570640325546, -0.014705211855471134, 0.018509358167648315, 0.019656838849186897, -0.02263779379427433, -0.007146807853132486, -0.026666447520256042, -0.008868028409779072, -0.024558575823903084, -0.009872074238955975, 0.02731502428650856, -0.012266815640032291, 0.03804147243499756, 0.024907810613512993, -0.012771956622600555, 0.006872410420328379, -0.01542862318456173, 0.007408732548356056, -0.00691606430336833, -0.041833147406578064, -0.011892637237906456, 0.00014928159362170845, 0.014642848633229733, 0.004596158396452665, 0.02916097082197666, 0.004936037119477987, -0.02008090913295746, 0.0152664789929986, 0.036045853048563004, -0.01349536795169115, 0.05497928336262703, 0.023585712537169456, 0.0030526721384376287, -0.03352638706564903, 0.005070117302238941, -0.0037012482061982155, 0.016800610348582268, 0.045026134699583054, -0.004727120511233807, -4.345926208770834e-05, -0.0003833379887510091, 0.0003016813425347209, 0.0023011972662061453, 0.004003709182143211, -0.00423445226624608, 0.013370642438530922, 0.003928873222321272, -0.012597340159118176, 0.0030324042309075594, -0.0010149589506909251, 0.013358169235289097, 0.01582774706184864, 0.013008936308324337, -0.03617057949304581, 0.0036139399744570255, 0.005796647164970636, -0.030258560553193092, -0.08132144063711166, 0.04098501056432724, -0.011412441730499268, 0.02691590040922165, -0.006785101722925901, -0.00011732052371371537, 0.029934274032711983, -0.008749539032578468, -0.007209170609712601, -0.009610149078071117, -0.018147652968764305, 0.06675343215465546, 0.03439946845173836, 0.005101298913359642, 0.00029369108960963786, -0.006491995416581631, -0.00042484840378165245, -0.016052253544330597, -0.0010149589506909251, -0.050139907747507095, -0.006604249123483896, -0.004889264702796936, -0.009984327480196953, -0.05009001865983009, 0.0024040963035076857, -0.00882437452673912, -0.07288995385169983, 0.030807355418801308, 0.006685321219265461, -0.02400978095829487, 0.020255524665117264, -0.00028959850897081196, 0.006367269437760115, 0.005101298913359642, 0.033576276153326035, 0.013046354055404663, 0.03335176780819893, -0.023997308686375618, 0.004518204368650913, 0.00973487552255392, 0.04243183135986328, -0.003997472580522299, -0.022088998928666115, 0.0035048045683652163, 0.011549640446901321, -0.010813755914568901, -0.005004636477679014, 0.0033925508614629507, -0.02440890483558178, -0.01648879610002041, -0.012946573086082935, 0.028637120500206947, 0.008936627767980099, -0.0022731339558959007, -0.01259110402315855, 0.04088522866368294, -0.011262770742177963, 0.009061354212462902, -0.00060842972015962, 0.03342660516500473, -0.0020439496729522943, 0.001562194898724556, 0.0015598562313243747, 0.0017679929733276367, 0.014979609288275242, -0.010140234604477882, 0.04357931390404701, -0.006133407820016146, -0.005360106006264687, 0.01764874905347824, -0.011094390414655209, -0.0107825743034482, 0.00301213632337749, -0.011630712077021599, -0.02337367832660675, 0.015915054827928543, 0.02049250528216362, 0.00879319291561842, -0.014817465096712112, -0.03168043866753578, -0.018858592957258224, -0.013732347637414932, -0.013769765384495258, 0.008911682292819023, -0.022064054384827614, -0.0162019245326519, -0.004932918585836887, -0.0063111428171396255, -0.0010944718960672617, -0.012435195967555046, 0.002770479302853346, -0.011917582713067532, 0.0014538390096276999, -0.014543067663908005, 0.018085289746522903, -0.027439750730991364, 0.010383451357483864, -0.01943233236670494, -0.08810654282569885, -0.006189534440636635, -0.004742711316794157, 0.041184570640325546, 0.026017872616648674, 0.03405023738741875, -0.007383787538856268, 0.015528404153883457, 0.02298702672123909, -0.03135615214705467, 0.013732347637414932, -0.023111753165721893, 0.029210861772298813, 0.01612708903849125, -0.008288051933050156, -0.051237497478723526, 8.92084208317101e-05, 0.011530931107699871, -0.003280297387391329, -0.007271533831954002, -0.007695602718740702, -0.0161520354449749, -0.012304233387112617, 0.016314178705215454, 0.007782910950481892, -0.016625994816422462, -0.010003035888075829, 0.016027309000492096, 0.020766902714967728, 0.0001805605716072023, 0.019569531083106995, -0.017050063237547874, -0.013694929890334606, 0.06929784268140793, -0.024209342896938324, -0.037193335592746735, -0.0024415140505880117, -0.009928200393915176, -0.006810047198086977, -0.0394882969558239, -0.01754896715283394, -0.05463004857301712, 0.019631894305348396, 0.017461659386754036, 0.028237998485565186, -0.04128435254096985, 0.006841228809207678, 0.04128435254096985, 0.034349579364061356, 0.025232097133994102, 0.026666447520256042, 0.03883972018957138, -0.01719973422586918, 0.001398491789586842, -0.014281142503023148, 0.029984163120388985, 0.005400641821324825, -0.022400815039873123, 0.011113098822534084, -0.04782000184059143, -0.025219624862074852, 0.021452896296977997, -0.0033177153673022985, -0.03552200272679329, -0.006834992207586765, -0.01576538383960724, -0.03983752802014351, -0.005696866195648909, 0.011936291120946407, -0.03637014329433441, -0.0034611504524946213, 0.057623475790023804, -0.0061645894311368465, 0.013844601809978485, -0.00520107988268137, 0.003320833435282111, 0.004917327780276537, 0.008843082934617996, -0.021403005346655846, -0.005182371009141207, -0.021128607913851738, -0.030133835971355438, 0.0161769799888134, -0.02664150297641754, 0.001322876662015915, -0.009410587139427662, 0.024533631280064583, -0.027863819152116776, 0.004633576143532991, -0.002362001221626997, 0.00882437452673912, -0.036469921469688416, 0.05527862533926964, -0.011599530465900898, -0.008606103248894215, -0.01581527478992939, 0.009535313583910465, -0.009254679083824158, -0.0035172770731151104, -0.01241025049239397, -0.0538318008184433, -0.010333560407161713, -0.007701838854700327, -0.03175527602434158, 0.008312997408211231, -0.028287887573242188, -2.9719900339841843e-05, 0.04073555767536163, 0.05163662135601044, 0.032503630965948105, 0.03262835741043091, 0.021365586668252945, 0.013420532457530499, 0.028986355289816856, 0.05363224074244499, 0.023897528648376465, -0.015553349629044533, -0.0025366179179400206, 0.0003763221320696175, -0.02082926593720913, -0.028911519795656204, -0.0007323762984015048, -0.03385067358613014, -0.01059548556804657, -0.0018506241030991077, -0.03766729310154915, 0.03300253674387932, 0.04036137834191322, -0.026791173964738846, 0.0070283180102705956, 0.001618321635760367, -0.004340469837188721, 0.020317887887358665, 0.009971855208277702, 0.00602427264675498, -0.03564672917127609, -0.04445239529013634, 0.03913906216621399, -0.05133727937936783, 0.014331033453345299, 0.0005109874182380736, 0.006202007178217173, 0.01366998441517353, -0.010950954630970955, -0.031430985778570175, 0.005890191998332739, -0.0033551331143826246, -0.023248951882123947, 0.004159616772085428, -0.018409578129649162, 0.00971616618335247, -0.02833777852356434, -0.005204197950661182, 0.04786989092826843, 0.010938482359051704, -0.012347887270152569, -0.00177734752651304, -0.02084173820912838, -0.003891455475240946, 0.027589421719312668, 0.06376000493764877, -0.008381596766412258, 0.009759820066392422, -0.02621743455529213, 0.00931704230606556, 0.00933575164526701, 0.008206980302929878, -0.011580822058022022, -0.02729007974267006, -0.038665104657411575, -0.008693411946296692, -0.01612708903849125, 0.024184398353099823, 0.02733996883034706, -0.0359710194170475, 0.003966290969401598, 0.00628619734197855, 0.00898651871830225, 0.011412441730499268, 0.017062535509467125, 0.010720212012529373, -0.01577785611152649, -0.004617985337972641, 0.018858592957258224, 0.021290751174092293, 0.01238530594855547, -0.009479186497628689, 0.006255015730857849, 0.025568857789039612, 0.012185744009912014, 0.0216025672852993, 0.02263779379427433, -0.003236643271520734, 0.02187696471810341, -0.016962755471467972, 0.04068566486239433, 0.014605430886149406, 0.02333625964820385, -0.017736056819558144, -0.019582003355026245, 0.0075334589928388596, -0.02198921889066696, -0.026716338470578194, 0.009628857485949993, -0.005946318618953228, -0.02410956285893917, 0.020317887887358665, -0.028163161128759384, -0.017000172287225723, -0.006598012521862984, -0.01759885810315609, -0.03809136152267456, -0.0039039282128214836, 0.017997981980443, 0.002123462501913309, -0.03202967345714569, 0.008924155496060848, 0.0005905003054067492, -0.046921972185373306, -0.0323539599776268, -0.016975227743387222, -0.06001821905374527, -0.024608466774225235, 0.05413114279508591, -0.0048362561501562595, -0.003138421569019556, 0.04073555767536163, -0.010651612654328346, -0.009416823275387287, -0.0022622202523052692, 0.04991539940237999, -0.011805328540503979, -0.00682875607162714, -0.0269408468157053, -0.024620939046144485, -0.007832801900804043, 0.013632566668093204, -0.0010843378258869052, -0.0007315967814065516, 0.023810219019651413, 0.032179344445466995, 0.028562285006046295, -0.014543067663908005, -0.035023100674152374, -0.029585039243102074, 0.004951627925038338, 0.030632739886641502, 0.009759820066392422, 0.034324634820222855, -0.019182879477739334, -6.781984120607376e-05, 0.010152707807719707, 0.002789188176393509, 0.00040458040894009173, 0.009666276164352894, -0.0032210524659603834, -0.019582003355026245, 0.014206307008862495, -0.0027813927736133337, 0.0008668466471135616, -0.005344515200704336, 0.004608630668371916, -0.048693083226680756, 0.002140612341463566, 0.0005265781655907631, -0.003916400950402021, -0.008549977093935013, 0.03185505419969559, -0.010876119136810303, -0.024521159008145332, -0.011674366891384125, -0.014680266380310059, 0.038590267300605774, -0.0032865337561815977, -0.010264961048960686, -0.029185917228460312, -0.008493850007653236, -0.02333625964820385, 0.008743301965296268, 0.03347649425268173, -0.0179730374366045, -0.009915728121995926, -0.03786685690283775, -0.007277769967913628, 0.008818138390779495, 0.05278410017490387, -0.04031148925423622, -0.023847637698054314, 0.02475813776254654, -0.0030183724593371153, 0.010027981363236904, 0.038964446634054184, 0.011038263328373432, 0.006704030092805624, 0.010745156556367874, -0.011936291120946407, 0.005590849090367556, 0.028138216584920883, 0.013857074081897736, -0.023947417736053467, 0.006834992207586765, 0.0027034389786422253, 0.012179507873952389, 0.0024321596138179302, -0.0023058743681758642, -0.03332682326436043, 0.010988372378051281, -0.03377583995461464, 0.011350078508257866, 0.009666276164352894, 0.003055790439248085, -0.009105008095502853, -0.017149843275547028, 0.0014335711020976305, 0.011936291120946407, -0.0021717939525842667, -0.007153043989092112, 0.014717684127390385, -0.0018054108368232846, -0.009379405528306961, -0.01421878021210432, 0.010632903315126896, 0.019557058811187744, 0.0029248278588056564, -0.03527255356311798, 0.01579032838344574, -0.014044162817299366, 0.018534304574131966, 0.02409709058701992, 0.04415305331349373, 0.013595148921012878, 0.007358842063695192, 0.023161644116044044, 0.015179171226918697, -0.024995118379592896, 0.022787464782595634, 0.021278278902173042, 0.041134681552648544, 0.02656666748225689, 0.026466887444257736, -0.0015606358647346497, -0.007340133190155029, -0.013794710859656334, 0.005756111349910498, 0.016314178705215454, 0.0024087736383080482, 0.028188107535243034, -0.0232988428324461, -0.01612708903849125, 0.0008481377153657377, 0.093394935131073, -0.0358961820602417, -0.007103153504431248, -0.02591809071600437, -0.006972190923988819, -0.03559684008359909, -0.023797746747732162, 0.03851542994379997, -0.0008122790022753179, -0.028886573389172554, 0.015727965161204338, -0.016264287754893303, -0.007776674814522266, 0.03402528911828995, 0.012653466314077377, -0.017810892313718796, 0.005784174893051386, -0.0037885564379394054, -0.0026987618766725063, 0.021452896296977997, 0.0029497731011360884, 0.005478595849126577, -0.0048175472766160965, 0.015727965161204338, -0.0162143986672163, -0.021852020174264908, 0.007390023674815893, -0.007683129981160164, 0.030632739886641502, 0.008537503890693188, 0.008294288069009781, -0.02082926593720913, -0.016301706433296204, 0.003950700629502535, -0.005219788756221533, -0.01475510187447071, 0.011612003669142723, 0.01129395142197609, 0.013021408580243587, 0.009934436529874802, 0.04240688681602478, 0.023186588659882545, 0.0008153971284627914, 0.0011225352063775063, -0.012198216281831264, 0.036095745861530304, -0.015129280276596546, 0.017848310992121696, 0.005397523753345013, -0.0019176644273102283, -0.030308451503515244, -0.027589421719312668, 0.029684821143746376, -0.016314178705215454, -0.014505649916827679, -0.003978763706982136, 0.007022081408649683, 0.051886074244976044, 0.02477061189711094, -0.0162019245326519, -0.02951020374894142, -0.041883036494255066, -0.02331131510436535, 0.021278278902173042, 0.03796663507819176, -0.015678076073527336, -0.011917582713067532, 0.010876119136810303, -0.006152116693556309, -0.002121903467923403, -0.012372832745313644, 0.026117652654647827, -0.0038602740969508886, 0.03185505419969559, -0.011250297538936138, 0.007564640138298273, -0.012167034670710564, 0.023174116387963295, -0.007496040780097246, 0.016376541927456856, -0.008836846798658371, -0.02301197312772274, -0.01721220649778843, 0.03851542994379997, 0.019457276910543442, -0.011038263328373432, 0.032528575509786606, 0.00826310645788908, -0.011643185280263424, 0.011774147860705853, -0.012011127546429634, -0.001933255116455257, 0.007084444630891085, 0.029659876599907875, 0.011032027192413807, -0.00467411195859313, -0.02222619764506817, -0.0009315483621321619, 0.013333223760128021, 0.01899579167366028, -0.015066917985677719, 0.04265633970499039, 0.011262770742177963, -0.024546103551983833, 0.03619552403688431, -0.0007733020465821028, 0.01492971833795309, -0.056925009936094284, -0.011780383996665478, -0.021278278902173042, 0.01113804429769516, 0.03090713731944561, -0.013345696963369846, -0.0125723946839571, 0.016339123249053955, 0.0539315827190876, -0.006965954788029194, -0.045076027512550354, 0.01909557171165943, -0.04128435254096985, 0.011524694971740246, 0.00032233912497758865, -0.008206980302929878, -0.020617229864001274, -0.03402528911828995, -0.02771414816379547, 0.01834721490740776, -0.011605767533183098, -0.0076207672245800495, 0.0005047511076554656, -0.006735211703926325, 0.018035398796200752, 0.03128131479024887, -0.006442104931920767, 0.04063577577471733, 0.023523349314928055, -0.012983990833163261, 0.014019218273460865, 0.058721065521240234, 0.0053881690837442875, -0.013108717277646065, -0.024022255092859268, -0.042606450617313385, -0.040411267429590225, 0.0026130126789212227, -0.019507167860865593, 0.0031851937528699636, -0.01758638583123684, 0.0003116204752586782, -0.02294960990548134, 0.0023963009007275105, 0.015129280276596546, 0.04879286512732506, 0.02192685566842556, 0.0251697339117527, 0.00047707746853120625, -0.02050497755408287, 0.02654172293841839, -0.02838766947388649, -0.004465195816010237, 0.003345778677612543, 0.008300524204969406, -0.02983449213206768, -0.0031602485105395317, 0.0026426350232213736, -0.012036072090268135, -0.010645375587046146, -0.0269657913595438, -0.03761740401387215, 0.028213052079081535, 0.006242543458938599, -0.026691393926739693, 0.0028702602721750736, -0.02186449244618416, -0.027165353298187256, -0.005004636477679014, -0.009872074238955975, -0.0394384041428566, -0.022513067349791527, 0.011406205594539642, -0.033626165241003036, -0.05258454009890556, 0.025618748739361763, 0.006239424925297499, -0.007845274172723293, 0.00404424499720335, 0.008743301965296268, 0.0027174707502126694, 0.02736491523683071, 0.0020564221777021885, -0.006382860243320465, -0.009535313583910465, 0.045824382454156876, 0.007658184971660376, 0.015116808004677296, 0.03188000246882439, 0.010564303956925869, -0.03656970337033272, 0.0007004152284935117, 0.02876184694468975, -0.04245677590370178, -0.032478686422109604, 0.023598184809088707, -0.01150598656386137, 0.003401905531063676, 0.021353114396333694, 0.029909327626228333, 0.03168043866753578, -0.009404351003468037, 0.04567471146583557, -0.032478686422109604, -0.01183651015162468, -0.011674366891384125, 0.02085421048104763, 0.00537881487980485, 0.02985943667590618, -0.0014101848937571049, 0.024346541613340378, -0.01944480463862419, 0.027414804324507713, 0.03377583995461464, -0.0011108422186225653, -0.01827237941324711, 0.02659161202609539, 0.027913710102438927, 0.047271206974983215, 0.03519771620631218, 0.006766392849385738, -0.005799765232950449, 0.012142089195549488, -0.022874774411320686, -0.01898331753909588, 0.019981127232313156, -0.014143943786621094, 0.022812411189079285, 0.007271533831954002, -0.008026126772165298, -0.016027309000492096, -0.027739092707633972, -0.0019051918061450124, 0.008369123563170433, -0.011244061402976513, 0.007358842063695192, 0.013520313426852226, -0.023448513820767403, 0.059519313275814056, 0.038315869867801666, -0.0023916237987577915, -0.02484544739127159, 0.01021507102996111, 0.006853701081126928, 0.05492939054965973, -0.002347969450056553, -0.027040626853704453, -0.0047957198694348335, -0.0045431493781507015, 0.00628619734197855, -0.033975400030612946, -0.028861628845334053, 0.02477061189711094, -0.014044162817299366, 0.009672512300312519, 0.026766229420900345, 0.018172597512602806, -0.01059548556804657, -0.012497559189796448, -0.035397276282310486, 0.03170538321137428, -0.002563122194260359, -0.0008138380362652242, -0.0008216334390453994, -0.0015395883237943053, 0.023074336349964142, -0.0041471440345048904, 0.015615712851285934, 0.02333625964820385, 0.005930727813392878, -0.010514413006603718, 0.006859937682747841, 0.02475813776254654, 0.01655115932226181, -0.017686165869235992, 0.027813928201794624, -0.0053694602102041245, -0.04355436936020851, -0.00024146201030816883, -0.00495474599301815, 0.016663411632180214, -0.004558740183711052, 0.007988709025084972, 0.01648879610002041, 0.05148695036768913, 0.0018537422874942422, -0.006978427525609732, 0.0006902812165208161, -0.022201253101229668, -0.020629703998565674, -0.018883537501096725, 0.010882355272769928, -0.02659161202609539, 0.015553349629044533, 0.001719661639072001, -0.023248951882123947, 0.031406041234731674, 0.0252071525901556, 0.02368549443781376, -0.028462504968047142, -0.02231350541114807, 0.027489641681313515, -0.008169561624526978, -0.005244734231382608, 0.005319569725543261, 0.01043334137648344, 0.03494826331734657, 0.025668639689683914, -0.001989381853491068, -0.007040790282189846, 0.025419186800718307, -0.02736491523683071, 0.02833777852356434, -0.006142762489616871, 0.014692738652229309, 0.03340166062116623, 0.0006170046399347484, -0.008830610662698746, -0.006351678632199764, -0.013008936308324337, 0.01587763801217079, 0.021652458235621452, -0.02701568230986595, -0.002940418664366007, -0.01900826394557953, -0.013969327323138714, 0.005949436686933041, -0.01899579167366028, 0.012098435312509537, -0.0008933509816415608, -0.013794710859656334, -0.014642848633229733, -0.0216025672852993, 0.025057481601834297, -0.012665939517319202, 0.041558749973773956, -0.016339123249053955, -0.008219452574849129, 0.01874633878469467, -0.003124389797449112, 0.011019553989171982, -0.025281988084316254, -0.024184398353099823, 0.02014327049255371, 0.01758638583123684, -0.014493177644908428, 0.034723758697509766, 0.04485151916742325, -0.004549385979771614, -0.0058340649120509624, -0.02803843654692173, 0.007477331906557083, 0.023847637698054314, -0.029260752722620964, -0.01045205071568489, -0.03671937435865402, 0.004667875822633505, 0.0013875783188268542, 0.018185071647167206, 0.02009338140487671, -0.03711849823594093, 0.007695602718740702, -0.01729951612651348, 0.03267824649810791, 0.007047026883810759, -0.004066071938723326, 0.007290242705494165, -0.04809439927339554, -0.06695298850536346, 0.032553523778915405, 0.010614193975925446, -0.008113435469567776, -0.03205461800098419, 0.02483297325670719, 0.010358505882322788, 0.015940001234412193, 0.007034554146230221, 0.0215152595192194, -0.013358169235289097, -0.028462504968047142, 0.02152773179113865, -0.023835165426135063]'}),\n",
       " Document(page_content='scale of galaxy clusters and superclusters ( >Mpc), quasars can be used to probe the growth of early large scale structure. They also provide sightlines to study the properties of the intergalactic medium (IGM), including the history of cosmic reionization, the chemical enrichment of the IGM, the distribution of baryons and the evolution of ionization state of the IGM, and its connection to galaxy formation through the circumgalactic medium (CGM). The history of quasar studies is driven and shaped by innovations in systematic surveys and multiwavelength observations of quasars. These observations aim to reaching higher redshift, covering the full range of quasar luminosities, and spatially resolving quasar hosts and their central AGN structure. Studies of high-redshift quasars within the ﬁrst few billion years of cosmic history started with the advent of large area digital or digitized sky surveys, highlighted by progress made using data from the Sloan Digital Sky Survey (SDSS, York et al. 2000), which resulted in the ﬁrst detections of quasars at z>5 andz>6 (Fan et al. 2001). Observations of z∼6 quasars in the early 2000s provided fundamental insights in the three key scales of galaxy evolution mentioned above: 1. SMBHs with masses up to a few billion M⊙already existed in the Universe within one billion years after the Big Bang, requiring a combination of early massive BH seeds and rapid BH accretion. 2. Early luminous quasars are sites of intensive galaxy-scale star formation and the assembly of early massive galaxies. 3. Detection of strong IGM absorption in quasar spectra, especially the emergence of complete Gunn-Peterson absorption troughs (Gunn & Peterson 1965) shows a rapid transition of the ionization state of the IGM at z∼5−6, marking this epoch as the end of cosmic reionization. In this review, we will focus on the progress since then, including the quests for the earliest quasars, and the detailed studies of quasars during and right after the epoch of reionization (EoR). We will limit our discussions to: (1) the redshift range of z > 5.3; this is the lower redshift limit at which there are still detectable signatures of reionization activity. This redshift corresponds to 1.1 Gyr after the Big Bang, when the Universe was at 8% of its current age. We consider z>5.3 as “cosmic dawn” in the context of this review. (2) Luminous Type-1', metadata={'title': 'pdf2.pdf', 'tokens': 560, 'embeddings': '[-0.002986811101436615, 0.03991425409913063, 0.01764172501862049, 0.0054153394885361195, 0.008180307224392891, 0.01795906387269497, -0.01909913681447506, 0.004234131425619125, -0.04673117771744728, 0.021837659180164337, -0.013375272043049335, 0.005427092779427767, -0.05594577640295029, 0.000657818338368088, 0.053171996027231216, 0.028842633590102196, -0.04315816983580589, 0.0038198272231966257, -0.0031822097953408957, 0.035001371055841446, 0.01289338618516922, -0.040901534259319305, -0.024047281593084335, 0.01760646514594555, -0.09134676307439804, -0.02543417178094387, 0.014268524013459682, 0.042264919728040695, 0.011823833920061588, -0.011524125002324581, 0.008380113169550896, -0.034601759165525436, -0.042264919728040695, -0.0017174531240016222, -0.05848449096083641, 0.05914267897605896, -0.029688872396945953, -0.0334499329328537, -0.027032623067498207, -0.01500898227095604, 0.012576046399772167, -0.008785602636635303, -0.016384121030569077, -0.06492530554533005, -0.015185282565653324, -0.021449798718094826, -0.028372501954436302, -0.02416481450200081, -0.03970269486308098, -0.0017762196948751807, -0.018335171043872833, -0.007428094744682312, -0.022037465125322342, -0.03582410141825676, -0.013163711875677109, -0.01458586286753416, -0.022848444059491158, 0.012470266781747341, -0.030417578294873238, 0.0008234665729105473, 0.017547698691487312, 0.03309733420610428, 0.03396707773208618, 7.905940583441406e-05, 0.0016586865531280637, 0.013998197391629219, 0.019110890105366707, 0.011083375662565231, -0.010454573668539524, 0.022037465125322342, 0.0036200208123773336, -0.029453806579113007, 0.0031528265681117773, -0.007721927482634783, 0.035353969782590866, 0.012717085890471935, -0.002853117184713483, 0.04865872114896774, -0.008832615800201893, -0.003085245145484805, -0.011735684238374233, 0.005262546706944704, -0.029406793415546417, -0.028372501954436302, -0.010243013501167297, 0.03462526574730873, 0.012070653960108757, -0.007334068417549133, -0.04249998554587364, 0.021720124408602715, 0.029594846069812775, -0.0009321847464889288, 0.03396707773208618, -0.0624806210398674, -0.006711142603307962, -0.032110054045915604, 0.02644495666027069, -0.02522261254489422, 0.05152653157711029, 0.03283876180648804, 0.0033732012379914522, 0.02174363099038601, -7.180540706031024e-05, -0.07080196589231491, 0.0175947118550539, -0.025974825024604797, -0.0003838191623799503, 0.003102875081822276, 0.005844335537403822, -0.05251380801200867, 0.030793683603405952, 0.014703396707773209, -0.03178096190094948, 0.017841530963778496, -0.0770077183842659, -0.015173529274761677, -0.07033183425664902, -0.03996127098798752, -0.008145047351717949, 0.02036849409341812, 0.019816087558865547, -0.0034525361843407154, -0.0029941569082438946, 0.040149323642253876, 0.007974623702466488, -0.04470960795879364, -0.0026929781306535006, -0.02381221577525139, -0.02926575392484665, 0.026680024340748787, 0.03375551849603653, -0.018640756607055664, 0.018899329006671906, 0.00011138102127006277, -0.03159290924668312, -0.004169488325715065, 0.008574042469263077, -0.0655364841222763, -0.05307796970009804, -0.011053992435336113, -0.015349828638136387, -0.021767137572169304, 0.01574944145977497, 0.01362209115177393, 0.046449098736047745, 0.015631908550858498, -0.03972620144486427, 0.028278473764657974, 0.02081511914730072, 0.006329159718006849, 0.0070696184411644936, -0.03335590660572052, -0.013304752297699451, -0.03276824206113815, -0.005109753459692001, 0.015408595092594624, -0.014433070085942745, -0.010572106577455997, -0.010148987174034119, -0.013245985843241215, -0.019968880340456963, 0.02432936057448387, -0.022566363215446472, -0.015655415132641792, -0.0316869355738163, 0.02230779081583023, -0.03420214354991913, -0.03801021724939346, -0.09341534227132797, -0.014186250977218151, -0.034131623804569244, -0.004151858389377594, 0.0193577092140913, -0.035142410546541214, -0.005206718109548092, 0.056792017072439194, -0.028490034863352776, -0.0007705767056904733, -0.017841530963778496, -0.01357507798820734, 0.0382922999560833, 0.012105913832783699, -0.004986343439668417, -0.0572151355445385, 0.004892317112535238, 0.024352867156267166, -0.07272951304912567, 0.015079502016305923, -0.0011004040716215968, -0.05011613294482231, -0.006288023199886084, 0.02522261254489422, -0.030394071713089943, 0.045649874955415726, 0.022777924314141273, -0.038527365773916245, 0.0016439948230981827, 0.05768526718020439, -0.02693859674036503, -0.013151958584785461, 0.025998331606388092, 0.00856228917837143, 0.02543417178094387, -0.056039802730083466, -0.006364419590681791, -0.07884123176336288, 0.04416895657777786, 0.011653411202132702, -0.01610204018652439, -0.014574109576642513, 0.001114361104555428, -0.0018335171043872833, -0.003396707819774747, 0.028184447437524796, -0.03909152373671532, -0.04889378696680069, -0.05340706184506416, 0.048470668494701385, 0.024493906646966934, -0.012470266781747341, 0.014374303631484509, 0.02961835265159607, 0.036505796015262604, 0.00732819177210331, 0.039279576390981674, 0.0007077698828652501, 0.0180413369089365, -0.016995292156934738, 0.028396008536219597, 0.017771011218428612, 0.006599485874176025, 0.03149888291954994, -0.016642693430185318, -0.003699355758726597, 0.003957928624004126, 0.020004142075777054, 0.03732852637767792, 0.03093472309410572, -0.002172894077375531, -0.058061372488737106, -0.0033056195825338364, 0.004760092124342918, 0.008103909902274609, 0.008485892787575722, 0.019345955923199654, 0.038433339446783066, 0.005864903796464205, -0.01852322369813919, 0.021179473027586937, -0.023577148094773293, 0.030911216512322426, 0.014009950682520866, -0.0022889580577611923, -0.010813049040734768, 0.010942336171865463, -0.01817062497138977, -0.03140485659241676, 0.016913019120693207, -0.017771011218428612, 0.023201042786240578, -0.008521152660250664, -0.060176968574523926, -0.005406524520367384, 0.060835156589746475, -0.001995125086978078, 0.046355072408914566, 0.008391866460442543, -0.02644495666027069, -0.02886614017188549, 0.019522255286574364, -0.028019901365041733, -0.006299776490777731, 0.07089599221944809, -0.024587932974100113, -0.03347343951463699, 0.037210993468761444, 0.0365293025970459, 0.009796387515962124, -0.0038639020640403032, -0.008080403320491314, 0.012047147378325462, 0.012646566145122051, 0.06788714230060577, 0.05025717243552208, -0.02126174606382847, 0.029148219153285027, 0.005456476006656885, -0.021191226318478584, -6.781111733289436e-05, -0.003058800008147955, 0.05702708289027214, -0.061681393533945084, 0.002584259957075119, -0.001131256460212171, -0.04043140262365341, -0.014362550340592861, 0.025105079635977745, 0.0026400883216410875, -0.08791479468345642, 0.019075630232691765, 0.08537607640028, 0.01746542565524578, 0.04057244211435318, -0.04637857899069786, -0.01645464077591896, 0.04489766061306, 0.06581856310367584, 0.017265619710087776, -0.015020735561847687, 0.06318581849336624, 0.030840696766972542, -0.02508157305419445, 0.014103977009654045, -0.01741841249167919, -0.016219573095440865, -0.022766171023249626, -0.05293692648410797, 0.046049486845731735, 0.035800594836473465, -0.058672547340393066, -0.015537881292402744, -0.0067640324123203754, -0.043463755398988724, -0.0032321615144610405, -0.01659568026661873, -0.05340706184506416, -0.011835587210953236, 0.004251761361956596, -0.016254832968115807, -0.017136331647634506, 0.04285258427262306, -0.007010851986706257, 0.03547150269150734, -0.00458673108369112, -0.04386337101459503, -0.017312632873654366, 0.004204748198390007, 0.03617670014500618, -0.03194550797343254, -0.017794517800211906, -0.02227253094315529, 0.008380113169550896, 0.0009167585521936417, -0.0204625204205513, 0.003179271472617984, 0.09040649235248566, 0.0514795184135437, 0.0019290127092972398, -0.003887408645823598, -0.003937360364943743, 0.02451741322875023, -0.012858126312494278, 0.024305853992700577, -0.019216669723391533, 0.06812220811843872, -0.017935557290911674, 0.010196000337600708, -0.04435700923204422, -0.03248615935444832, 0.03335590660572052, -0.009972686879336834, -0.00711663207039237, 0.03119329735636711, -0.015537881292402744, -0.026585998013615608, 0.014421316795051098, -0.00611760001629591, -0.005879595410078764, -0.06309179216623306, -0.027784835547208786, -0.02498754672706127, -0.01238799374550581, -0.011271428316831589, -0.04021984338760376, -0.04814157634973526, -0.016043273732066154, 0.009473171085119247, 0.010525093413889408, -0.004128351807594299, 0.03704644739627838, 0.011929614469408989, 0.015138269402086735, 0.018899329006671906, -0.03370850533246994, -0.0038550870958715677, -0.012317474000155926, -0.024587932974100113, -0.016160806640982628, -0.0897483080625534, 0.030300045385956764, -0.0044545060954988, 0.013328258879482746, 0.04494467377662659, 0.010977596044540405, 0.03779865801334381, -0.042711544781923294, 0.03323837369680405, 0.03920905664563179, -0.0005259608151391149, 0.058108385652303696, -0.023177536204457283, -0.03737553954124451, -0.000574443256482482, -0.05354810133576393, -0.024258840829133987, -0.0017321447376161814, -0.03243914619088173, 0.01900510862469673, 0.03154589608311653, -0.02107369340956211, 0.032885774970054626, 0.00745747797191143, 0.022460583597421646, -0.017042305320501328, -0.013716118410229683, 0.03133433684706688, -0.09087662398815155, -0.010213630273938179, -0.01584346778690815, 0.02107369340956211, 0.041254132986068726, -0.002703262260183692, -0.02432936057448387, 0.005244916770607233, -0.04118361324071884, 0.036717355251312256, 0.009561321698129177, 0.010542723350226879, 0.018288157880306244, -0.00766903767362237, -0.006470199674367905, -0.03754008561372757, 0.013245985843241215, 0.018252898007631302, -0.02081511914730072, 0.01529106218367815, 0.0024035528767853975, -0.04294661059975624, -0.011324318125844002, 0.0060529569163918495, -0.016842499375343323, 0.012270459905266762, -0.014609369449317455, -0.0682162344455719, 0.024940533563494682, 0.016055027022957802, 0.0186995230615139, 0.028983673080801964, 0.02293071709573269, -0.03824528679251671, 0.0030117868445813656, -0.02174363099038601, 0.021273499354720116, -0.026421450078487396, -0.05091535672545433, -0.019992388784885406, 0.006370296236127615, -0.06736999750137329, -0.016666200011968613, -0.04416895657777786, -0.0016102041117846966, -0.0009931550594046712, 0.014386056922376156, 0.04043140262365341, -0.011030485853552818, 0.019122643396258354, 0.01051334012299776, 0.006869812496006489, -0.013492804951965809, -0.038174767047166824, 0.010695516131818295, -0.0204625204205513, 0.015631908550858498, -0.022895457223057747, 0.018064843490719795, -0.004548532888293266, -0.01546736154705286, 0.006487829610705376, 0.07160118967294693, 0.0077278041280806065, 0.036200206726789474, -0.008086279965937138, -0.009502554312348366, 0.02719716913998127, 0.015855221077799797, -0.01690126582980156, -0.027220675721764565, 0.018158871680498123, 0.006611239165067673, 0.00706374179571867, -0.058860599994659424, 0.008973655290901661, 0.009073559194803238, -0.010483956895768642, -0.01238799374550581, -0.0010519216302782297, -0.016830746084451675, -0.011500618420541286, -0.011894354596734047, 0.03655280917882919, 0.046143513172864914, -0.030441084876656532, 0.025457678362727165, -0.002886907896026969, 0.02152031846344471, -0.009267488494515419, -0.01606678031384945, 0.013998197391629219, -0.010284150019288063, 0.02693859674036503, -0.028725100681185722, 0.022202011197805405, -0.011101005598902702, -0.0018291096203029156, -0.004093091934919357, -0.0060176970437169075, 0.018852315843105316, 0.01432729046791792, 0.021179473027586937, 0.023424355313181877, 0.03481331840157509, -0.030699657276272774, 0.030370565131306648, -0.003496611025184393, -0.0005843600956723094, 0.007645531091839075, -0.029594846069812775, -0.07240041345357895, -0.028278473764657974, -0.034131623804569244, -0.02693859674036503, -0.051150426268577576, -0.0008051020558923483, -0.021884672343730927, -0.029406793415546417, -0.02604534476995468, -0.038785938173532486, -0.013175465166568756, -0.017359646037220955, -0.020039401948451996, 0.021108953282237053, 0.012999165803194046, -0.022378310561180115, -0.025246119126677513, 0.01887582242488861, 0.046002473682165146, -0.012717085890471935, -0.0057091726921498775, 0.02187291905283928, 0.03027653880417347, 0.04696624353528023, 0.020615313202142715, -0.003102875081822276, 0.012975659221410751, -0.0018173562129959464, 0.009872783906757832, 0.010948212817311287, -0.009473171085119247, 0.024493906646966934, -0.018734782934188843, 0.0015352766495198011, 0.0028736854437738657, -0.014268524013459682, 0.04057244211435318, 0.0068345521576702595, -0.03634124994277954, 0.018558483570814133, -0.007686667609959841, -0.012658319436013699, 0.013786638155579567, -0.017300879582762718, -0.03516591712832451, 0.018323417752981186, 0.0025886674411594868, 0.007604394573718309, -0.0007926141261123121, -0.018781796097755432, 0.01707756519317627, 0.017324386164546013, -0.021896425634622574, -0.031005242839455605, -0.010619119741022587, 0.004604361020028591, 0.015479114837944508, -0.03295629471540451, -0.015878727659583092, -0.027479249984025955, 0.005136198364198208, 0.035400982946157455, 0.020580053329467773, -0.0017115763621404767, -0.018158871680498123, -0.021191226318478584, -0.0013721995055675507, -0.021496811881661415, -0.0078042009845376015, 0.03998477756977081, 0.02780834212899208, -0.013516311533749104, -0.005673912353813648, 0.009079435840249062, -0.007968747057020664, -0.04205336049199104, -0.037869177758693695, -0.04964600130915642, 0.022060971707105637, -0.009690607897937298, -0.02463494800031185, 0.006517212837934494, -0.010049084201455116, 0.02512858621776104, 0.03295629471540451, -0.020215701311826706, -0.00020329561084508896, 0.029030686244368553, 0.011148018762469292, 0.039279576390981674, -0.014068717136979103, 0.018723029643297195, -0.01005496084690094, -0.012017764151096344, 0.005209656432271004, 0.0008829677244648337, 0.02754976972937584, 0.0624806210398674, -0.002549000084400177, -0.014609369449317455, -0.024493906646966934, 0.020392000675201416, -0.019780827686190605, 0.02089739218354225, -0.041865307837724686, 0.014033457264304161, -0.008550535887479782, -0.003899162169545889, -0.0003592106804717332, 0.00314107327722013, 0.04423947632312775, 0.015349828638136387, 0.006758155766874552, 0.0448741540312767, 0.03140485659241676, 0.03688190132379532, -0.026068851351737976, 0.017759257927536964, 0.020838625729084015, -0.030652644112706184, -0.006476076319813728, -0.022942470386624336, -0.007569134701043367, -0.04470960795879364, 0.0005344084929674864, 0.03356746584177017, -0.015385088510811329, 0.02952432632446289, 0.030817190185189247, -0.016913019120693207, 0.0068756891414523125, -0.022378310561180115, 0.009443787857890129, -0.01574944145977497, -0.029148219153285027, -0.0061234766617417336, -0.004463321063667536, -0.006605362519621849, -0.0070343585684895515, 0.02174363099038601, -0.011847341433167458, -0.010213630273938179, -0.0011790043208748102, 0.039679188281297684, 0.002072990871965885, 0.05166757106781006, 0.02336558885872364, -0.007927610538899899, -0.01624307967722416, 0.0005351430736482143, -0.014292030595242977, 0.030300045385956764, 0.02841951511800289, 0.01703055202960968, 0.0030793685000389814, -0.012975659221410751, -0.009925673715770245, -0.004445691127330065, 0.0035906375851482153, -0.01440956350415945, -0.00040402018930763006, -0.00983752403408289, 0.005582824349403381, -0.010201876983046532, -0.014056963846087456, 0.02204921841621399, 0.022766171023249626, 0.016619186848402023, -0.023165782913565636, -0.0016469331458210945, 0.015173529274761677, -0.03507189080119133, -0.04470960795879364, 0.053171996027231216, -0.010243013501167297, 0.01786503754556179, -0.032885774970054626, 0.00678753899410367, 0.011341948062181473, -0.013104945421218872, -0.0085799191147089, -0.010595613159239292, -0.007610271219164133, 0.0624806210398674, 0.038480352610349655, -0.005200841464102268, -0.01091295201331377, 0.015631908550858498, -0.017947310581803322, -0.017394905909895897, -0.014386056922376156, -0.042358946055173874, -0.02161434479057789, -0.01760646514594555, -0.01765347830951214, -0.03528345003724098, 0.0031969016417860985, 0.011735684238374233, -0.0629507526755333, 0.024493906646966934, 0.009843400679528713, -0.010701392777264118, -0.002767905592918396, 0.0012091222451999784, 0.011782697401940823, 0.0024373435880988836, 0.02877211384475231, 0.011723930947482586, 0.04057244211435318, -0.01746542565524578, -0.01302267238497734, -0.010589736513793468, 0.03199252113699913, -0.0024402819108217955, -0.013927677646279335, -0.003058800008147955, 0.019193163141608238, -0.0040901536121964455, 0.002112658228725195, 0.007422218099236488, -0.016090286895632744, 0.0021508566569536924, -0.00871508289128542, 0.02508157305419445, 0.007680790964514017, -0.012505526654422283, -0.011330194771289825, 0.019263682886958122, -0.02244883030653, 0.02327156253159046, -0.00871508289128542, 0.017723998054862022, -0.010724899359047413, 0.015197035856544971, 0.004980466794222593, 0.006305653136223555, 0.016431134194135666, 0.006916825659573078, 0.04550883173942566, -0.010724899359047413, 0.009520184248685837, 0.012787606567144394, -0.017547698691487312, -0.01611379347741604, -0.00442218454554677, 0.00499515887349844, -0.006881565786898136, 0.025293132290244102, 0.018464457243680954, 0.010748405940830708, -0.02569274604320526, -0.02019219473004341, -0.0020832750014960766, -0.002415306167677045, -0.022942470386624336, 0.033779025077819824, -0.03495435789227486, -0.03582410141825676, 0.013810144737362862, -0.005518181249499321, 0.0060529569163918495, 0.015197035856544971, -0.007263548206537962, -0.0034172760788351297, -0.012305719777941704, -0.007645531091839075, 0.014292030595242977, -0.037822164595127106, 0.015573142096400261, -0.02076810598373413, -0.07733681052923203, -0.01194724440574646, 0.008556412532925606, 0.033073827624320984, 0.016525160521268845, 0.038527365773916245, -0.001977495150640607, 0.020838625729084015, 0.007210658397525549, -0.007240041624754667, 0.018429197371006012, -0.04254699870944023, 0.01432729046791792, 0.024846507236361504, -0.017488932237029076, -0.03276824206113815, -0.02886614017188549, 0.022213764488697052, -0.0008491769549436867, 0.0018158870516344905, 0.014632876962423325, -0.016619186848402023, 0.0009005977190099657, 0.030417578294873238, 0.01667795330286026, -0.031569402664899826, -0.008168553933501244, 0.019475242123007774, 0.020580053329467773, -0.001064409501850605, 0.015197035856544971, -0.014150990173220634, -0.012047147378325462, 0.05091535672545433, -0.025645732879638672, -0.032932788133621216, -0.004692510701715946, -0.02877211384475231, 0.0009152893908321857, -0.03906801715493202, -0.0356360487639904, -0.05655694752931595, 0.007480984553694725, 0.008685699664056301, 0.04259401187300682, -0.03276824206113815, 0.008374236524105072, 0.04870573431253433, 0.021590838208794594, 0.00577675411477685, 0.021532071754336357, 0.020674079656600952, -0.0077454340644180775, 0.011488865129649639, 0.002867808798328042, 0.02750275656580925, 0.004695449024438858, -0.0321335606276989, 0.0017776888562366366, -0.03688190132379532, -0.02261337637901306, 0.0032703597098588943, -0.011482988484203815, -0.05373615399003029, -0.020744599401950836, -0.022895457223057747, -0.040642961859703064, -0.018429197371006012, 0.05890761315822601, -0.042664531618356705, 0.010660256259143353, 0.046355072408914566, -0.011159772053360939, 0.020674079656600952, -0.0011944306315854192, 0.02301299013197422, 0.002819326240569353, 0.0004591138567775488, -0.02323630265891552, 0.009296871721744537, -0.025904305279254913, -0.020932653918862343, 0.013422285206615925, -0.027032623067498207, 0.0059413006529212, -0.006211626809090376, 0.008697452954947948, -0.019439982250332832, 0.0067464024759829044, -0.001098200329579413, -0.0010541253723204136, -0.008550535887479782, 0.054018232971429825, 0.013187218457460403, 0.003205716609954834, -0.005765000823885202, -0.0017806271789595485, -0.012799359858036041, 0.017042305320501328, -0.019816087558865547, -0.036106180399656296, -0.014150990173220634, 0.0034907343797385693, -0.026303917169570923, 6.253130413824692e-05, -0.04386337101459503, 0.008133294060826302, 0.01839393749833107, 0.050586264580488205, 0.0018041337607428432, 0.04132465273141861, 0.01680723950266838, 0.030347058549523354, 0.04386337101459503, 0.04654312506318092, 0.026633011177182198, -0.003223346546292305, -0.011835587210953236, -0.0007860028999857605, -0.020791612565517426, -0.024282347410917282, -0.012164680287241936, -0.0435577817261219, 0.017876790836453438, -0.002447627717629075, -0.02926575392484665, 0.006717019248753786, 0.0343196764588356, -0.04132465273141861, 0.021931685507297516, -0.00435754144564271, 0.004448629450052977, 0.021355772390961647, -0.002346255350857973, -0.011142142117023468, -0.030511604622006416, -0.02468196116387844, 0.04541480541229248, -0.01614905335009098, 0.020262714475393295, -0.002487295074388385, -0.004445691127330065, 0.014809176325798035, -0.006975592114031315, -0.027972888201475143, 0.0059648072347044945, -0.01432729046791792, -0.025622226297855377, 0.019416475668549538, -0.009767004288733006, -0.003649404039606452, -0.023929748684167862, 0.0059060403145849705, 0.023389095440506935, 0.0021332264877855778, -0.024611439555883408, 0.014538849703967571, -0.014809176325798035, 0.0010879162000492215, 0.016619186848402023, 0.059612810611724854, 0.013962937518954277, 0.024035528302192688, -0.02094440720975399, -0.018581990152597427, 0.034437213093042374, 0.011941367760300636, 0.02261337637901306, -0.01918140985071659, -0.01800607703626156, 0.00212881900370121, -0.035001371055841446, 0.032368626445531845, 0.03455474600195885, -0.04405142366886139, 0.002820795401930809, 0.007269424851983786, 0.016971785575151443, 0.008973655290901661, 0.003763998858630657, -0.0010563291143625975, -0.01319897174835205, -0.019240176305174828, 0.011735684238374233, 0.02609235793352127, 0.03199252113699913, -0.02059180662035942, 0.013234231621026993, 0.017394905909895897, 0.027972888201475143, 0.01362209115177393, 0.03128732368350029, 0.011500618420541286, 0.018981602042913437, -0.016830746084451675, 0.019733814522624016, -0.01610204018652439, 0.026115864515304565, -0.019816087558865547, -0.009984440170228481, -0.03142836317420006, -0.016290094703435898, -0.02235480397939682, 0.012423253618180752, -0.0036729108542203903, -0.029453806579113007, 0.022766171023249626, -0.009267488494515419, -0.029077699407935143, -0.02063881978392601, 0.005350696388632059, -0.03415513038635254, -0.008697452954947948, 0.028983673080801964, 0.027432236820459366, -0.042006347328424454, 0.020051155239343643, -0.017054058611392975, -0.0444510355591774, -0.03523643687367439, -0.0124350069090724, -0.06304477900266647, -0.0382687933743, 0.04177127778530121, -0.010730776004493237, 0.02073284611105919, 0.05251380801200867, -0.020615313202142715, 0.0033144347835332155, 0.019428228959441185, 0.058202411979436874, -0.023483121767640114, -0.012352733872830868, -0.02033323422074318, -0.04419246315956116, 0.0019334201933816075, -0.0001889712584670633, 0.011230291798710823, 0.012576046399772167, 0.018158871680498123, 0.02689158357679844, -0.008509399369359016, -0.005717987660318613, -0.02548118494451046, -0.0035377475433051586, 0.01914614997804165, 0.025998331606388092, -0.006246886681765318, 0.025598719716072083, -0.012999165803194046, 0.0027752513997256756, 0.0023051188327372074, -0.013798391446471214, -0.02552819810807705, -0.008726836182177067, -0.003085245145484805, -0.025246119126677513, 0.008550535887479782, 0.008480016142129898, -0.0046337442472577095, -0.02653898485004902, 4.1940049413824454e-05, -0.027479249984025955, -0.0053977095521986485, 0.008480016142129898, 0.000244983151787892, -0.006728772539645433, 0.020427260547876358, -0.0017865038244053721, -0.03587111458182335, -0.0038815320003777742, -0.020697586238384247, 0.06929754465818405, -0.0018687769770622253, -0.021637851372361183, -0.004801229108124971, -0.004680757410824299, -0.02437637373805046, 0.0013957060873508453, 0.020709339529275894, -0.029594846069812775, -0.008409496396780014, -0.05209068953990936, -0.01423326414078474, -0.003243914805352688, 0.030300045385956764, -0.028231460601091385, -0.026562491431832314, 0.02569274604320526, 0.006652376148849726, 0.013363518752157688, 0.04452155530452728, 0.009984440170228481, 0.006617115810513496, 0.01728912629187107, -0.0003358876856509596, 0.029077699407935143, 0.015267555601894855, 0.007245918270200491, -0.03457825258374214, 0.0009667100966908038, -0.02129700593650341, 0.01597275398671627, 0.0018937528366222978, 0.012834619730710983, -0.032580189406871796, -0.006634746212512255, -0.01725386641919613, 0.006640622857958078, 0.01703055202960968, -0.0005336739122867584, -0.007768940646201372, -0.019439982250332832, -0.002009816700592637, 0.01985134743154049, 0.012658319436013699, -0.007569134701043367, 0.008180307224392891, 0.0058531505055725574, -0.010096097365021706, -0.035001371055841446, 0.010401682928204536, 0.01624307967722416, 0.001720391446724534, -0.037163980305194855, 0.00895602535456419, -0.004351664800196886, 0.015443854965269566, 0.028184447437524796, 0.04294661059975624, 0.02538715861737728, 0.006846305448561907, 0.0018158870516344905, 0.03493085131049156, -0.03744605928659439, 0.02538715861737728, 0.029195232316851616, 0.016160806640982628, 0.03450773283839226, 0.037116967141628265, -0.005421216133981943, -0.01967504806816578, 0.0016836622962728143, -0.003899162169545889, 0.02477598749101162, -0.014186250977218151, 0.048611707985401154, -0.02618638426065445, -0.01932244934141636, -0.00035865974496118724, 0.067746102809906, -0.02318928949534893, 0.00644669309258461, -0.026421450078487396, -0.034131623804569244, -0.015479114837944508, -0.01743016578257084, 0.03309733420610428, -0.005923670716583729, -0.020403753966093063, 0.0036082675214856863, 0.0007904103840701282, -0.004748338833451271, 0.032533176243305206, 0.01284637302160263, -0.020180441439151764, -0.010225383564829826, 0.0050010355189442635, 0.002836956176906824, 0.009696484543383121, 0.003922668751329184, -0.0032350998371839523, -0.0070519885048270226, 0.024141307920217514, -0.011624027974903584, -0.022636882960796356, 0.003102875081822276, -0.018029583618044853, 0.015490868128836155, -0.0012179372133687139, 0.0008227319922298193, -0.006793415639549494, -0.00017510601901449263, 0.008979531936347485, 0.0026900398079305887, -0.014268524013459682, 0.009308625012636185, 0.028066914528608322, 0.024540919810533524, 0.031263817101716995, 0.0369524210691452, 0.017794517800211906, 0.018417444080114365, -0.002247821306809783, -0.01166516449302435, 0.03203953430056572, 0.00729293143376708, 0.02961835265159607, 0.0009850746719166636, 0.003514240961521864, -0.042311932891607285, -0.03356746584177017, 0.026962103322148323, -0.00428995955735445, -0.0008484423742629588, 0.005145013332366943, 0.0014485960127785802, 0.03380253165960312, 0.03688190132379532, -0.013633844442665577, -0.02240181714296341, -0.04456856846809387, -0.025504691526293755, 0.02618638426065445, 0.02896016649901867, 0.0015132392290979624, -0.015044242143630981, 0.007386958226561546, -0.0009946242207661271, -0.018629003316164017, -0.002014224184677005, 0.011159772053360939, -0.03488383814692497, 0.04908183962106705, -0.0012958028819411993, 0.012352733872830868, 0.00034029516973532736, 0.024446893483400345, -0.003884470323100686, 0.01483268290758133, -0.01218818686902523, -0.008903135545551777, -0.01998063549399376, 0.03203953430056572, 0.003558316035196185, 0.013751378282904625, 0.03286226838827133, 0.018147118389606476, -0.0023991453927010298, 0.020580053329467773, -0.0026268658693879843, -0.007004975341260433, 0.007575011346489191, 0.01357507798820734, 0.013810144737362862, -0.010478080250322819, -0.026868076995015144, -0.000244248571107164, 0.014150990173220634, 0.004201809875667095, -0.021849412471055984, 0.03808073699474335, 0.007486861199140549, -0.02569274604320526, 0.043886877596378326, 0.004002003464847803, 0.014292030595242977, -0.03483682498335838, -0.00954956840723753, -0.00655834935605526, -0.009055928327143192, 0.012164680287241936, -0.003323249751701951, -0.010049084201455116, 0.011218538507819176, 0.04536779224872589, -0.007087248843163252, -0.04158322513103485, 0.004339911509305239, -0.012399747036397457, 0.013927677646279335, -0.002350662834942341, -0.003105813404545188, -0.013821898028254509, -0.039138536900281906, -0.030111990869045258, 0.013833651319146156, -0.0347663052380085, -0.01511476282030344, -0.003393769497051835, -0.017324386164546013, 0.02187291905283928, 0.012811113148927689, 0.002481418428942561, 0.029289260506629944, 0.018511470407247543, 0.004921700339764357, 0.00513913668692112, 0.056086815893650055, 0.019816087558865547, -0.0043252198956906796, -0.02033323422074318, -0.041042573750019073, -0.03831580653786659, 0.016913019120693207, -0.021449798718094826, 0.019769074395298958, -0.014867942780256271, -0.011559384874999523, -0.02380046248435974, 0.0056151458993554115, 0.011024609208106995, 0.061587367206811905, 0.011159772053360939, 0.02543417178094387, 0.007081371732056141, -0.03347343951463699, 0.042711544781923294, -0.031216803938150406, -0.005341881420463324, -0.013657351024448872, 0.009067682549357414, -0.03977321460843086, -0.0015631908318027854, 0.021402785554528236, 0.011776820756494999, 0.016360614448785782, -0.02477598749101162, -0.06624168157577515, 0.023553641512989998, 0.008244950324296951, -0.030300045385956764, 0.008879628963768482, -0.041700758039951324, -0.01786503754556179, -0.018288157880306244, -0.016607433557510376, -0.006487829610705376, -0.02160259149968624, 0.005359511356800795, -0.028701594099402428, -0.0448741540312767, 0.015878727659583092, -0.0051068151369690895, -0.0005428562290035188, 0.006811045575886965, -0.0180413369089365, 0.0169365257024765, 0.03815126046538353, 0.0070343585684895515, -0.007510367780923843, -0.02653898485004902, 0.02750275656580925, 0.012117667123675346, 0.00344372121617198, 0.03793969750404358, 0.006029450334608555, -0.02209623157978058, -0.016301847994327545, 0.004372233059257269, -0.041254132986068726, -0.042617518454790115, 0.01627834141254425, 0.00450151925906539, -0.012905139476060867, 0.031357843428850174, 0.007939363829791546, 0.028019901365041733, -0.01111275888979435, 0.042170893400907516, -0.032580189406871796, -0.03601215407252312, -0.018205884844064713, 0.03441370651125908, 0.008098033256828785, 0.017947310581803322, -0.015349828638136387, 0.03067615069448948, -0.037116967141628265, 0.032721228897571564, 0.02609235793352127, -0.020979667082428932, -0.0068933190777897835, 0.008703329600393772, 0.041959334164857864, 0.027385221794247627, 0.024059034883975983, 0.0050362953916192055, -0.02790236845612526, 0.010630873031914234, -0.029030686244368553, -0.03239213302731514, 0.01821763813495636, -0.03305032104253769, 0.030253032222390175, 0.02670353092253208, -0.012963905930519104, -0.01712457835674286, -0.02966536581516266, 0.00838598981499672, 0.009138202294707298, -0.0215673316270113, -0.00019558249914553016, -0.002277204766869545, 0.008527029305696487, 0.040948547422885895, 0.04405142366886139, -0.007463354617357254, -0.02477598749101162, 0.0023080571554601192, 0.011829710565507412, 0.06506635248661041, 0.007334068417549133, -0.012070653960108757, 0.0006475341506302357, -0.0012958028819411993, 0.004116598516702652, -0.03714047372341156, -0.022025711834430695, 0.02164960466325283, -0.01799432374536991, 0.009085312485694885, 0.021155966445803642, 0.020533040165901184, 0.0029530201572924852, -0.018640756607055664, -0.03798671066761017, 0.041254132986068726, -0.0092381052672863, -0.0024064911995083094, -0.0061998735181987286, -0.010672009550035, -0.010025577619671822, -0.014139236882328987, -0.0005726068047806621, 0.022166751325130463, -0.0021405722945928574, -0.00805689673870802, 0.01335176546126604, 0.02437637373805046, 0.010478080250322819, -0.03659982234239578, 0.016231326386332512, -0.009719991125166416, -0.04586143419146538, 0.003058800008147955, 0.008309593424201012, 0.021461552008986473, -0.0028575246687978506, 0.02099142037332058, 0.03194550797343254, 0.0629037395119667, 0.002211092272773385, -0.0022595745977014303, -0.01667795330286026, -0.023823969066143036, -0.0215673316270113, -0.0036023908760398626, 0.024399880319833755, -0.013669104315340519, 0.0369524210691452, -0.0017865038244053721, -0.00838598981499672, 0.03225109353661537, 0.021108953282237053, 0.020697586238384247, -0.037916190922260284, -0.03222758695483208, 0.01857023686170578, -0.009637718088924885, 0.0019804334733635187, -0.012000134214758873, 0.003664095886051655, 0.024000268429517746, 0.020603559911251068, -0.012411500327289104, 0.0015955123817548156, 0.049881067126989365, -0.021896425634622574, 0.0310287494212389, -0.0034877960570156574, 0.009232228621840477, 0.01685425266623497, 0.0007970216101966798, 0.005115630105137825, 0.02917172573506832, 0.014703396707773209, 0.019604528322815895, -0.013257739134132862, -0.03603566065430641, 0.000878560240380466, -0.031052256003022194, 0.004475074354559183, 0.020791612565517426, -0.0008300778572447598, 0.01733613945543766, 0.00121573347132653, -0.011706301011145115, -0.02262512966990471, -0.02437637373805046, 0.029148219153285027, -0.03265070915222168, 0.019510501995682716, -0.008544659242033958, -0.002294834703207016, 0.009255735203623772, -0.015197035856544971, 0.006593609228730202, -0.020227454602718353, -0.016231326386332512, 0.022319544106721878, 0.019698554649949074, -0.026374436914920807, 0.04339323565363884, 0.04586143419146538, 0.0007507429691031575, -0.00029695482226088643, -0.01746542565524578, 0.015961000695824623, 0.01362209115177393, -0.03497786447405815, -0.004533841274678707, -0.016337107867002487, 0.009367391467094421, -0.005356573034077883, -0.012470266781747341, 0.025810278952121735, -0.036458782851696014, -0.013046178966760635, -0.003240976482629776, 0.01251727994531393, 0.015314568765461445, 0.004392801318317652, 0.027079636231064796, -0.03833931311964989, -0.06342088431119919, 0.032110054045915604, 0.010760159231722355, -0.0027576214633882046, -0.02226077765226364, 0.021966945379972458, 0.007915857248008251, 0.0365293025970459, -0.006658252794295549, 0.014421316795051098, -0.005168519914150238, -0.03072316385805607, 0.027126649394631386, -0.023036496713757515]'}),\n",
       " Document(page_content='be only one “SDSS”-like quasar ( M1450<−26, powered by billion-M⊙SMBH) over the entire observable universe at z>9. The combination of LSST, Euclid and Roman will allow the discovery of the earliest luminous quasars in the Universe. However, in addition to the challenges of their selection (Barnett et al. 2019, Nanni et al. 2022), their spectroscopic identiﬁcation will require IR spectrographs more powerful than those with the current ground-based telescopes: 30m-class extremely large telescopes and JWST will be the primary tools for their conﬁrmation and follow-up observations. 3. AN EVOLVING QUASAR POPULATION In this section, we ﬁrst review the evolution of the quasar luminosity function (QLF) at high redshift, which directly constrains the growth history of early SMBHs (Sec 3.1). The number density of quasars is found to decline rapidly towards high redshift, in sharp constrast to the lack of strong evolution in the SEDs of quasars (Sec 3.2), from X-ray to radio, and in particular in the rest-frame UV to NIR, at which the quasar SED peaks, although a number of sub-types of quasars appear to be more common at z>5−6. www.annualreviews.org •Quasars and IGM at Cosmic Dawn 11 3.1. Evolution of Quasar Luminosity Function Soon after the initial discovery of quasars, Schmidt (1968) found that their density rises sharply with redshift up to z≳2. Wide-ﬁeld surveys such as 2dF (Boyle et al. 2000) and SDSS (Richards et al. 2006b) established that the density of luminous quasars peaks at z∼2−3. Osmer (1982) presented the ﬁrst evidence that quasar density at z>3.5 appears to be declining. Schmidt et al. (1995) characterized this decline as an exponential function with redshift: ρ(z)∝10kz, 2. wherekis measured to be ∼−0.5 atz∼3−5. The shape of the QLF is usually described as a double, or broken, power law: Φ(M1450,z) =Φ∗(z) 100.4(α+1)(M1450−M∗ 1450)+ 100.4(β+1)(M1450−M∗ 1450)3. whereM1450is the absolute magnitude of the quasar continuum at rest-frame 1450 ˚A,αand βare the faint-end and bright-end slopes, respectively, M∗ 1450is the characteristic absolute magnitude or break magnitude measured at 1450 ˚A, and Φ∗is the normalization of the LF which has an exponential decline described in Eq. 2. Early high-redshift surveys such as the SDSS were only sensitive to the most luminous quasars. Based on a sample of nine SDSS quasars at z >5.7, Fan et al. (2004) found that atz∼6, the co-moving spatial density of quasars', metadata={'title': 'pdf2.pdf', 'tokens': 720, 'embeddings': '[-0.010624716989696026, 0.02858690917491913, 0.005108892917633057, 0.006285178009420633, 0.015209049917757511, 0.029044708237051964, -0.04819590225815773, -0.020486436784267426, -0.02552220970392227, -0.027010051533579826, -0.025038979947566986, -0.0043109264224767685, -0.05208718031644821, 0.0004764749901369214, 0.054884832352399826, 0.05239237844944, -0.015018301084637642, 0.0031616638880223036, -0.0196217093616724, 0.01278018020093441, -0.0025735213421285152, -0.032249290496110916, -0.00533143337816, 0.0213384497910738, -0.08616766333580017, -0.030545266345143318, -0.0017326363595202565, 0.029705969616770744, 0.018845995888113976, -0.011101589538156986, 0.048704564571380615, -0.030290933325886726, -0.028688643127679825, 0.00348752667196095, -0.049035198986530304, 0.06978868693113327, -0.0017850922886282206, -0.008443820290267467, -0.02980770356953144, -0.027671314775943756, -0.013632192276418209, -0.013352426700294018, -0.013110811822116375, -0.038480423390865326, -0.0016007015947252512, -0.02421240136027336, -0.014369754120707512, -0.016010195016860962, -0.020575454458594322, -0.015183616429567337, -0.019939623773097992, -0.013721208088099957, -0.007388342637568712, -0.008405670523643494, -0.025153428316116333, -0.014827552251517773, -0.024161534383893013, 0.024352282285690308, -0.0062152366153895855, 0.015450665727257729, 0.003767291782423854, 0.022533809766173363, 0.01898587867617607, 0.003290419466793537, -0.005906859412789345, 0.004027982242405415, -0.0067715877667069435, 0.02685745246708393, -0.006440956145524979, 0.039192549884319305, -0.028637776151299477, -0.015120034106075764, 0.023080622777342796, 0.022393926978111267, 0.03909081965684891, 0.006339223589748144, 0.014980151318013668, 0.03049439936876297, 0.0011103178840130568, 0.0010467348620295525, -0.0001679981651250273, 0.03306315094232559, -0.03583537042140961, -0.028993841260671616, -0.020588170737028122, 0.017281854525208473, 0.011483087204396725, 0.0034048687666654587, -0.04318556189537048, 0.012894629500806332, 0.0030790059827268124, -0.02886667475104332, 0.008208563551306725, -0.060480136424303055, -0.0025004008784890175, -0.02521701157093048, 0.04857740178704262, -0.034945208579301834, 0.04857740178704262, 0.033648114651441574, -0.0005925139412283897, 0.026704853400588036, 0.03209669142961502, -0.09868079423904419, 0.007471000775694847, -0.009836288169026375, 0.006256565917283297, -0.0458560474216938, -0.013810223899781704, -0.043083831667900085, 0.010446684435009956, 0.013492309488356113, -0.009626463986933231, 0.00770625751465559, -0.059208475053310394, -0.0029899899382144213, -0.07319673150777817, -0.02685745246708393, 0.004202835261821747, 0.030748730525374413, 0.013441442511975765, 0.009613747708499432, 0.01935466006398201, 0.04160870611667633, 0.006100787315517664, -0.024797363206744194, 0.008303937502205372, -0.04715314134955406, -0.03011290170252323, 0.020130373537540436, 0.06490550935268402, -0.027951080352067947, 0.019901474937796593, -0.008253071457147598, -0.0180575679987669, 0.00855191145092249, 0.014369754120707512, -0.07986022531986237, -0.0030170127283781767, 0.01606106199324131, -0.014547786675393581, -0.020461004227399826, -0.0015402977587655187, 0.029731404036283493, 0.041430674493312836, 0.0180702842772007, -0.022508377209305763, -0.010459400713443756, 0.007108577527105808, -0.00010928325355052948, 0.019202060997486115, -0.03046896681189537, -0.0053441496565938, -0.03563190624117851, -0.009759987704455853, -0.004612945485860109, 0.016569726169109344, 0.01181371882557869, -0.0065236142836511135, -0.02124943397939205, -0.012888271361589432, 0.0031775597017258406, -0.025153428316116333, 0.006714363116770983, -0.014013689942657948, 0.021109551191329956, -0.004275955725461245, -0.0558004267513752, -0.10132584720849991, -0.03438567742705345, -0.0311556626111269, -0.007254818454384804, 0.01964714191854, -0.05274844542145729, -0.010198710486292839, 0.03568277135491371, -0.02323322184383869, -0.01556511502712965, -0.020791636779904366, -0.02128758281469345, 0.019812457263469696, 0.011406787671148777, 0.021427465602755547, -0.03667466714978218, -0.013123528100550175, 0.007814348675310612, -0.049696460366249084, 0.019138477742671967, 0.025445910170674324, -0.023436687886714935, -0.009581956081092358, 0.04389769211411476, -0.02000320702791214, 0.040464211255311966, 0.014967435039579868, -0.01473853550851345, 0.031282827258110046, 0.04519478604197502, -0.012576714158058167, -0.00484502362087369, 0.014217155054211617, 0.04954386129975319, 0.01702752336859703, -0.06134486198425293, -0.00466063292697072, -0.04328729584813118, 0.04026074707508087, -0.008323012851178646, -0.006313790567219257, -0.00394850317388773, 0.012068050913512707, 0.02198699675500393, 0.014153572730720043, 0.025471342727541924, -0.029756836593151093, 0.0015395029913634062, -0.02454303205013275, 0.054884832352399826, 0.04382139444351196, 0.01996505632996559, -0.01838819868862629, 0.03214755654335022, 0.03832782432436943, 0.01608649455010891, 0.020855218172073364, -0.0012907346244901419, 0.04163413867354393, -0.00951837282627821, 0.03469087556004524, 0.021567348390817642, 0.012894629500806332, 0.03911625221371651, -0.007044994737952948, 0.010777316056191921, -0.0038563080597668886, 0.005620735697448254, 0.02067718654870987, 0.042804066091775894, -0.013835657387971878, -0.05554609373211861, -0.04298209771513939, 0.0010904482332989573, 0.024199683219194412, 0.015641413629055023, 0.029095573350787163, 0.015628697350621223, -0.01490385178476572, -0.006714363116770983, 0.0033921522554010153, -0.014179005287587643, 0.04285493120551109, 0.004552541766315699, 0.003047214588150382, -0.002893025754019618, -0.007057711482048035, 0.02299160696566105, -0.024186966940760612, 0.0008003507973626256, -0.030265500769019127, -0.0002692342095542699, -0.014725819230079651, -0.030418099835515022, -0.019787024706602097, 0.03377528116106987, -0.00916230771690607, 0.059462808072566986, 0.003903995268046856, -0.03677639737725258, -0.017892252653837204, 0.03542843833565712, -0.02330952137708664, -0.017866818234324455, 0.07167074084281921, -0.010325876995921135, -0.040209878236055374, 0.009499297477304935, 0.03240188956260681, 0.00788429006934166, -0.0036846338771283627, -0.0016881282208487391, 0.0035765429493039846, -0.0327833853662014, 0.06175179407000542, 0.029604237526655197, -0.017828669399023056, -0.008685436099767685, -0.009982528164982796, 0.00673343800008297, -0.02685745246708393, -0.016518859192728996, 0.04783983901143074, -0.05808941647410393, 0.008780810050666332, -0.008450178429484367, -0.05544436350464821, -0.009664613753557205, 0.04061681032180786, 0.016251811757683754, -0.0689239576458931, 0.03575906902551651, 0.08133535087108612, 0.004078848287463188, 0.03140999376773834, -0.01444605365395546, -0.004981726873666048, 0.03738679364323616, 0.0851503312587738, 0.03713246434926987, -0.026399655267596245, 0.05697035416960716, 0.0326562225818634, 0.009918945841491222, -0.0037895459681749344, 0.01443333737552166, -0.050968121737241745, -0.04649187996983528, -0.03809892386198044, 0.04529651999473572, 0.02267369255423546, -0.07050081342458725, -0.02721351757645607, -0.019240211695432663, -0.03179149329662323, 0.013148961588740349, -0.01645527593791485, -0.055240895599126816, -0.025712959468364716, -0.013517742976546288, -0.019113045185804367, -0.030036602169275284, 0.047382041811943054, -0.007839782163500786, 0.019291076809167862, -0.002670485293492675, -0.03237645700573921, -0.02988400310277939, 0.016239093616604805, 0.051247887313365936, -0.024670198559761047, -0.004272776655852795, -0.010872690007090569, 0.008628210984170437, 0.008405670523643494, -0.0163916926831007, -0.0035606471356004477, 0.05468136817216873, 0.04880629852414131, -0.014293454587459564, 0.05038315802812576, 0.005271029658615589, -0.006148474756628275, -0.01328884344547987, 0.03448741137981415, 0.02393263578414917, 0.08789711445569992, 0.005757439415901899, 0.043389029800891876, -0.058191146701574326, -0.022393926978111267, 0.012010825797915459, 0.008399312384426594, 0.008787168189883232, 0.03011290170252323, -0.018896862864494324, -0.03573363646864891, 0.007966947741806507, 0.02165636420249939, 0.004101102706044912, -0.018515365198254585, -0.04405029118061066, -0.036242302507162094, 0.006580838933587074, 0.011553028598427773, -0.009365773759782314, -0.04827220365405083, -0.01899859495460987, 0.014751252718269825, 0.005480853375047445, -0.0006584812654182315, 0.026730285957455635, 0.03453827649354935, 0.022203179076313972, 0.021223999559879303, -0.04107460752129555, -0.018540797755122185, -0.010821823962032795, -0.04878086596727371, -0.019507259130477905, -0.054528769105672836, -0.019748875871300697, -0.008895259350538254, 0.0012764284620061517, 0.05814028158783913, 0.004314105492085218, 0.04321099817752838, -0.019583558663725853, 0.024034367874264717, 0.06994128227233887, -0.0037704710848629475, 0.054935697466135025, -0.0311302300542593, -0.030316367745399475, 0.003786366665735841, -0.0556478276848793, -0.025000829249620438, -0.022076012566685677, 0.009213174693286419, 0.021834397688508034, 0.02494996227324009, 0.009556522592902184, 0.0426768995821476, 0.01907489448785782, 0.014280738309025764, -0.04984905943274498, 0.001723098917864263, 0.03377528116106987, -0.056868620216846466, -0.0059799798764288425, 0.0010403766063973308, 0.035860802978277206, 0.03321575000882149, -0.04733117297291756, -0.011508519761264324, -0.0040184445679187775, -0.045118484646081924, 0.02002863958477974, 0.00021856650710105896, 0.012328741140663624, -0.004635199438780546, -0.01297092903405428, 0.004384046886116266, -0.025980006903409958, 0.014217155054211617, 0.024161534383893013, -0.017230989411473274, 0.014662235975265503, -0.018464498221874237, -0.05356230586767197, -0.006682571489363909, -0.0458051823079586, 0.01700209081172943, 0.03138456121087074, -0.00952473096549511, -0.04819590225815773, 0.01967257633805275, -0.02955337055027485, 0.039802949875593185, 0.042091935873031616, 0.020537303760647774, -0.021859830245375633, -0.009492939338088036, -0.013619475066661835, 0.020422855392098427, -0.01066286675632, -0.06292172521352768, -0.035224974155426025, 0.025140712037682533, -0.07660478353500366, -0.004288672469556332, -0.04089657589793205, -0.018845995888113976, -0.0056874980218708515, 0.008513761684298515, 0.03413134440779686, -0.03759026154875755, 0.019825175404548645, 0.02520429529249668, 0.0024288699496537447, 0.0001187213565572165, -0.05366403982043266, 0.013797507621347904, -0.026806585490703583, 0.022215895354747772, 0.0034589143469929695, 0.019252927973866463, -0.011355920694768429, -0.016493426635861397, 0.015870312228798866, 0.04878086596727371, 0.01939281076192856, 0.028968408703804016, -0.018795130774378777, -0.015603264793753624, 0.014331604354083538, 0.004549362696707249, -0.014369754120707512, 0.009766346774995327, 0.02062631957232952, 0.0025035799480974674, 0.005048489198088646, -0.0394214503467083, -0.013517742976546288, 0.005566690117120743, -0.01296457089483738, -0.013009078800678253, -0.001192975789308548, -0.00786521565169096, -0.01670960895717144, -0.012570356018841267, 0.024008935317397118, 0.052290648221969604, -0.053307972848415375, 0.011661119759082794, 0.0005710546975024045, 0.029960302636027336, -0.012519489973783493, -0.02357657067477703, -0.004654274322092533, -0.01579401269555092, 0.02258467674255371, -0.034919776022434235, 0.013148961588740349, -0.021478332579135895, 0.005665244068950415, 0.003202992957085371, 0.0023096518125385046, 0.0005257517914287746, 0.033546384423971176, 0.007757124025374651, -0.002770628547295928, 0.026425087824463844, -0.036166001111269, 0.010777316056191921, 0.0005674781277775764, -0.0014870470622554421, 0.009086008183658123, -0.031282827258110046, -0.06983955204486847, -0.02985856868326664, -0.03146086260676384, -0.016315393149852753, -0.0394468829035759, -0.006682571489363909, 0.003366719000041485, -0.03580993786454201, -0.013505025766789913, -0.016976656392216682, -0.021516481414437294, -0.007146727293729782, -0.004593870602548122, 0.0011436989298090339, -0.0008408849826082587, 0.005414091050624847, -0.0009688457357697189, 0.001759659149684012, 0.043160129338502884, 0.0014258484588935971, -0.0014949949691072106, 0.007273893337696791, 0.02329680509865284, 0.06068360060453415, 0.0426768995821476, -0.01798126846551895, 0.01297092903405428, -0.023131489753723145, -0.009728197008371353, -0.0015792424092069268, 0.004953114315867424, 0.020829785615205765, -0.021058684214949608, -0.008208563551306725, -0.008316654711961746, -0.009378490038216114, 0.04778897017240524, -0.0006656343466602266, -0.06612630188465118, 0.00233349553309381, -0.003608334343880415, -0.008812601678073406, 0.012691163457930088, -0.04265146702528, -0.010433968156576157, 0.013174394145607948, 0.0056716022081673145, -0.012335099279880524, -0.0028373906388878822, -0.019863324239850044, 0.00801145564764738, 0.015450665727257729, -0.04715314134955406, -0.03464001044631004, -0.007947873324155807, -0.010592925362288952, 0.024365000426769257, -0.05732641741633415, -0.016315393149852753, -0.012665730901062489, 0.003088543424382806, 0.006405985914170742, 0.017116539180278778, 0.027747614309191704, -0.007394701242446899, -0.03415678068995476, -0.008768093772232533, -0.023792752996087074, -0.009442073293030262, 0.039192549884319305, -0.003659200854599476, -0.007979664951562881, -0.028358010575175285, 0.0035765429493039846, -0.02848517708480358, -0.030265500769019127, -0.041506972163915634, -0.02749328315258026, 0.0070322779938578606, -0.017828669399023056, -0.025789259001612663, 0.0008337319013662636, -0.001088063814677298, -0.003621051087975502, 0.010891765356063843, -0.023182356730103493, -0.013021795079112053, 0.016277244314551353, 0.018439065665006638, 0.010255935601890087, -0.022686408832669258, 0.02886667475104332, -0.00220791925676167, -0.033978745341300964, 0.010739166289567947, 0.011883660219609737, 0.012716596946120262, 0.05274844542145729, 0.02889210730791092, -0.010325876995921135, -0.019291076809167862, -0.007954231463372707, -0.023207789286971092, 0.033597249537706375, -0.03710702806711197, 0.01705295592546463, 0.010370384901762009, 0.01309809461236, 0.012373249046504498, 0.012996362522244453, 0.03766655921936035, 0.026475954800844193, -0.00279129296541214, 0.0658211037516594, 0.04791613668203354, 0.05412183701992035, -0.03878562152385712, -0.0013201417168602347, 0.013441442511975765, -0.036242302507162094, -0.02100781723856926, -0.04221910238265991, -0.0017803235678002238, -0.016531575471162796, -0.013708491809666157, 0.02912100777029991, 0.010783674195408821, 0.035224974155426025, 0.019227495416998863, -4.053415250382386e-05, 0.014217155054211617, -0.022139595821499825, 0.015488815493881702, -0.008952484466135502, -0.03143542632460594, 0.01084089931100607, -0.022877158597111702, 0.0008504224242642522, 0.00770625751465559, 0.025967290624976158, -0.014560503885149956, -0.018833279609680176, -0.003745037829503417, 0.04221910238265991, 0.0069814114831388, 0.040820274502038956, 0.029273606836795807, 0.008806243538856506, -0.021478332579135895, 0.003117155749350786, -0.023500271141529083, 0.0009489760268479586, 0.03252905607223511, 0.003865845501422882, 0.0022778604179620743, -0.009105083532631397, -0.022432077676057816, -0.009613747708499432, 0.01701480709016323, 0.0025004008784890175, 0.008144980296492577, 0.0065554059110581875, 0.010872690007090569, -0.018489932641386986, -0.0031584848184138536, 0.029095573350787163, 0.017815953120589256, 0.0024336387868970633, -0.0328851193189621, -0.00721666868776083, 0.015018301084637642, -0.019507259130477905, -0.05936107411980629, 0.05208718031644821, 0.014840268529951572, 0.03347008302807808, -0.0163662601262331, 0.0043427180498838425, 0.0013288843911141157, -0.033953312784433365, -0.003760933643206954, -0.0014067735755816102, -0.00116515823174268, 0.07243373245000839, 0.04888259992003441, 0.0034557352773845196, -0.015933895483613014, 0.013416009955108166, -0.0029915794730186462, -0.01459865365177393, 0.0021491048391908407, -0.0360897034406662, -0.008475611917674541, 0.009384848177433014, -0.018604381009936333, -0.03662379831075668, -0.008297579362988472, 0.0012430472997948527, -0.06765229254961014, 0.021147700026631355, 0.014496920630335808, 0.02655225433409214, -0.013861090876162052, 0.007267535198479891, 0.017192838713526726, 0.009117799811065197, 0.01673504151403904, 0.011025289073586464, 0.016518859192728996, 0.0010928325355052948, 0.004746469669044018, -0.009130517020821571, 0.026730285957455635, 0.004698782693594694, -0.005534898955374956, 0.004158327355980873, 0.015883030369877815, 0.013352426700294018, 0.0031807387713342905, 0.01907489448785782, -0.020117657259106636, -0.018871430307626724, 0.003554288763552904, 0.0046065873466432095, 0.010281368158757687, 0.023373104631900787, -0.02652682177722454, 0.017459888011217117, -0.0279256459325552, 0.026425087824463844, 0.007954231463372707, 0.02103325165808201, -0.00312033505178988, 0.02063903771340847, 0.003306315280497074, 0.022826291620731354, 0.012252440676093102, -0.00934669841080904, 0.009308548644185066, -0.015437948517501354, -0.00442855479195714, 0.02756958268582821, -0.029095573350787163, -0.029731404036283493, -0.007477358914911747, 0.00950565654784441, 0.004997622687369585, 0.008501045405864716, 0.014852984808385372, 0.010096978396177292, -0.011394070461392403, -0.0053918370977044106, -0.015323499217629433, -0.028993841260671616, -0.01734543778002262, 0.02193612977862358, -0.03649663180112839, -0.017281854525208473, 0.01030680164694786, -0.0002577097911853343, 0.0011182657908648252, 0.0098044965416193, -0.0005611198139376938, 0.0033031359780579805, -0.007827064953744411, -0.003764112712815404, 0.012856479734182358, -0.029731404036283493, 0.011877301149070263, 0.0016452097333967686, -0.11282164603471756, -0.0261707566678524, -0.011228755116462708, 0.04621211439371109, 0.019926907494664192, 0.034945208579301834, 0.0016102390363812447, 0.008977917023003101, 0.04318556189537048, -0.011864584870636463, 0.016862208023667336, -0.03962491452693939, 0.015031017363071442, 0.04188847169280052, -0.011069797910749912, -0.04880629852414131, -0.007369267754256725, 0.031053930521011353, -0.010580209083855152, -0.023487554863095284, -0.0034620934166014194, 0.007369267754256725, -0.00014802913938183337, 0.02164364792406559, 0.017650635913014412, -0.041506972163915634, -0.022393926978111267, 0.02198699675500393, 0.036267735064029694, -0.012710238806903362, 0.025013545528054237, -0.02230491116642952, -0.015437948517501354, 0.05829288065433502, -0.010370384901762009, -0.052901044487953186, 0.007013203110545874, -0.03171519190073013, -0.01231602393090725, -0.011794643476605415, -0.008717226795852184, -0.06165006011724472, 0.026628553867340088, 0.0019631246104836464, 0.03771742805838585, -0.031333696097135544, -0.008755376562476158, 0.04516935348510742, 0.01603562943637371, -0.011432220228016376, 0.00509617617353797, 0.020588170737028122, -0.002371645299717784, 0.017218273133039474, -0.011298696510493755, 0.024174250662326813, 0.002215866930782795, -0.03499607369303703, 0.0042473431676626205, -0.029426205903291702, -0.03138456121087074, 0.003306315280497074, -0.007102219387888908, -0.05529176443815231, -0.018502648919820786, -0.01194724254310131, -0.0459323488175869, 0.014306171797215939, 0.04331272840499878, -0.03911625221371651, 0.013339710421860218, 0.026628553867340088, -0.02065175399184227, 0.016150077804923058, 0.03319031745195389, 0.005665244068950415, 0.008634569123387337, -0.00931490771472454, 0.010090619325637817, 0.014026406221091747, -0.027086351066827774, -0.032579921185970306, 0.007992381229996681, -0.025445910170674324, 0.000254530634265393, 0.009283116087317467, 0.026399655267596245, -0.028001947328448296, 0.018795130774378777, 0.013619475066661835, -0.0039866529405117035, 0.003398510627448559, 0.048679132014513016, 0.022406643256545067, -0.00014345911040436476, -0.00904150027781725, 0.0020171701908111572, -0.02267369255423546, 0.006469568703323603, -0.016277244314551353, -0.05213804915547371, -0.026679420843720436, 0.003519318299368024, -0.0360134020447731, 0.010650149546563625, -0.04232083633542061, 0.011406787671148777, 0.019163912162184715, 0.02886667475104332, 0.01095534861087799, 0.03837868943810463, -0.006797021254897118, 0.026475954800844193, 0.043109264224767685, 0.05043402314186096, 0.03250362351536751, -0.010605641640722752, -0.0038054415490478277, -0.0027118143625557423, 0.001226356835104525, -0.0245938990265131, 0.012557639740407467, -0.05071378871798515, -0.0053918370977044106, -0.01796855218708515, -0.03402961418032646, 0.03212212398648262, 0.024797363206744194, -0.005948188249021769, 0.02919730730354786, -0.01510731689631939, 0.0015903693856671453, 0.024771930649876595, 0.003325390163809061, -0.0017119718249887228, -0.040184445679187775, -0.027340684086084366, 0.03252905607223511, -0.036827266216278076, 0.03972664847970009, -0.009601030498743057, 0.007572733331471682, 0.02062631957232952, -0.004746469669044018, -0.01609921082854271, 0.009066933766007423, -0.002174538094550371, -0.019113045185804367, -0.001829600427299738, -0.0028373906388878822, -0.0008432693430222571, -0.028714075684547424, -0.010459400713443756, 0.050306856632232666, 0.005112071987241507, -0.006129399873316288, 0.03374984860420227, -0.03634403273463249, 0.010065186768770218, 0.026628553867340088, 0.04359249398112297, 0.000652520393487066, 0.011082514189183712, -0.013708491809666157, 0.020473720505833626, 0.015374365262687206, -0.00539819523692131, 0.0014242588076740503, -0.011762851849198341, -0.0048513817600905895, 0.005283745937049389, -0.04415202513337135, 0.019545409828424454, 0.010275010019540787, -0.016836773604154587, 0.0020473720505833626, -0.005013518501073122, 0.02327137254178524, 0.0163408275693655, 0.012945495545864105, 0.01229059137403965, -0.0327833853662014, -0.03893822059035301, 0.02823084592819214, 0.02530602738261223, 0.039192549884319305, -0.013123528100550175, -0.005436345003545284, 0.04102374240756035, 0.03639490157365799, 0.004717857576906681, 0.025840124115347862, 0.004756007343530655, 0.043109264224767685, 0.004244164098054171, 0.038505855947732925, 0.0062788198702037334, 0.03766655921936035, -0.01182007696479559, -0.012080767191946507, -0.020753486081957817, -0.001456845086067915, -0.02594185806810856, -4.34897665400058e-05, -0.020791636779904366, -0.030392667278647423, 0.026119889691472054, -0.015997478738427162, -0.02202514559030533, -0.015844879671931267, -0.0022858083248138428, -0.04415202513337135, 0.011578461155295372, 0.0065426891669631, 0.02690831944346428, -0.05707208812236786, 0.03179149329662323, -0.009016066789627075, -0.0425497330725193, -0.030265500769019127, -0.01327612716704607, -0.05742815136909485, -0.009492939338088036, 0.035911668092012405, -0.011006214655935764, -0.02552220970392227, 0.05402010306715965, -0.022457510232925415, -0.0018089358927682042, 0.008246713317930698, 0.03667466714978218, -0.014179005287587643, 0.0016253400826826692, -0.01248134020715952, -0.03736136108636856, -0.016785908490419388, -0.0018915937980636954, -0.010364026762545109, -0.00047568019363097847, 0.02856147661805153, 0.008806243538856506, -0.005986338015645742, 0.014191722497344017, -0.01346687600016594, -0.00886346772313118, 0.01897316239774227, 0.026018157601356506, -0.014331604354083538, 0.027137218043208122, -0.007191235665231943, -0.008024172857403755, 0.006955978460609913, -0.00801145564764738, -0.001862981473095715, 0.007197593804448843, -0.013530459254980087, -0.01870611496269703, 0.021541915833950043, 0.02361472137272358, 0.0035256764385849237, -0.01573043130338192, 0.014217155054211617, -0.0459577813744545, -0.008297579362988472, 0.005038951523602009, 0.010745524428784847, -0.011991750448942184, 0.01491656806319952, -0.004730573855340481, -0.024797363206744194, -0.022788140922784805, -0.028714075684547424, 0.026005441322922707, -0.001777144381776452, -0.0163281112909317, 0.017955834046006203, -0.013199827633798122, -0.009957095608115196, 0.026094457134604454, 0.04430462419986725, -0.025840124115347862, -0.006669855210930109, -0.02065175399184227, -0.0023636973928660154, -0.0007089502760209143, 0.052595846354961395, -0.026984618976712227, -0.022533809766173363, 0.03642033413052559, -0.027722181752324104, 0.015209049917757511, 0.03959948197007179, 0.014407903887331486, 0.022203179076313972, 0.0067843045108020306, -0.01490385178476572, -0.00024618537281639874, 0.024085234850645065, 0.02030840516090393, -0.028917541727423668, 0.01165476068854332, 0.013326993212103844, 0.002420922042801976, -0.00557622779160738, 0.0013455748558044434, -0.06170092895627022, -0.018858714029192924, -0.021783530712127686, -0.0059354715049266815, -0.002389130648225546, 0.01645527593791485, -0.0034938850440084934, -0.01559054758399725, 0.007661749608814716, 0.0030233708675950766, 0.02226676046848297, -0.009556522592902184, 0.01866796426475048, 0.017243705689907074, -0.009887154214084148, -0.04298209771513939, -0.011928168125450611, 0.019138477742671967, -0.02422511763870716, -0.035555604845285416, 0.021440181881189346, -0.002495632041245699, 0.008132264018058777, 0.038226090371608734, 0.05534262955188751, 0.026781152933835983, 0.021198567003011703, 0.01901131309568882, 0.022114161401987076, -0.034945208579301834, 0.01114609744399786, 0.02390720136463642, 0.008501045405864716, 0.01897316239774227, 0.039497751742601395, -0.013403292745351791, -0.02425055019557476, -0.001026865211315453, -0.009626463986933231, 0.009016066789627075, 0.01019235234707594, 0.012722955085337162, -0.015234483405947685, -0.018108433112502098, 0.005716110114008188, 0.07334933429956436, -0.035250406712293625, -0.005487211514264345, -0.03252905607223511, 0.011915450915694237, -0.021109551191329956, -0.028332578018307686, 0.036954429000616074, 0.009893512353301048, -0.010910839773714542, 0.011890018358826637, -0.006758871488273144, -0.019456394016742706, 0.0246447641402483, 0.03380071371793747, -0.007153085898607969, -0.010147844441235065, 0.002770628547295928, -0.01345415972173214, 0.00834844633936882, -0.0067397961392998695, -0.010039753280580044, 0.011667477898299694, 0.018845995888113976, -0.011559386737644672, -0.009378490038216114, -0.013721208088099957, 0.024708347395062447, 0.011076156049966812, -0.0015999068273231387, 0.009086008183658123, -0.01836276613175869, -0.01050390861928463, -0.0015299655497074127, -0.02229219488799572, -0.02062631957232952, 0.013568609021604061, 0.030697865411639214, 0.009861720725893974, 0.013161677867174149, 0.03636946901679039, 0.004202835261821747, -0.015476098284125328, 0.0051470426842570305, -0.007833424024283886, 0.020562736317515373, -0.017815953120589256, 0.026730285957455635, 0.016124645248055458, 0.016773192211985588, -0.03568277135491371, -0.02001592330634594, 0.004800515249371529, -0.02756958268582821, -0.01096806488931179, 0.0027992408722639084, 0.0048227692022919655, 0.007954231463372707, 0.025662092491984367, -0.01706567220389843, -0.02754414826631546, -0.04110004007816315, -0.035199541598558426, 0.033622682094573975, 0.03153716027736664, 0.01098713930696249, -0.012417756952345371, 0.04382139444351196, -0.003916712012141943, -0.0130853783339262, -0.010077903047204018, 0.026094457134604454, -0.03977751359343529, 0.038836486637592316, 0.002368466230109334, 0.02060088701546192, -0.005366404075175524, 0.02192341350018978, -0.006943261716514826, 0.016925791278481483, -0.015336215496063232, 0.007922439835965633, -0.0024781469255685806, 0.04041334614157677, 0.003690992249175906, -0.03148629516363144, 0.01578129641711712, 0.018235599622130394, -0.013314276933670044, 0.005786051508039236, -0.0027960618026554585, -0.017790518701076508, 0.009740913286805153, 0.018922295421361923, 0.010058828629553318, -0.004482600372284651, -0.01796855218708515, 0.021847113966941833, 0.015348932705819607, -0.0004562079266179353, -0.013365142978727818, 0.026806585490703583, 0.003586080390959978, -0.023678302764892578, 0.045372817665338516, 0.020829785615205765, 0.0011381354415789247, -0.05285017564892769, -0.011305054649710655, -0.02324593998491764, 0.0032554487697780132, 0.016506142914295197, -0.0163662601262331, -0.03400418162345886, 0.02201242931187153, 0.048323068767786026, -0.02592914178967476, -0.04102374240756035, -0.003799083409830928, -0.03995554894208908, -0.003783187596127391, 0.014865702018141747, 0.006285178009420633, -0.02749328315258026, -0.02591642364859581, -0.02063903771340847, -0.017650635913014412, -0.014077273197472095, -0.01262122206389904, 0.0039866529405117035, -0.003961219917982817, 0.005239238031208515, 0.0246066153049469, -0.0015927538042888045, 0.02985856868326664, 0.010116052813827991, -0.009683688171207905, -0.019291076809167862, 0.04234626889228821, 0.024174250662326813, -0.028790375217795372, -0.01902402937412262, -0.022800859063863754, -0.012691163457930088, -0.0053918370977044106, -0.01871883124113083, 0.0062120575457811356, -0.02327137254178524, -0.005913217552006245, -0.029960302636027336, -0.01000160351395607, 0.0246320478618145, 0.03840412199497223, 0.02622162364423275, 0.0328851193189621, 0.01835004985332489, -0.009734555147588253, 0.03799718990921974, -0.019596274942159653, -0.007560017053037882, -0.00902242586016655, 0.011254188604652882, -0.02224132791161537, -0.0005289309774525464, 0.030646998435258865, -0.005474494770169258, -0.01710382290184498, -0.038175225257873535, -0.04895889759063721, 0.03677639737725258, -0.009391207247972488, -0.033266618847846985, 0.009403923526406288, -0.05155308544635773, -0.023767320439219475, -0.022521093487739563, -0.02168179862201214, -0.0213130172342062, -0.021122267469763756, 0.008532836101949215, -0.030926764011383057, -0.05104441940784454, 0.01607377827167511, -0.0031266931910067797, 0.0017914505442604423, 0.006123041268438101, -0.006758871488273144, 0.021084118634462357, 0.025026263669133186, 0.019761592149734497, 0.006917828693985939, -0.0016340827569365501, 0.03085046447813511, -0.02718808501958847, 0.005124788731336594, 0.04234626889228821, 0.006663496606051922, -0.045728880912065506, 0.014802118763327599, 0.0073438347317278385, -0.031689759343862534, -0.023144206032156944, 0.01098078116774559, -0.0018168837996199727, 0.0051629384979605675, 0.01772693544626236, 0.017765086144208908, 0.024326849728822708, -0.024784646928310394, 0.03316488489508629, -0.017879534512758255, -0.0039866529405117035, -0.01967257633805275, 0.04522021859884262, 0.004959472920745611, 0.027467848733067513, -0.011972676031291485, 0.03814978897571564, -0.018858714029192924, 0.014674953185021877, 0.050662923604249954, -0.005588944535702467, -0.015488815493881702, 0.03148629516363144, 0.031333696097135544, 0.0196089930832386, 0.04547455161809921, -0.01645527593791485, 0.007973305881023407, -0.0021189029794186354, -0.02159278094768524, -0.03242732211947441, 0.007585450075566769, -0.029655104503035545, 0.017281854525208473, 0.011934526264667511, -0.008888901211321354, -0.006936903577297926, -0.0004252112121321261, 0.008615494705736637, 0.0025735213421285152, -0.016302676871418953, 0.01676047407090664, 0.0180575679987669, 0.003814978990703821, 0.058191146701574326, 0.04549998417496681, 0.015526965260505676, -0.04000641405582428, -0.008583703078329563, 0.008221279829740524, 0.0459577813744545, 0.000579002546146512, -0.019774308428168297, -0.004584333393722773, 0.009016066789627075, -0.004304568283259869, -0.01836276613175869, -0.018820563331246376, 0.028917541727423668, -0.006192982662469149, 0.01248134020715952, 0.01968529261648655, 0.021758098155260086, 0.0027801659889519215, -0.018451781943440437, -0.035250406712293625, 0.020906085148453712, -0.0056557063944637775, -0.0014282327610999346, -0.02552220970392227, -0.017256421968340874, 0.0098108546808362, 0.004581153858453035, 0.011095230467617512, 0.019456394016742706, -0.012939137406647205, -0.019087612628936768, -0.0009362594573758543, 0.030011169612407684, 0.014395187608897686, -0.007763482630252838, 0.022686408832669258, -0.012093483470380306, -0.045423682779073715, 0.00442855479195714, -0.0012955033453181386, 0.04107460752129555, -0.013505025766789913, 0.01345415972173214, 0.010611999779939651, 0.030011169612407684, 0.0018359586829319596, -0.016963940113782883, 0.001813704613596201, -0.02660312131047249, -0.004072490148246288, -0.004078848287463188, 0.011184247210621834, -0.013212543912231922, 0.028129111975431442, -0.01766335405409336, -0.0427531972527504, 0.03512324020266533, 0.026043590158224106, 0.029400771483778954, -0.018477214500308037, -0.0328596867620945, 0.03087589703500271, -0.006399627309292555, 0.007000486832112074, 0.003258628072217107, 0.006409164983779192, 0.029349906370043755, 0.003207761561498046, 0.012640297412872314, -0.010154202580451965, 0.031003063544631004, -0.01556511502712965, 0.02884124219417572, -0.0029725045897066593, -0.0006755692302249372, 0.04239713400602341, 0.003427122952416539, -0.0011532363714650273, 0.02487366273999214, -0.011025289073586464, 0.008310295641422272, 0.008634569123387337, -0.03212212398648262, -0.01165476068854332, -0.014662235975265503, -0.026450522243976593, -0.0004776671703439206, -0.0012414577649906278, 0.03537757322192192, 0.002296935301274061, 0.016658741980791092, -0.015832163393497467, -0.023703737184405327, 0.027137218043208122, -0.014318888075649738, 0.016226377338171005, -0.0327070876955986, -0.027086351066827774, -0.005642990116029978, -0.0007896212046034634, 0.009016066789627075, -0.011362279765307903, -0.01442062109708786, 0.0361914336681366, 0.020537303760647774, -0.04158327355980873, 0.03079959750175476, 0.05798768252134323, -0.013644908554852009, -0.0053632245399057865, -0.011305054649710655, -0.00196630391292274, 0.032300155609846115, -0.03731049597263336, -0.026297923177480698, -0.027696747332811356, 0.02224132791161537, 0.016531575471162796, -0.003846770618110895, 0.021885262802243233, -0.03959948197007179, -0.016849491745233536, -0.0246193315833807, 0.013237977400422096, 0.021554632112383842, 0.018515365198254585, 0.025509493425488472, -0.03891278803348541, -0.047382041811943054, 0.023716453462839127, 0.007712616119533777, 0.010154202580451965, -0.016302676871418953, -0.0024860945995897055, 0.017154689878225327, 0.03443654626607895, -0.01606106199324131, -0.002772218082100153, -0.011120663955807686, -0.02421240136027336, 0.018489932641386986, -0.01640441082417965]'})]"
      ]
     },
     "execution_count": 18,
     "metadata": {},
     "output_type": "execute_result"
    }
   ],
   "source": [
    "docs"
   ]
  },
  {
   "cell_type": "code",
   "execution_count": 60,
   "metadata": {},
   "outputs": [],
   "source": [
    "# Create retriever from database\n",
    "# We specify the number of results we want to retrieve (k=3)\n",
    "retriever = db.as_retriever(\n",
    "    search_kwargs={\"k\": 3}\n",
    "    )\n"
   ]
  },
  {
   "cell_type": "code",
   "execution_count": 47,
   "metadata": {},
   "outputs": [],
   "source": [
    "llm = ChatOpenAI(temperature = 0.0, model = 'gpt-3.5-turbo-16k')\n"
   ]
  },
  {
   "cell_type": "code",
   "execution_count": 48,
   "metadata": {},
   "outputs": [],
   "source": [
    "from langchain.chains import RetrievalQA\n",
    "qa_stuff = RetrievalQA.from_chain_type(\n",
    "    llm=llm, \n",
    "    chain_type=\"stuff\", \n",
    "    retriever=retriever,\n",
    "    verbose=True,\n",
    ")\n"
   ]
  },
  {
   "cell_type": "code",
   "execution_count": 49,
   "metadata": {},
   "outputs": [
    {
     "name": "stderr",
     "output_type": "stream",
     "text": [
      "/Users/dangause/anaconda3/envs/langchain/lib/python3.12/site-packages/langchain_core/_api/deprecation.py:117: LangChainDeprecationWarning: The function `run` was deprecated in LangChain 0.1.0 and will be removed in 0.2.0. Use invoke instead.\n",
      "  warn_deprecated(\n"
     ]
    },
    {
     "name": "stdout",
     "output_type": "stream",
     "text": [
      "\n",
      "\n",
      "\u001b[1m> Entering new RetrievalQA chain...\u001b[0m\n",
      "\n",
      "\u001b[1m> Finished chain.\u001b[0m\n"
     ]
    },
    {
     "data": {
      "text/markdown": [
       "A quasar, short for \"quasi-stellar radio source,\" is a highly energetic and luminous astronomical object. It is believed to be powered by the accretion of mass onto a supermassive black hole at the center of a galaxy. Quasars emit enormous amounts of energy across the electromagnetic spectrum, from radio waves to X-rays. They are among the most distant and ancient objects in the universe, providing valuable insights into the early stages of galaxy formation and the evolution of the intergalactic medium."
      ],
      "text/plain": [
       "<IPython.core.display.Markdown object>"
      ]
     },
     "metadata": {},
     "output_type": "display_data"
    }
   ],
   "source": [
    "query =  \"What is a quasar?\"\n",
    "\n",
    "response = qa_stuff.run(query)\n",
    "\n",
    "from IPython.display import Markdown, display\n",
    "display(Markdown(response))\n"
   ]
  },
  {
   "cell_type": "code",
   "execution_count": 50,
   "metadata": {},
   "outputs": [
    {
     "name": "stderr",
     "output_type": "stream",
     "text": [
      "/Users/dangause/anaconda3/envs/langchain/lib/python3.12/site-packages/langchain_core/_api/deprecation.py:117: LangChainDeprecationWarning: The function `__call__` was deprecated in LangChain 0.1.0 and will be removed in 0.2.0. Use invoke instead.\n",
      "  warn_deprecated(\n"
     ]
    },
    {
     "name": "stdout",
     "output_type": "stream",
     "text": [
      "\n",
      "\n",
      "\u001b[1m> Entering new RetrievalQA chain...\u001b[0m\n",
      "\n",
      "\u001b[1m> Finished chain.\u001b[0m\n"
     ]
    }
   ],
   "source": [
    "# New chain to return context and sources\n",
    "qa_stuff_with_sources = RetrievalQA.from_chain_type(\n",
    "    llm=llm, \n",
    "    chain_type=\"stuff\", \n",
    "    retriever=retriever,\n",
    "    return_source_documents=True,\n",
    "    verbose=True,\n",
    ")\n",
    "\n",
    "query =  \"What is the evidence for an enhanced accretion episode from Sgr A* in 2019?\"\n",
    "\n",
    "# To run the query, we use a different syntax since we're returning more than just the response text\n",
    "responses = qa_stuff_with_sources({\"query\": query})\n"
   ]
  },
  {
   "cell_type": "code",
   "execution_count": 52,
   "metadata": {},
   "outputs": [
    {
     "data": {
      "text/markdown": [
       "The evidence for an enhanced accretion episode from Sgr A* in 2019 includes the following:\n",
       "\n",
       "1. Increase in Mean Luminosity: The mean luminosity of Sgr A* increased by a factor of approximately 3 in 2019 compared to historical measurements.\n",
       "\n",
       "2. Higher Variance: The light curves of Sgr A* in 2019 showed higher variance compared to other time periods examined, indicating a greater average luminosity correlated with more extreme variability.\n",
       "\n",
       "3. Elevated Flux Densities: Both faint and bright flux densities of Sgr A* in 2019 were significantly elevated compared to pre- and post-2019 observations.\n",
       "\n",
       "4. Concentration of Bright Events: Many observatories measured a concentration of bright events from Sgr A* in 2019, indicating a transient increase in accretion activity.\n",
       "\n",
       "5. Multi-Wavelength Observations: Observations in multiple wavelengths, including near-infrared, radio, and X-rays, also showed heightened activity in 2019, supporting the idea of a physical disturbance in the accretion flow.\n",
       "\n",
       "These pieces of evidence suggest that the enhanced accretion episode in 2019 was caused by a temporary increase in accretion onto Sgr A*, possibly due to the delayed accretion of tidally-stripped gas from the object G2 in 2014.\n",
       "\n",
       "Sources used:\n",
       "\n",
       "pdf1.pdf\n",
       "\n"
      ],
      "text/plain": [
       "<IPython.core.display.Markdown object>"
      ]
     },
     "metadata": {},
     "output_type": "display_data"
    }
   ],
   "source": [
    "source_documents = responses[\"source_documents\"]\n",
    "source_content = [doc.page_content for doc in source_documents]\n",
    "source_metadata = [doc.metadata for doc in source_documents]\n",
    "\n",
    "# Construct a single string with the LLM output and the source titles and urls\n",
    "def construct_result_with_sources():\n",
    "    result = responses['result']\n",
    "    result += \"\\n\\n\"\n",
    "    result += \"Sources used:\"\n",
    "    for i in range(len(source_content)):    \n",
    "        result += \"\\n\\n\"\n",
    "        result += source_metadata[i]['title']\n",
    "        result += \"\\n\\n\"\n",
    "        return result\n",
    "\n",
    "display(Markdown(construct_result_with_sources()))\n"
   ]
  },
  {
   "cell_type": "code",
   "execution_count": null,
   "metadata": {},
   "outputs": [],
   "source": []
  },
  {
   "cell_type": "code",
   "execution_count": null,
   "metadata": {},
   "outputs": [],
   "source": []
  },
  {
   "cell_type": "code",
   "execution_count": 53,
   "metadata": {},
   "outputs": [
    {
     "name": "stdout",
     "output_type": "stream",
     "text": [
      "\n",
      "\n",
      "\u001b[1m> Entering new RetrievalQA chain...\u001b[0m\n",
      "\n",
      "\u001b[1m> Finished chain.\u001b[0m\n"
     ]
    },
    {
     "data": {
      "text/markdown": [
       "A quasar is a type of black hole, but what distinguishes it from a normal black hole is its high luminosity. Quasars are extremely bright and energetic, emitting large amounts of radiation across the electromagnetic spectrum. This high luminosity is caused by the accretion of mass onto the black hole. As matter falls into the black hole's gravitational pull, it forms an accretion disk around the black hole, releasing a tremendous amount of energy in the process. This energy is what makes quasars so luminous and visible from great distances. In contrast, a normal black hole that is not actively accreting matter would not emit significant amounts of radiation and would not be visible as a quasar.\n",
       "\n",
       "Sources used:\n",
       "\n",
       "pdf3.pdf\n",
       "\n"
      ],
      "text/plain": [
       "<IPython.core.display.Markdown object>"
      ]
     },
     "metadata": {},
     "output_type": "display_data"
    }
   ],
   "source": [
    "query =  \"What distinguishes a quasar from a normal black hole?\"\n",
    "\n",
    "# To run the query, we use a different syntax since we're returning more than just the response text\n",
    "responses = qa_stuff_with_sources({\"query\": query})\n",
    "\n",
    "source_documents = responses[\"source_documents\"]\n",
    "source_content = [doc.page_content for doc in source_documents]\n",
    "source_metadata = [doc.metadata for doc in source_documents]\n",
    "\n",
    "# Construct a single string with the LLM output and the source titles and urls\n",
    "def construct_result_with_sources():\n",
    "    result = responses['result']\n",
    "    result += \"\\n\\n\"\n",
    "    result += \"Sources used:\"\n",
    "    for i in range(len(source_content)):    \n",
    "        result += \"\\n\\n\"\n",
    "        result += source_metadata[i]['title']\n",
    "        result += \"\\n\\n\"\n",
    "        return result\n",
    "\n",
    "display(Markdown(construct_result_with_sources()))\n"
   ]
  },
  {
   "cell_type": "code",
   "execution_count": null,
   "metadata": {},
   "outputs": [],
   "source": []
  },
  {
   "cell_type": "code",
   "execution_count": null,
   "metadata": {},
   "outputs": [],
   "source": []
  },
  {
   "cell_type": "code",
   "execution_count": 42,
   "metadata": {},
   "outputs": [],
   "source": [
    "# db = PGVector.from_documents(\n",
    "#     embedding=embeddings,\n",
    "#     documents=docs,\n",
    "#     collection_name=collection_name,\n",
    "#     connection_string=CONNECTION_STRING,\n",
    "#     pre_delete_collection=False,\n",
    "# )\n"
   ]
  },
  {
   "cell_type": "code",
   "execution_count": 43,
   "metadata": {},
   "outputs": [],
   "source": [
    "store = PGVector(\n",
    "    collection_name=collection_name,\n",
    "    connection_string=CONNECTION_STRING,\n",
    "    embedding_function=embeddings,\n",
    ")"
   ]
  },
  {
   "cell_type": "code",
   "execution_count": 44,
   "metadata": {},
   "outputs": [
    {
     "data": {
      "text/plain": [
       "<langchain_community.vectorstores.pgvector.PGVector at 0x11f8c4680>"
      ]
     },
     "execution_count": 44,
     "metadata": {},
     "output_type": "execute_result"
    }
   ],
   "source": [
    "store"
   ]
  },
  {
   "cell_type": "code",
   "execution_count": 67,
   "metadata": {},
   "outputs": [
    {
     "data": {
      "text/plain": [
       "['a9f8d750-bf1c-11ee-8de9-9801a78f9833',\n",
       " 'a9f8d908-bf1c-11ee-8de9-9801a78f9833',\n",
       " 'a9f8d96c-bf1c-11ee-8de9-9801a78f9833',\n",
       " 'a9f8d9a8-bf1c-11ee-8de9-9801a78f9833',\n",
       " 'a9f8d9e4-bf1c-11ee-8de9-9801a78f9833',\n",
       " 'a9f8da2a-bf1c-11ee-8de9-9801a78f9833',\n",
       " 'a9f8da66-bf1c-11ee-8de9-9801a78f9833',\n",
       " 'a9f8daa2-bf1c-11ee-8de9-9801a78f9833',\n",
       " 'a9f8dade-bf1c-11ee-8de9-9801a78f9833',\n",
       " 'a9f8db24-bf1c-11ee-8de9-9801a78f9833',\n",
       " 'a9f8db60-bf1c-11ee-8de9-9801a78f9833',\n",
       " 'a9f8db9c-bf1c-11ee-8de9-9801a78f9833',\n",
       " 'a9f8dbd8-bf1c-11ee-8de9-9801a78f9833',\n",
       " 'a9f8dc1e-bf1c-11ee-8de9-9801a78f9833',\n",
       " 'a9f8dc5a-bf1c-11ee-8de9-9801a78f9833',\n",
       " 'a9f8dc96-bf1c-11ee-8de9-9801a78f9833',\n",
       " 'a9f8ec68-bf1c-11ee-8de9-9801a78f9833',\n",
       " 'a9f8ecd6-bf1c-11ee-8de9-9801a78f9833',\n",
       " 'a9f8ed26-bf1c-11ee-8de9-9801a78f9833',\n",
       " 'a9f8ed6c-bf1c-11ee-8de9-9801a78f9833',\n",
       " 'a9f8edb2-bf1c-11ee-8de9-9801a78f9833',\n",
       " 'a9f8edf8-bf1c-11ee-8de9-9801a78f9833',\n",
       " 'a9f8ee3e-bf1c-11ee-8de9-9801a78f9833',\n",
       " 'a9f8ee7a-bf1c-11ee-8de9-9801a78f9833',\n",
       " 'a9f8eec0-bf1c-11ee-8de9-9801a78f9833',\n",
       " 'a9f8ef10-bf1c-11ee-8de9-9801a78f9833',\n",
       " 'a9f8ef56-bf1c-11ee-8de9-9801a78f9833',\n",
       " 'a9f8ef9c-bf1c-11ee-8de9-9801a78f9833',\n",
       " 'a9f8efec-bf1c-11ee-8de9-9801a78f9833',\n",
       " 'a9f8f028-bf1c-11ee-8de9-9801a78f9833',\n",
       " 'a9f8f06e-bf1c-11ee-8de9-9801a78f9833',\n",
       " 'a9f8f0b4-bf1c-11ee-8de9-9801a78f9833',\n",
       " 'a9f8f0fa-bf1c-11ee-8de9-9801a78f9833',\n",
       " 'a9f8f140-bf1c-11ee-8de9-9801a78f9833',\n",
       " 'a9f8f186-bf1c-11ee-8de9-9801a78f9833',\n",
       " 'a9f8f1cc-bf1c-11ee-8de9-9801a78f9833',\n",
       " 'a9f8f212-bf1c-11ee-8de9-9801a78f9833',\n",
       " 'a9f8f24e-bf1c-11ee-8de9-9801a78f9833',\n",
       " 'a9f8f294-bf1c-11ee-8de9-9801a78f9833',\n",
       " 'a9f8f2d0-bf1c-11ee-8de9-9801a78f9833',\n",
       " 'a9f8f316-bf1c-11ee-8de9-9801a78f9833',\n",
       " 'a9f8f35c-bf1c-11ee-8de9-9801a78f9833',\n",
       " 'a9f8f3a2-bf1c-11ee-8de9-9801a78f9833',\n",
       " 'a9f8f3e8-bf1c-11ee-8de9-9801a78f9833',\n",
       " 'a9f8f42e-bf1c-11ee-8de9-9801a78f9833',\n",
       " 'a9f8f474-bf1c-11ee-8de9-9801a78f9833',\n",
       " 'a9f8f4ba-bf1c-11ee-8de9-9801a78f9833',\n",
       " 'a9f8f500-bf1c-11ee-8de9-9801a78f9833',\n",
       " 'a9f8f53c-bf1c-11ee-8de9-9801a78f9833',\n",
       " 'a9f8f582-bf1c-11ee-8de9-9801a78f9833',\n",
       " 'a9f8f5c8-bf1c-11ee-8de9-9801a78f9833',\n",
       " 'a9f8f60e-bf1c-11ee-8de9-9801a78f9833',\n",
       " 'a9f8f654-bf1c-11ee-8de9-9801a78f9833',\n",
       " 'a9f8f6a4-bf1c-11ee-8de9-9801a78f9833',\n",
       " 'a9f8f6e0-bf1c-11ee-8de9-9801a78f9833',\n",
       " 'a9f8f726-bf1c-11ee-8de9-9801a78f9833',\n",
       " 'a9f8f762-bf1c-11ee-8de9-9801a78f9833',\n",
       " 'a9f8f7a8-bf1c-11ee-8de9-9801a78f9833',\n",
       " 'a9f8f7ee-bf1c-11ee-8de9-9801a78f9833',\n",
       " 'a9f8f834-bf1c-11ee-8de9-9801a78f9833',\n",
       " 'a9f8f87a-bf1c-11ee-8de9-9801a78f9833',\n",
       " 'a9f8f8c0-bf1c-11ee-8de9-9801a78f9833',\n",
       " 'a9f8f8fc-bf1c-11ee-8de9-9801a78f9833',\n",
       " 'a9f8f942-bf1c-11ee-8de9-9801a78f9833',\n",
       " 'a9f8f97e-bf1c-11ee-8de9-9801a78f9833',\n",
       " 'a9f8f9ec-bf1c-11ee-8de9-9801a78f9833',\n",
       " 'a9f8fa32-bf1c-11ee-8de9-9801a78f9833',\n",
       " 'a9f8fa78-bf1c-11ee-8de9-9801a78f9833',\n",
       " 'a9f8fab4-bf1c-11ee-8de9-9801a78f9833',\n",
       " 'a9f8faf0-bf1c-11ee-8de9-9801a78f9833',\n",
       " 'a9f8fb2c-bf1c-11ee-8de9-9801a78f9833',\n",
       " 'a9f8fb5e-bf1c-11ee-8de9-9801a78f9833',\n",
       " 'a9f8fbd6-bf1c-11ee-8de9-9801a78f9833',\n",
       " 'a9f8fc44-bf1c-11ee-8de9-9801a78f9833',\n",
       " 'a9f8fc80-bf1c-11ee-8de9-9801a78f9833',\n",
       " 'a9f8fcb2-bf1c-11ee-8de9-9801a78f9833',\n",
       " 'a9f8fcee-bf1c-11ee-8de9-9801a78f9833',\n",
       " 'a9f8fd3e-bf1c-11ee-8de9-9801a78f9833',\n",
       " 'a9f8fd7a-bf1c-11ee-8de9-9801a78f9833',\n",
       " 'a9f8fdac-bf1c-11ee-8de9-9801a78f9833',\n",
       " 'a9f8fde8-bf1c-11ee-8de9-9801a78f9833',\n",
       " 'a9f8fe1a-bf1c-11ee-8de9-9801a78f9833',\n",
       " 'a9f90b44-bf1c-11ee-8de9-9801a78f9833',\n",
       " 'a9f90cac-bf1c-11ee-8de9-9801a78f9833',\n",
       " 'a9f90cfc-bf1c-11ee-8de9-9801a78f9833',\n",
       " 'a9f90d38-bf1c-11ee-8de9-9801a78f9833',\n",
       " 'a9f90d74-bf1c-11ee-8de9-9801a78f9833',\n",
       " 'a9f90dba-bf1c-11ee-8de9-9801a78f9833',\n",
       " 'a9f90e00-bf1c-11ee-8de9-9801a78f9833',\n",
       " 'a9f90e46-bf1c-11ee-8de9-9801a78f9833',\n",
       " 'a9f90e82-bf1c-11ee-8de9-9801a78f9833',\n",
       " 'a9f90ec8-bf1c-11ee-8de9-9801a78f9833',\n",
       " 'a9f90f04-bf1c-11ee-8de9-9801a78f9833',\n",
       " 'a9f90f68-bf1c-11ee-8de9-9801a78f9833',\n",
       " 'a9f90fa4-bf1c-11ee-8de9-9801a78f9833',\n",
       " 'a9f90fe0-bf1c-11ee-8de9-9801a78f9833',\n",
       " 'a9f91026-bf1c-11ee-8de9-9801a78f9833',\n",
       " 'a9f91062-bf1c-11ee-8de9-9801a78f9833',\n",
       " 'a9f9109e-bf1c-11ee-8de9-9801a78f9833',\n",
       " 'a9f910da-bf1c-11ee-8de9-9801a78f9833',\n",
       " 'a9f91116-bf1c-11ee-8de9-9801a78f9833',\n",
       " 'a9f9115c-bf1c-11ee-8de9-9801a78f9833',\n",
       " 'a9f91198-bf1c-11ee-8de9-9801a78f9833',\n",
       " 'a9f911d4-bf1c-11ee-8de9-9801a78f9833',\n",
       " 'a9f91210-bf1c-11ee-8de9-9801a78f9833',\n",
       " 'a9f91256-bf1c-11ee-8de9-9801a78f9833',\n",
       " 'a9f91292-bf1c-11ee-8de9-9801a78f9833',\n",
       " 'a9f912d8-bf1c-11ee-8de9-9801a78f9833',\n",
       " 'a9f91314-bf1c-11ee-8de9-9801a78f9833',\n",
       " 'a9f91382-bf1c-11ee-8de9-9801a78f9833',\n",
       " 'a9f913c8-bf1c-11ee-8de9-9801a78f9833',\n",
       " 'a9f9140e-bf1c-11ee-8de9-9801a78f9833',\n",
       " 'a9f91454-bf1c-11ee-8de9-9801a78f9833',\n",
       " 'a9f9149a-bf1c-11ee-8de9-9801a78f9833',\n",
       " 'a9f914e0-bf1c-11ee-8de9-9801a78f9833',\n",
       " 'a9f91512-bf1c-11ee-8de9-9801a78f9833',\n",
       " 'a9f9154e-bf1c-11ee-8de9-9801a78f9833',\n",
       " 'a9f9158a-bf1c-11ee-8de9-9801a78f9833',\n",
       " 'a9f915c6-bf1c-11ee-8de9-9801a78f9833',\n",
       " 'a9f91602-bf1c-11ee-8de9-9801a78f9833',\n",
       " 'a9f91652-bf1c-11ee-8de9-9801a78f9833',\n",
       " 'a9f91698-bf1c-11ee-8de9-9801a78f9833',\n",
       " 'a9f916d4-bf1c-11ee-8de9-9801a78f9833',\n",
       " 'a9f9171a-bf1c-11ee-8de9-9801a78f9833',\n",
       " 'a9f91760-bf1c-11ee-8de9-9801a78f9833',\n",
       " 'a9f91792-bf1c-11ee-8de9-9801a78f9833',\n",
       " 'a9f917ce-bf1c-11ee-8de9-9801a78f9833',\n",
       " 'a9f91814-bf1c-11ee-8de9-9801a78f9833',\n",
       " 'a9f91850-bf1c-11ee-8de9-9801a78f9833',\n",
       " 'a9f918aa-bf1c-11ee-8de9-9801a78f9833',\n",
       " 'a9f918fa-bf1c-11ee-8de9-9801a78f9833',\n",
       " 'a9f91936-bf1c-11ee-8de9-9801a78f9833',\n",
       " 'a9f91972-bf1c-11ee-8de9-9801a78f9833']"
      ]
     },
     "execution_count": 67,
     "metadata": {},
     "output_type": "execute_result"
    }
   ],
   "source": [
    "store.add_documents(docs)"
   ]
  },
  {
   "cell_type": "code",
   "execution_count": 72,
   "metadata": {},
   "outputs": [],
   "source": [
    "retriever = store.as_retriever()\n",
    "llm = ChatOpenAI(temperature = 0.0, model = 'gpt-3.5-turbo-16k')\n"
   ]
  },
  {
   "cell_type": "code",
   "execution_count": 73,
   "metadata": {},
   "outputs": [
    {
     "name": "stderr",
     "output_type": "stream",
     "text": [
      "/Users/dangause/anaconda3/envs/langchain/lib/python3.12/site-packages/langchain_core/_api/deprecation.py:117: LangChainDeprecationWarning: The function `__call__` was deprecated in LangChain 0.1.0 and will be removed in 0.2.0. Use invoke instead.\n",
      "  warn_deprecated(\n"
     ]
    },
    {
     "name": "stdout",
     "output_type": "stream",
     "text": [
      "\n",
      "\n",
      "\u001b[1m> Entering new RetrievalQA chain...\u001b[0m\n",
      "\n",
      "\u001b[1m> Finished chain.\u001b[0m\n"
     ]
    }
   ],
   "source": [
    "# New chain to return context and sources\n",
    "qa_stuff_with_sources = RetrievalQA.from_chain_type(\n",
    "    llm=llm, \n",
    "    chain_type=\"stuff\", \n",
    "    retriever=retriever,\n",
    "    return_source_documents=True,\n",
    "    verbose=True,\n",
    ")\n",
    "\n",
    "query =  \"What is the evidence for an enhanced accretion episode from Sgr A* in 2019?\"\n",
    "\n",
    "# To run the query, we use a different syntax since we're returning more than just the response text\n",
    "responses = qa_stuff_with_sources({\"query\": query})\n"
   ]
  },
  {
   "cell_type": "code",
   "execution_count": 76,
   "metadata": {},
   "outputs": [
    {
     "data": {
      "text/markdown": [
       "The evidence for an enhanced accretion episode from Sgr A* in 2019 comes from a study that re-calibrated and re-analyzed all of the Keck Observatory Sgr A* imaging observations from 2005-2022. The study found that the mean luminosity of Sgr A* increased by a factor of approximately 3 in 2019 compared to previous years. The light curves from 2019 also had higher variance than in all other time periods examined. Additionally, the study observed a maximum flux of 5.6 mJy in 2019, compared to a maximum pre-2019 flux of 2.0 mJy. These findings suggest that the activity in 2019 was caused by a temporary increase in accretion onto Sgr A*. One possible explanation for this increase is the delayed accretion of tidally-stripped gas from the gaseous object G2 in 2014.\n",
       "\n",
       "Sources used:\n",
       "\n",
       "pdf1.pdf\n",
       "\n"
      ],
      "text/plain": [
       "<IPython.core.display.Markdown object>"
      ]
     },
     "metadata": {},
     "output_type": "display_data"
    }
   ],
   "source": [
    "source_documents = responses[\"source_documents\"]\n",
    "source_content = [doc.page_content for doc in source_documents]\n",
    "source_metadata = [doc.metadata for doc in source_documents]\n",
    "\n",
    "# Construct a single string with the LLM output and the source titles and urls\n",
    "def construct_result_with_sources():\n",
    "    result = responses['result']\n",
    "    result += \"\\n\\n\"\n",
    "    result += \"Sources used:\"\n",
    "    for i in range(len(source_content)):    \n",
    "        result += \"\\n\\n\"\n",
    "        result += source_metadata[i]['title']\n",
    "        result += \"\\n\\n\"\n",
    "        return result\n",
    "\n",
    "display(Markdown(construct_result_with_sources()))"
   ]
  }
 ],
 "metadata": {
  "kernelspec": {
   "display_name": "langchain",
   "language": "python",
   "name": "python3"
  },
  "language_info": {
   "codemirror_mode": {
    "name": "ipython",
    "version": 3
   },
   "file_extension": ".py",
   "mimetype": "text/x-python",
   "name": "python",
   "nbconvert_exporter": "python",
   "pygments_lexer": "ipython3",
   "version": "3.12.1"
  }
 },
 "nbformat": 4,
 "nbformat_minor": 2
}
