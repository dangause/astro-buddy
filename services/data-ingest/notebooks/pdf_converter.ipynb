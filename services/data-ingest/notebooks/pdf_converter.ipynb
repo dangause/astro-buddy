{
 "cells": [
  {
   "cell_type": "code",
   "execution_count": 7,
   "metadata": {},
   "outputs": [],
   "source": [
    "import openai\n",
    "import os\n",
    "import pandas as pd\n",
    "import numpy as np\n",
    "import json\n",
    "import tiktoken\n",
    "import psycopg2\n",
    "import ast\n",
    "import pgvector\n",
    "import math\n",
    "from psycopg2.extras import execute_values\n",
    "from pgvector.psycopg2 import register_vector\n",
    "from dotenv import load_dotenv, find_dotenv\n"
   ]
  },
  {
   "cell_type": "code",
   "execution_count": 8,
   "metadata": {},
   "outputs": [],
   "source": [
    "dotenv_path = os.path.abspath('../../../.env')\n",
    "_ = load_dotenv(dotenv_path)\n",
    "OPENAI_API_KEY  = os.environ['OPENAI_API_KEY']"
   ]
  },
  {
   "cell_type": "code",
   "execution_count": 9,
   "metadata": {},
   "outputs": [],
   "source": [
    "client = openai.OpenAI(api_key = OPENAI_API_KEY)\n"
   ]
  },
  {
   "cell_type": "code",
   "execution_count": 10,
   "metadata": {},
   "outputs": [],
   "source": [
    "from pypdf import PdfReader\n",
    "\n",
    "def read_pdf(file_path):\n",
    "    pdf_reader = PdfReader(file_path)\n",
    "    text = \"\"\n",
    "\n",
    "    for page in pdf_reader.pages:\n",
    "        extracted_text = page.extract_text()\n",
    "        if extracted_text:  # Check if text is extracted successfully\n",
    "            text += extracted_text + \"\\n\"  # Append text of each page\n",
    "\n",
    "    return text\n"
   ]
  },
  {
   "cell_type": "code",
   "execution_count": 11,
   "metadata": {},
   "outputs": [
    {
     "data": {
      "text/plain": [
       "['pdf3.pdf', 'pdf2.pdf', 'pdf1.pdf']"
      ]
     },
     "execution_count": 11,
     "metadata": {},
     "output_type": "execute_result"
    }
   ],
   "source": [
    "from os import listdir\n",
    "from os.path import isfile, join\n",
    "\n",
    "pdf_dirpath = '../../data-ingest/data/docs/'\n",
    "file_l = [f for f in listdir(pdf_dirpath) if isfile(join(pdf_dirpath, f))]\n",
    "file_l"
   ]
  },
  {
   "cell_type": "code",
   "execution_count": 12,
   "metadata": {},
   "outputs": [],
   "source": [
    "content_l = []\n",
    "for filename in file_l:\n",
    "    filepath = os.path.join(pdf_dirpath, filename)\n",
    "    pdf_text = read_pdf(filepath)\n",
    "    content_l.append(pdf_text)\n",
    "pdf_df = pd.DataFrame({'title': file_l, 'content': content_l})"
   ]
  },
  {
   "cell_type": "code",
   "execution_count": 13,
   "metadata": {},
   "outputs": [
    {
     "data": {
      "text/html": [
       "<div>\n",
       "<style scoped>\n",
       "    .dataframe tbody tr th:only-of-type {\n",
       "        vertical-align: middle;\n",
       "    }\n",
       "\n",
       "    .dataframe tbody tr th {\n",
       "        vertical-align: top;\n",
       "    }\n",
       "\n",
       "    .dataframe thead th {\n",
       "        text-align: right;\n",
       "    }\n",
       "</style>\n",
       "<table border=\"1\" class=\"dataframe\">\n",
       "  <thead>\n",
       "    <tr style=\"text-align: right;\">\n",
       "      <th></th>\n",
       "      <th>title</th>\n",
       "      <th>content</th>\n",
       "    </tr>\n",
       "  </thead>\n",
       "  <tbody>\n",
       "    <tr>\n",
       "      <th>0</th>\n",
       "      <td>pdf3.pdf</td>\n",
       "      <td>Detection of stellar light from quasar host ga...</td>\n",
       "    </tr>\n",
       "    <tr>\n",
       "      <th>1</th>\n",
       "      <td>pdf2.pdf</td>\n",
       "      <td>Quasars and the\\nIntergalactic Medium at\\nCosm...</td>\n",
       "    </tr>\n",
       "    <tr>\n",
       "      <th>2</th>\n",
       "      <td>pdf1.pdf</td>\n",
       "      <td>Draft version August 22, 2023\\nTypeset using L...</td>\n",
       "    </tr>\n",
       "  </tbody>\n",
       "</table>\n",
       "</div>"
      ],
      "text/plain": [
       "      title                                            content\n",
       "0  pdf3.pdf  Detection of stellar light from quasar host ga...\n",
       "1  pdf2.pdf  Quasars and the\\nIntergalactic Medium at\\nCosm...\n",
       "2  pdf1.pdf  Draft version August 22, 2023\\nTypeset using L..."
      ]
     },
     "execution_count": 13,
     "metadata": {},
     "output_type": "execute_result"
    }
   ],
   "source": [
    "pdf_df"
   ]
  },
  {
   "cell_type": "code",
   "execution_count": 14,
   "metadata": {},
   "outputs": [],
   "source": [
    "# Helper functions to help us create the embeddings\n",
    "\n",
    "# Helper func: calculate number of tokens\n",
    "def num_tokens_from_string(string: str, encoding_name = \"cl100k_base\") -> int:\n",
    "    if not string:\n",
    "        return 0\n",
    "    # Returns the number of tokens in a text string\n",
    "    encoding = tiktoken.get_encoding(encoding_name)\n",
    "    num_tokens = len(encoding.encode(string))\n",
    "    return num_tokens\n",
    "\n",
    "# Helper function: calculate length of essay\n",
    "def get_essay_length(essay):\n",
    "    word_list = essay.split()\n",
    "    num_words = len(word_list)\n",
    "    return num_words\n",
    "\n",
    "# Helper function: calculate cost of embedding num_tokens\n",
    "# Assumes we're using the text-embedding-ada-002 model\n",
    "# See https://openai.com/pricing\n",
    "def get_embedding_cost(num_tokens):\n",
    "    return num_tokens/1000*0.0001\n",
    "\n",
    "# Helper function: calculate total cost of embedding all content in the dataframe\n",
    "def get_total_embeddings_cost(df):\n",
    "    total_tokens = 0\n",
    "    for i in range(len(df.index)):\n",
    "        text = df['content'][i]\n",
    "        token_len = num_tokens_from_string(text)\n",
    "        total_tokens = total_tokens + token_len\n",
    "    total_cost = get_embedding_cost(total_tokens)\n",
    "    return total_cost\n",
    "\n"
   ]
  },
  {
   "cell_type": "code",
   "execution_count": 15,
   "metadata": {},
   "outputs": [
    {
     "data": {
      "text/plain": [
       "0.009539"
      ]
     },
     "execution_count": 15,
     "metadata": {},
     "output_type": "execute_result"
    }
   ],
   "source": [
    "get_total_embeddings_cost(pdf_df)"
   ]
  },
  {
   "cell_type": "code",
   "execution_count": 16,
   "metadata": {},
   "outputs": [],
   "source": [
    "\n",
    "# Create new list with small content chunks to not hit max token limits\n",
    "# Note: the maximum number of tokens for a single request is 8191\n",
    "# https://openai.com/docs/api-reference/requests\n",
    "\n",
    "# Split up the text into token sizes of around 512 tokens\n",
    "def pdf_chunker(df):\n",
    "    new_list = []\n",
    "    for i in range(len(df.index)):\n",
    "        text = df['content'][i]\n",
    "        token_len = num_tokens_from_string(text)\n",
    "        if token_len <= 512:\n",
    "            new_list.append([df['title'][i], df['content'][i], token_len])\n",
    "        else:\n",
    "            # add content to the new list in chunks\n",
    "            start = 0\n",
    "            ideal_token_size = 512\n",
    "            # 1 token ~ 3/4 of a word\n",
    "            ideal_size = int(ideal_token_size // (4/3))\n",
    "            end = ideal_size\n",
    "            #split text by spaces into words\n",
    "            words = text.split()\n",
    "\n",
    "            #remove empty spaces\n",
    "            words = [x for x in words if x != ' ']\n",
    "\n",
    "            total_words = len(words)\n",
    "            \n",
    "            #calculate iterations\n",
    "            chunks = total_words // ideal_size\n",
    "            if total_words % ideal_size != 0:\n",
    "                chunks += 1\n",
    "            \n",
    "            new_content = []\n",
    "            for j in range(chunks):\n",
    "                if end > total_words:\n",
    "                    end = total_words\n",
    "                new_content = words[start:end]\n",
    "                new_content_string = ' '.join(new_content)\n",
    "                new_content_token_len = num_tokens_from_string(new_content_string)\n",
    "                if new_content_token_len > 0:\n",
    "                    new_list.append([df['title'][i], new_content_string,  new_content_token_len])\n",
    "                start += ideal_size\n",
    "                end += ideal_size\n",
    "    return new_list\n"
   ]
  },
  {
   "cell_type": "code",
   "execution_count": 17,
   "metadata": {},
   "outputs": [],
   "source": [
    "# Helper function: get embeddings for a text\n",
    "def get_embeddings(text):\n",
    "   response = openai.Embedding.create(\n",
    "       model=\"text-embedding-ada-002\",\n",
    "       input = text.replace(\"\\n\",\" \")\n",
    "   )\n",
    "   embedding = response['data'][0]['embedding']\n",
    "   return embedding\n"
   ]
  },
  {
   "cell_type": "code",
   "execution_count": 18,
   "metadata": {},
   "outputs": [],
   "source": [
    "def get_embedding(text, model=\"text-embedding-3-small\"):\n",
    "   text = text.replace(\"\\n\", \" \")\n",
    "   return client.embeddings.create(input = [text], model=model).data[0].embedding"
   ]
  },
  {
   "cell_type": "code",
   "execution_count": 19,
   "metadata": {},
   "outputs": [],
   "source": [
    "chunked_pdf_l = pdf_chunker(pdf_df)"
   ]
  },
  {
   "cell_type": "code",
   "execution_count": 20,
   "metadata": {},
   "outputs": [],
   "source": [
    "# Create embeddings for each piece of content\n",
    "for i in range(len(chunked_pdf_l)):\n",
    "   text = chunked_pdf_l[i][1]\n",
    "   embedding = get_embedding(text)\n",
    "   chunked_pdf_l[i].append(embedding)\n"
   ]
  },
  {
   "cell_type": "code",
   "execution_count": 21,
   "metadata": {},
   "outputs": [],
   "source": [
    "# Create a new dataframe from the list\n",
    "embedding_df = pd.DataFrame(chunked_pdf_l, columns=['title', 'content', 'tokens', 'embeddings'])"
   ]
  },
  {
   "cell_type": "code",
   "execution_count": 22,
   "metadata": {},
   "outputs": [
    {
     "data": {
      "text/html": [
       "<div>\n",
       "<style scoped>\n",
       "    .dataframe tbody tr th:only-of-type {\n",
       "        vertical-align: middle;\n",
       "    }\n",
       "\n",
       "    .dataframe tbody tr th {\n",
       "        vertical-align: top;\n",
       "    }\n",
       "\n",
       "    .dataframe thead th {\n",
       "        text-align: right;\n",
       "    }\n",
       "</style>\n",
       "<table border=\"1\" class=\"dataframe\">\n",
       "  <thead>\n",
       "    <tr style=\"text-align: right;\">\n",
       "      <th></th>\n",
       "      <th>title</th>\n",
       "      <th>content</th>\n",
       "      <th>tokens</th>\n",
       "      <th>embeddings</th>\n",
       "    </tr>\n",
       "  </thead>\n",
       "  <tbody>\n",
       "    <tr>\n",
       "      <th>0</th>\n",
       "      <td>pdf3.pdf</td>\n",
       "      <td>Detection of stellar light from quasar host ga...</td>\n",
       "      <td>1017</td>\n",
       "      <td>[-0.008913620375096798, -0.003685270668938756,...</td>\n",
       "    </tr>\n",
       "    <tr>\n",
       "      <th>1</th>\n",
       "      <td>pdf3.pdf</td>\n",
       "      <td>der Universit ¨at Heidelberg (ITA), Albert-Ueb...</td>\n",
       "      <td>867</td>\n",
       "      <td>[-0.027547599747776985, 0.016496682539582253, ...</td>\n",
       "    </tr>\n",
       "    <tr>\n",
       "      <th>2</th>\n",
       "      <td>pdf3.pdf</td>\n",
       "      <td>that the host galaxies are massive (stellar ma...</td>\n",
       "      <td>662</td>\n",
       "      <td>[-0.050405103713274, 0.011267776601016521, 0.0...</td>\n",
       "    </tr>\n",
       "    <tr>\n",
       "      <th>3</th>\n",
       "      <td>pdf3.pdf</td>\n",
       "      <td>profile13whose parameters include the position...</td>\n",
       "      <td>625</td>\n",
       "      <td>[-0.022945208474993706, 0.004072774201631546, ...</td>\n",
       "    </tr>\n",
       "    <tr>\n",
       "      <th>4</th>\n",
       "      <td>pdf3.pdf</td>\n",
       "      <td>range [−1,−0.3], the stellar age is within the...</td>\n",
       "      <td>635</td>\n",
       "      <td>[-0.019858600571751595, 0.015721391886472702, ...</td>\n",
       "    </tr>\n",
       "    <tr>\n",
       "      <th>...</th>\n",
       "      <td>...</td>\n",
       "      <td>...</td>\n",
       "      <td>...</td>\n",
       "      <td>...</td>\n",
       "    </tr>\n",
       "    <tr>\n",
       "      <th>128</th>\n",
       "      <td>pdf1.pdf</td>\n",
       "      <td>in Do et al. (2019), with a peak flux density ...</td>\n",
       "      <td>544</td>\n",
       "      <td>[-0.014840332791209221, 0.00358420517295599, 0...</td>\n",
       "    </tr>\n",
       "    <tr>\n",
       "      <th>129</th>\n",
       "      <td>pdf1.pdf</td>\n",
       "      <td>light curves. varying values of α. See Figure ...</td>\n",
       "      <td>683</td>\n",
       "      <td>[-0.008777388371527195, 0.013306329026818275, ...</td>\n",
       "    </tr>\n",
       "    <tr>\n",
       "      <th>130</th>\n",
       "      <td>pdf1.pdf</td>\n",
       "      <td>1.028±0.044 1.044±0.029 1.013±0.037 0.995±0.03...</td>\n",
       "      <td>2237</td>\n",
       "      <td>[-0.015937522053718567, 0.023344896733760834, ...</td>\n",
       "    </tr>\n",
       "    <tr>\n",
       "      <th>131</th>\n",
       "      <td>pdf1.pdf</td>\n",
       "      <td>... 0.005±0.003 0.003±0.002 18.0 0.001±0.001 0...</td>\n",
       "      <td>1186</td>\n",
       "      <td>[-0.012408621609210968, -0.006417050026357174,...</td>\n",
       "    </tr>\n",
       "    <tr>\n",
       "      <th>132</th>\n",
       "      <td>pdf1.pdf</td>\n",
       "      <td>of the pre-2019 (blue), 2019 (black), and post...</td>\n",
       "      <td>123</td>\n",
       "      <td>[-0.018339229747653008, -0.0001886128593469038...</td>\n",
       "    </tr>\n",
       "  </tbody>\n",
       "</table>\n",
       "<p>133 rows × 4 columns</p>\n",
       "</div>"
      ],
      "text/plain": [
       "        title                                            content  tokens  \\\n",
       "0    pdf3.pdf  Detection of stellar light from quasar host ga...    1017   \n",
       "1    pdf3.pdf  der Universit ¨at Heidelberg (ITA), Albert-Ueb...     867   \n",
       "2    pdf3.pdf  that the host galaxies are massive (stellar ma...     662   \n",
       "3    pdf3.pdf  profile13whose parameters include the position...     625   \n",
       "4    pdf3.pdf  range [−1,−0.3], the stellar age is within the...     635   \n",
       "..        ...                                                ...     ...   \n",
       "128  pdf1.pdf  in Do et al. (2019), with a peak flux density ...     544   \n",
       "129  pdf1.pdf  light curves. varying values of α. See Figure ...     683   \n",
       "130  pdf1.pdf  1.028±0.044 1.044±0.029 1.013±0.037 0.995±0.03...    2237   \n",
       "131  pdf1.pdf  ... 0.005±0.003 0.003±0.002 18.0 0.001±0.001 0...    1186   \n",
       "132  pdf1.pdf  of the pre-2019 (blue), 2019 (black), and post...     123   \n",
       "\n",
       "                                            embeddings  \n",
       "0    [-0.008913620375096798, -0.003685270668938756,...  \n",
       "1    [-0.027547599747776985, 0.016496682539582253, ...  \n",
       "2    [-0.050405103713274, 0.011267776601016521, 0.0...  \n",
       "3    [-0.022945208474993706, 0.004072774201631546, ...  \n",
       "4    [-0.019858600571751595, 0.015721391886472702, ...  \n",
       "..                                                 ...  \n",
       "128  [-0.014840332791209221, 0.00358420517295599, 0...  \n",
       "129  [-0.008777388371527195, 0.013306329026818275, ...  \n",
       "130  [-0.015937522053718567, 0.023344896733760834, ...  \n",
       "131  [-0.012408621609210968, -0.006417050026357174,...  \n",
       "132  [-0.018339229747653008, -0.0001886128593469038...  \n",
       "\n",
       "[133 rows x 4 columns]"
      ]
     },
     "execution_count": 22,
     "metadata": {},
     "output_type": "execute_result"
    }
   ],
   "source": [
    "embedding_df"
   ]
  },
  {
   "cell_type": "code",
   "execution_count": 25,
   "metadata": {},
   "outputs": [],
   "source": [
    "embedding_filepath = '../../data-ingest/data/embeddings/test_embedding.csv'\n",
    "embedding_df.to_csv(embedding_filepath)"
   ]
  },
  {
   "cell_type": "code",
   "execution_count": 24,
   "metadata": {},
   "outputs": [
    {
     "data": {
      "text/html": [
       "<div>\n",
       "<style scoped>\n",
       "    .dataframe tbody tr th:only-of-type {\n",
       "        vertical-align: middle;\n",
       "    }\n",
       "\n",
       "    .dataframe tbody tr th {\n",
       "        vertical-align: top;\n",
       "    }\n",
       "\n",
       "    .dataframe thead th {\n",
       "        text-align: right;\n",
       "    }\n",
       "</style>\n",
       "<table border=\"1\" class=\"dataframe\">\n",
       "  <thead>\n",
       "    <tr style=\"text-align: right;\">\n",
       "      <th></th>\n",
       "      <th>title</th>\n",
       "      <th>content</th>\n",
       "      <th>tokens</th>\n",
       "      <th>embeddings</th>\n",
       "    </tr>\n",
       "  </thead>\n",
       "  <tbody>\n",
       "    <tr>\n",
       "      <th>0</th>\n",
       "      <td>pdf3.pdf</td>\n",
       "      <td>Detection of stellar light from quasar host ga...</td>\n",
       "      <td>1017</td>\n",
       "      <td>[-0.008913620375096798, -0.003685270668938756,...</td>\n",
       "    </tr>\n",
       "    <tr>\n",
       "      <th>1</th>\n",
       "      <td>pdf3.pdf</td>\n",
       "      <td>der Universit ¨at Heidelberg (ITA), Albert-Ueb...</td>\n",
       "      <td>867</td>\n",
       "      <td>[-0.027547599747776985, 0.016496682539582253, ...</td>\n",
       "    </tr>\n",
       "    <tr>\n",
       "      <th>2</th>\n",
       "      <td>pdf3.pdf</td>\n",
       "      <td>that the host galaxies are massive (stellar ma...</td>\n",
       "      <td>662</td>\n",
       "      <td>[-0.050405103713274, 0.011267776601016521, 0.0...</td>\n",
       "    </tr>\n",
       "    <tr>\n",
       "      <th>3</th>\n",
       "      <td>pdf3.pdf</td>\n",
       "      <td>profile13whose parameters include the position...</td>\n",
       "      <td>625</td>\n",
       "      <td>[-0.022945208474993706, 0.004072774201631546, ...</td>\n",
       "    </tr>\n",
       "    <tr>\n",
       "      <th>4</th>\n",
       "      <td>pdf3.pdf</td>\n",
       "      <td>range [−1,−0.3], the stellar age is within the...</td>\n",
       "      <td>635</td>\n",
       "      <td>[-0.019858600571751595, 0.015721391886472702, ...</td>\n",
       "    </tr>\n",
       "    <tr>\n",
       "      <th>...</th>\n",
       "      <td>...</td>\n",
       "      <td>...</td>\n",
       "      <td>...</td>\n",
       "      <td>...</td>\n",
       "    </tr>\n",
       "    <tr>\n",
       "      <th>128</th>\n",
       "      <td>pdf1.pdf</td>\n",
       "      <td>in Do et al. (2019), with a peak flux density ...</td>\n",
       "      <td>544</td>\n",
       "      <td>[-0.014840332791209221, 0.00358420517295599, 0...</td>\n",
       "    </tr>\n",
       "    <tr>\n",
       "      <th>129</th>\n",
       "      <td>pdf1.pdf</td>\n",
       "      <td>light curves. varying values of α. See Figure ...</td>\n",
       "      <td>683</td>\n",
       "      <td>[-0.008777388371527195, 0.013306329026818275, ...</td>\n",
       "    </tr>\n",
       "    <tr>\n",
       "      <th>130</th>\n",
       "      <td>pdf1.pdf</td>\n",
       "      <td>1.028±0.044 1.044±0.029 1.013±0.037 0.995±0.03...</td>\n",
       "      <td>2237</td>\n",
       "      <td>[-0.015937522053718567, 0.023344896733760834, ...</td>\n",
       "    </tr>\n",
       "    <tr>\n",
       "      <th>131</th>\n",
       "      <td>pdf1.pdf</td>\n",
       "      <td>... 0.005±0.003 0.003±0.002 18.0 0.001±0.001 0...</td>\n",
       "      <td>1186</td>\n",
       "      <td>[-0.012408621609210968, -0.006417050026357174,...</td>\n",
       "    </tr>\n",
       "    <tr>\n",
       "      <th>132</th>\n",
       "      <td>pdf1.pdf</td>\n",
       "      <td>of the pre-2019 (blue), 2019 (black), and post...</td>\n",
       "      <td>123</td>\n",
       "      <td>[-0.018339229747653008, -0.0001886128593469038...</td>\n",
       "    </tr>\n",
       "  </tbody>\n",
       "</table>\n",
       "<p>133 rows × 4 columns</p>\n",
       "</div>"
      ],
      "text/plain": [
       "        title                                            content  tokens  \\\n",
       "0    pdf3.pdf  Detection of stellar light from quasar host ga...    1017   \n",
       "1    pdf3.pdf  der Universit ¨at Heidelberg (ITA), Albert-Ueb...     867   \n",
       "2    pdf3.pdf  that the host galaxies are massive (stellar ma...     662   \n",
       "3    pdf3.pdf  profile13whose parameters include the position...     625   \n",
       "4    pdf3.pdf  range [−1,−0.3], the stellar age is within the...     635   \n",
       "..        ...                                                ...     ...   \n",
       "128  pdf1.pdf  in Do et al. (2019), with a peak flux density ...     544   \n",
       "129  pdf1.pdf  light curves. varying values of α. See Figure ...     683   \n",
       "130  pdf1.pdf  1.028±0.044 1.044±0.029 1.013±0.037 0.995±0.03...    2237   \n",
       "131  pdf1.pdf  ... 0.005±0.003 0.003±0.002 18.0 0.001±0.001 0...    1186   \n",
       "132  pdf1.pdf  of the pre-2019 (blue), 2019 (black), and post...     123   \n",
       "\n",
       "                                            embeddings  \n",
       "0    [-0.008913620375096798, -0.003685270668938756,...  \n",
       "1    [-0.027547599747776985, 0.016496682539582253, ...  \n",
       "2    [-0.050405103713274, 0.011267776601016521, 0.0...  \n",
       "3    [-0.022945208474993706, 0.004072774201631546, ...  \n",
       "4    [-0.019858600571751595, 0.015721391886472702, ...  \n",
       "..                                                 ...  \n",
       "128  [-0.014840332791209221, 0.00358420517295599, 0...  \n",
       "129  [-0.008777388371527195, 0.013306329026818275, ...  \n",
       "130  [-0.015937522053718567, 0.023344896733760834, ...  \n",
       "131  [-0.012408621609210968, -0.006417050026357174,...  \n",
       "132  [-0.018339229747653008, -0.0001886128593469038...  \n",
       "\n",
       "[133 rows x 4 columns]"
      ]
     },
     "execution_count": 24,
     "metadata": {},
     "output_type": "execute_result"
    }
   ],
   "source": [
    "embedding_df"
   ]
  },
  {
   "cell_type": "code",
   "execution_count": null,
   "metadata": {},
   "outputs": [],
   "source": []
  },
  {
   "cell_type": "code",
   "execution_count": 27,
   "metadata": {},
   "outputs": [],
   "source": [
    "import os\n",
    "from dotenv import load_dotenv, find_dotenv\n",
    "dotenv_path = os.path.abspath('../../../.env')\n",
    "_ = load_dotenv(dotenv_path)\n",
    "OPENAI_API_KEY  = os.environ['OPENAI_API_KEY']\n",
    "PG_DB_PW = os.environ['PG_DB_PW']\n",
    "host= os.environ['HOST']\n",
    "port= os.environ['PORT']\n",
    "user= os.environ['USER']\n",
    "password= os.environ['PG_DB_PW']\n",
    "dbname= os.environ['DBNAME']"
   ]
  },
  {
   "cell_type": "code",
   "execution_count": 29,
   "metadata": {},
   "outputs": [
    {
     "name": "stderr",
     "output_type": "stream",
     "text": [
      "/var/folders/s4/l2klswfj1wvcw_vbmvvbc70h0000gn/T/ipykernel_28646/2106806944.py:7: MovedIn20Warning: The ``declarative_base()`` function is now available as sqlalchemy.orm.declarative_base(). (deprecated since: 2.0) (Background on SQLAlchemy 2.0 at: https://sqlalche.me/e/b8d9)\n",
      "  Base = declarative_base()\n"
     ]
    }
   ],
   "source": [
    "from sqlalchemy import create_engine, Column, Integer, String\n",
    "from sqlalchemy.ext.declarative import declarative_base\n",
    "from sqlalchemy.orm import sessionmaker\n",
    "from pgvector.sqlalchemy import Vector\n",
    "import numpy as np\n",
    "\n",
    "Base = declarative_base()\n",
    "N_DIM = 1536\n",
    "\n",
    "class TextEmbedding(Base):\n",
    "    __tablename__ = 'text_embeddings'\n",
    "    id = Column(Integer, primary_key=True, autoincrement=True)\n",
    "    content = Column(String)\n",
    "    embedding = Vector(N_DIM)\n"
   ]
  },
  {
   "cell_type": "code",
   "execution_count": 30,
   "metadata": {},
   "outputs": [],
   "source": [
    "pg_db_url = f\"postgresql+psycopg2://{user}:{PG_DB_PW}@{host}:{port}/{dbname}\"\n",
    "\n",
    "# Connect to PostgreSQL\n",
    "engine = create_engine(pg_db_url)\n",
    "Base.metadata.create_all(engine)\n",
    "\n",
    "# Create a session\n",
    "Session = sessionmaker(bind=engine)\n",
    "session = Session()"
   ]
  },
  {
   "cell_type": "code",
   "execution_count": 31,
   "metadata": {},
   "outputs": [],
   "source": [
    "def insert_embeddings(embeddings):\n",
    "    for embedding in embeddings:\n",
    "        new_embedding = TextEmbedding(embedding=embedding)\n",
    "        session.add(new_embedding)\n",
    "    session.commit()"
   ]
  },
  {
   "cell_type": "code",
   "execution_count": 35,
   "metadata": {},
   "outputs": [],
   "source": [
    "insert_embeddings(embedding_df['embeddings'])"
   ]
  },
  {
   "cell_type": "code",
   "execution_count": 34,
   "metadata": {},
   "outputs": [
    {
     "data": {
      "text/plain": [
       "0      [-0.008913620375096798, -0.003685270668938756,...\n",
       "1      [-0.027547599747776985, 0.016496682539582253, ...\n",
       "2      [-0.050405103713274, 0.011267776601016521, 0.0...\n",
       "3      [-0.022945208474993706, 0.004072774201631546, ...\n",
       "4      [-0.019858600571751595, 0.015721391886472702, ...\n",
       "                             ...                        \n",
       "128    [-0.014840332791209221, 0.00358420517295599, 0...\n",
       "129    [-0.008777388371527195, 0.013306329026818275, ...\n",
       "130    [-0.015937522053718567, 0.023344896733760834, ...\n",
       "131    [-0.012408621609210968, -0.006417050026357174,...\n",
       "132    [-0.018339229747653008, -0.0001886128593469038...\n",
       "Name: embeddings, Length: 133, dtype: object"
      ]
     },
     "execution_count": 34,
     "metadata": {},
     "output_type": "execute_result"
    }
   ],
   "source": []
  },
  {
   "cell_type": "code",
   "execution_count": null,
   "metadata": {},
   "outputs": [],
   "source": [
    "# Setup database\n",
    "db = SQLDatabase.from_uri(\n",
    "    f\"postgresql+psycopg2://{user}:{PG_DB_PW}@{host}:{port}/{dbname}\",\n",
    ")"
   ]
  },
  {
   "cell_type": "code",
   "execution_count": null,
   "metadata": {},
   "outputs": [],
   "source": []
  },
  {
   "cell_type": "code",
   "execution_count": null,
   "metadata": {},
   "outputs": [],
   "source": []
  },
  {
   "cell_type": "code",
   "execution_count": null,
   "metadata": {},
   "outputs": [],
   "source": []
  },
  {
   "cell_type": "code",
   "execution_count": null,
   "metadata": {},
   "outputs": [],
   "source": []
  }
 ],
 "metadata": {
  "kernelspec": {
   "display_name": "langchain",
   "language": "python",
   "name": "python3"
  },
  "language_info": {
   "codemirror_mode": {
    "name": "ipython",
    "version": 3
   },
   "file_extension": ".py",
   "mimetype": "text/x-python",
   "name": "python",
   "nbconvert_exporter": "python",
   "pygments_lexer": "ipython3",
   "version": "3.12.1"
  }
 },
 "nbformat": 4,
 "nbformat_minor": 2
}
