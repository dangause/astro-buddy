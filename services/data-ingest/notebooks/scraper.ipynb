{
 "cells": [
  {
   "cell_type": "code",
   "execution_count": 5,
   "metadata": {},
   "outputs": [],
   "source": [
    "import os\n",
    "# Run export OPENAI_API_KEY=sk-YOUR_OPENAI_API_KEY...\n",
    "# Get openAI api key by reading local .env file\n",
    "import dotenv\n",
    "dotenv_path = dotenv.find_dotenv('.env.config')\n",
    "_ = dotenv.load_dotenv(dotenv_path)\n",
    "OPENAI_API_KEY  = os.environ['OPENAI_API_KEY']\n",
    "PG_DB_PW = os.environ['POSTGRES_DB_PASSWORD']\n",
    "host = os.environ['POSTGRES_DB_HOST']\n",
    "port = os.environ['POSTGRES_DB_PORT']\n",
    "user = os.environ['POSTGRES_DB_USER']\n",
    "password = os.environ['POSTGRES_DB_PASSWORD']\n",
    "dbname = os.environ['POSTGRES_DB_DBNAME']\n",
    "collection_name = os.environ['PGVECTOR_COLLECTION_NAME']\n",
    "\n"
   ]
  },
  {
   "cell_type": "code",
   "execution_count": 7,
   "metadata": {},
   "outputs": [],
   "source": [
    "import pandas as pd\n",
    "import arxivscraper.arxivscraper as ax\n",
    "import arxiv\n",
    "import tiktoken\n",
    "import psycopg2\n",
    "import pgvector\n",
    "import openai\n",
    "import re\n",
    "from langchain_openai import OpenAIEmbeddings, ChatOpenAI\n",
    "from langchain.text_splitter import RecursiveCharacterTextSplitter\n",
    "from langchain.vectorstores.pgvector import PGVector, DistanceStrategy\n"
   ]
  },
  {
   "cell_type": "code",
   "execution_count": 9,
   "metadata": {},
   "outputs": [
    {
     "name": "stdout",
     "output_type": "stream",
     "text": [
      "fetching up to  1000 records...\n",
      "fetching is completed in 5.3 seconds.\n",
      "Total number of records 9\n"
     ]
    }
   ],
   "source": [
    "date_from=\"2024-01-22\"\n",
    "date_until=\"2024-01-23\"\n",
    "\n",
    "# # Construct the default API client.\n",
    "# client = arxiv.Client()\n",
    "\n",
    "scraper = ax.Scraper(\n",
    "    category=\"physics:astro-ph\",\n",
    "    date_from=date_from,\n",
    "    date_until=date_until,\n",
    "    t=10,\n",
    "    filters={\"abstract\": [\"quasar\"]},\n",
    ")\n",
    "output = scraper.scrape()\n",
    "cols = (\"id\", \"title\", \"categories\", \"abstract\", \"doi\", \"created\", \"updated\", \"authors\")\n",
    "df = pd.DataFrame(output, columns=cols)\n",
    "df['id_no_period'] = df.id.apply(lambda x: x.replace(\".\",\"\"))"
   ]
  },
  {
   "cell_type": "code",
   "execution_count": null,
   "metadata": {},
   "outputs": [],
   "source": [
    "DataFrame(eval(data))\n"
   ]
  },
  {
   "cell_type": "code",
   "execution_count": null,
   "metadata": {},
   "outputs": [],
   "source": []
  },
  {
   "cell_type": "code",
   "execution_count": null,
   "metadata": {},
   "outputs": [],
   "source": []
  },
  {
   "cell_type": "code",
   "execution_count": 3,
   "metadata": {},
   "outputs": [
    {
     "name": "stdout",
     "output_type": "stream",
     "text": [
      "fetching up to  1000 records...\n",
      "fetching is completed in 10.4 seconds.\n",
      "Total number of records 24\n"
     ]
    }
   ],
   "source": [
    "scraper = ax.Scraper(\n",
    "    category=\"physics:astro-ph\",\n",
    "    date_from=\"2024-01-22\",\n",
    "    date_until=\"2024-01-29\",\n",
    "    t=10,\n",
    "    filters={\"abstract\": [\"quasar\"]},\n",
    ")\n",
    "output = scraper.scrape()\n",
    "cols = (\"id\", \"title\", \"categories\", \"abstract\", \"doi\", \"created\", \"updated\", \"authors\")\n",
    "df = pd.DataFrame(output, columns=cols)\n",
    "df['id_no_period'] = df.id.apply(lambda x: x.replace(\".\",\"\"))"
   ]
  },
  {
   "cell_type": "code",
   "execution_count": 4,
   "metadata": {},
   "outputs": [],
   "source": [
    "from os import listdir\n",
    "from os.path import isfile, join\n",
    "from pypdf import PdfReader\n",
    "import tempfile\n",
    "\n",
    "DEFAULT_PDF_DIRPATH = '/data/docs/'\n",
    "\n",
    "def read_pdf(file_path):\n",
    "    pdf_reader = PdfReader(file_path)\n",
    "    text = \"\"\n",
    "\n",
    "    for page in pdf_reader.pages:\n",
    "        extracted_text = page.extract_text()\n",
    "        if extracted_text:  # Check if text is extracted successfully\n",
    "            text += extracted_text + \"\\n\"  # Append text of each page\n",
    "\n",
    "    return text"
   ]
  },
  {
   "cell_type": "code",
   "execution_count": 5,
   "metadata": {},
   "outputs": [],
   "source": [
    "# Construct the default API client.\n",
    "client = arxiv.Client()\n",
    "\n",
    "df['content'] = None\n",
    "\n",
    "for index, row in df.iterrows():\n",
    "    paper = next(arxiv.Client().results(arxiv.Search(id_list=[row['id']])))\n",
    "    # Download the PDF to a specified directory with a custom filename.\n",
    "    pdf_filename = row['id_no_period']+'.pdf'\n",
    "\n",
    "    with tempfile.TemporaryDirectory() as tmpdirname:\n",
    "        paper.download_pdf(dirpath=tmpdirname, filename=pdf_filename)\n",
    "        tmp_filepath = join(tmpdirname, pdf_filename)\n",
    "        df.loc[index, 'content'] = read_pdf(tmp_filepath)\n",
    "        \n"
   ]
  },
  {
   "cell_type": "code",
   "execution_count": 9,
   "metadata": {},
   "outputs": [],
   "source": [
    "# drop columns that have a lot of nas, then drop all rows with remaining nas\n",
    "df = df.drop(['doi', 'updated'], axis=1)\n",
    "df = df.dropna()\n",
    "df = df.reset_index(drop=True)"
   ]
  },
  {
   "cell_type": "code",
   "execution_count": 69,
   "metadata": {},
   "outputs": [
    {
     "data": {
      "text/html": [
       "<div>\n",
       "<style scoped>\n",
       "    .dataframe tbody tr th:only-of-type {\n",
       "        vertical-align: middle;\n",
       "    }\n",
       "\n",
       "    .dataframe tbody tr th {\n",
       "        vertical-align: top;\n",
       "    }\n",
       "\n",
       "    .dataframe thead th {\n",
       "        text-align: right;\n",
       "    }\n",
       "</style>\n",
       "<table border=\"1\" class=\"dataframe\">\n",
       "  <thead>\n",
       "    <tr style=\"text-align: right;\">\n",
       "      <th></th>\n",
       "      <th>id</th>\n",
       "      <th>title</th>\n",
       "      <th>categories</th>\n",
       "      <th>abstract</th>\n",
       "      <th>created</th>\n",
       "      <th>authors</th>\n",
       "      <th>id_no_period</th>\n",
       "      <th>content</th>\n",
       "    </tr>\n",
       "  </thead>\n",
       "  <tbody>\n",
       "    <tr>\n",
       "      <th>0</th>\n",
       "      <td>2209.09345</td>\n",
       "      <td>the extent of intergalactic metal enrichment f...</td>\n",
       "      <td>astro-ph.ga</td>\n",
       "      <td>one of the key processes driving galaxy evolut...</td>\n",
       "      <td>2022-09-19</td>\n",
       "      <td>natsuko yamaguchi ,  steven r. furlanetto ,  ...</td>\n",
       "      <td>220909345</td>\n",
       "      <td>MNRAS 000, 1 ?? 2021  Preprint 22 January 2024...</td>\n",
       "    </tr>\n",
       "    <tr>\n",
       "      <th>1</th>\n",
       "      <td>2303.16933</td>\n",
       "      <td>musequbes: mapping the distribution of neutral...</td>\n",
       "      <td>astro-ph.ga</td>\n",
       "      <td>we present a detailed study of cool, neutral g...</td>\n",
       "      <td>2023-03-29</td>\n",
       "      <td>sayak dutta ,  sowgat muzahid ,  joop schaye ...</td>\n",
       "      <td>230316933</td>\n",
       "      <td>MNRAS 000, 1 22  2023  Preprint 26 January 202...</td>\n",
       "    </tr>\n",
       "    <tr>\n",
       "      <th>2</th>\n",
       "      <td>2306.05448</td>\n",
       "      <td>little red dots: an abundant population of fai...</td>\n",
       "      <td>astro-ph.ga astro-ph.co</td>\n",
       "      <td>characterising the prevalence and properties o...</td>\n",
       "      <td>2023-06-08</td>\n",
       "      <td>jorryt matthee ,  rohan p. naidu ,  gabriel b...</td>\n",
       "      <td>230605448</td>\n",
       "      <td>Draft version January 24, 2024 Typeset using L...</td>\n",
       "    </tr>\n",
       "    <tr>\n",
       "      <th>3</th>\n",
       "      <td>2306.13219</td>\n",
       "      <td>vadar: varstrometry for dual agn using radio i...</td>\n",
       "      <td>astro-ph.ga</td>\n",
       "      <td>binary and dual active galactic nuclei  agn  a...</td>\n",
       "      <td>2023-06-22</td>\n",
       "      <td>emma schwartzman ,  tracy e. clarke ,  kristi...</td>\n",
       "      <td>230613219</td>\n",
       "      <td>Draft version January 26, 2024 Typeset using L...</td>\n",
       "    </tr>\n",
       "    <tr>\n",
       "      <th>4</th>\n",
       "      <td>2308.01505</td>\n",
       "      <td>the million quasars  milliquas  catalogue, v8</td>\n",
       "      <td>astro-ph.ga</td>\n",
       "      <td>announcing the final release, v8, of the milli...</td>\n",
       "      <td>2023-08-02</td>\n",
       "      <td>eric wim flesch</td>\n",
       "      <td>230801505</td>\n",
       "      <td>Version December 8, 2023 Preprint typeset usin...</td>\n",
       "    </tr>\n",
       "    <tr>\n",
       "      <th>5</th>\n",
       "      <td>2308.06951</td>\n",
       "      <td>a model-independent method to determine  h_0  ...</td>\n",
       "      <td>astro-ph.co</td>\n",
       "      <td>absolute distances from strong lensing can anc...</td>\n",
       "      <td>2023-08-14</td>\n",
       "      <td>xiaolei li ,  ryan e. keeley ,  arman shafiel...</td>\n",
       "      <td>230806951</td>\n",
       "      <td>Draft version January 8, 2024 Typeset using L ...</td>\n",
       "    </tr>\n",
       "    <tr>\n",
       "      <th>6</th>\n",
       "      <td>2308.0726</td>\n",
       "      <td>a search for high-redshift direct-collapse bla...</td>\n",
       "      <td>astro-ph.ga astro-ph.co astro-ph.he</td>\n",
       "      <td>direct-collapse black holes  dcbhs  of mass  s...</td>\n",
       "      <td>2023-08-14</td>\n",
       "      <td>armin nabizadeh ,  erik zackrisson ,  fabio p...</td>\n",
       "      <td>230807260</td>\n",
       "      <td>Astronomy  Astrophysics manuscript no. main  E...</td>\n",
       "    </tr>\n",
       "    <tr>\n",
       "      <th>7</th>\n",
       "      <td>2308.08851</td>\n",
       "      <td>toward a direct measurement of the cosmic acce...</td>\n",
       "      <td>astro-ph.co</td>\n",
       "      <td>in this work, we report the first result from ...</td>\n",
       "      <td>2023-08-17</td>\n",
       "      <td>jiangang kang ,  chang-zhi lu ,  tongjie zhan...</td>\n",
       "      <td>230808851</td>\n",
       "      <td>Prepared for submission to JCAP Toward a direc...</td>\n",
       "    </tr>\n",
       "    <tr>\n",
       "      <th>8</th>\n",
       "      <td>2401.09981</td>\n",
       "      <td>a census of photometrically selected little re...</td>\n",
       "      <td>astro-ph.ga</td>\n",
       "      <td>observations with the james webb space telesco...</td>\n",
       "      <td>2024-01-18</td>\n",
       "      <td>vasily kokorev ,  karina i. caputi ,  jenny e...</td>\n",
       "      <td>240109981</td>\n",
       "      <td>Draft version January 25, 2024 Typeset using L...</td>\n",
       "    </tr>\n",
       "    <tr>\n",
       "      <th>9</th>\n",
       "      <td>2401.10328</td>\n",
       "      <td>chronicling the reionization history at  6 les...</td>\n",
       "      <td>astro-ph.co astro-ph.ga</td>\n",
       "      <td>the spectra of high-redshift  z gtrsim 6  quas...</td>\n",
       "      <td>2024-01-18</td>\n",
       "      <td>dominika  urov kov ,  anna-christina eilers ,...</td>\n",
       "      <td>240110328</td>\n",
       "      <td>Draft version January 22, 2024 Typeset using L...</td>\n",
       "    </tr>\n",
       "    <tr>\n",
       "      <th>10</th>\n",
       "      <td>2401.10548</td>\n",
       "      <td>the remarkable predictive power of infrared da...</td>\n",
       "      <td>astro-ph.he</td>\n",
       "      <td>blazars are the brightest and most abundant pe...</td>\n",
       "      <td>2024-01-19</td>\n",
       "      <td>p. giommi ,  n. sahakyan ,  d. israyelyan ,  ...</td>\n",
       "      <td>240110548</td>\n",
       "      <td>Draft version January 22, 2024 Typeset using L...</td>\n",
       "    </tr>\n",
       "    <tr>\n",
       "      <th>11</th>\n",
       "      <td>2401.1097</td>\n",
       "      <td>lambda cdm-rastall cosmology revisited: const...</td>\n",
       "      <td>astro-ph.co gr-qc</td>\n",
       "      <td>in this paper we study the impact of a recent ...</td>\n",
       "      <td>2024-01-19</td>\n",
       "      <td>jes s astorga-moreno ,  kyra jacobo ,  salvad...</td>\n",
       "      <td>240110970</td>\n",
       "      <td>CDM-Rastall cosmology revisited: constraints ...</td>\n",
       "    </tr>\n",
       "    <tr>\n",
       "      <th>12</th>\n",
       "      <td>2401.11612</td>\n",
       "      <td>jwst reveals powerful feedback from radio jets...</td>\n",
       "      <td>astro-ph.ga astro-ph.he</td>\n",
       "      <td>we report observations of a powerful ionized g...</td>\n",
       "      <td>2024-01-21</td>\n",
       "      <td>namrata roy ,  timothy heckman ,  roderik ove...</td>\n",
       "      <td>240111612</td>\n",
       "      <td>Draft version January 23, 2024 Typeset using L...</td>\n",
       "    </tr>\n",
       "    <tr>\n",
       "      <th>13</th>\n",
       "      <td>2401.11826</td>\n",
       "      <td>tracing the rise of supermassive black holes: ...</td>\n",
       "      <td>astro-ph.ga astro-ph.co astro-ph.he</td>\n",
       "      <td>we report the identification of 64 new candida...</td>\n",
       "      <td>2024-01-22</td>\n",
       "      <td>irham t. andika ,  knud jahnke ,  masafusa on...</td>\n",
       "      <td>240111826</td>\n",
       "      <td>Astronomy  Astrophysics manuscript no. main  E...</td>\n",
       "    </tr>\n",
       "    <tr>\n",
       "      <th>14</th>\n",
       "      <td>2401.11998</td>\n",
       "      <td>the scavenger hunt for quasar samples to be us...</td>\n",
       "      <td>astro-ph.co hep-ph</td>\n",
       "      <td>although the  lambda  cold dark matter model i...</td>\n",
       "      <td>2024-01-22</td>\n",
       "      <td>maria giovanna dainotti ,  giada bargiacchi ,...</td>\n",
       "      <td>240111998</td>\n",
       "      <td>Citation: Dainotti, M.G.; Bargiacchi, G.; Lena...</td>\n",
       "    </tr>\n",
       "    <tr>\n",
       "      <th>15</th>\n",
       "      <td>2401.12052</td>\n",
       "      <td>determining cosmological-model-independent  h_...</td>\n",
       "      <td>astro-ph.co</td>\n",
       "      <td>the reappearance of supernova refsdal provides...</td>\n",
       "      <td>2024-01-22</td>\n",
       "      <td>xiaolei li ,  kai liao</td>\n",
       "      <td>240112052</td>\n",
       "      <td>Draft version January 23, 2024 Typeset using L...</td>\n",
       "    </tr>\n",
       "    <tr>\n",
       "      <th>16</th>\n",
       "      <td>2401.12325</td>\n",
       "      <td>implementation of allan standard deviation tec...</td>\n",
       "      <td>astro-ph.ga physics.data-an</td>\n",
       "      <td>the international celestial reference frame  i...</td>\n",
       "      <td>2024-01-22</td>\n",
       "      <td>jessica syafaq muthmaina ,  ibnu nurul huda ,...</td>\n",
       "      <td>240112325</td>\n",
       "      <td>Implementation of Allan Standard Deviation Tec...</td>\n",
       "    </tr>\n",
       "    <tr>\n",
       "      <th>17</th>\n",
       "      <td>2401.12797</td>\n",
       "      <td>a new precise determination of the primordial ...</td>\n",
       "      <td>astro-ph.co</td>\n",
       "      <td>the theory of big bang nucleosynthesis, couple...</td>\n",
       "      <td>2024-01-23</td>\n",
       "      <td>p. a. kislitsyn ,  s. a. balashev ,  m. t. mu...</td>\n",
       "      <td>240112797</td>\n",
       "      <td>MNRAS 000, 1 12  2023  Preprint 24 January 202...</td>\n",
       "    </tr>\n",
       "    <tr>\n",
       "      <th>18</th>\n",
       "      <td>2401.12847</td>\n",
       "      <td>a new binning method to choose a standard set ...</td>\n",
       "      <td>astro-ph.he</td>\n",
       "      <td>although the lambda cold dark matter model is ...</td>\n",
       "      <td>2024-01-23</td>\n",
       "      <td>maria giovanna dainotti ,  aleksander lukasz ...</td>\n",
       "      <td>240112847</td>\n",
       "      <td>A new binning method to choose a standard set ...</td>\n",
       "    </tr>\n",
       "    <tr>\n",
       "      <th>19</th>\n",
       "      <td>2401.1286</td>\n",
       "      <td>x-ray variability of sdss quasars based on the...</td>\n",
       "      <td>astro-ph.he</td>\n",
       "      <td>we examine the long-term  rest-frame time scal...</td>\n",
       "      <td>2024-01-23</td>\n",
       "      <td>s. a. prokhorenko ,  s. yu. sazonov ,  m. r. ...</td>\n",
       "      <td>240112860</td>\n",
       "      <td>MNRAS 000, 000 000  2023  Preprint 24 January ...</td>\n",
       "    </tr>\n",
       "    <tr>\n",
       "      <th>20</th>\n",
       "      <td>2401.13347</td>\n",
       "      <td>magnetic penrose process in the magnetized ker...</td>\n",
       "      <td>astro-ph.he gr-qc hep-th</td>\n",
       "      <td>it is well-established that the magnetic penro...</td>\n",
       "      <td>2024-01-24</td>\n",
       "      <td>chandrachur chakraborty ,  parth patil ,  g. ...</td>\n",
       "      <td>240113347</td>\n",
       "      <td>arXiv:2401.13347v1   astro-ph.HE   24 Jan 2024...</td>\n",
       "    </tr>\n",
       "    <tr>\n",
       "      <th>21</th>\n",
       "      <td>2401.13733</td>\n",
       "      <td>is gn-z11 powered by a super-eddington massive...</td>\n",
       "      <td>astro-ph.ga astro-ph.co</td>\n",
       "      <td>observations of  z  sim 6  quasars powered by ...</td>\n",
       "      <td>2024-01-24</td>\n",
       "      <td>maulik bhatt ,  simona gallerani ,  andrea fe...</td>\n",
       "      <td>240113733</td>\n",
       "      <td>Astronomy  Astrophysics manuscript no. aanda  ...</td>\n",
       "    </tr>\n",
       "    <tr>\n",
       "      <th>22</th>\n",
       "      <td>2401.14466</td>\n",
       "      <td>intensive swift and lco monitoring of pg 1302 ...</td>\n",
       "      <td>astro-ph.he</td>\n",
       "      <td>we present an intensive multiwavelength monito...</td>\n",
       "      <td>2024-01-25</td>\n",
       "      <td>tingting liu ,  rick edelson ,  juan v. hern ...</td>\n",
       "      <td>240114466</td>\n",
       "      <td>Draft version January 29, 2024 Typeset using L...</td>\n",
       "    </tr>\n",
       "    <tr>\n",
       "      <th>23</th>\n",
       "      <td>2401.14567</td>\n",
       "      <td>a dynamical measure of the black hole mass in ...</td>\n",
       "      <td>astro-ph.ga</td>\n",
       "      <td>tight relationships exist in the local univers...</td>\n",
       "      <td>2024-01-25</td>\n",
       "      <td>r. abuter ,  f. allouche ,  a. amorim ,  c. b...</td>\n",
       "      <td>240114567</td>\n",
       "      <td>1 A dynamical measure of the black hole mas...</td>\n",
       "    </tr>\n",
       "  </tbody>\n",
       "</table>\n",
       "</div>"
      ],
      "text/plain": [
       "            id                                              title  \\\n",
       "0   2209.09345  the extent of intergalactic metal enrichment f...   \n",
       "1   2303.16933  musequbes: mapping the distribution of neutral...   \n",
       "2   2306.05448  little red dots: an abundant population of fai...   \n",
       "3   2306.13219  vadar: varstrometry for dual agn using radio i...   \n",
       "4   2308.01505      the million quasars  milliquas  catalogue, v8   \n",
       "5   2308.06951  a model-independent method to determine  h_0  ...   \n",
       "6    2308.0726  a search for high-redshift direct-collapse bla...   \n",
       "7   2308.08851  toward a direct measurement of the cosmic acce...   \n",
       "8   2401.09981  a census of photometrically selected little re...   \n",
       "9   2401.10328  chronicling the reionization history at  6 les...   \n",
       "10  2401.10548  the remarkable predictive power of infrared da...   \n",
       "11   2401.1097   lambda cdm-rastall cosmology revisited: const...   \n",
       "12  2401.11612  jwst reveals powerful feedback from radio jets...   \n",
       "13  2401.11826  tracing the rise of supermassive black holes: ...   \n",
       "14  2401.11998  the scavenger hunt for quasar samples to be us...   \n",
       "15  2401.12052  determining cosmological-model-independent  h_...   \n",
       "16  2401.12325  implementation of allan standard deviation tec...   \n",
       "17  2401.12797  a new precise determination of the primordial ...   \n",
       "18  2401.12847  a new binning method to choose a standard set ...   \n",
       "19   2401.1286  x-ray variability of sdss quasars based on the...   \n",
       "20  2401.13347  magnetic penrose process in the magnetized ker...   \n",
       "21  2401.13733  is gn-z11 powered by a super-eddington massive...   \n",
       "22  2401.14466  intensive swift and lco monitoring of pg 1302 ...   \n",
       "23  2401.14567  a dynamical measure of the black hole mass in ...   \n",
       "\n",
       "                             categories  \\\n",
       "0                           astro-ph.ga   \n",
       "1                           astro-ph.ga   \n",
       "2               astro-ph.ga astro-ph.co   \n",
       "3                           astro-ph.ga   \n",
       "4                           astro-ph.ga   \n",
       "5                           astro-ph.co   \n",
       "6   astro-ph.ga astro-ph.co astro-ph.he   \n",
       "7                           astro-ph.co   \n",
       "8                           astro-ph.ga   \n",
       "9               astro-ph.co astro-ph.ga   \n",
       "10                          astro-ph.he   \n",
       "11                    astro-ph.co gr-qc   \n",
       "12              astro-ph.ga astro-ph.he   \n",
       "13  astro-ph.ga astro-ph.co astro-ph.he   \n",
       "14                   astro-ph.co hep-ph   \n",
       "15                          astro-ph.co   \n",
       "16          astro-ph.ga physics.data-an   \n",
       "17                          astro-ph.co   \n",
       "18                          astro-ph.he   \n",
       "19                          astro-ph.he   \n",
       "20             astro-ph.he gr-qc hep-th   \n",
       "21              astro-ph.ga astro-ph.co   \n",
       "22                          astro-ph.he   \n",
       "23                          astro-ph.ga   \n",
       "\n",
       "                                             abstract     created  \\\n",
       "0   one of the key processes driving galaxy evolut...  2022-09-19   \n",
       "1   we present a detailed study of cool, neutral g...  2023-03-29   \n",
       "2   characterising the prevalence and properties o...  2023-06-08   \n",
       "3   binary and dual active galactic nuclei  agn  a...  2023-06-22   \n",
       "4   announcing the final release, v8, of the milli...  2023-08-02   \n",
       "5   absolute distances from strong lensing can anc...  2023-08-14   \n",
       "6   direct-collapse black holes  dcbhs  of mass  s...  2023-08-14   \n",
       "7   in this work, we report the first result from ...  2023-08-17   \n",
       "8   observations with the james webb space telesco...  2024-01-18   \n",
       "9   the spectra of high-redshift  z gtrsim 6  quas...  2024-01-18   \n",
       "10  blazars are the brightest and most abundant pe...  2024-01-19   \n",
       "11  in this paper we study the impact of a recent ...  2024-01-19   \n",
       "12  we report observations of a powerful ionized g...  2024-01-21   \n",
       "13  we report the identification of 64 new candida...  2024-01-22   \n",
       "14  although the  lambda  cold dark matter model i...  2024-01-22   \n",
       "15  the reappearance of supernova refsdal provides...  2024-01-22   \n",
       "16  the international celestial reference frame  i...  2024-01-22   \n",
       "17  the theory of big bang nucleosynthesis, couple...  2024-01-23   \n",
       "18  although the lambda cold dark matter model is ...  2024-01-23   \n",
       "19  we examine the long-term  rest-frame time scal...  2024-01-23   \n",
       "20  it is well-established that the magnetic penro...  2024-01-24   \n",
       "21  observations of  z  sim 6  quasars powered by ...  2024-01-24   \n",
       "22  we present an intensive multiwavelength monito...  2024-01-25   \n",
       "23  tight relationships exist in the local univers...  2024-01-25   \n",
       "\n",
       "                                              authors id_no_period  \\\n",
       "0    natsuko yamaguchi ,  steven r. furlanetto ,  ...    220909345   \n",
       "1    sayak dutta ,  sowgat muzahid ,  joop schaye ...    230316933   \n",
       "2    jorryt matthee ,  rohan p. naidu ,  gabriel b...    230605448   \n",
       "3    emma schwartzman ,  tracy e. clarke ,  kristi...    230613219   \n",
       "4                                    eric wim flesch     230801505   \n",
       "5    xiaolei li ,  ryan e. keeley ,  arman shafiel...    230806951   \n",
       "6    armin nabizadeh ,  erik zackrisson ,  fabio p...    230807260   \n",
       "7    jiangang kang ,  chang-zhi lu ,  tongjie zhan...    230808851   \n",
       "8    vasily kokorev ,  karina i. caputi ,  jenny e...    240109981   \n",
       "9    dominika  urov kov ,  anna-christina eilers ,...    240110328   \n",
       "10   p. giommi ,  n. sahakyan ,  d. israyelyan ,  ...    240110548   \n",
       "11   jes s astorga-moreno ,  kyra jacobo ,  salvad...    240110970   \n",
       "12   namrata roy ,  timothy heckman ,  roderik ove...    240111612   \n",
       "13   irham t. andika ,  knud jahnke ,  masafusa on...    240111826   \n",
       "14   maria giovanna dainotti ,  giada bargiacchi ,...    240111998   \n",
       "15                            xiaolei li ,  kai liao     240112052   \n",
       "16   jessica syafaq muthmaina ,  ibnu nurul huda ,...    240112325   \n",
       "17   p. a. kislitsyn ,  s. a. balashev ,  m. t. mu...    240112797   \n",
       "18   maria giovanna dainotti ,  aleksander lukasz ...    240112847   \n",
       "19   s. a. prokhorenko ,  s. yu. sazonov ,  m. r. ...    240112860   \n",
       "20   chandrachur chakraborty ,  parth patil ,  g. ...    240113347   \n",
       "21   maulik bhatt ,  simona gallerani ,  andrea fe...    240113733   \n",
       "22   tingting liu ,  rick edelson ,  juan v. hern ...    240114466   \n",
       "23   r. abuter ,  f. allouche ,  a. amorim ,  c. b...    240114567   \n",
       "\n",
       "                                              content  \n",
       "0   MNRAS 000, 1 ?? 2021  Preprint 22 January 2024...  \n",
       "1   MNRAS 000, 1 22  2023  Preprint 26 January 202...  \n",
       "2   Draft version January 24, 2024 Typeset using L...  \n",
       "3   Draft version January 26, 2024 Typeset using L...  \n",
       "4   Version December 8, 2023 Preprint typeset usin...  \n",
       "5   Draft version January 8, 2024 Typeset using L ...  \n",
       "6   Astronomy  Astrophysics manuscript no. main  E...  \n",
       "7   Prepared for submission to JCAP Toward a direc...  \n",
       "8   Draft version January 25, 2024 Typeset using L...  \n",
       "9   Draft version January 22, 2024 Typeset using L...  \n",
       "10  Draft version January 22, 2024 Typeset using L...  \n",
       "11   CDM-Rastall cosmology revisited: constraints ...  \n",
       "12  Draft version January 23, 2024 Typeset using L...  \n",
       "13  Astronomy  Astrophysics manuscript no. main  E...  \n",
       "14  Citation: Dainotti, M.G.; Bargiacchi, G.; Lena...  \n",
       "15  Draft version January 23, 2024 Typeset using L...  \n",
       "16  Implementation of Allan Standard Deviation Tec...  \n",
       "17  MNRAS 000, 1 12  2023  Preprint 24 January 202...  \n",
       "18  A new binning method to choose a standard set ...  \n",
       "19  MNRAS 000, 000 000  2023  Preprint 24 January ...  \n",
       "20  arXiv:2401.13347v1   astro-ph.HE   24 Jan 2024...  \n",
       "21  Astronomy  Astrophysics manuscript no. aanda  ...  \n",
       "22  Draft version January 29, 2024 Typeset using L...  \n",
       "23     1 A dynamical measure of the black hole mas...  "
      ]
     },
     "execution_count": 69,
     "metadata": {},
     "output_type": "execute_result"
    }
   ],
   "source": [
    "df.map(lambda x: re.sub('[^a-zA-Z0-9 <,>.?/:;\"|\\-_=+]+', ' ', str(x)))"
   ]
  },
  {
   "cell_type": "code",
   "execution_count": 11,
   "metadata": {},
   "outputs": [],
   "source": [
    "df.to_csv('data/arxiv.csv')"
   ]
  },
  {
   "cell_type": "code",
   "execution_count": 12,
   "metadata": {},
   "outputs": [],
   "source": [
    "df = pd.read_csv('data/arxiv.csv', index_col=0)"
   ]
  },
  {
   "cell_type": "code",
   "execution_count": 13,
   "metadata": {},
   "outputs": [
    {
     "data": {
      "text/html": [
       "<div>\n",
       "<style scoped>\n",
       "    .dataframe tbody tr th:only-of-type {\n",
       "        vertical-align: middle;\n",
       "    }\n",
       "\n",
       "    .dataframe tbody tr th {\n",
       "        vertical-align: top;\n",
       "    }\n",
       "\n",
       "    .dataframe thead th {\n",
       "        text-align: right;\n",
       "    }\n",
       "</style>\n",
       "<table border=\"1\" class=\"dataframe\">\n",
       "  <thead>\n",
       "    <tr style=\"text-align: right;\">\n",
       "      <th></th>\n",
       "      <th>id</th>\n",
       "      <th>title</th>\n",
       "      <th>categories</th>\n",
       "      <th>abstract</th>\n",
       "      <th>created</th>\n",
       "      <th>authors</th>\n",
       "      <th>id_no_period</th>\n",
       "      <th>content</th>\n",
       "    </tr>\n",
       "  </thead>\n",
       "  <tbody>\n",
       "    <tr>\n",
       "      <th>0</th>\n",
       "      <td>2209.09345</td>\n",
       "      <td>the extent of intergalactic metal enrichment f...</td>\n",
       "      <td>astro-ph.ga</td>\n",
       "      <td>one of the key processes driving galaxy evolut...</td>\n",
       "      <td>2022-09-19</td>\n",
       "      <td>['natsuko yamaguchi', 'steven r. furlanetto', ...</td>\n",
       "      <td>220909345</td>\n",
       "      <td>MNRAS 000, 1–??(2021) Preprint 22 January 2024...</td>\n",
       "    </tr>\n",
       "    <tr>\n",
       "      <th>1</th>\n",
       "      <td>2303.16933</td>\n",
       "      <td>musequbes: mapping the distribution of neutral...</td>\n",
       "      <td>astro-ph.ga</td>\n",
       "      <td>we present a detailed study of cool, neutral g...</td>\n",
       "      <td>2023-03-29</td>\n",
       "      <td>['sayak dutta', 'sowgat muzahid', 'joop schaye...</td>\n",
       "      <td>230316933</td>\n",
       "      <td>MNRAS 000, 1–22 (2023) Preprint 26 January 202...</td>\n",
       "    </tr>\n",
       "    <tr>\n",
       "      <th>2</th>\n",
       "      <td>2306.05448</td>\n",
       "      <td>little red dots: an abundant population of fai...</td>\n",
       "      <td>astro-ph.ga astro-ph.co</td>\n",
       "      <td>characterising the prevalence and properties o...</td>\n",
       "      <td>2023-06-08</td>\n",
       "      <td>['jorryt matthee', 'rohan p. naidu', 'gabriel ...</td>\n",
       "      <td>230605448</td>\n",
       "      <td>Draft version January 24, 2024\\nTypeset using ...</td>\n",
       "    </tr>\n",
       "    <tr>\n",
       "      <th>3</th>\n",
       "      <td>2306.13219</td>\n",
       "      <td>vadar: varstrometry for dual agn using radio i...</td>\n",
       "      <td>astro-ph.ga</td>\n",
       "      <td>binary and dual active galactic nuclei (agn) a...</td>\n",
       "      <td>2023-06-22</td>\n",
       "      <td>['emma schwartzman', 'tracy e. clarke', 'krist...</td>\n",
       "      <td>230613219</td>\n",
       "      <td>Draft version January 26, 2024\\nTypeset using ...</td>\n",
       "    </tr>\n",
       "    <tr>\n",
       "      <th>4</th>\n",
       "      <td>2308.01505</td>\n",
       "      <td>the million quasars (milliquas) catalogue, v8</td>\n",
       "      <td>astro-ph.ga</td>\n",
       "      <td>announcing the final release, v8, of the milli...</td>\n",
       "      <td>2023-08-02</td>\n",
       "      <td>['eric wim flesch']</td>\n",
       "      <td>230801505</td>\n",
       "      <td>Version December 8, 2023\\nPreprint typeset usi...</td>\n",
       "    </tr>\n",
       "  </tbody>\n",
       "</table>\n",
       "</div>"
      ],
      "text/plain": [
       "           id                                              title  \\\n",
       "0  2209.09345  the extent of intergalactic metal enrichment f...   \n",
       "1  2303.16933  musequbes: mapping the distribution of neutral...   \n",
       "2  2306.05448  little red dots: an abundant population of fai...   \n",
       "3  2306.13219  vadar: varstrometry for dual agn using radio i...   \n",
       "4  2308.01505      the million quasars (milliquas) catalogue, v8   \n",
       "\n",
       "                categories                                           abstract  \\\n",
       "0              astro-ph.ga  one of the key processes driving galaxy evolut...   \n",
       "1              astro-ph.ga  we present a detailed study of cool, neutral g...   \n",
       "2  astro-ph.ga astro-ph.co  characterising the prevalence and properties o...   \n",
       "3              astro-ph.ga  binary and dual active galactic nuclei (agn) a...   \n",
       "4              astro-ph.ga  announcing the final release, v8, of the milli...   \n",
       "\n",
       "      created                                            authors  \\\n",
       "0  2022-09-19  ['natsuko yamaguchi', 'steven r. furlanetto', ...   \n",
       "1  2023-03-29  ['sayak dutta', 'sowgat muzahid', 'joop schaye...   \n",
       "2  2023-06-08  ['jorryt matthee', 'rohan p. naidu', 'gabriel ...   \n",
       "3  2023-06-22  ['emma schwartzman', 'tracy e. clarke', 'krist...   \n",
       "4  2023-08-02                                ['eric wim flesch']   \n",
       "\n",
       "   id_no_period                                            content  \n",
       "0     220909345  MNRAS 000, 1–??(2021) Preprint 22 January 2024...  \n",
       "1     230316933  MNRAS 000, 1–22 (2023) Preprint 26 January 202...  \n",
       "2     230605448  Draft version January 24, 2024\\nTypeset using ...  \n",
       "3     230613219  Draft version January 26, 2024\\nTypeset using ...  \n",
       "4     230801505  Version December 8, 2023\\nPreprint typeset usi...  "
      ]
     },
     "execution_count": 13,
     "metadata": {},
     "output_type": "execute_result"
    }
   ],
   "source": [
    "df.head()"
   ]
  },
  {
   "cell_type": "code",
   "execution_count": null,
   "metadata": {},
   "outputs": [],
   "source": []
  },
  {
   "cell_type": "code",
   "execution_count": 14,
   "metadata": {},
   "outputs": [],
   "source": [
    "#load documents from Pandas dataframe for insertion into database\n",
    "from langchain.document_loaders import DataFrameLoader\n",
    "\n",
    "# page_content_column is the column name in the dataframe to create embeddings for\n",
    "loader = DataFrameLoader(df, page_content_column = 'content')\n",
    "docs = loader.load()"
   ]
  },
  {
   "cell_type": "code",
   "execution_count": 15,
   "metadata": {},
   "outputs": [
    {
     "data": {
      "text/plain": [
       "{'id': 2209.09345,\n",
       " 'title': 'the extent of intergalactic metal enrichment from galactic winds during   the cosmic dawn',\n",
       " 'categories': 'astro-ph.ga',\n",
       " 'abstract': 'one of the key processes driving galaxy evolution during the cosmic dawn is supernova feedback. this likely helps regulate star formation inside of galaxies, but it can also drive winds that influence the large-scale intergalactic medium. here, we present a simple semi-analytic model of supernova-driven galactic winds and explore the contributions of different phases of galaxy evolution to cosmic metal enrichment in the high-redshift (z > 6) universe. we show that models calibrated to the observed galaxy luminosity function at z~6-8 have filling factors ~1% at z~6 and ~0.1% at z~12, with different star formation prescriptions providing about an order of magnitude uncertainty. despite the small fraction of space filled by winds, these scenarios predict an upper limit to the abundance of metal-line absorbers in quasar spectra at z>5 which is comfortably above that currently observed. we also consider enrichment through winds driven by pop iii star formation in minihalos. we find that these can dominate the total filling factor at z>10 and even compete with winds from normal galaxies at z~6, at least in terms of the total enriched volume. but these regions have much lower overall metallicities, because each one is generated by a small burst of star formation. finally, we show that compton cooling of these supernova-driven winds at z>6 has only a small effect on the cosmic microwave background.',\n",
       " 'created': '2022-09-19',\n",
       " 'authors': \"['natsuko yamaguchi', 'steven r. furlanetto', 'a. c. trapp']\",\n",
       " 'id_no_period': 220909345}"
      ]
     },
     "execution_count": 15,
     "metadata": {},
     "output_type": "execute_result"
    }
   ],
   "source": [
    "docs[0].metadata"
   ]
  },
  {
   "cell_type": "code",
   "execution_count": 35,
   "metadata": {},
   "outputs": [
    {
     "data": {
      "text/plain": [
       "Index(['id', 'title', 'categories', 'abstract', 'created', 'authors',\n",
       "       'id_no_period', 'content'],\n",
       "      dtype='object')"
      ]
     },
     "execution_count": 35,
     "metadata": {},
     "output_type": "execute_result"
    }
   ],
   "source": [
    "df.columns"
   ]
  },
  {
   "cell_type": "code",
   "execution_count": 36,
   "metadata": {},
   "outputs": [],
   "source": [
    "# Helper functions to help us create the embeddings\n",
    "\n",
    "# Helper func: calculate number of tokens\n",
    "def num_tokens_from_string(string: str, encoding_name = \"cl100k_base\") -> int:\n",
    "    if not string:\n",
    "        return 0\n",
    "    # Returns the number of tokens in a text string\n",
    "    encoding = tiktoken.get_encoding(encoding_name)\n",
    "    num_tokens = len(encoding.encode(string))\n",
    "    return num_tokens\n",
    "\n",
    "# Helper function: calculate length of essay\n",
    "def get_essay_length(essay):\n",
    "    word_list = essay.split()\n",
    "    num_words = len(word_list)\n",
    "    return num_words\n",
    "\n",
    "# Helper function: calculate cost of embedding num_tokens\n",
    "# Assumes we're using the text-embedding-ada-002 model\n",
    "# See https://openai.com/pricing\n",
    "def get_embedding_cost(num_tokens):\n",
    "    return num_tokens/1000*0.0001\n",
    "\n",
    "# Helper function: calculate total cost of embedding all content in the dataframe\n",
    "def get_total_embeddings_cost(df):\n",
    "    total_tokens = 0\n",
    "    for i in range(len(df.index)):\n",
    "        text = df['content'][i]\n",
    "        token_len = num_tokens_from_string(text)\n",
    "        total_tokens = total_tokens + token_len\n",
    "    total_cost = get_embedding_cost(total_tokens)\n",
    "    return total_cost\n",
    "\n"
   ]
  },
  {
   "cell_type": "code",
   "execution_count": 26,
   "metadata": {},
   "outputs": [],
   "source": [
    "# Initialize the RecursiveCharacterTextSplitter with the desired parameters\n",
    "splitter = RecursiveCharacterTextSplitter.from_tiktoken_encoder(encoding_name='cl100k_base',\n",
    "                                                                chunk_size=1024,  # Maximum size of chunks to return\n",
    "                                                                chunk_overlap=50,)\n",
    "\n",
    "chunked_documents = splitter.split_documents(docs)"
   ]
  },
  {
   "cell_type": "code",
   "execution_count": 45,
   "metadata": {},
   "outputs": [
    {
     "data": {
      "text/plain": [
       "561"
      ]
     },
     "execution_count": 45,
     "metadata": {},
     "output_type": "execute_result"
    }
   ],
   "source": [
    "chunked_documents.__len__()"
   ]
  },
  {
   "cell_type": "code",
   "execution_count": 44,
   "metadata": {},
   "outputs": [
    {
     "data": {
      "text/plain": [
       "[Document(page_content='MNRAS 000, 1–??(2021) Preprint 22 January 2024 Compiled using MNRAS L ATEX style file v3.0\\nThe extent of intergalactic metal enrichment from galactic winds during\\nthe Cosmic Dawn\\nNatsuko Yamaguchi,1,2★Steven R. Furlanetto1, & A. C. Trapp,1\\n1Department of Physics and Astronomy, University of California Los Angeles, CA, 90095-1562, USA\\n2Cahill Center for Astronomy and Astrophysics, California Institute of Technology, Pasadena CA 91125, USA\\nAccepted XXX. Received YYY; in original form ZZZ\\nABSTRACT\\nOne of the key processes driving galaxy evolution during the Cosmic Dawn is supernova feedback. This likely helps regulate\\nstarformationinsideofgalaxies,butitcanalsodrivewindsthatinfluencethelarge-scaleintergalacticmedium.Here,wepresent\\na simple semi-analytic model of supernova-driven galactic winds and explore the contributions of different phases of galaxy\\nevolution to cosmic metal enrichment in the high-redshift (𝑧≳6)Universe. We show that models calibrated to the observed\\ngalaxy luminosity function at 𝑧∼6–8 have filling factors ∼1%at𝑧∼6and∼0.1%at𝑧∼12, with different star formation\\nprescriptions providing about an order of magnitude uncertainty. Despite the small fraction of space filled by winds, these\\nscenarios predict an upper limit to the abundance of metal-line absorbers in quasar spectra at 𝑧>∼5which is comfortably above\\nthat currently observed. We also consider enrichment through winds driven by Pop III star formation in minihalos. We find that\\nthesecandominatethetotalfillingfactorat 𝑧>∼10andevencompetewithwindsfromnormalgalaxiesat 𝑧∼6,atleastinterms\\nof the total enriched volume. But these regions have much lower overall metallicities, because each one is generated by a small\\nburst of star formation. Finally, we show that Compton cooling of these supernova-driven winds at 𝑧>∼6has only a small effect\\non the cosmic microwave background.\\nKey words: galaxies: high-redshift – intergalactic medium – dark ages, reionization, first stars\\n1 INTRODUCTION\\nHigh-redshift galaxy formation and evolution at 𝑧≥6have been\\namongst the primary foci of extragalactic astrophysics for the past\\ntwodecades.Inparticular,theCosmicDawnera,beginningjustafew\\nhundredmillionyearsaftertheBigBang,isacrucialtimeperiodthat\\nsawthebirthofthefirststars.TheCosmicDawnnotonlyendedthe\\nDark Ages, but these early populations of stars were the progenitors\\nof all the structure that we see today and would later become the\\ndominant drivers of reionization, the last global phase transition of\\nthe Universe.\\nDespitethechallengeofprobingsuchadistantUniverse,inrecent\\nyears there has been substantial improvement in our census of lumi-\\nnous objects at 𝑧∼6–8(McLure et al. 2013; Schenker et al. 2013;\\nSchmidtetal.2014;Bouwensetal.2015;StevenL.Finkelsteinetal.\\n2015; Atek et al. 2015; Bowler et al. 2017; Livermore et al. 2017),\\nwhich has allowed us to develop a good understanding of bright\\ngalaxies at these times. Higher redshifts are just now beginning to\\nbe explored by JWST, but the situation is not yet clear (Oesch et al.\\n2016; Donnan et al. 2022; Castellano et al. 2022; Harikane et al.\\n2022).\\nNonetheless, there have been numerous recent efforts to model\\nvariousaspectsofgalaxyevolutioninthisera(Furlanettoetal.2017;\\nFurlanetto&Mirocha2021;Mosteretal.2018;Poppingetal.2017;\\n★E-mail:nyamaguc@caltech.edualsoseeDayal&Ferrara(2018)foranoverviewofthephysicsofearly\\ngalaxyformationandthetypesoftheoreticaltoolsusedtomodelit).\\nIngeneral,thesemodelsshowthatthepropertiesofobservedgalaxies\\nat6≲𝑧≲8can be understood in a similar fashion to galaxies at\\nlater times. For example, models in which stellar feedback regulates', metadata={'id': 2209.09345, 'title': 'the extent of intergalactic metal enrichment from galactic winds during   the cosmic dawn', 'categories': 'astro-ph.ga', 'abstract': 'one of the key processes driving galaxy evolution during the cosmic dawn is supernova feedback. this likely helps regulate star formation inside of galaxies, but it can also drive winds that influence the large-scale intergalactic medium. here, we present a simple semi-analytic model of supernova-driven galactic winds and explore the contributions of different phases of galaxy evolution to cosmic metal enrichment in the high-redshift (z > 6) universe. we show that models calibrated to the observed galaxy luminosity function at z~6-8 have filling factors ~1% at z~6 and ~0.1% at z~12, with different star formation prescriptions providing about an order of magnitude uncertainty. despite the small fraction of space filled by winds, these scenarios predict an upper limit to the abundance of metal-line absorbers in quasar spectra at z>5 which is comfortably above that currently observed. we also consider enrichment through winds driven by pop iii star formation in minihalos. we find that these can dominate the total filling factor at z>10 and even compete with winds from normal galaxies at z~6, at least in terms of the total enriched volume. but these regions have much lower overall metallicities, because each one is generated by a small burst of star formation. finally, we show that compton cooling of these supernova-driven winds at z>6 has only a small effect on the cosmic microwave background.', 'created': '2022-09-19', 'authors': \"['natsuko yamaguchi', 'steven r. furlanetto', 'a. c. trapp']\", 'id_no_period': 220909345}),\n",
       " Document(page_content='at6≲𝑧≲8can be understood in a similar fashion to galaxies at\\nlater times. For example, models in which stellar feedback regulates\\nstarformationcanquitesuccessfullyexplaintheobservedluminosity\\nfunction (Mason et al. 2015; Furlanetto et al. 2017; Mirocha et al.\\n2017).\\nOne particularly critical aspect of this feedback is the presence of\\n“winds\" driven by supernovae (SNe). Cosmological hydrodynami-\\ncalsimulationsincorporatingSNfeedbacktostudygalaxyproperties\\nand populations include, e.g., Scannapieco et al. (2001); Springel &\\nHernquist (2003); Crain et al. (2015); Fierlinger et al. (2016); Davé\\net al. (2019), while those concerned primarily with its contribution\\nto metallicity and/or metal enrichment include, e.g., Theuns et al.\\n(2002); Kobayashi et al. (2007); Finlator & Davé (2008); Suresh\\netal.(2015);Nelsonetal.(2019).Meanwhile,Matteucci&Greggio\\n(1986)andWhite&Frenk(1991)wereamongstthefirsttointroduce\\nsemi-analyticapproachestostudychemicalenrichment.Laterexam-\\nplesmodelingz ≲3galaxiesincludeSomerville&Primack(1999);\\nHenriques et al. (2013); Hayward & Hopkins (2017) while those\\nextending to z ≳3 include Nath & Trentham (1997); Ferrara et al.\\n(2000); Madau et al. (2001); De Lucia et al. (2004). Many of these\\nstudies show how such supernova explosions can help regulate star\\nformation inside galaxies. But beyond the host galaxy, these winds\\ncan also influence the surrounding intergalactic medium (IGM) by\\n©2021 The AuthorsarXiv:2209.09345v3  [astro-ph.GA]  18 Jan 2024\\n2 Yamaguchi, Furlanetto, & Trapp\\nejecting material into it. A significant consequence of this in the\\nearly Universe is metal enrichment over large volumes of the Uni-\\nverse–includinggasthatwilllaterbeaccretedontogrowinggalaxies.\\nThoughtherearemanyotherprocessesthatmayhavecontributedto\\nwidespreadenrichment(e.g.quasarwinds,radiationpressure-driven\\ndustoutflows),windsfromstar-forminggalaxiesaretheclearestcul-\\npritforpollutingthelargevolumesoftheUniversethatweseetoday\\n(Ferrara et al. 2000; Madau et al. 2001; Furlanetto & Loeb 2003).\\nExisting observations have shown that metals are relatively\\nwidespread by 𝑧∼3. For example, optical spectra of Lyman-break\\ngalaxiesindicatesubstantialenrichmentShapleyetal.(2003);Adel-\\nberger et al. (2003), as do radio measurements Ginolfi et al. (2020),\\nwhile enrichment inside galaxy clusters is also well-known Tozzi\\netal.(2003);Baldietal.(2012);McDonaldetal.(2016).Meanwhile,\\nLy-𝛼forest and related techniques require even more widespread\\nmetals Songaila & Cowie (1996); Cowie & Songaila (1998); Elli-\\nson et al. (2000); Schaye et al. (2000); Tytler et al. (1995), at least\\noutside of underdense voids in the galaxy distribution (where the\\nobservations cannot yet probe). More recent observations revealed\\nmetal absorbers existing by 𝑧∼5−6. For example, Ryan-Weber\\net al. (2006) and Becker et al. (2006) reported absorption of [CIV]\\nin𝑧∼5and [OI] in𝑧∼6QSO systems respectively, while Sparre\\net al. (2014) discovered Fe II fine line structures in the afterglow of\\nGRBs at𝑧∼5. However, only a handful of absorbers are known\\nabove𝑧>∼5,anditisdifficulttodeterminehowwidespreadthemetal\\nenrichment was during this era.\\nMeanwhile, it is clear that high- 𝑧galaxies are themselves signifi-\\ncantly enriched: Capak et al. (2015) detected [CII] gas emission in', metadata={'id': 2209.09345, 'title': 'the extent of intergalactic metal enrichment from galactic winds during   the cosmic dawn', 'categories': 'astro-ph.ga', 'abstract': 'one of the key processes driving galaxy evolution during the cosmic dawn is supernova feedback. this likely helps regulate star formation inside of galaxies, but it can also drive winds that influence the large-scale intergalactic medium. here, we present a simple semi-analytic model of supernova-driven galactic winds and explore the contributions of different phases of galaxy evolution to cosmic metal enrichment in the high-redshift (z > 6) universe. we show that models calibrated to the observed galaxy luminosity function at z~6-8 have filling factors ~1% at z~6 and ~0.1% at z~12, with different star formation prescriptions providing about an order of magnitude uncertainty. despite the small fraction of space filled by winds, these scenarios predict an upper limit to the abundance of metal-line absorbers in quasar spectra at z>5 which is comfortably above that currently observed. we also consider enrichment through winds driven by pop iii star formation in minihalos. we find that these can dominate the total filling factor at z>10 and even compete with winds from normal galaxies at z~6, at least in terms of the total enriched volume. but these regions have much lower overall metallicities, because each one is generated by a small burst of star formation. finally, we show that compton cooling of these supernova-driven winds at z>6 has only a small effect on the cosmic microwave background.', 'created': '2022-09-19', 'authors': \"['natsuko yamaguchi', 'steven r. furlanetto', 'a. c. trapp']\", 'id_no_period': 220909345}),\n",
       " Document(page_content='enrichment was during this era.\\nMeanwhile, it is clear that high- 𝑧galaxies are themselves signifi-\\ncantly enriched: Capak et al. (2015) detected [CII] gas emission in\\nstarforminggalaxiesat 𝑧∼5−6,andFaisstetal.(2016)foundthat\\nthe average galaxy population at 𝑧∼5has a metallicity comparable\\nto those at𝑧∼3.5. Therefore, it is becoming increasingly evident\\nthat metal enrichment started in the very early stages of the bright\\nUniverse, though its precise timeline remains unclear. A crucial un-\\ncertainty lies in the phase of galaxy evolution at which metals are\\nejected–whetheritbeginswiththebirthanddeathofPopulationIII\\nstars or as part of “normal\" feedback regulation at later times.\\nInterpretationofthehandfulofmetal-linemeasurementspresents\\nan important challenge. While the overall metal production rate de-\\npends mostly on the star formation rate (but also on stellar models),\\nthespatialextentofmetalenrichmentisnecessarytounderstandthe\\nimpact of these metals. There have been many attempts to estimate\\nthis factor in the past, but early calculations were not based on real-\\nistic galaxy populations, which likely resulted in an overestimate of\\nthe filling factor (or the fraction of the Universe enriched by metals\\nat a given time; e.g., Madau et al. 2001; Furlanetto & Loeb 2003).\\nMorerecentcalculationshavetypicallyusednumericalsimulations,\\nsoitisdifficulttoassesstheuncertaintiesassociatedwiththem(e.g.,\\nJaacks et al. 2018). The recent launch of JWST, which will make\\nextraordinary progress in understanding metal lines during this era\\n(Mason et al. 2015; Yung et al. 2019; Vogelsberger et al. 2020),\\nmakes modeling the process very timely.\\nTheextentofmetalenrichmentisimportantbothforunderstanding\\ngalaxyevolution(asthelossofmetalsaffectsthechemicalevolution\\nof the stars and interstellar medium) and also for probes of reion-\\nization and the radiation fields at early times. For galaxy evolution,\\nthe extent of the winds can be used to constrain models of stellar\\nfeedback. The evolution of the radiation background determines the\\nionization state of the metals, so in principle quasar metal lines are\\npowerful probes of reionization (Oh 2002; Hennawi et al. 2021),\\nbut only if the distribution of metals themselves is known as well\\n(or at least can be jointly measured). In this paper, we address this\\nquestion by pairing a simple galaxy evolution model with a simplewind model. In particular, we use the minimalist model for feed-\\nback regulation described in Furlanetto et al. (2017) to calibrate the\\ngalaxy parameters to reproduce observed luminosity functions. We\\nthen follow the resulting winds using the model of Furlanetto &\\nLoeb (2003) (which is in turn based upon Tegmark et al. 1993).\\nAlthough such a simplistic model cannot follow star formation or\\nwind propagation in as detailed a manner as numerical simulations,\\nits flexibility allows for a broader study of the many uncertainties in\\nearly galaxy formation. We explore how the overall volume filling\\nfactorandabsorptionlinestatisticsat 𝑧≳4dependuponassumptions\\naboutstar-forminggalaxiesduringthisera.Asitremainsdifficultto\\ndetectmetalsat 𝑧≥6,wealsoconsiderdistortionstothecosmicmi-\\ncrowave background (CMB) through the Sunyaev–Zel’dovich effect\\nas an alternative observable for such winds (Oh et al. 2003).\\nThispaperisorganizedasfollows.InSection2,weintroduceour\\ngalaxy evolution model, including a description of the underlying\\ndark matter halo population and our prescription for feedback regu-\\nlation.InSection3,wepresentourwindmodelandshowitssolutions\\nforindividualgalacticwinds.Wethendiscusstheimplicationsofour\\nmodelfortheextentofmetalenrichment,aswellaspotentialprobes\\nof it, in Section 4. Finally, we conclude in Section 5.\\nIn accordance with the Planck Collaboration XIII results (Planck\\nCollaborationetal.2016),weusethefollowingcosmologicalparam-\\neters:Ω𝑚=0.308,ΩΛ=0.692,Ω𝑏=0.0484, andℎ=0.678. For', metadata={'id': 2209.09345, 'title': 'the extent of intergalactic metal enrichment from galactic winds during   the cosmic dawn', 'categories': 'astro-ph.ga', 'abstract': 'one of the key processes driving galaxy evolution during the cosmic dawn is supernova feedback. this likely helps regulate star formation inside of galaxies, but it can also drive winds that influence the large-scale intergalactic medium. here, we present a simple semi-analytic model of supernova-driven galactic winds and explore the contributions of different phases of galaxy evolution to cosmic metal enrichment in the high-redshift (z > 6) universe. we show that models calibrated to the observed galaxy luminosity function at z~6-8 have filling factors ~1% at z~6 and ~0.1% at z~12, with different star formation prescriptions providing about an order of magnitude uncertainty. despite the small fraction of space filled by winds, these scenarios predict an upper limit to the abundance of metal-line absorbers in quasar spectra at z>5 which is comfortably above that currently observed. we also consider enrichment through winds driven by pop iii star formation in minihalos. we find that these can dominate the total filling factor at z>10 and even compete with winds from normal galaxies at z~6, at least in terms of the total enriched volume. but these regions have much lower overall metallicities, because each one is generated by a small burst of star formation. finally, we show that compton cooling of these supernova-driven winds at z>6 has only a small effect on the cosmic microwave background.', 'created': '2022-09-19', 'authors': \"['natsuko yamaguchi', 'steven r. furlanetto', 'a. c. trapp']\", 'id_no_period': 220909345}),\n",
       " Document(page_content='eters:Ω𝑚=0.308,ΩΛ=0.692,Ω𝑏=0.0484, andℎ=0.678. For\\nastrophysicalconstants,weusethosefoundinSection2ofBeringer\\net al. (2012).\\n2 A MODEL FOR STAR-FORMING GALAXIES\\nIn this section, we introduce our simple galaxy model. We refer the\\nreader to Furlanetto et al. (2017) for more details.\\n2.1 Dark matter halos\\nWedefinetheco-movingnumberdensityofdarkmatterhalosinthe\\nmass range(𝑀ℎ,𝑀ℎ+d𝑀ℎ)at redshift𝑧as𝑛ℎ(𝑀ℎ,𝑧)d𝑀ℎ. By\\nconvention, we write\\n𝑛ℎ(𝑀ℎ,𝑧)=𝑓(𝜎)¯𝜌\\n𝑀ℎ𝑑ln(1/𝜎)\\nd𝑀ℎ(1)\\nwhere ¯𝜌is the comoving average matter density, 𝜎(𝑀,𝑧)is the\\nlinearrmsfluctuationofthematterdensityfieldsmoothedonascale\\n𝑀, and𝑓(𝜎)is a dimensionless function taken from a fit to high- 𝑧\\ncosmological simulations (Trac et al. 2015):\\n𝑓(𝜎)=0.150\\x14\\n1+\\x10𝜎\\n2.54\\x11−1.36\\x15\\n𝑒−1.14/𝜎2. (2)\\nWe note that this mass function has not been verified at the highest\\nredshiftsandsmallestmassesrelevanttoourPopIIImodel(seesec-\\ntion 2.4), but Mebane et al. (2018) found that the differences with\\nothermassfunctionsweremodestcomparedtotheoveralluncertain-\\nties in star formation during this era.\\nOur galaxy model requires the accretion rate onto dark matter\\nhaloes.WeusethemethoddescribedinFurlanettoetal.(2017),which\\nassumes that accretion proceeds smoothly without mergers (this is\\nappropriate as our models are primarily concerned with the total\\namount of star formation over the history of the halos and thus not\\nvery sensitive to instantaneous scatter in accretion rate). In analogy\\nwith abundance matching (Vale & Ostriker 2004), we demand that\\nthe overall number density of the halos remains constant, with each\\nhalo growing in order to maintain the underlying mass function. We\\nMNRAS 000, 1–??(2021)\\nEarly metal enrichment 3\\nassume that the halos remain in the same relative ordering in mass\\nas well. In other words, at any two redshifts 𝑧1and𝑧2,\\n∫∞\\n𝑀1d𝑀𝑛ℎ(𝑀|𝑧1)=∫∞\\n𝑀2d𝑀𝑛ℎ(𝑀|𝑧2), (3)\\nwhere𝑀1and𝑀2are the respective masses of a given halo at the\\ntwo redshifts. The accretion rate, ¤𝑀ℎ, is then obtained by requiring\\nthat this relation be satisfied at all redshifts and all halo masses.\\nWe must also specify the range of halo masses allowed to form\\nstars (and hence drive winds). This threshold is determined by two\\nconditions:(1)thehalomustexceedthe“filtermass\"(Gnedin&Hui\\n1998)abovewhichbaryonscanaccreteand(2)thehalogasmustcool\\nefficiently after virialization. Motivated bythe second condition, for\\nmost of our models we take this minimum mass to correspond to a\\nvirial temperature of 104K, above which atomic cooling becomes\\nefficient.Weconsiderwindsfromhalosbelowthismassthresholdin\\nSection 2.4.\\n2.2 Star formation and feedback\\nNext, we describe star formation and feedback in the minimalist\\ngalaxyformationmodel(referredtoasthe“normal\"modelhereafter)\\nas well as a “bursty\" model for lower mass halos.\\nThe fundamental idea of this model is the assumption that stellar\\nfeedbackcontrolsthestarformationrate(SFR)ofeachgalaxy.First,', metadata={'id': 2209.09345, 'title': 'the extent of intergalactic metal enrichment from galactic winds during   the cosmic dawn', 'categories': 'astro-ph.ga', 'abstract': 'one of the key processes driving galaxy evolution during the cosmic dawn is supernova feedback. this likely helps regulate star formation inside of galaxies, but it can also drive winds that influence the large-scale intergalactic medium. here, we present a simple semi-analytic model of supernova-driven galactic winds and explore the contributions of different phases of galaxy evolution to cosmic metal enrichment in the high-redshift (z > 6) universe. we show that models calibrated to the observed galaxy luminosity function at z~6-8 have filling factors ~1% at z~6 and ~0.1% at z~12, with different star formation prescriptions providing about an order of magnitude uncertainty. despite the small fraction of space filled by winds, these scenarios predict an upper limit to the abundance of metal-line absorbers in quasar spectra at z>5 which is comfortably above that currently observed. we also consider enrichment through winds driven by pop iii star formation in minihalos. we find that these can dominate the total filling factor at z>10 and even compete with winds from normal galaxies at z~6, at least in terms of the total enriched volume. but these regions have much lower overall metallicities, because each one is generated by a small burst of star formation. finally, we show that compton cooling of these supernova-driven winds at z>6 has only a small effect on the cosmic microwave background.', 'created': '2022-09-19', 'authors': \"['natsuko yamaguchi', 'steven r. furlanetto', 'a. c. trapp']\", 'id_no_period': 220909345}),\n",
       " Document(page_content='as well as a “bursty\" model for lower mass halos.\\nThe fundamental idea of this model is the assumption that stellar\\nfeedbackcontrolsthestarformationrate(SFR)ofeachgalaxy.First,\\nwebalancetherateatwhichbaryonsareaccretedontothehalo, ¤𝑚𝑏,\\nwith the SFR,¤𝑚★, and the rate of at which baryons are expelled\\nthrough processes such as radiation pressure and supernovae, ¤𝑚𝑤:\\n¤𝑚𝑏=¤𝑚★+¤𝑚𝑤. (4)\\nBecause the feedback is driven by star formation, we then assume\\n¤𝑚𝑤=𝜂¤𝑚★. The constant of proportionality, 𝜂, (commonly known\\nasthemass-loadingfactor)isingeneralafunctionofhalomassand\\nredshift and represents the strength of stellar feedback.\\nThe star formation efficiency (SFE) is defined as the fraction of\\nthe accreted baryons which form stars, 𝑓★=¤𝑚★/¤𝑚𝑏. Thus,\\n𝑓★=1\\n1+𝜂(𝑀ℎ,𝑧). (5)\\nHowever,tomatchtheobservedstarformationefficienciesatlarge\\nhalomasses,quenchingprocesseswhichsuppressaccretionareoften\\ninvoked.Althoughsucheffectsdonotsignificantlyaffectourresults,\\nwewillincorporatevirialshockheatingasoneexample,suppressing\\naccretionbyafactor 𝑓shockfollowingFaucher-Giguereetal.(2011).\\nWe also impose an upper limit, 𝑓★,max, on the star formation effi-\\nciency.Incorporatingboththeseeffectsinsuchawayastomaintain\\ncontinuity, we obtain\\n𝑓★=𝑓shock\\n𝑓−1\\n★,max+𝜂(𝑀ℎ,𝑧). (6)\\nWeareinterestedinconsideringawiderangeofmetalenrichment\\nscenarios so include two distinct models of feedback regulation.\\nFirstly,the“energy-regulated”modelisderivedbybalancingafixed\\nfractionofthesupernovaenergy(theportioninakineticform)with\\nthe kinetic energy of the gas that is lifted out as a wind:\\n1\\n2¤𝑚𝑤𝑣2\\nesc=¤𝑚★𝜖𝑘𝜔SN, (7)\\nwhere𝑣escis the halo escape velocity, 𝜖𝑘is the fraction of the SN\\nenergy released in the wind, and 𝜔SN≈1049erg/𝑀⊙is the super-\\nnova energy produced per unit mass of star formation (where the\\nfiducialvaluecomesfromtakingthetypicalenergyreleasedperSN,Model 𝐶 𝜉 𝜎 𝑓 ∗−1max\\nEnergy-reg 10𝜖𝑘2\\n31 0.1\\nMomentum-reg 𝜖𝑝1\\n31\\n20.2\\nTable1.SFEparametersforournormalgalaxymodels,inordertoreproduce\\nobserved luminosity functions. We also set 𝜖𝑘=0.1and𝜖𝑝=5.\\n∼1051erg, and the typical number of SNe per solar mass formed,\\n∼0.015𝑀⊙). This results in\\n𝜂=𝐶\\x121011.5𝑀⊙\\n𝑀ℎ\\x13𝜉\\x129\\n1+𝑧\\x13𝜎\\n, (8)\\nwith exponents 𝜉=2\\n3and𝜎=1. However, due to radiative cooling\\nor other processes that occur in high density and temperature envi-\\nronments,feedbackcaninpracticebemuchlessefficient.Therefore,\\nwe also consider a “momentum-regulated” case, balancing the mo-\\nmentumofthesupernovablastwaveswiththegasescapingthehalo,\\ndoneinasimilarwaytoenergyconservationabove.Thisyields 𝜉=1\\n3\\nand𝜎=1\\n2. These scenarios provide helpful intuition for the param-\\netersinequation(8);giventhedifficultyofmodelingtheinteraction\\nof stellar feedback with the interstellar medium, we do not try to do', metadata={'id': 2209.09345, 'title': 'the extent of intergalactic metal enrichment from galactic winds during   the cosmic dawn', 'categories': 'astro-ph.ga', 'abstract': 'one of the key processes driving galaxy evolution during the cosmic dawn is supernova feedback. this likely helps regulate star formation inside of galaxies, but it can also drive winds that influence the large-scale intergalactic medium. here, we present a simple semi-analytic model of supernova-driven galactic winds and explore the contributions of different phases of galaxy evolution to cosmic metal enrichment in the high-redshift (z > 6) universe. we show that models calibrated to the observed galaxy luminosity function at z~6-8 have filling factors ~1% at z~6 and ~0.1% at z~12, with different star formation prescriptions providing about an order of magnitude uncertainty. despite the small fraction of space filled by winds, these scenarios predict an upper limit to the abundance of metal-line absorbers in quasar spectra at z>5 which is comfortably above that currently observed. we also consider enrichment through winds driven by pop iii star formation in minihalos. we find that these can dominate the total filling factor at z>10 and even compete with winds from normal galaxies at z~6, at least in terms of the total enriched volume. but these regions have much lower overall metallicities, because each one is generated by a small burst of star formation. finally, we show that compton cooling of these supernova-driven winds at z>6 has only a small effect on the cosmic microwave background.', 'created': '2022-09-19', 'authors': \"['natsuko yamaguchi', 'steven r. furlanetto', 'a. c. trapp']\", 'id_no_period': 220909345}),\n",
       " Document(page_content='2. These scenarios provide helpful intuition for the param-\\netersinequation(8);giventhedifficultyofmodelingtheinteraction\\nof stellar feedback with the interstellar medium, we do not try to do\\nbetterhere(thoughseeHayward&Hopkins2017;Furlanetto2021).\\nThe normalization constant 𝐶and the parameter 𝑓★,maxare set by\\ncomparisontoobservations.Theparametersusedforeachmodelare\\nsummarizedinTable1.Allofthesefeedback-regulatedmodelshave\\nan SFE that increases with halo mass in faint galaxies, aside from\\nthe constant model.\\nFor completeness, we also consider a model with a constant star\\nformation efficiency in all halos ( 𝜉=0and𝜎=0), which matches\\nthe assumptions in many early treatments of metal enrichment.\\nThese feedback-regulated models do assume that star formation\\nwithin galaxies is able to come into a quasi-equilibrium state with\\nrespecttoinfall.Itisnotobviousthatthiscanoccurathighredshifts.\\nForexample,Furlanetto&Mirocha(2021)showedthatincorporating\\na time delay between star formation and supernova feedback results\\nin oscillations (i.e. repeated “bursts\") of the SFR, particularly in\\nlower mass halos. This moderates the dependence of the average\\nSFEonhalomass,boostingthestarformationrateofsmallgalaxies.\\nIt has little effect on massive galaxies, because eventually feedback\\nis no longer able to eject all of the halo gas, at which point the\\nSFR transitions to a smooth function. To mimic this kind of out-\\nof-equilibrium behavior, we also consider a “bursty” model, that\\nimposes a minimum SFE value 𝑓★,min= 0.03, in which the SFE\\neffectively decouples from the properties of the halo.\\nWeemphasizethatalloftheseparameterchoicesprovidereason-\\nable fits to the observed luminosity functions (LFs) at 𝑧∼6–8, (see\\nFig. 3 of Furlanetto et al. 2017 and Fig. 8 of Furlanetto & Mirocha\\n2021). Importantly, the minimum SFE in the bursty model only af-\\nfects faint galaxies that have not yet been observed. We emphasize\\nthatthemodelwithconstantSFE, 𝑓★=0.1doesnotproducerealistic\\ngalaxy populations, at least at 𝑧∼6–8, but we include it anyway for\\ncomparison with earlier results.\\n2.3 Metal production\\nWefollowFurlanetto&Loeb(2003)toestimatethemetalproduction\\nrate of our galaxies. The mass of a metal 𝑖produced by a galaxy is\\n𝑀𝑖=𝑌𝑖𝑛SNΩ𝑏\\nΩ𝑚𝑋★𝑀ℎ (9)\\nMNRAS 000, 1–??(2021)\\n4 Yamaguchi, Furlanetto, & Trapp\\nwhere𝑌𝑖is the average yield of the element 𝑖produced per Type II\\nsupernova,𝑛SN≈10−2𝑀−1\\n⊙is the number of supernovae per unit\\nmass of star formation, and 𝑋★is the time-averaged SFE for the\\ngalaxy in question, which is slightly smaller than the instantaneous\\nSFE𝑓★in our models (see Furlanetto et al. 2017).\\nFor a comparison of enrichment to observations, we must trans-\\nform the metals into a set of discrete absorption lines. In section 3,\\nwewillconsiderwindbubblesdrivenbysupernovaeineachgalaxy.\\nInthiscontext,wethenestimatethetotalcolumndensityofthemetal\\nalong a line of sight through a wind bubble via\\n𝑁𝑖≈𝑀𝑖\\n𝑚𝑖1\\n4𝜋𝑅2(10)\\nwhere𝑚𝑖=𝐴𝑖𝑢is the mass of a metal atom. Note that this is\\nsimply an estimate of the characteristic column density; even if the\\nmetals are distributed uniformly, the column density would vary\\nwiththeimpactparameter.Weemphasizethatthisequationassumes\\naroughlyuniformdistributionofmetals;ifthemetalswereclumped,', metadata={'id': 2209.09345, 'title': 'the extent of intergalactic metal enrichment from galactic winds during   the cosmic dawn', 'categories': 'astro-ph.ga', 'abstract': 'one of the key processes driving galaxy evolution during the cosmic dawn is supernova feedback. this likely helps regulate star formation inside of galaxies, but it can also drive winds that influence the large-scale intergalactic medium. here, we present a simple semi-analytic model of supernova-driven galactic winds and explore the contributions of different phases of galaxy evolution to cosmic metal enrichment in the high-redshift (z > 6) universe. we show that models calibrated to the observed galaxy luminosity function at z~6-8 have filling factors ~1% at z~6 and ~0.1% at z~12, with different star formation prescriptions providing about an order of magnitude uncertainty. despite the small fraction of space filled by winds, these scenarios predict an upper limit to the abundance of metal-line absorbers in quasar spectra at z>5 which is comfortably above that currently observed. we also consider enrichment through winds driven by pop iii star formation in minihalos. we find that these can dominate the total filling factor at z>10 and even compete with winds from normal galaxies at z~6, at least in terms of the total enriched volume. but these regions have much lower overall metallicities, because each one is generated by a small burst of star formation. finally, we show that compton cooling of these supernova-driven winds at z>6 has only a small effect on the cosmic microwave background.', 'created': '2022-09-19', 'authors': \"['natsuko yamaguchi', 'steven r. furlanetto', 'a. c. trapp']\", 'id_no_period': 220909345}),\n",
       " Document(page_content='metals are distributed uniformly, the column density would vary\\nwiththeimpactparameter.Weemphasizethatthisequationassumes\\naroughlyuniformdistributionofmetals;ifthemetalswereclumped,\\nfewerlinesofsightwouldencountermetals,butthosethatdidwould\\nhave stronger absorption.\\nFor an unsaturated line, the equivalent width is given by\\n𝑊≈0.8Å\\x12𝑓osc\\n0.05𝑌𝑥\\n0.5𝑀⊙16\\n𝐴𝑥\\x13 \\x12𝜆𝑚\\n1300 ˚𝐴\\x132\\n\\x12𝑋∗\\n0.1𝜔SN\\n1051ergs/126M⊙Ω𝑏/Ω𝑚\\n0.05/0.3𝑀ℎ\\n109𝑀⊙\\x13 \\x120.02Mpc\\n𝑅\\x132\\x121+𝑧\\n10\\x13\\n(11)\\nwhere𝜆𝑚isthewavelengthofthetransitionand 𝑓oscisitsoscillator\\nstrength.\\nIn Section 4.3, we compare predictions for the OI and CIV tran-\\nsitions to observations. We choose these because they are amongst\\nthe very few which have been observed at 𝑧∼6and because OI\\nis a strong line in mostly neutral gas while CIV is a strong line in\\nmostly ionized gas. For OI, we take 𝑌=0.5𝑀⊙,𝑓osc=0.04887,\\n𝜆𝑚=1302.2Å; while for CIV we take 𝑌=0.1𝑀⊙,𝑓osc=0.1908,\\n𝜆𝑚=1548.2Å (CIV is a doublet, so these values correspond to the\\nstronger transition, as reported in Becker et al. (2009) to which we\\ncompare in Section 4.3). These average yields are those produced\\nper Type II supernova from Woosley & Weaver (1995) which de-\\npends on the energy of the supernova. Following Furlanetto & Loeb\\n(2003), wetake thevalues fromthe lowerenergy model andneglect\\nchemical evolution within the galaxies. These approximations are\\nreasonable as uncertainties arising from them are likely less signif-\\nicant than those from other simplifications in our model. Note that\\ngiventheshorttimescalesinvolved,wedonotincludecontributions\\nfrom other mechanisms such as winds from AGB stars and Type Ia\\nSNe. This probably results in a modest underestimate of the carbon\\nabundance,asover∼100Myrtimescaleshigh-massAGBwindsand\\neven Type Ia SNe can contribute.\\n2.4 Pop III star formation\\nSo far, we have focused on “normal” galaxies during the Cosmic\\nDawn. But many models expect another set of star-forming halos\\nhosting Population III stars. We thus also consider potential contri-\\nbutions from smaller halos hosting these exotic stars.\\nThe criteria to form Pop III stars are complex: halos must be\\nmassive enough to accrete baryons and then form H 2, which is the\\nprimary coolant in this regime. But H 2is fragile and is destroyed\\nby ultraviolet photons – which are themselves produced by Pop IIIstars.Modelsofthiserashowthattheminimumhalomasscanthere-\\nfore have a complex evolutionary history (e.g., Jaacks et al. 2018;\\nMebane et al. 2018). We therefore consider two simple models. For\\none, we take a minimum virial temperature of 1000K for this pop-\\nulation (“constant 𝑇minmodel”). This is a few times smaller than\\nthe “plateau” found in the minimum halo in Mebane et al. (2018),\\nso it provides an optimistic estimate of the enrichment. In addition,\\nwe also consider a prescription for 𝑇minwith a stronger time depen-\\ndence inspired by an updated version of the Mebane et al. (2018)\\nmodel (S. Hegde, private communication). This includes improved\\nestimates of halo self-shielding and dark matter–baryon streaming\\n(as studied recently in Kulkarni et al. 2021). We find the following\\nsimple fit roughly matches the new model:', metadata={'id': 2209.09345, 'title': 'the extent of intergalactic metal enrichment from galactic winds during   the cosmic dawn', 'categories': 'astro-ph.ga', 'abstract': 'one of the key processes driving galaxy evolution during the cosmic dawn is supernova feedback. this likely helps regulate star formation inside of galaxies, but it can also drive winds that influence the large-scale intergalactic medium. here, we present a simple semi-analytic model of supernova-driven galactic winds and explore the contributions of different phases of galaxy evolution to cosmic metal enrichment in the high-redshift (z > 6) universe. we show that models calibrated to the observed galaxy luminosity function at z~6-8 have filling factors ~1% at z~6 and ~0.1% at z~12, with different star formation prescriptions providing about an order of magnitude uncertainty. despite the small fraction of space filled by winds, these scenarios predict an upper limit to the abundance of metal-line absorbers in quasar spectra at z>5 which is comfortably above that currently observed. we also consider enrichment through winds driven by pop iii star formation in minihalos. we find that these can dominate the total filling factor at z>10 and even compete with winds from normal galaxies at z~6, at least in terms of the total enriched volume. but these regions have much lower overall metallicities, because each one is generated by a small burst of star formation. finally, we show that compton cooling of these supernova-driven winds at z>6 has only a small effect on the cosmic microwave background.', 'created': '2022-09-19', 'authors': \"['natsuko yamaguchi', 'steven r. furlanetto', 'a. c. trapp']\", 'id_no_period': 220909345}),\n",
       " Document(page_content='estimates of halo self-shielding and dark matter–baryon streaming\\n(as studied recently in Kulkarni et al. 2021). We find the following\\nsimple fit roughly matches the new model:\\n𝑀h0=0.916𝑒−0.568(𝑧−38.3)+1.21×106𝑀⊙ (12)\\nSuch low mass halos likely have brief periods of rapid star for-\\nmation that then shut off, until they are able to accrete enough mass\\nto retain gas and begin normal star formation (e.g, Abel et al. 2002;\\nBrommetal.2002).Althougheachsuchhalowillformonlyasmall\\nmass of stars, the halos are so numerous that their contribution to\\ntheoverallfillingfactorofwindscanneverthelessbesubstantial(es-\\npecially at very early times). We model these sources as hosting a\\nsingleburstofstarformation,producingaspecifiedtotalstellarmass\\n𝑀∗∼100–1000𝑀⊙, after which star formation halts completely.\\nThisisincontrasttoourfiducialmodel,inwhichstarformationcon-\\ntinuesoverlongtimeperiods.WealsoassumethatPopIIIstarshave\\nmore energetic supernovae than those in normal halos, so we take\\n𝜔SN=1050erg/𝑀⊙,aboutanorderofmagnitudelarger.Weassume\\nthe metal yields are the same as our fiducial model, although these\\ncouldbeunderestimatesifpair-instabilitysupernovaedominate.Our\\ntreatment of Population III star-forming halos is thus very approx-\\nimate, but it should provide some intuition for the contribution of\\nthese kinds of halos.\\n3 WIND-DRIVEN BUBBLES\\n3.1 Wind physics\\nInthissection,weprovideanoverviewofourwindexpansionmodel,\\nwhich is a simplified version of Furlanetto & Loeb (2003) (which is\\nitselfanimplementationofTegmarketal.1993).Inthemodel,winds\\nare driven by supernovae inside galaxies and commence as soon as\\nstar formation does. Once a wind forms, it expands and sweeps up\\nthe ambient IGM. While a fraction of the material forms the shell,\\nthe remaining gas enters the hot, rarefied interior, whose thermal\\npressure helps expand the shell. Using the thin-shell approximation\\nandassumingsphericalsymmetry,thefollowingsystemofequations\\ncan be used to describe the evolution of an individual wind bubble:\\n𝑀𝑑=𝑀ℎ+4𝜋\\n3¯𝜌0\\n𝑑(1+𝑧)3𝑅3(13)\\n¥𝑅=4𝜋𝑅2\\n𝑀𝑠𝑃−𝐺\\n𝑅2\\x12\\n𝑀𝑑+𝑀𝑠\\n2\\x13\\n−¤𝑀𝑠\\n𝑀𝑠', metadata={'id': 2209.09345, 'title': 'the extent of intergalactic metal enrichment from galactic winds during   the cosmic dawn', 'categories': 'astro-ph.ga', 'abstract': 'one of the key processes driving galaxy evolution during the cosmic dawn is supernova feedback. this likely helps regulate star formation inside of galaxies, but it can also drive winds that influence the large-scale intergalactic medium. here, we present a simple semi-analytic model of supernova-driven galactic winds and explore the contributions of different phases of galaxy evolution to cosmic metal enrichment in the high-redshift (z > 6) universe. we show that models calibrated to the observed galaxy luminosity function at z~6-8 have filling factors ~1% at z~6 and ~0.1% at z~12, with different star formation prescriptions providing about an order of magnitude uncertainty. despite the small fraction of space filled by winds, these scenarios predict an upper limit to the abundance of metal-line absorbers in quasar spectra at z>5 which is comfortably above that currently observed. we also consider enrichment through winds driven by pop iii star formation in minihalos. we find that these can dominate the total filling factor at z>10 and even compete with winds from normal galaxies at z~6, at least in terms of the total enriched volume. but these regions have much lower overall metallicities, because each one is generated by a small burst of star formation. finally, we show that compton cooling of these supernova-driven winds at z>6 has only a small effect on the cosmic microwave background.', 'created': '2022-09-19', 'authors': \"['natsuko yamaguchi', 'steven r. furlanetto', 'a. c. trapp']\", 'id_no_period': 220909345}),\n",
       " Document(page_content='MNRAS 000, 1–22 (2023) Preprint 26 January 2024 Compiled using MNRAS L ATEX style file v3.0\\nMUSEQuBES: Mapping the distribution of neutral hydrogen around\\nlow-redshift galaxies\\nSayak Dutta,1★Sowgat Muzahid,1Joop Schaye,2Sapna Mishra,1Hsiao-Wen Chen,3Sean Johnson,4\\nLutz Wisotzki,5and Sebastiano Cantalupo6\\n1Inter-University Centre for Astronomy & Astrophysics, Post Bag 04, Pune, India, 411007\\n2Leiden Observatory, Niels Bohrweg 02, 2333 CA Leiden, Netherlands\\n3Department of Astronomy & Astrophysics, The University of Chicago, Chicago, IL 60637, USA\\n4Department of Astronomy, University of Michigan, 1085 S. University Ave, Ann Arbor, MI 48109, USA\\n5Leibniz-Institute for Astrophysics Potsdam (AIP), An der Sternwarte 16, D-14482 Potsdam, Germany\\n6Department of Physics, University of Milan Bicocca, Piazza della Scienza 3, 20126, Milano, Italy\\nAccepted XXX. Received YYY; in original form ZZZ\\nABSTRACT\\nWe present a detailed study of cool, neutral gas traced by Ly 𝛼around 4595 𝑧 <0.5galaxies using stacks of background quasar\\nspectra.ThegalaxiesareselectedfromourMUSEQuBESlow- 𝑧surveyalongwithdatafromtheliterature.Thesegalaxies,witha\\nmedianstellarmassof log10(𝑀∗/M⊙)=10.0,areprobedby184backgroundquasarsgivingriseto5054quasar-galaxypairs.The\\nmedian impact parameter is 𝑏=1.5pMpc (median 𝑏/𝑅vir=10.4) with 204 (419) quasar-galaxy pairs probing 𝑏/𝑅vir<1(2).\\nWe find excess absorption out to at least ≈15𝑅virtransverse distance and ≈±600 km s−1along the line of sight. We show that\\nthe median stacked profile for the full sample, dominated by the pairs with 𝑏 > 𝑅 vir, can be explained by a galaxy-absorber\\ntwo-point correlation function with 𝑟0=7.6pMpc and𝛾=−1.57. There are strong indications that the inner regions ( ≲𝑅vir)\\nof the rest equivalent width profile are better explained by a log-linear (or a Gaussian) relation whereas the outer regions are\\nwell described by a power-law, consistent with galaxy-absorber large-scale clustering. Using a sub-sample of 339 galaxies (442\\nquasar-galaxypairs,median 𝑏/𝑅vir=1.6)withstarformationratemeasurements,wefindthattheLy 𝛼absorptionissignificantly\\nstrongerforstar-forminggalaxiescomparedtopassivegalaxies,butonlywithinthevirialradius.TheLy 𝛼absorptionat 𝑏≈𝑅vir\\nfor a redshift-controlled sample peaks at 𝑀∗∼109M⊙(𝑀halo∼1011M⊙).\\nKey words: galaxies: formation – galaxies: evolution – galaxies: haloes – ( galaxies:) quasars: absorption lines\\n1 INTRODUCTION\\nIt is now well established that the luminous parts of galaxies are\\nsurrounded by a large reservoir of low-density, diffuse gas called\\nthe circumgalactic medium (CGM). The CGM serves as a bridge\\nbetween galaxies and the intergalactic medium (IGM). However,\\nthereisnoconsensusontheactualextentofthismediumsurrounding\\ngalaxies.\\nAbsorption line spectroscopy of bright background sources such\\nas quasars paved the way to study these elusive media, which are\\notherwise difficult to detect in emission. The advancement of sensi-\\ntive space-based detectors such as the Cosmic Origin Spectrograph\\n(COS) onboard the Hubble Space Telescope ( 𝐻𝑆𝑇) has drastically\\nincreasedourabilitytostudythediffusegasaroundgalaxiesoverthe\\nlast two decades. Several surveys have established the connections\\nbetween the CGM and many key galaxy properties using absorp-\\ntion line spectroscopy of background quasars (e.g., Tumlinson et al.\\n2017; Péroux & Howk 2020). Alongside the rapidly accumulating', metadata={'id': 2303.16933, 'title': 'musequbes: mapping the distribution of neutral hydrogen around   low-redshift galaxies', 'categories': 'astro-ph.ga', 'abstract': 'we present a detailed study of cool, neutral gas traced by lya around 4595 z<0.5 galaxies using stacks of background quasar spectra. the galaxies are selected from our musequbes low-z survey along with data from the literature. these galaxies, with a median stellar mass of log (m*/msun)= 10.0, are probed by 184 background quasars giving rise to 5054 quasar-galaxy pairs. the median impact parameter is b = 1.5 pmpc (median b/rvir=10.4) with 204 (419) quasar-galaxy pairs probing b/rvir < 1 (2). we find excess absorption out to at least ~ 15 rvir transverse distance and ~ 600 km/s along the line of sight. we show that the median stacked profile for the full sample, dominated by the pairs with b > rvir, can be explained by a galaxy-absorber two-point correlation function with r0 = 7.6 pmpc and gamma = -1.57. there are strong indications that the inner regions (< rvir) of the rest equivalent width profile are better explained by a log-linear (or a gaussian) relation whereas the outer regions are well described by a power-law, consistent with galaxy-absorber large-scale clustering. using a sub-sample of 339 galaxies (442 quasar-galaxy pairs, median b/rvir = 1.6) with star formation rate measurements, we find that the lya absorption is significantly stronger for star-forming galaxies compared to passive galaxies, but only within the virial radius. the lya absorption at b ~ rvir for a redshift-controlled sample peaks at m* ~ 10^9 msun~ (mhalo ~ 10^11 msun).', 'created': '2023-03-29', 'authors': \"['sayak dutta', 'sowgat muzahid', 'joop schaye', 'sapna mishra', 'hsiao-wen chen', 'sean johnson', 'lutz wisotzki', 'sebastiano cantalupo']\", 'id_no_period': 230316933}),\n",
       " Document(page_content='tion line spectroscopy of background quasars (e.g., Tumlinson et al.\\n2017; Péroux & Howk 2020). Alongside the rapidly accumulating\\ndata from galaxy surveys to probe the CGM, the advent of new\\n★E-mail: sayak18@iucaa.inphysical prescriptions for gas flows with new numerical methods\\nandfastercomputerscontinuestoposefundamentalquestionsabout\\ngalaxy formation and evolution. Theoretical studies indeed suggest\\nthat the distribution of gas and metals surrounding galaxies is in-\\ntricately linked to processes such as gas accretion, galactic winds,\\nmergers, and stripping that dictate galactic evolution (e.g., Rahmati\\net al. 2016; van de Voort et al. 2019; Oppenheimer et al. 2020;\\nAppleby et al. 2022; Mitchell & Schaye 2022). It is thus crucial to\\nmap the distributions of diffuse matter surrounding galaxies with a\\nrange of galaxy properties (e.g., stellar mass ( 𝑀∗), star formation\\nrate (SFR), specific-SFR (sSFR)) to gain insight into such physical\\nprocesses.\\nThe semi-empirical relation between the stellar mass to halo\\nmass ratio ( 𝑀∗/𝑀halo) as a function of 𝑀haloshows a peak at\\n𝑀halo≈1012M⊙, suggesting that these halos are most efficient\\nin converting baryons into stars (e.g., Conroy et al. 2006; Behroozi\\net al. 2013, 2019). It is not well understood why halos of a certain\\nmass have higher star formation efficiencies (SFE). Energy and mo-\\nmentumfeedbackduetosupernovae(SNe)andactivegalacticnuclei\\n(AGN) is thought to suppress the SFE for the low-mass and high-\\nmass halos, respectively (see e.g., Bower et al. 2006; Somerville\\n©2023 The AuthorsarXiv:2303.16933v2  [astro-ph.GA]  25 Jan 2024\\n2 S. Dutta et al.\\net al. 2008; Crain et al. 2015) . Theoretical models suggest two dis-\\ntinct modes of gas accretion depending on the halo mass: (a) “hot\\nmode” for galaxies with 𝑀halo>1012M⊙and (b) “cold mode” for\\ngalaxies with 𝑀halo<1012M⊙(see e.g., Kereš et al. 2005; van de\\nVoort et al. 2011). The halos of masses ≈1012M⊙benefits from\\nboththemodes.Thus,thehigherSFEforthesehalosmayberelated\\ntothegasaccretionprocess.Itisthereforeessentialtoprobehowthe\\ncool,neutralgasreservoirsurroundinggalaxieschangesasafunction\\nof stellar/halo mass.\\nThe connection between galaxies and the cool, neutral gas sur-\\nroundingthemhaslongbeenasubjectofresearch,bothobservational\\nand theoretical. Chen et al. (2005) first observed a morphology de-\\npendentgalaxy–Ly 𝛼absorbercross-correlationfunction.Theyfound\\nthatthecross-correlationfunctionbetweenLy 𝛼absorbers(withcol-\\numn density 𝑁(Hi)>1014cm−2) and absorption-line dominated\\ngalaxies within a projected distance of 1ℎ−1Mpc is significantly\\nlowercomparedtoemission-linedominatedgalaxies(seealsoChen\\n& Mulchaey 2009). On the other hand, later CGM surveys such as\\nCOS-Halos did not find any significant difference in the H icontent\\n(rest-frameequivalentwidth(REWor 𝑊𝑟)andcolumndensity( 𝑁))\\naround star-forming and passive galaxies on CGM scales (typically\\nwithin 0.5𝑅vir; see e.g., Thom et al. 2012; Tumlinson et al. 2013).\\nAlthoughasmallfractionofthepassivegalaxiesintheirsampledid\\nnot exhibit any detectable Ly 𝛼absorption, overall the detected Ly 𝛼\\nabsorptionwassimilararoundthestar-formingandpassivegalaxies.\\nEarlier, Chen et al. (1998, 2001) noted that the 𝑊𝑟-profile of', metadata={'id': 2303.16933, 'title': 'musequbes: mapping the distribution of neutral hydrogen around   low-redshift galaxies', 'categories': 'astro-ph.ga', 'abstract': 'we present a detailed study of cool, neutral gas traced by lya around 4595 z<0.5 galaxies using stacks of background quasar spectra. the galaxies are selected from our musequbes low-z survey along with data from the literature. these galaxies, with a median stellar mass of log (m*/msun)= 10.0, are probed by 184 background quasars giving rise to 5054 quasar-galaxy pairs. the median impact parameter is b = 1.5 pmpc (median b/rvir=10.4) with 204 (419) quasar-galaxy pairs probing b/rvir < 1 (2). we find excess absorption out to at least ~ 15 rvir transverse distance and ~ 600 km/s along the line of sight. we show that the median stacked profile for the full sample, dominated by the pairs with b > rvir, can be explained by a galaxy-absorber two-point correlation function with r0 = 7.6 pmpc and gamma = -1.57. there are strong indications that the inner regions (< rvir) of the rest equivalent width profile are better explained by a log-linear (or a gaussian) relation whereas the outer regions are well described by a power-law, consistent with galaxy-absorber large-scale clustering. using a sub-sample of 339 galaxies (442 quasar-galaxy pairs, median b/rvir = 1.6) with star formation rate measurements, we find that the lya absorption is significantly stronger for star-forming galaxies compared to passive galaxies, but only within the virial radius. the lya absorption at b ~ rvir for a redshift-controlled sample peaks at m* ~ 10^9 msun~ (mhalo ~ 10^11 msun).', 'created': '2023-03-29', 'authors': \"['sayak dutta', 'sowgat muzahid', 'joop schaye', 'sapna mishra', 'hsiao-wen chen', 'sean johnson', 'lutz wisotzki', 'sebastiano cantalupo']\", 'id_no_period': 230316933})]"
      ]
     },
     "execution_count": 44,
     "metadata": {},
     "output_type": "execute_result"
    }
   ],
   "source": [
    "chunked_documents[0:10]"
   ]
  },
  {
   "cell_type": "code",
   "execution_count": 29,
   "metadata": {},
   "outputs": [
    {
     "data": {
      "text/plain": [
       "0.0525512"
      ]
     },
     "execution_count": 29,
     "metadata": {},
     "output_type": "execute_result"
    }
   ],
   "source": [
    "get_total_embeddings_cost(df)"
   ]
  },
  {
   "cell_type": "code",
   "execution_count": null,
   "metadata": {},
   "outputs": [],
   "source": []
  },
  {
   "cell_type": "code",
   "execution_count": null,
   "metadata": {},
   "outputs": [],
   "source": []
  },
  {
   "cell_type": "code",
   "execution_count": null,
   "metadata": {},
   "outputs": [],
   "source": []
  },
  {
   "cell_type": "code",
   "execution_count": 30,
   "metadata": {},
   "outputs": [],
   "source": [
    "CONNECTION_STRING = f\"postgresql://{user}:{password}@{host}:{port}/{dbname}\"\n",
    " \n",
    "conn = psycopg2.connect(CONNECTION_STRING)\n",
    "cur = conn.cursor()\n",
    "cur.execute(\"CREATE EXTENSION IF NOT EXISTS vector\");\n",
    "conn.commit()"
   ]
  },
  {
   "cell_type": "code",
   "execution_count": 31,
   "metadata": {},
   "outputs": [],
   "source": [
    "embeddings = OpenAIEmbeddings()"
   ]
  },
  {
   "cell_type": "code",
   "execution_count": 32,
   "metadata": {},
   "outputs": [],
   "source": [
    "db = PGVector.from_documents(\n",
    "    documents=chunked_documents,\n",
    "    embedding=embeddings,\n",
    "    collection_name=collection_name,\n",
    "    connection_string=CONNECTION_STRING,\n",
    "    distance_strategy=DistanceStrategy.COSINE,\n",
    "    pre_delete_collection=True # change this if you don't want to reset the db!!\n",
    ")"
   ]
  },
  {
   "cell_type": "code",
   "execution_count": null,
   "metadata": {},
   "outputs": [],
   "source": []
  },
  {
   "cell_type": "code",
   "execution_count": null,
   "metadata": {},
   "outputs": [],
   "source": []
  },
  {
   "cell_type": "code",
   "execution_count": null,
   "metadata": {},
   "outputs": [],
   "source": []
  },
  {
   "cell_type": "markdown",
   "metadata": {},
   "source": [
    "### Testing the QA"
   ]
  },
  {
   "cell_type": "code",
   "execution_count": 48,
   "metadata": {},
   "outputs": [],
   "source": [
    "# Create retriever from database\n",
    "# We specify the number of results we want to retrieve (k=3)\n",
    "retriever = db.as_retriever(\n",
    "    search_kwargs={\"k\": 3}\n",
    "    )\n",
    "\n",
    "llm = ChatOpenAI(temperature = 0.0, model = 'gpt-3.5-turbo-16k')\n",
    "\n",
    "from langchain.chains import RetrievalQA\n",
    "qa_stuff = RetrievalQA.from_chain_type(\n",
    "    llm=llm, \n",
    "    chain_type=\"stuff\", \n",
    "    retriever=retriever,\n",
    "    verbose=True,\n",
    ")\n"
   ]
  },
  {
   "cell_type": "code",
   "execution_count": 49,
   "metadata": {},
   "outputs": [
    {
     "name": "stderr",
     "output_type": "stream",
     "text": [
      "/Users/dangause/anaconda3/envs/arxiv/lib/python3.9/site-packages/langchain_core/_api/deprecation.py:117: LangChainDeprecationWarning: The function `run` was deprecated in LangChain 0.1.0 and will be removed in 0.2.0. Use invoke instead.\n",
      "  warn_deprecated(\n"
     ]
    },
    {
     "name": "stdout",
     "output_type": "stream",
     "text": [
      "\n",
      "\n",
      "\u001b[1m> Entering new RetrievalQA chain...\u001b[0m\n",
      "\n",
      "\u001b[1m> Finished chain.\u001b[0m\n"
     ]
    },
    {
     "data": {
      "text/markdown": [
       "A quasar is a highly energetic and luminous active galactic nucleus (AGN) that is powered by the accretion of matter onto a supermassive black hole at the center of a galaxy. Quasars emit large amounts of electromagnetic radiation across the entire spectrum, from radio waves to X-rays. They are among the most distant and brightest objects in the universe and can be observed even at cosmological distances. Quasars played a significant role in the early universe and provide valuable insights into the formation and evolution of galaxies and supermassive black holes."
      ],
      "text/plain": [
       "<IPython.core.display.Markdown object>"
      ]
     },
     "metadata": {},
     "output_type": "display_data"
    }
   ],
   "source": [
    "query =  \"What is a quasar?\"\n",
    "\n",
    "response = qa_stuff.run(query)\n",
    "\n",
    "from IPython.display import Markdown, display\n",
    "display(Markdown(response))"
   ]
  },
  {
   "cell_type": "code",
   "execution_count": null,
   "metadata": {},
   "outputs": [],
   "source": []
  },
  {
   "cell_type": "code",
   "execution_count": 54,
   "metadata": {},
   "outputs": [
    {
     "name": "stdout",
     "output_type": "stream",
     "text": [
      "\n",
      "\n",
      "\u001b[1m> Entering new RetrievalQA chain...\u001b[0m\n"
     ]
    },
    {
     "name": "stdout",
     "output_type": "stream",
     "text": [
      "\n",
      "\u001b[1m> Finished chain.\u001b[0m\n"
     ]
    },
    {
     "data": {
      "text/markdown": [
       "The defining characteristics of a dual quasar are:\n",
       "\n",
       "1. Two Quasars: A dual quasar refers to a system where two quasars are observed in close proximity to each other. Quasars are extremely luminous and active galactic nuclei powered by supermassive black holes at the centers of galaxies.\n",
       "\n",
       "2. Kiloparsec-scale Separation: The two quasars in a dual quasar system are typically separated by a distance of a few kiloparsecs. This separation indicates that they are physically associated and not just a chance alignment.\n",
       "\n",
       "3. Radio Emission: Dual quasars often exhibit radio emission. Radio observations can help identify and confirm the presence of dual quasars by detecting the emission from the jets or lobes associated with the active black holes.\n",
       "\n",
       "4. Astrometric Excess Noise: Astrometric excess noise refers to the excess variability in the positions of the quasars as measured by astrometric observations. This excess noise can be an indicator of the presence of a dual quasar system.\n",
       "\n",
       "It is important to note that the identification of dual quasars requires careful analysis and confirmation through multiple observations and techniques.\n",
       "\n",
       "Sources used:\n",
       "\n",
       "a dynamical measure of the black hole mass in a quasar 11 billion years   ago\n",
       "\n"
      ],
      "text/plain": [
       "<IPython.core.display.Markdown object>"
      ]
     },
     "metadata": {},
     "output_type": "display_data"
    }
   ],
   "source": [
    "# New chain to return context and sources\n",
    "qa_stuff_with_sources = RetrievalQA.from_chain_type(\n",
    "    llm=llm, \n",
    "    chain_type=\"stuff\", \n",
    "    retriever=retriever,\n",
    "    return_source_documents=True,\n",
    "    verbose=True,\n",
    ")\n",
    "\n",
    "query =  \"What are the defining characteristics of a dual quasar?\"\n",
    "\n",
    "# To run the query, we use a different syntax since we're returning more than just the response text\n",
    "responses = qa_stuff_with_sources({\"query\": query})\n",
    "\n",
    "source_documents = responses[\"source_documents\"]\n",
    "source_content = [doc.page_content for doc in source_documents]\n",
    "source_metadata = [doc.metadata for doc in source_documents]\n",
    "\n",
    "# Construct a single string with the LLM output and the source titles and urls\n",
    "def construct_result_with_sources():\n",
    "    result = responses['result']\n",
    "    result += \"\\n\\n\"\n",
    "    result += \"Sources used:\"\n",
    "    for i in range(len(source_content)):    \n",
    "        result += \"\\n\\n\"\n",
    "        result += source_metadata[i]['title']\n",
    "        result += \"\\n\\n\"\n",
    "        return result\n",
    "\n",
    "display(Markdown(construct_result_with_sources()))\n"
   ]
  },
  {
   "cell_type": "code",
   "execution_count": null,
   "metadata": {},
   "outputs": [],
   "source": []
  },
  {
   "cell_type": "code",
   "execution_count": null,
   "metadata": {},
   "outputs": [],
   "source": []
  },
  {
   "cell_type": "code",
   "execution_count": 8,
   "metadata": {},
   "outputs": [],
   "source": [
    "import datetime as DT\n",
    "\n"
   ]
  },
  {
   "cell_type": "code",
   "execution_count": 7,
   "metadata": {},
   "outputs": [
    {
     "data": {
      "text/plain": [
       "'2024-02-02'"
      ]
     },
     "execution_count": 7,
     "metadata": {},
     "output_type": "execute_result"
    }
   ],
   "source": [
    "today = DT.date.today().strftime('%Y-%m-%d')\n",
    "today"
   ]
  },
  {
   "cell_type": "code",
   "execution_count": null,
   "metadata": {},
   "outputs": [],
   "source": []
  },
  {
   "cell_type": "code",
   "execution_count": 9,
   "metadata": {},
   "outputs": [
    {
     "data": {
      "text/plain": [
       "('2024-02-02', '2024-01-26')"
      ]
     },
     "execution_count": 9,
     "metadata": {},
     "output_type": "execute_result"
    }
   ],
   "source": [
    "get_today_and_week_ago()"
   ]
  },
  {
   "cell_type": "code",
   "execution_count": null,
   "metadata": {},
   "outputs": [],
   "source": []
  }
 ],
 "metadata": {
  "kernelspec": {
   "display_name": "arxiv",
   "language": "python",
   "name": "python3"
  },
  "language_info": {
   "codemirror_mode": {
    "name": "ipython",
    "version": 3
   },
   "file_extension": ".py",
   "mimetype": "text/x-python",
   "name": "python",
   "nbconvert_exporter": "python",
   "pygments_lexer": "ipython3",
   "version": "3.12.1"
  }
 },
 "nbformat": 4,
 "nbformat_minor": 2
}
